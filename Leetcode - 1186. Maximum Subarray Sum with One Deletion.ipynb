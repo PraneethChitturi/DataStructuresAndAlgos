{
 "cells": [
  {
   "cell_type": "code",
   "execution_count": null,
   "id": "31ca6b77-d8b7-4201-aa3f-20ff0c26fa79",
   "metadata": {},
   "outputs": [],
   "source": [
    "class Solution(object):\n",
    "    def maximumSum(self, arr):\n",
    "        \"\"\"\n",
    "        :type arr: List[int]\n",
    "        :rtype: int\n",
    "        \"\"\"\n",
    "        ans = float('-inf')\n",
    "        premax = [0]\n",
    "        sufmax = [0]\n",
    "        for i in range(len(arr)):\n",
    "            premax.append(arr[i] + max(0, premax[-1]))\n",
    "            sufmax.append(arr[-i-1] + max(0, sufmax[-1]))\n",
    "            ans = max(ans, premax[-1])\n",
    "        if ans < 0:\n",
    "            return ans\n",
    "        premax = premax + [0]\n",
    "        sufmax = [0] + sufmax[::-1]\n",
    "        return max(ans, max([0]+ [premax[i] + sufmax[i+2] for i in range(len(arr)) if arr[i] < 0]))"
   ]
  },
  {
   "cell_type": "code",
   "execution_count": null,
   "id": "4be883f8-6fc3-449f-a283-cba99b1318de",
   "metadata": {},
   "outputs": [],
   "source": [
    "class Solution(object):\n",
    "    def maximumSum(self, arr):\n",
    "        \"\"\"\n",
    "        :type arr: List[int]\n",
    "        :rtype: int\n",
    "        \"\"\"\n",
    "        premax = [[0] * len(arr) for _ in range(2)]\n",
    "        premax[0][0] = premax[1][0] = ans = arr[0]\n",
    "        for i in range(1, len(arr)):\n",
    "            premax[0][i] = arr[i] + max(0, premax[0][i-1])\n",
    "            premax[1][i] = max(premax[0][i-1],                  # Delete current number\n",
    "\t\t\t\t     \t\t   arr[i] + max(0, premax[1][i-1])) # A number has been deleted\n",
    "            ans = max(ans, premax[0][i], premax[1][i])\n",
    "        return ans          "
   ]
  }
 ],
 "metadata": {
  "kernelspec": {
   "display_name": "Python 3 (ipykernel)",
   "language": "python",
   "name": "python3"
  },
  "language_info": {
   "codemirror_mode": {
    "name": "ipython",
    "version": 3
   },
   "file_extension": ".py",
   "mimetype": "text/x-python",
   "name": "python",
   "nbconvert_exporter": "python",
   "pygments_lexer": "ipython3",
   "version": "3.11.7"
  }
 },
 "nbformat": 4,
 "nbformat_minor": 5
}
