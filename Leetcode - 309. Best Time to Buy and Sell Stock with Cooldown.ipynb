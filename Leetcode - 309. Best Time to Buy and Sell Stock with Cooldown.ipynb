{
 "cells": [
  {
   "cell_type": "code",
   "execution_count": null,
   "id": "8efa0e81",
   "metadata": {},
   "outputs": [],
   "source": [
    "class Solution(object):\n",
    "    def maxProfit(self, prices):\n",
    "        \"\"\"\n",
    "        :type prices: List[int]\n",
    "        :rtype: int\n",
    "        \"\"\"\n",
    "        dp = {}\n",
    "\n",
    "        def dfs(i,buying):\n",
    "          if i >= len(prices):\n",
    "            return 0\n",
    "\n",
    "          if (i,buying) in dp:\n",
    "            return dp[(i,buying)]\n",
    "\n",
    "          if buying:\n",
    "            buy = dfs(i+1,not buying) - prices[i]\n",
    "            cooldown = dfs(i+1,buying)\n",
    "            dp[(i,buying)] = max(buy,cooldown)\n",
    "          else:\n",
    "            sell= dfs(i+2,not buying) + prices[i]\n",
    "            cooldown = dfs(i+1,buying)\n",
    "            dp[(i,buying)] =max(sell,cooldown)\n",
    "          return dp[(i,buying)]\n",
    "\n",
    "        return dfs(0,1)"
   ]
  }
 ],
 "metadata": {
  "kernelspec": {
   "display_name": "Python 3 (ipykernel)",
   "language": "python",
   "name": "python3"
  },
  "language_info": {
   "codemirror_mode": {
    "name": "ipython",
    "version": 3
   },
   "file_extension": ".py",
   "mimetype": "text/x-python",
   "name": "python",
   "nbconvert_exporter": "python",
   "pygments_lexer": "ipython3",
   "version": "3.10.9"
  }
 },
 "nbformat": 4,
 "nbformat_minor": 5
}
