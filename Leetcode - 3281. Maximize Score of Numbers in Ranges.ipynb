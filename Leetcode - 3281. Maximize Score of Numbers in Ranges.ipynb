{
 "cells": [
  {
   "cell_type": "code",
   "execution_count": 15,
   "id": "8b28c667-602d-400a-b175-4c36f904a6ad",
   "metadata": {},
   "outputs": [],
   "source": [
    "#Binear Search with Greedy\n",
    "def maxPossibleScore(start, d):\n",
    "\n",
    "    def isPossible(number):\n",
    "        prev=start[0]\n",
    "        for i in range(1,l):\n",
    "            next=max(start[i],prev+number)\n",
    "            if next>start[i]+d:\n",
    "                return False\n",
    "            prev=next\n",
    "\n",
    "        return True\n",
    "        \n",
    "    start.sort()\n",
    "    l = len(start)\n",
    "    left,right=0,start[l-1]-start[0]+d\n",
    "    ans=0\n",
    "    while left<=right:\n",
    "        mid=(left+right)//2\n",
    "        if (isPossible(mid)):\n",
    "            ans=mid\n",
    "            left=mid+1\n",
    "        else:\n",
    "            right=mid-1\n",
    "    return ans"
   ]
  },
  {
   "cell_type": "code",
   "execution_count": 16,
   "id": "ae365d44-35b7-4c68-894e-b85e218cb8ce",
   "metadata": {},
   "outputs": [
    {
     "data": {
      "text/plain": [
       "4"
      ]
     },
     "execution_count": 16,
     "metadata": {},
     "output_type": "execute_result"
    }
   ],
   "source": [
    "maxPossibleScore([6,0,3], 2)"
   ]
  },
  {
   "cell_type": "code",
   "execution_count": 17,
   "id": "e459834b-93a4-40e1-8e6c-3c5d31c34ef6",
   "metadata": {},
   "outputs": [
    {
     "data": {
      "text/plain": [
       "5"
      ]
     },
     "execution_count": 17,
     "metadata": {},
     "output_type": "execute_result"
    }
   ],
   "source": [
    "maxPossibleScore([2,6,13,13],5)"
   ]
  },
  {
   "cell_type": "code",
   "execution_count": null,
   "id": "66505fc4-08a6-4f90-9df1-17b82609e250",
   "metadata": {},
   "outputs": [],
   "source": []
  }
 ],
 "metadata": {
  "kernelspec": {
   "display_name": "Python 3 (ipykernel)",
   "language": "python",
   "name": "python3"
  },
  "language_info": {
   "codemirror_mode": {
    "name": "ipython",
    "version": 3
   },
   "file_extension": ".py",
   "mimetype": "text/x-python",
   "name": "python",
   "nbconvert_exporter": "python",
   "pygments_lexer": "ipython3",
   "version": "3.11.7"
  }
 },
 "nbformat": 4,
 "nbformat_minor": 5
}
