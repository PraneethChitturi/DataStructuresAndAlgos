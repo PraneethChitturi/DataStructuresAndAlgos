{
 "cells": [
  {
   "cell_type": "code",
   "execution_count": 36,
   "id": "deb33bc6",
   "metadata": {},
   "outputs": [],
   "source": [
    "#Accept but beats 5% \n",
    "def countAndSay(n):\n",
    "    ansarray = ['1']\n",
    "    def say(n):\n",
    "        ans = ''\n",
    "        temp=n[0]\n",
    "        currcount = 1\n",
    "        for i in range(1,len(n)):\n",
    "            print(ans,i,n[i],temp,currcount)\n",
    "            if temp=='':\n",
    "                temp=n[i]\n",
    "            elif temp==n[i]:\n",
    "                currcount+=1\n",
    "            else:\n",
    "                ans=ans+str(currcount)+str(temp)\n",
    "                currcount=1\n",
    "                temp=n[i]\n",
    "        return ans+str(currcount)+str(temp)\n",
    "\n",
    "    for i in range(1,30):\n",
    "        ansarray.append(say(ansarray[i-1]))\n",
    "        \n",
    "    return ansarray[int(n)-1]        "
   ]
  },
  {
   "cell_type": "code",
   "execution_count": 4,
   "id": "c0c19a68",
   "metadata": {},
   "outputs": [],
   "source": [
    "#Using Recursive function - beats 89%\n",
    "def countAndSay(n):\n",
    "    def say(n):\n",
    "        n=str(n)\n",
    "        ans = ''\n",
    "        temp=n[0]\n",
    "        currcount = 1\n",
    "        for i in range(1,len(n)):\n",
    "            print(ans,i,n[i],temp,currcount)\n",
    "            if temp=='':\n",
    "                temp=n[i]\n",
    "            elif temp==n[i]:\n",
    "                currcount+=1\n",
    "            else:\n",
    "                ans=ans+str(currcount)+str(temp)\n",
    "                currcount=1\n",
    "                temp=n[i]\n",
    "        return int(ans+str(currcount)+str(temp))\n",
    "\n",
    "    def recursive(n):\n",
    "        if n ==1:\n",
    "            return 1\n",
    "        return say(recursive(n-1))\n",
    "        \n",
    "    return str(recursive(n))"
   ]
  },
  {
   "cell_type": "code",
   "execution_count": null,
   "id": "c07ec36e",
   "metadata": {},
   "outputs": [],
   "source": []
  }
 ],
 "metadata": {
  "kernelspec": {
   "display_name": "Python 3 (ipykernel)",
   "language": "python",
   "name": "python3"
  },
  "language_info": {
   "codemirror_mode": {
    "name": "ipython",
    "version": 3
   },
   "file_extension": ".py",
   "mimetype": "text/x-python",
   "name": "python",
   "nbconvert_exporter": "python",
   "pygments_lexer": "ipython3",
   "version": "3.10.9"
  }
 },
 "nbformat": 4,
 "nbformat_minor": 5
}
