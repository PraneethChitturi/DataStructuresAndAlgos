{
 "cells": [
  {
   "cell_type": "code",
   "execution_count": null,
   "id": "0a8bc65f",
   "metadata": {},
   "outputs": [],
   "source": [
    "class Solution(object):\n",
    "    def areaOfMaxDiagonal(self, dimensions):\n",
    "        \"\"\"\n",
    "        :type dimensions: List[List[int]]\n",
    "        :rtype: int\n",
    "        \"\"\"\n",
    "        maxi=0.0\n",
    "        area=0\n",
    "        for l,w in dimensions:\n",
    "            if math.sqrt(l*l+w*w)>maxi:\n",
    "                maxi=math.sqrt(l*l+w*w)\n",
    "                area=l*w\n",
    "            elif math.sqrt(l*l+w*w)==maxi:\n",
    "                area=max(area,l*w)\n",
    "                \n",
    "\n",
    "        return area"
   ]
  }
 ],
 "metadata": {
  "kernelspec": {
   "display_name": "Python 3 (ipykernel)",
   "language": "python",
   "name": "python3"
  },
  "language_info": {
   "codemirror_mode": {
    "name": "ipython",
    "version": 3
   },
   "file_extension": ".py",
   "mimetype": "text/x-python",
   "name": "python",
   "nbconvert_exporter": "python",
   "pygments_lexer": "ipython3",
   "version": "3.11.4"
  }
 },
 "nbformat": 4,
 "nbformat_minor": 5
}
