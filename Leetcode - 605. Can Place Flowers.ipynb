{
 "cells": [
  {
   "cell_type": "code",
   "execution_count": null,
   "id": "0b5dfd50-a1fe-4184-bfab-549fa542c8d8",
   "metadata": {},
   "outputs": [],
   "source": [
    "class Solution(object):\n",
    "    def canPlaceFlowers(self, flowerbed, n):\n",
    "        \"\"\"\n",
    "        :type flowerbed: List[int]\n",
    "        :type n: int\n",
    "        :rtype: bool\n",
    "        \"\"\"\n",
    "        i=0\n",
    "        while i<len(flowerbed) and n>0:\n",
    "            if flowerbed[i]==1:\n",
    "                i+=2\n",
    "                continue\n",
    "\n",
    "            if flowerbed[i]==0 and ((i<len(flowerbed)-1 and flowerbed[i+1]==0) or (i==len(flowerbed)-1 and flowerbed[i-1]==0)):\n",
    "                n-=1\n",
    "                flowerbed[i]=1\n",
    "                i+=2\n",
    "                continue\n",
    "            i+=1\n",
    "\n",
    "        return n==0"
   ]
  }
 ],
 "metadata": {
  "kernelspec": {
   "display_name": "Python 3 (ipykernel)",
   "language": "python",
   "name": "python3"
  },
  "language_info": {
   "codemirror_mode": {
    "name": "ipython",
    "version": 3
   },
   "file_extension": ".py",
   "mimetype": "text/x-python",
   "name": "python",
   "nbconvert_exporter": "python",
   "pygments_lexer": "ipython3",
   "version": "3.11.7"
  }
 },
 "nbformat": 4,
 "nbformat_minor": 5
}
