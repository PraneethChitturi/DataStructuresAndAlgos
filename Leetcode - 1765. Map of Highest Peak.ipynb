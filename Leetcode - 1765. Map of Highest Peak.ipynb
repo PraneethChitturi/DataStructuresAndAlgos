{
 "cells": [
  {
   "cell_type": "code",
   "execution_count": 120,
   "id": "66631eb1",
   "metadata": {},
   "outputs": [],
   "source": [
    "#Beats 100%\n",
    "class Solution(object):\n",
    "    def highestPeak(self, isWater):\n",
    "        maxrow = len(isWater)\n",
    "        maxcol = len(isWater[0])\n",
    "        height = [[-1]* maxcol for i in range(maxrow)]\n",
    "\n",
    "        q = collections.deque()\n",
    "        for i in range(maxrow):\n",
    "            for j in range(maxcol):\n",
    "                if isWater[i][j]==1:\n",
    "                    height[i][j]=0\n",
    "                    q.append([0,i,j])\n",
    "\n",
    "        d = [[1,0],[0,1],[-1,0],[0,-1]]\n",
    "        while q:\n",
    "            v,i,j = q.popleft()\n",
    "\n",
    "            for nex in d:\n",
    "                [di,dj] = nex\n",
    "                if 0<=i+di<maxrow and 0<=j+dj<maxcol and height[i+di][j+dj]==-1:\n",
    "                    height[i+di][j+dj] = v+1\n",
    "                    q.append([v+1,i+di,j+dj])\n",
    "\n",
    "\n",
    "        return height"
   ]
  },
  {
   "cell_type": "code",
   "execution_count": 121,
   "id": "32841ed6",
   "metadata": {},
   "outputs": [
    {
     "data": {
      "text/plain": [
       "[[1, 0], [2, 1]]"
      ]
     },
     "execution_count": 121,
     "metadata": {},
     "output_type": "execute_result"
    }
   ],
   "source": [
    "isWater = [[0,1],[0,0]]\n",
    "highestPeak(isWater)"
   ]
  },
  {
   "cell_type": "code",
   "execution_count": 122,
   "id": "e783ed59",
   "metadata": {},
   "outputs": [
    {
     "data": {
      "text/plain": [
       "[[1, 1, 0], [0, 1, 1], [1, 2, 2]]"
      ]
     },
     "execution_count": 122,
     "metadata": {},
     "output_type": "execute_result"
    }
   ],
   "source": [
    "isWater = [[0,0,1],[1,0,0],[0,0,0]]\n",
    "highestPeak(isWater)"
   ]
  },
  {
   "cell_type": "code",
   "execution_count": null,
   "id": "dde9389a",
   "metadata": {},
   "outputs": [],
   "source": []
  }
 ],
 "metadata": {
  "kernelspec": {
   "display_name": "Python 3 (ipykernel)",
   "language": "python",
   "name": "python3"
  },
  "language_info": {
   "codemirror_mode": {
    "name": "ipython",
    "version": 3
   },
   "file_extension": ".py",
   "mimetype": "text/x-python",
   "name": "python",
   "nbconvert_exporter": "python",
   "pygments_lexer": "ipython3",
   "version": "3.10.9"
  }
 },
 "nbformat": 4,
 "nbformat_minor": 5
}
