{
 "cells": [
  {
   "cell_type": "code",
   "execution_count": 2,
   "id": "edb0fc7c-f4e9-44fb-a378-2e9d28d70fc2",
   "metadata": {},
   "outputs": [],
   "source": [
    "def removePalindromeSub(s):\n",
    "    return 1 if s==s[::-1] else 2"
   ]
  },
  {
   "cell_type": "code",
   "execution_count": 3,
   "id": "a9b3c86a-a866-4470-97df-3adaa7d8578e",
   "metadata": {},
   "outputs": [
    {
     "data": {
      "text/plain": [
       "'cba'"
      ]
     },
     "execution_count": 3,
     "metadata": {},
     "output_type": "execute_result"
    }
   ],
   "source": [
    "'abc'[::-1]"
   ]
  },
  {
   "cell_type": "code",
   "execution_count": 4,
   "id": "3ad41f13-f54c-4991-854d-a9191bb24327",
   "metadata": {},
   "outputs": [
    {
     "data": {
      "text/plain": [
       "1"
      ]
     },
     "execution_count": 4,
     "metadata": {},
     "output_type": "execute_result"
    }
   ],
   "source": [
    "removePalindromeSub(\"ababa\")"
   ]
  },
  {
   "cell_type": "code",
   "execution_count": 5,
   "id": "3cbbb3a3-1597-402b-bd59-9776cf003978",
   "metadata": {},
   "outputs": [
    {
     "data": {
      "text/plain": [
       "2"
      ]
     },
     "execution_count": 5,
     "metadata": {},
     "output_type": "execute_result"
    }
   ],
   "source": [
    "removePalindromeSub(\"abb\")"
   ]
  },
  {
   "cell_type": "code",
   "execution_count": 6,
   "id": "560de70d-ff3a-4a2b-a096-7327c7019b50",
   "metadata": {},
   "outputs": [
    {
     "data": {
      "text/plain": [
       "2"
      ]
     },
     "execution_count": 6,
     "metadata": {},
     "output_type": "execute_result"
    }
   ],
   "source": [
    "removePalindromeSub(\"baabb\")"
   ]
  },
  {
   "cell_type": "code",
   "execution_count": null,
   "id": "f825f36f-a6b1-4ed6-854b-0953555b8d48",
   "metadata": {},
   "outputs": [],
   "source": []
  }
 ],
 "metadata": {
  "kernelspec": {
   "display_name": "Python 3 (ipykernel)",
   "language": "python",
   "name": "python3"
  },
  "language_info": {
   "codemirror_mode": {
    "name": "ipython",
    "version": 3
   },
   "file_extension": ".py",
   "mimetype": "text/x-python",
   "name": "python",
   "nbconvert_exporter": "python",
   "pygments_lexer": "ipython3",
   "version": "3.11.7"
  }
 },
 "nbformat": 4,
 "nbformat_minor": 5
}
