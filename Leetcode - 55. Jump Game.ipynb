{
 "cells": [
  {
   "cell_type": "code",
   "execution_count": 31,
   "id": "890b1127",
   "metadata": {},
   "outputs": [
    {
     "name": "stdout",
     "output_type": "stream",
     "text": [
      "False\n",
      "True\n"
     ]
    }
   ],
   "source": [
    "#Intuitive Approach - Logical no DP\n",
    "def canJump(nums):\n",
    "    n = len(nums)\n",
    "    curr = nums[0]\n",
    "    \n",
    "    for i in range(1,n):\n",
    "        if curr == 0:\n",
    "            return False\n",
    "        \n",
    "        curr = curr-1\n",
    "        \n",
    "        curr = max(curr,nums[i])\n",
    "    return True\n",
    "\n",
    "nums = [3,2,1,0,4]\n",
    "print(canJump(nums))\n",
    "\n",
    "nums = [2,3,1,1,4]\n",
    "print(canJump(nums))"
   ]
  },
  {
   "cell_type": "code",
   "execution_count": 47,
   "id": "a4c3fb88",
   "metadata": {},
   "outputs": [
    {
     "name": "stdout",
     "output_type": "stream",
     "text": [
      "False\n",
      "True\n"
     ]
    }
   ],
   "source": [
    "#2nd Approach - DP+Memoization\n",
    "def canJump(nums):\n",
    "    n = len(nums)\n",
    "    dp = [-1]*n\n",
    "    \n",
    "    def helper(i):\n",
    "        if i==n-1:\n",
    "            return 1\n",
    "        \n",
    "        if i >= n or nums[i]==0:\n",
    "            return 0\n",
    "        \n",
    "        if dp[i]!=-1:\n",
    "            return dp[i]\n",
    "        \n",
    "        for k in range(nums[i],0,-1):\n",
    "            if i+k < n:\n",
    "                dp[i+k] = helper(i+k)\n",
    "                if dp[i+k]: return 1\n",
    "        return 0\n",
    "    \n",
    "\n",
    "    return helper(0)==1\n",
    "\n",
    "nums = [3,2,1,0,4]\n",
    "print(canJump(nums))\n",
    "\n",
    "nums = [2,3,5,1,4]\n",
    "print(canJump(nums))"
   ]
  },
  {
   "cell_type": "code",
   "execution_count": null,
   "id": "5815201b",
   "metadata": {},
   "outputs": [],
   "source": []
  }
 ],
 "metadata": {
  "kernelspec": {
   "display_name": "Python 3 (ipykernel)",
   "language": "python",
   "name": "python3"
  },
  "language_info": {
   "codemirror_mode": {
    "name": "ipython",
    "version": 3
   },
   "file_extension": ".py",
   "mimetype": "text/x-python",
   "name": "python",
   "nbconvert_exporter": "python",
   "pygments_lexer": "ipython3",
   "version": "3.10.9"
  }
 },
 "nbformat": 4,
 "nbformat_minor": 5
}
