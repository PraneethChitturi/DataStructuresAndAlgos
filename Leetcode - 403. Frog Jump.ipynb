{
 "cells": [
  {
   "cell_type": "code",
   "execution_count": 29,
   "id": "ba7313f0",
   "metadata": {},
   "outputs": [
    {
     "data": {
      "text/plain": [
       "True"
      ]
     },
     "execution_count": 29,
     "metadata": {},
     "output_type": "execute_result"
    }
   ],
   "source": [
    "class Solution(object):\n",
    "\n",
    "    def canCross(self, stones):\n",
    "        \"\"\"\n",
    "        :type stones: List[int]\n",
    "        :rtype: bool\n",
    "        \"\"\"\n",
    "        m = {} \n",
    "        n = len(stones)\n",
    "        dp = [[-1] * n for _ in range(n)]\n",
    "\n",
    "        def solve(i, k):\n",
    "            if i == n - 1:\n",
    "                return True\n",
    "\n",
    "            if dp[i][k] != -1:\n",
    "                return dp[i][k] == 1\n",
    "\n",
    "            k0, kp, k1 = False, False, False\n",
    "\n",
    "            if stones[i] + k in m:\n",
    "                k0 = solve(m[stones[i] + k], k)\n",
    "            if k > 1 and stones[i] + k - 1 in m:\n",
    "                kp = solve(m[stones[i] + k - 1], k - 1)\n",
    "            if stones[i] + k + 1 in m:\n",
    "                k1 = solve(m[stones[i] + k + 1], k + 1)\n",
    "\n",
    "            dp[i][k] = 1 if k0 or kp or k1 else 0\n",
    "            return dp[i][k] == 1\n",
    "\n",
    "        if stones[1] - stones[0] != 1:\n",
    "            return False\n",
    "\n",
    "        for i in range(n):\n",
    "            m[stones[i]] = i\n",
    "\n",
    "        return solve(1, 1)"
   ]
  }
 ],
 "metadata": {
  "kernelspec": {
   "display_name": "Python 3 (ipykernel)",
   "language": "python",
   "name": "python3"
  },
  "language_info": {
   "codemirror_mode": {
    "name": "ipython",
    "version": 3
   },
   "file_extension": ".py",
   "mimetype": "text/x-python",
   "name": "python",
   "nbconvert_exporter": "python",
   "pygments_lexer": "ipython3",
   "version": "3.10.9"
  }
 },
 "nbformat": 4,
 "nbformat_minor": 5
}
