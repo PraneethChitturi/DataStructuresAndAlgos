{
 "cells": [
  {
   "cell_type": "code",
   "execution_count": 63,
   "id": "70d4a7ec-8635-43fb-9c91-af5d89829add",
   "metadata": {},
   "outputs": [],
   "source": [
    "def numDecodings(s):\n",
    "    dp={len(s):1}\n",
    "    \n",
    "    def dfs(i):\n",
    "        if i in dp:\n",
    "            return dp[i]\n",
    "        if s[i]=='0':\n",
    "            return 0\n",
    "\n",
    "\n",
    "        res=dfs(i+1)\n",
    "        \n",
    "        if i+1<len(s) and ((s[i]=='1') or (s[i]=='2' and s[i+1] in '0123456')):\n",
    "            res+=dfs(i+2)\n",
    "        dp[i]=res\n",
    "        \n",
    "        return res\n",
    "\n",
    "    return dfs(0)\n",
    "        "
   ]
  },
  {
   "cell_type": "code",
   "execution_count": 64,
   "id": "f166eeba-6f5a-40bd-ab58-6f8237d18472",
   "metadata": {},
   "outputs": [
    {
     "data": {
      "text/plain": [
       "2"
      ]
     },
     "execution_count": 64,
     "metadata": {},
     "output_type": "execute_result"
    }
   ],
   "source": [
    "numDecodings(\"12\")"
   ]
  },
  {
   "cell_type": "code",
   "execution_count": 65,
   "id": "b46e7c78-a4a2-4eea-b49d-455b0ad995c8",
   "metadata": {},
   "outputs": [
    {
     "data": {
      "text/plain": [
       "3"
      ]
     },
     "execution_count": 65,
     "metadata": {},
     "output_type": "execute_result"
    }
   ],
   "source": [
    "numDecodings(\"226\")"
   ]
  },
  {
   "cell_type": "code",
   "execution_count": 66,
   "id": "8ee56429-fcbb-4842-aa11-d9c1d22974b8",
   "metadata": {},
   "outputs": [
    {
     "data": {
      "text/plain": [
       "0"
      ]
     },
     "execution_count": 66,
     "metadata": {},
     "output_type": "execute_result"
    }
   ],
   "source": [
    "numDecodings(\"06\")"
   ]
  },
  {
   "cell_type": "code",
   "execution_count": null,
   "id": "4209cf8b-ddce-4a02-8bbf-370be57666e6",
   "metadata": {},
   "outputs": [],
   "source": []
  }
 ],
 "metadata": {
  "kernelspec": {
   "display_name": "Python 3 (ipykernel)",
   "language": "python",
   "name": "python3"
  },
  "language_info": {
   "codemirror_mode": {
    "name": "ipython",
    "version": 3
   },
   "file_extension": ".py",
   "mimetype": "text/x-python",
   "name": "python",
   "nbconvert_exporter": "python",
   "pygments_lexer": "ipython3",
   "version": "3.11.7"
  }
 },
 "nbformat": 4,
 "nbformat_minor": 5
}
