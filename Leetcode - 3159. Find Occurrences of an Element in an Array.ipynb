{
 "cells": [
  {
   "cell_type": "code",
   "execution_count": null,
   "id": "3511c4bc",
   "metadata": {},
   "outputs": [],
   "source": [
    "class Solution(object):\n",
    "    def occurrencesOfElement(self, nums, queries, x):\n",
    "        \"\"\"\n",
    "        :type nums: List[int]\n",
    "        :type queries: List[int]\n",
    "        :type x: int\n",
    "        :rtype: List[int]\n",
    "        \"\"\"\n",
    "        dic={}\n",
    "        c=0\n",
    "        for i in range(len(nums)):\n",
    "            if nums[i]==x:\n",
    "                c+=1\n",
    "                dic[c]=i\n",
    "        ans=[]\n",
    "        for q in queries:\n",
    "            ans.append(dic.get(q,-1))\n",
    "        return ans"
   ]
  }
 ],
 "metadata": {
  "kernelspec": {
   "display_name": "Python 3 (ipykernel)",
   "language": "python",
   "name": "python3"
  },
  "language_info": {
   "codemirror_mode": {
    "name": "ipython",
    "version": 3
   },
   "file_extension": ".py",
   "mimetype": "text/x-python",
   "name": "python",
   "nbconvert_exporter": "python",
   "pygments_lexer": "ipython3",
   "version": "3.11.4"
  }
 },
 "nbformat": 4,
 "nbformat_minor": 5
}
