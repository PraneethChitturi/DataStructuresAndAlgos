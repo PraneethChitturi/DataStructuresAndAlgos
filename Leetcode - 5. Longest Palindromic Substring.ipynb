{
 "cells": [
  {
   "cell_type": "code",
   "execution_count": 1,
   "id": "0e26b421",
   "metadata": {},
   "outputs": [],
   "source": [
    "class Solution(object):\n",
    "    def longestPalindrome(self, s):\n",
    "        \"\"\"\n",
    "        :type s: str\n",
    "        :rtype: str\n",
    "        \"\"\"\n",
    "        n = len(s)\n",
    "        dp = [[False] * n for _ in range(n)]\n",
    "        ans = [0, 0]\n",
    "        \n",
    "        for i in range(n):\n",
    "            dp[i][i] = True\n",
    "        \n",
    "        for i in range(n - 1):\n",
    "            if s[i] == s[i + 1]:\n",
    "                dp[i][i + 1] = True\n",
    "                ans = [i, i + 1]\n",
    "\n",
    "        for diff in range(2, n):\n",
    "            for i in range(n - diff):\n",
    "                j = i + diff\n",
    "                if s[i] == s[j] and dp[i + 1][j - 1]:\n",
    "                    dp[i][j] = True\n",
    "                    ans = [i, j]\n",
    "\n",
    "        i, j = ans\n",
    "        return s[i:j+1]"
   ]
  },
  {
   "cell_type": "code",
   "execution_count": null,
   "id": "697169d5",
   "metadata": {},
   "outputs": [],
   "source": []
  }
 ],
 "metadata": {
  "kernelspec": {
   "display_name": "Python 3 (ipykernel)",
   "language": "python",
   "name": "python3"
  },
  "language_info": {
   "codemirror_mode": {
    "name": "ipython",
    "version": 3
   },
   "file_extension": ".py",
   "mimetype": "text/x-python",
   "name": "python",
   "nbconvert_exporter": "python",
   "pygments_lexer": "ipython3",
   "version": "3.10.9"
  }
 },
 "nbformat": 4,
 "nbformat_minor": 5
}
