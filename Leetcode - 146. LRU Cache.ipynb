{
 "cells": [
  {
   "cell_type": "code",
   "execution_count": null,
   "id": "35168cf7",
   "metadata": {},
   "outputs": [],
   "source": [
    "class Node:\n",
    "    def __init__(self, key, val):\n",
    "        self.key, self.val = key, val\n",
    "        self.prev = self.next = None\n",
    "\n",
    "\n",
    "class LRUCache:\n",
    "    def __init__(self, capacity):\n",
    "        self.cap = capacity\n",
    "        self.cache = {}  # map key to node\n",
    "\n",
    "        self.left, self.right = Node(0, 0), Node(0, 0)\n",
    "        self.left.next, self.right.prev = self.right, self.left\n",
    "\n",
    "    # remove node from list\n",
    "    def remove(self, node):\n",
    "        prev, nxt = node.prev, node.next\n",
    "        prev.next, nxt.prev = nxt, prev\n",
    "\n",
    "    # insert node at right\n",
    "    def insert(self, node):\n",
    "        prev, nxt = self.right.prev, self.right\n",
    "        prev.next = nxt.prev = node\n",
    "        node.next, node.prev = nxt, prev\n",
    "\n",
    "    def get(self, key):\n",
    "        if key in self.cache:\n",
    "            self.remove(self.cache[key])\n",
    "            self.insert(self.cache[key])\n",
    "            return self.cache[key].val\n",
    "        return -1\n",
    "\n",
    "    def put(self, key, value):\n",
    "        if key in self.cache:\n",
    "            self.remove(self.cache[key])\n",
    "        self.cache[key] = Node(key, value)\n",
    "        self.insert(self.cache[key])\n",
    "\n",
    "        if len(self.cache) > self.cap:\n",
    "            # remove from the list and delete the LRU from hashmap\n",
    "            lru = self.left.next\n",
    "            self.remove(lru)\n",
    "            del self.cache[lru.key]"
   ]
  }
 ],
 "metadata": {
  "kernelspec": {
   "display_name": "Python 3 (ipykernel)",
   "language": "python",
   "name": "python3"
  },
  "language_info": {
   "codemirror_mode": {
    "name": "ipython",
    "version": 3
   },
   "file_extension": ".py",
   "mimetype": "text/x-python",
   "name": "python",
   "nbconvert_exporter": "python",
   "pygments_lexer": "ipython3",
   "version": "3.10.9"
  }
 },
 "nbformat": 4,
 "nbformat_minor": 5
}
