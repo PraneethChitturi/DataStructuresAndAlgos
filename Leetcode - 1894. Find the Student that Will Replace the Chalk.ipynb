{
 "cells": [
  {
   "cell_type": "code",
   "execution_count": null,
   "id": "94474b5b-0b72-4c5f-b7e4-276255ed2a45",
   "metadata": {},
   "outputs": [],
   "source": [
    "def chalkReplacer(chalk, k):\n",
    "        \"\"\"\n",
    "        :type chalk: List[int]\n",
    "        :type k: int\n",
    "        :rtype: int\n",
    "        \"\"\"\n",
    "        n=len(chalk)\n",
    "        prefixsum=[0]*n\n",
    "        for i in range(n):\n",
    "          if i==0:\n",
    "            prefixsum[i]=chalk[i]\n",
    "          else:\n",
    "            prefixsum[i]=prefixsum[i-1]+chalk[i]\n",
    "\n",
    "        k = k % prefixsum[n-1]\n",
    "        for i in range(n):\n",
    "          if prefixsum[i]>k:\n",
    "            return i\n",
    "        return 0"
   ]
  }
 ],
 "metadata": {
  "kernelspec": {
   "display_name": "Python 3 (ipykernel)",
   "language": "python",
   "name": "python3"
  },
  "language_info": {
   "codemirror_mode": {
    "name": "ipython",
    "version": 3
   },
   "file_extension": ".py",
   "mimetype": "text/x-python",
   "name": "python",
   "nbconvert_exporter": "python",
   "pygments_lexer": "ipython3",
   "version": "3.11.7"
  }
 },
 "nbformat": 4,
 "nbformat_minor": 5
}
