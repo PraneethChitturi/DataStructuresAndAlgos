{
 "cells": [
  {
   "cell_type": "code",
   "execution_count": 37,
   "id": "6c22f979",
   "metadata": {},
   "outputs": [
    {
     "data": {
      "text/plain": [
       "[2]"
      ]
     },
     "execution_count": 37,
     "metadata": {},
     "output_type": "execute_result"
    }
   ],
   "source": [
    "#Greedy Binary Search Algo\n",
    "class Solution(object):\n",
    "    def lengthOfLIS(self, nums):\n",
    "        \"\"\"\n",
    "        :type nums: List[int]\n",
    "        :rtype: int\n",
    "        \"\"\"\n",
    "        def BS(lis,i,j,ele):\n",
    "          l = j-i+1\n",
    "          \n",
    "          if i==j and lis[i]>=ele:\n",
    "              return i\n",
    "          elif i==j:\n",
    "              return i+1\n",
    "          \n",
    "          if lis[i+(l//2)] > ele:\n",
    "              index = BS(lis,i,(i+(l//2))-1,ele)\n",
    "          else:\n",
    "              index = BS(lis,i+(l//2),j,ele)\n",
    "              \n",
    "          return index\n",
    "\n",
    "        prev = nums[0]\n",
    "        substr = [prev]\n",
    "        length = len(nums)\n",
    "        for i in range(1,length):\n",
    "          curr=nums[i]\n",
    "          prev=substr[-1]\n",
    "          if curr>prev:\n",
    "            substr.append(curr)\n",
    "          else:\n",
    "            index = BS(substr,0,len(substr)-1,curr)\n",
    "            if index<=len(substr)-1:\n",
    "              substr[index] =curr\n",
    "\n",
    "        return len(substr)\n",
    "        "
   ]
  },
  {
   "cell_type": "code",
   "execution_count": null,
   "id": "d4d58750",
   "metadata": {},
   "outputs": [],
   "source": [
    " "
   ]
  }
 ],
 "metadata": {
  "kernelspec": {
   "display_name": "Python 3 (ipykernel)",
   "language": "python",
   "name": "python3"
  },
  "language_info": {
   "codemirror_mode": {
    "name": "ipython",
    "version": 3
   },
   "file_extension": ".py",
   "mimetype": "text/x-python",
   "name": "python",
   "nbconvert_exporter": "python",
   "pygments_lexer": "ipython3",
   "version": "3.10.9"
  }
 },
 "nbformat": 4,
 "nbformat_minor": 5
}
