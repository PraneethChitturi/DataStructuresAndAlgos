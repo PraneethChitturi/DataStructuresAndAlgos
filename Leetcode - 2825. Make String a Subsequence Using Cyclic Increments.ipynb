{
 "cells": [
  {
   "cell_type": "code",
   "execution_count": 8,
   "id": "ec9db814",
   "metadata": {},
   "outputs": [],
   "source": [
    "#Beats 73% in TLE\n",
    "def canMakeSubsequence(str1, str2):\n",
    "    i=0\n",
    "    j=0\n",
    "    while i<len(str1) and j<len(str2):\n",
    "        if str1[i] == str2[j] or (ord(str2[j]) - ord(str1[i])) % 26 <= 1:\n",
    "            j+=1\n",
    "        i+=1\n",
    "    \n",
    "    return j==len(str2)"
   ]
  },
  {
   "cell_type": "code",
   "execution_count": 24,
   "id": "9328b196",
   "metadata": {},
   "outputs": [],
   "source": [
    "##Beats 9% in TLE\n",
    "def canMakeSubsequence(str1, str2):\n",
    "    while str1!='' and str2!='':\n",
    "        if str1[0] == str2[0] or (ord(str1[0])+1 == ord(str2[0])) or (str1[0]=='z' and 'a'==str2[0]):\n",
    "            str2=str2[1:]\n",
    "        str1=str1[1:]\n",
    "    \n",
    "    if str2!='':\n",
    "        return False\n",
    "    return True"
   ]
  },
  {
   "cell_type": "code",
   "execution_count": 26,
   "id": "90b22b7e",
   "metadata": {},
   "outputs": [
    {
     "data": {
      "text/plain": [
       "True"
      ]
     },
     "execution_count": 26,
     "metadata": {},
     "output_type": "execute_result"
    }
   ],
   "source": [
    "canMakeSubsequence(\"abc\", \"ad\")"
   ]
  },
  {
   "cell_type": "code",
   "execution_count": 27,
   "id": "2310d7e3",
   "metadata": {},
   "outputs": [
    {
     "data": {
      "text/plain": [
       "True"
      ]
     },
     "execution_count": 27,
     "metadata": {},
     "output_type": "execute_result"
    }
   ],
   "source": [
    "canMakeSubsequence(\"zc\", \"ad\")"
   ]
  },
  {
   "cell_type": "code",
   "execution_count": 28,
   "id": "c1ec2055",
   "metadata": {},
   "outputs": [
    {
     "data": {
      "text/plain": [
       "False"
      ]
     },
     "execution_count": 28,
     "metadata": {},
     "output_type": "execute_result"
    }
   ],
   "source": [
    "canMakeSubsequence(\"ab\", \"d\")"
   ]
  }
 ],
 "metadata": {
  "kernelspec": {
   "display_name": "Python 3 (ipykernel)",
   "language": "python",
   "name": "python3"
  },
  "language_info": {
   "codemirror_mode": {
    "name": "ipython",
    "version": 3
   },
   "file_extension": ".py",
   "mimetype": "text/x-python",
   "name": "python",
   "nbconvert_exporter": "python",
   "pygments_lexer": "ipython3",
   "version": "3.11.4"
  }
 },
 "nbformat": 4,
 "nbformat_minor": 5
}
