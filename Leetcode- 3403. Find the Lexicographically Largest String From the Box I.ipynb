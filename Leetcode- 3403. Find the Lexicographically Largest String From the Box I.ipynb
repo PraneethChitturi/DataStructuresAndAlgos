{
 "cells": [
  {
   "cell_type": "code",
   "execution_count": 1,
   "id": "d456409a-1cd0-4d91-9a14-aeed6f77a6c5",
   "metadata": {},
   "outputs": [
    {
     "data": {
      "text/plain": [
       "'d'"
      ]
     },
     "execution_count": 1,
     "metadata": {},
     "output_type": "execute_result"
    }
   ],
   "source": [
    "class Solution(object):\n",
    "    def answerString(self, word, numFriends):\n",
    "        \"\"\"\n",
    "        :type word: str\n",
    "        :type numFriends: int\n",
    "        :rtype: str\n",
    "        \"\"\"\n",
    "        if numFriends==1:return word\n",
    "        if len(word)==numFriends:\n",
    "            return max(w for w in word)\n",
    "        \n",
    "        lenofword = len(word)\n",
    "        maxC='a'\n",
    "        for w in word:\n",
    "            maxC=max(w,maxC)\n",
    "\n",
    "        ans=''\n",
    "        for i in range(lenofword):\n",
    "            if word[i]==maxC:\n",
    "                if word[i:i+min(lenofword,lenofword-numFriends+1)]>ans:\n",
    "                    ans=word[i:i+min(lenofword,lenofword-numFriends+1)]\n",
    "\n",
    "        return ans\n",
    "\n"
   ]
  },
  {
   "cell_type": "code",
   "execution_count": null,
   "id": "5cc47120-af29-4967-92f6-c9048623f107",
   "metadata": {},
   "outputs": [],
   "source": []
  }
 ],
 "metadata": {
  "kernelspec": {
   "display_name": "Python 3 (ipykernel)",
   "language": "python",
   "name": "python3"
  },
  "language_info": {
   "codemirror_mode": {
    "name": "ipython",
    "version": 3
   },
   "file_extension": ".py",
   "mimetype": "text/x-python",
   "name": "python",
   "nbconvert_exporter": "python",
   "pygments_lexer": "ipython3",
   "version": "3.11.7"
  }
 },
 "nbformat": 4,
 "nbformat_minor": 5
}
