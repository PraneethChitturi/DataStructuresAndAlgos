{
 "cells": [
  {
   "cell_type": "code",
   "execution_count": null,
   "id": "6f3c1462",
   "metadata": {},
   "outputs": [],
   "source": [
    "class Solution(object):\n",
    "    def countVowelPermutation(self, n):\n",
    "        \"\"\"\n",
    "        :type n: int\n",
    "        :rtype: int\n",
    "        \"\"\"\n",
    "        counterofwords ={\n",
    "            'a':1,\n",
    "            'e':1,\n",
    "            'i':1,\n",
    "            'o':1,\n",
    "            'u':1\n",
    "        }\n",
    "\n",
    "        for i in range(1,n):\n",
    "            a = counterofwords['e']\n",
    "            e = counterofwords['a'] + counterofwords['i']\n",
    "            i = counterofwords['a'] + counterofwords['e'] + counterofwords['o'] + counterofwords['u']\n",
    "            u = counterofwords['a']\n",
    "            o = counterofwords['i'] + counterofwords['u']\n",
    "\n",
    "            counterofwords['a']=a\n",
    "            counterofwords['e']=e\n",
    "            counterofwords['i']=i\n",
    "            counterofwords['o']=o\n",
    "            counterofwords['u']=u\n",
    "\n",
    "        return sum(counterofwords.values())% (10**9 + 7)"
   ]
  }
 ],
 "metadata": {
  "kernelspec": {
   "display_name": "Python 3 (ipykernel)",
   "language": "python",
   "name": "python3"
  },
  "language_info": {
   "codemirror_mode": {
    "name": "ipython",
    "version": 3
   },
   "file_extension": ".py",
   "mimetype": "text/x-python",
   "name": "python",
   "nbconvert_exporter": "python",
   "pygments_lexer": "ipython3",
   "version": "3.11.4"
  }
 },
 "nbformat": 4,
 "nbformat_minor": 5
}
