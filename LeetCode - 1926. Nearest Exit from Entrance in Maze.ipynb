{
 "cells": [
  {
   "cell_type": "code",
   "execution_count": 42,
   "id": "5b3089c0",
   "metadata": {},
   "outputs": [
    {
     "data": {
      "text/plain": [
       "-1"
      ]
     },
     "execution_count": 42,
     "metadata": {},
     "output_type": "execute_result"
    }
   ],
   "source": [
    "#Logic Works but TLE\n",
    "maze = [[\"+\",\"+\",\"+\"],[\".\",\".\",\".\"],[\"+\",\"+\",\"+\"]]\n",
    "entrance = [1,0]\n",
    "\n",
    "def nearestExit(maze, entrance):\n",
    "        nrow = len(maze)\n",
    "        ncol = len(maze[0])\n",
    "        \n",
    "        visitedmat = [[-1]*ncol for j in range(nrow)]\n",
    "        queue = [[entrance[0],entrance[1],0]]\n",
    "        \n",
    "        rows = [-1,1,0,0]\n",
    "        cols = [0,0,-1,1]\n",
    "        \n",
    "        while queue:\n",
    "            row,col,step= queue.pop(0)\n",
    "            visitedmat[row][col] = 1\n",
    "            \n",
    "            for i in range(4):\n",
    "                if row+rows[i]<=nrow-1 and col+cols[i]<=ncol-1 and row+rows[i]>=0 and col+cols[j]>=0 and visitedmat[row+rows[i]][col+cols[i]] == -1:\n",
    "                    if (row+rows[i] == (nrow-1) or col+cols[i] == (ncol-1) or row+rows[i]==0 or col+cols[i]==0) and maze[row+rows[i]][col+cols[i]]=='.':\n",
    "                        return step+1\n",
    "                    if maze[row+rows[i]][col+cols[i]]=='.':\n",
    "                        queue.append([row+rows[i],col+cols[i],step+1])\n",
    "\n",
    "        return -1\n",
    "\n",
    "    \n",
    "\n",
    "nearestExit(maze, entrance)\n"
   ]
  },
  {
   "cell_type": "code",
   "execution_count": null,
   "id": "dfbf97fa",
   "metadata": {},
   "outputs": [],
   "source": [
    "#TLE Optimized\n",
    "class Solution(object):\n",
    "    def nearestExit(self, maze, entrance):\n",
    "        \"\"\"\n",
    "        :type maze: List[List[str]]\n",
    "        :type entrance: List[int]\n",
    "        :rtype: int\n",
    "        \"\"\"\n",
    "        nrow = len(maze)\n",
    "        ncol = len(maze[0])\n",
    "        \n",
    "        visitedmat = [[-1]*ncol for j in range(nrow)]\n",
    "        queue = [[entrance[0],entrance[1],0]]\n",
    "        \n",
    "        rows = [-1,1,0,0]\n",
    "        cols = [0,0,-1,1]\n",
    "        visitedmat[entrance[0]][entrance[1]] = 1\n",
    "        while queue:\n",
    "            row,col,step= queue.pop(0)\n",
    "            \n",
    "            for i in range(4):\n",
    "                if row+rows[i]<=nrow-1 and col+cols[i]<=ncol-1 and row+rows[i]>=0 and col+cols[i]>=0 and visitedmat[row+rows[i]][col+cols[i]] == -1 and maze[row+rows[i]][col+cols[i]]=='.':\n",
    "                    if (row+rows[i] == (nrow-1) or col+cols[i] == (ncol-1) or row+rows[i]==0 or col+cols[i]==0):\n",
    "                        return step+1\n",
    "                    queue.append([row+rows[i],col+cols[i],step+1])\n",
    "                    visitedmat[row+rows[i]][col+cols[i]] = 1\n",
    "        return -1\n"
   ]
  }
 ],
 "metadata": {
  "kernelspec": {
   "display_name": "Python 3 (ipykernel)",
   "language": "python",
   "name": "python3"
  },
  "language_info": {
   "codemirror_mode": {
    "name": "ipython",
    "version": 3
   },
   "file_extension": ".py",
   "mimetype": "text/x-python",
   "name": "python",
   "nbconvert_exporter": "python",
   "pygments_lexer": "ipython3",
   "version": "3.10.9"
  }
 },
 "nbformat": 4,
 "nbformat_minor": 5
}
