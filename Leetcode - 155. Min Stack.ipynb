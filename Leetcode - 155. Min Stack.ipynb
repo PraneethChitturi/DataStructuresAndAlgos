{
 "cells": [
  {
   "cell_type": "code",
   "execution_count": 33,
   "id": "62aefb9c",
   "metadata": {},
   "outputs": [],
   "source": [
    "#Beats 17%\n",
    "class MinStack(object):\n",
    "\n",
    "    def __init__(self):\n",
    "        self.stack = []\n",
    "        self.min = []\n",
    "        \n",
    "\n",
    "    def push(self, val):\n",
    "        \"\"\"\n",
    "        :type val: int\n",
    "        :rtype: None\n",
    "        \"\"\"\n",
    "        self.stack = [val] + self.stack\n",
    "        if self.min:\n",
    "            if self.min[0]>val:\n",
    "                self.min = [val] + self.min\n",
    "            else:\n",
    "                self.min = [self.min[0]]+self.min\n",
    "        else:\n",
    "            self.min = [val]\n",
    "\n",
    "    def pop(self):\n",
    "        \"\"\"\n",
    "        :rtype: None\n",
    "        \"\"\"\n",
    "        self.stack = self.stack[1:]\n",
    "        self.min = self.min[1:]\n",
    "\n",
    "    def top(self):\n",
    "        \"\"\"\n",
    "        :rtype: int\n",
    "        \"\"\"\n",
    "        return self.stack[0]\n",
    "        \n",
    "\n",
    "    def getMin(self):\n",
    "        \"\"\"\n",
    "        :rtype: int\n",
    "        \"\"\"\n",
    "        return self.min[0]"
   ]
  },
  {
   "cell_type": "code",
   "execution_count": 34,
   "id": "1e3c06b6",
   "metadata": {},
   "outputs": [],
   "source": [
    "minStack = MinStack()"
   ]
  },
  {
   "cell_type": "code",
   "execution_count": 35,
   "id": "5606c201",
   "metadata": {},
   "outputs": [],
   "source": [
    "minStack.push(-2)"
   ]
  },
  {
   "cell_type": "code",
   "execution_count": 36,
   "id": "bf61d6a0",
   "metadata": {},
   "outputs": [],
   "source": [
    "minStack.push(0)"
   ]
  },
  {
   "cell_type": "code",
   "execution_count": 37,
   "id": "4ff1df9a",
   "metadata": {},
   "outputs": [],
   "source": [
    "minStack.push(-3)"
   ]
  },
  {
   "cell_type": "code",
   "execution_count": 38,
   "id": "24a7bd59",
   "metadata": {},
   "outputs": [
    {
     "data": {
      "text/plain": [
       "-3"
      ]
     },
     "execution_count": 38,
     "metadata": {},
     "output_type": "execute_result"
    }
   ],
   "source": [
    "minStack.getMin()"
   ]
  },
  {
   "cell_type": "code",
   "execution_count": 39,
   "id": "1cebf6d5",
   "metadata": {},
   "outputs": [],
   "source": [
    "minStack.pop()"
   ]
  },
  {
   "cell_type": "code",
   "execution_count": 40,
   "id": "e6d91118",
   "metadata": {},
   "outputs": [
    {
     "data": {
      "text/plain": [
       "0"
      ]
     },
     "execution_count": 40,
     "metadata": {},
     "output_type": "execute_result"
    }
   ],
   "source": [
    "minStack.top()"
   ]
  },
  {
   "cell_type": "code",
   "execution_count": 41,
   "id": "bd461f60",
   "metadata": {},
   "outputs": [
    {
     "data": {
      "text/plain": [
       "-2"
      ]
     },
     "execution_count": 41,
     "metadata": {},
     "output_type": "execute_result"
    }
   ],
   "source": [
    "minStack.getMin()"
   ]
  },
  {
   "cell_type": "code",
   "execution_count": 42,
   "id": "49684940",
   "metadata": {},
   "outputs": [],
   "source": [
    "#Beats 89%\n",
    "#Learning -> dont do list = list + val or val+list or indexing [1:] or [:-1]\n",
    "#            utilize inbuilt functions(append,pop) because they are faster (Backend C++)\n",
    "class MinStack(object):\n",
    "\n",
    "    def __init__(self):\n",
    "        self.stack = []\n",
    "        self.min = []\n",
    "        \n",
    "\n",
    "    def push(self, val):\n",
    "        \"\"\"\n",
    "        :type val: int\n",
    "        :rtype: None\n",
    "        \"\"\"\n",
    "        self.stack.append(val)\n",
    "        if self.min:\n",
    "            if self.min[-1]>val:\n",
    "                self.min.append(val)\n",
    "            else:\n",
    "                self.min.append(self.min[-1])\n",
    "        else:\n",
    "            self.min = [val]\n",
    "\n",
    "    def pop(self):\n",
    "        \"\"\"\n",
    "        :rtype: None\n",
    "        \"\"\"\n",
    "        self.stack.pop()\n",
    "        self.min.pop()\n",
    "\n",
    "    def top(self):\n",
    "        \"\"\"\n",
    "        :rtype: int\n",
    "        \"\"\"\n",
    "        return self.stack[-1]\n",
    "        \n",
    "\n",
    "    def getMin(self):\n",
    "        \"\"\"\n",
    "        :rtype: int\n",
    "        \"\"\"\n",
    "        return self.min[-1]\n",
    "        \n",
    "\n",
    "\n",
    "# Your MinStack object will be instantiated and called as such:\n",
    "# obj = MinStack()\n",
    "# obj.push(val)\n",
    "# obj.pop()\n",
    "# param_3 = obj.top()\n",
    "# param_4 = obj.getMin()"
   ]
  }
 ],
 "metadata": {
  "kernelspec": {
   "display_name": "Python 3 (ipykernel)",
   "language": "python",
   "name": "python3"
  },
  "language_info": {
   "codemirror_mode": {
    "name": "ipython",
    "version": 3
   },
   "file_extension": ".py",
   "mimetype": "text/x-python",
   "name": "python",
   "nbconvert_exporter": "python",
   "pygments_lexer": "ipython3",
   "version": "3.10.9"
  }
 },
 "nbformat": 4,
 "nbformat_minor": 5
}
