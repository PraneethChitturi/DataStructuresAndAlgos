{
 "cells": [
  {
   "cell_type": "code",
   "execution_count": null,
   "id": "65604521",
   "metadata": {},
   "outputs": [],
   "source": [
    "#Beats 7.9% in TLE\n",
    "class Solution(object):\n",
    "    def maxProfit(self, prices):\n",
    "        \"\"\"\n",
    "        :type prices: List[int]\n",
    "        :rtype: int\n",
    "        \"\"\"\n",
    "        profit=0\n",
    "        maxtoright = 0\n",
    "        for i in range(len(prices)-1,-1,-1):\n",
    "            if i<len(prices)-1:\n",
    "                maxtoright = max(maxtoright,prices[i+1])\n",
    "                profit = max(profit,maxtoright-prices[i])\n",
    "\n",
    "        return profit"
   ]
  },
  {
   "cell_type": "code",
   "execution_count": null,
   "id": "e8f156da",
   "metadata": {},
   "outputs": [],
   "source": [
    "#Beats 48% in TLE\n",
    "class Solution(object):\n",
    "    def maxProfit(self, prices):\n",
    "        \"\"\"\n",
    "        :type prices: List[int]\n",
    "        :rtype: int\n",
    "        \"\"\"\n",
    "        profit=0\n",
    "        lowest = prices[0]\n",
    "        for price in prices[1:]:\n",
    "            profit = max(profit,price-lowest)\n",
    "            if price<lowest:\n",
    "                lowest=price\n",
    "\n",
    "        return profit"
   ]
  },
  {
   "cell_type": "code",
   "execution_count": null,
   "id": "f07f4462",
   "metadata": {},
   "outputs": [],
   "source": [
    "maxProfit([7,6,4,3,1])"
   ]
  }
 ],
 "metadata": {
  "kernelspec": {
   "display_name": "Python 3 (ipykernel)",
   "language": "python",
   "name": "python3"
  },
  "language_info": {
   "codemirror_mode": {
    "name": "ipython",
    "version": 3
   },
   "file_extension": ".py",
   "mimetype": "text/x-python",
   "name": "python",
   "nbconvert_exporter": "python",
   "pygments_lexer": "ipython3",
   "version": "3.11.4"
  }
 },
 "nbformat": 4,
 "nbformat_minor": 5
}
