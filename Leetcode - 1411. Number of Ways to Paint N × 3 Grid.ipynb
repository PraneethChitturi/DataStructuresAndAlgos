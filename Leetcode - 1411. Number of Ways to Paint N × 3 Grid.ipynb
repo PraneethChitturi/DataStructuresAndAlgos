{
 "cells": [
  {
   "cell_type": "code",
   "execution_count": 16,
   "id": "2a854e08-174d-458b-a739-3a173f65c834",
   "metadata": {},
   "outputs": [],
   "source": [
    "def numOfWays(n):\n",
    "    \"\"\"\n",
    "    :type n: int\n",
    "    :rtype: int\n",
    "    \"\"\"\n",
    "    mod = 10**9 + 7\n",
    "    color3=6\n",
    "    color2=6\n",
    "\n",
    "    for i in range(2,n+1):\n",
    "        tempcolor3=color3\n",
    "        color3=((2*color3)+(2*color2))%mod\n",
    "        color2=((2*tempcolor3)+(3*color2))%mod\n",
    "\n",
    "    return (color3+color2)%mod\n",
    "        "
   ]
  },
  {
   "cell_type": "code",
   "execution_count": 17,
   "id": "c5d07514-0a37-4a49-8dab-828c49f1b3f7",
   "metadata": {},
   "outputs": [
    {
     "data": {
      "text/plain": [
       "12"
      ]
     },
     "execution_count": 17,
     "metadata": {},
     "output_type": "execute_result"
    }
   ],
   "source": [
    "numOfWays(1)"
   ]
  },
  {
   "cell_type": "code",
   "execution_count": 18,
   "id": "b589edf2-7f21-429e-925c-503f5b9f6436",
   "metadata": {},
   "outputs": [
    {
     "data": {
      "text/plain": [
       "30228214"
      ]
     },
     "execution_count": 18,
     "metadata": {},
     "output_type": "execute_result"
    }
   ],
   "source": [
    "numOfWays(5000)"
   ]
  },
  {
   "cell_type": "code",
   "execution_count": null,
   "id": "278a0fe5-ba4b-4c7d-b0a1-f2e532445fbd",
   "metadata": {},
   "outputs": [],
   "source": []
  }
 ],
 "metadata": {
  "kernelspec": {
   "display_name": "Python 3 (ipykernel)",
   "language": "python",
   "name": "python3"
  },
  "language_info": {
   "codemirror_mode": {
    "name": "ipython",
    "version": 3
   },
   "file_extension": ".py",
   "mimetype": "text/x-python",
   "name": "python",
   "nbconvert_exporter": "python",
   "pygments_lexer": "ipython3",
   "version": "3.11.7"
  }
 },
 "nbformat": 4,
 "nbformat_minor": 5
}
