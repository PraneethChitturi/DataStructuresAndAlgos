{
 "cells": [
  {
   "cell_type": "code",
   "execution_count": null,
   "id": "deac5168-7f37-4463-af67-ffb049ed6f12",
   "metadata": {},
   "outputs": [],
   "source": [
    "class Solution {\n",
    "    public double myPow(double x, int n) {\n",
    "        return binExp( x, (long) n);\n",
    "    }\n",
    "\n",
    "    public double binExp(double x, long n) {\n",
    "        if (n==0){\n",
    "            return 1;\n",
    "        }\n",
    "\n",
    "        if (n<0){\n",
    "            n= -1 * n;\n",
    "            x=1.0/x;\n",
    "        }\n",
    "\n",
    "        double result=1;\n",
    "        while (n>0){\n",
    "            if(n%2==1){\n",
    "                result = result * x;\n",
    "                n-=1;\n",
    "            }\n",
    "            x = x*x;\n",
    "            n = n/2;\n",
    "        }\n",
    "        return result;\n",
    "    }\n",
    "}"
   ]
  }
 ],
 "metadata": {
  "kernelspec": {
   "display_name": "Python 3 (ipykernel)",
   "language": "python",
   "name": "python3"
  },
  "language_info": {
   "codemirror_mode": {
    "name": "ipython",
    "version": 3
   },
   "file_extension": ".py",
   "mimetype": "text/x-python",
   "name": "python",
   "nbconvert_exporter": "python",
   "pygments_lexer": "ipython3",
   "version": "3.11.7"
  }
 },
 "nbformat": 4,
 "nbformat_minor": 5
}
