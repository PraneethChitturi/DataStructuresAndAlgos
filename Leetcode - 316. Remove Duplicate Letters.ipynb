{
 "cells": [
  {
   "cell_type": "code",
   "execution_count": null,
   "id": "8acfee65",
   "metadata": {},
   "outputs": [],
   "source": [
    "#Beats 68%\n",
    "class Solution(object):\n",
    "    def removeDuplicateLetters(self, s):\n",
    "        \"\"\"\n",
    "        :type s: str\n",
    "        :rtype: str\n",
    "        \"\"\"\n",
    "        freq = {}\n",
    "        seen = {}\n",
    "        for i in s:\n",
    "            if i in freq:\n",
    "                freq[i] +=1\n",
    "            else:\n",
    "                freq[i] = 1\n",
    "                seen[i] = 'F'\n",
    "        #print(freq,seen)\n",
    "\n",
    "        finalstr = deque([s[0]])\n",
    "        freq[s[0]]-=1\n",
    "        seen[s[0]] = 'T'\n",
    "        for i in s[1:]:\n",
    "            #print(finalstr)\n",
    "            if seen[i]!='T':\n",
    "                while finalstr and finalstr[-1]>i and freq[finalstr[-1]]>0:\n",
    "                    seen[finalstr[-1]]='F'\n",
    "                    finalstr.pop()\n",
    "            \n",
    "                finalstr.append(i)\n",
    "                freq[i]-=1\n",
    "                seen[i] = 'T'\n",
    "            #print(\"End.:\",finalstr)\n",
    "            else:\n",
    "              freq[i]-=1   \n",
    "        return \"\".join(finalstr)"
   ]
  }
 ],
 "metadata": {
  "kernelspec": {
   "display_name": "Python 3 (ipykernel)",
   "language": "python",
   "name": "python3"
  },
  "language_info": {
   "codemirror_mode": {
    "name": "ipython",
    "version": 3
   },
   "file_extension": ".py",
   "mimetype": "text/x-python",
   "name": "python",
   "nbconvert_exporter": "python",
   "pygments_lexer": "ipython3",
   "version": "3.10.9"
  }
 },
 "nbformat": 4,
 "nbformat_minor": 5
}
