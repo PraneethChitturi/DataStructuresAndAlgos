{
 "cells": [
  {
   "cell_type": "code",
   "execution_count": 22,
   "id": "c064e7cb-4505-4b2a-ac63-0f1697ef34dc",
   "metadata": {},
   "outputs": [],
   "source": [
    "from collections import Counter\n",
    "from heapq import nlargest\n",
    "def minimumAddedInteger( nums1, nums2):\n",
    "        \"\"\"\n",
    "        :type nums1: List[int]\n",
    "        :type nums2: List[int]\n",
    "        :rtype: int\n",
    "        \"\"\"\n",
    "        ctr2, mx = Counter(nums2), max(nums2)\n",
    "\n",
    "        for n in nlargest(3, nums1):\n",
    "\n",
    "            ctr1 = Counter(map(lambda x: x + mx - n, nums1 ))\n",
    "            print(ctr1,ctr2)\n",
    "            \n",
    "            if ctr1 >= ctr2: return mx - n"
   ]
  },
  {
   "cell_type": "code",
   "execution_count": null,
   "id": "1385b706-0360-4e1c-9a3b-78939d9293b0",
   "metadata": {},
   "outputs": [],
   "source": [
    "class Solution(object):\n",
    "    def minimumAddedInteger(self, nums1, nums2):\n",
    "        \"\"\"\n",
    "        :type nums1: List[int]\n",
    "        :type nums2: List[int]\n",
    "        :rtype: int\n",
    "        \"\"\"\n",
    "        ctr2, mx = Counter(nums2), max(nums2)\n",
    "\n",
    "        for n in nlargest(3, nums1):\n",
    "            # Adjust nums1 values by applying the transformation\n",
    "            adjusted_nums1 = [x + mx - n for x in nums1]\n",
    "            ctr1 = Counter(adjusted_nums1)\n",
    "\n",
    "            # Check if ctr1 has at least the same counts for all elements in ctr2\n",
    "            temp = ctr1.copy()  # Copy ctr1 to avoid mutating it\n",
    "            temp.subtract(ctr2)\n",
    "\n",
    "            # If all values in the result are non-negative, ctr1 has enough elements\n",
    "            if all(v >= 0 for v in temp.values()):\n",
    "                return mx - n"
   ]
  },
  {
   "cell_type": "code",
   "execution_count": 23,
   "id": "b5b36d09-0b18-4993-9d97-9e4ff4521d4f",
   "metadata": {},
   "outputs": [
    {
     "name": "stdout",
     "output_type": "stream",
     "text": [
      "Counter({2: 1, 18: 1, 14: 1, 10: 1, 6: 1}) Counter({14: 1, 18: 1, 10: 1})\n"
     ]
    },
    {
     "data": {
      "text/plain": [
       "-2"
      ]
     },
     "execution_count": 23,
     "metadata": {},
     "output_type": "execute_result"
    }
   ],
   "source": [
    "minimumAddedInteger( [4,20,16,12,8], [14,18,10])"
   ]
  },
  {
   "cell_type": "code",
   "execution_count": 24,
   "id": "ec37e46f-d520-4293-baa2-cd3eb82a8374",
   "metadata": {},
   "outputs": [
    {
     "name": "stdout",
     "output_type": "stream",
     "text": [
      "Counter({5: 2, 7: 2}) Counter({7: 2})\n"
     ]
    },
    {
     "data": {
      "text/plain": [
       "2"
      ]
     },
     "execution_count": 24,
     "metadata": {},
     "output_type": "execute_result"
    }
   ],
   "source": [
    "minimumAddedInteger( [3,5,5,3], [7,7])"
   ]
  },
  {
   "cell_type": "code",
   "execution_count": 25,
   "id": "acb2ac13-1812-40d6-957d-4478655a0d79",
   "metadata": {},
   "outputs": [
    {
     "name": "stdout",
     "output_type": "stream",
     "text": [
      "Counter({8: 2, 3: 2, 2: 1}) Counter({8: 2, 7: 1})\n",
      "Counter({8: 2, 3: 2, 2: 1}) Counter({8: 2, 7: 1})\n",
      "Counter({13: 2, 8: 2, 7: 1}) Counter({8: 2, 7: 1})\n"
     ]
    },
    {
     "data": {
      "text/plain": [
       "4"
      ]
     },
     "execution_count": 25,
     "metadata": {},
     "output_type": "execute_result"
    }
   ],
   "source": [
    "minimumAddedInteger([9,4,3,9,4],[7,8,8])"
   ]
  },
  {
   "cell_type": "code",
   "execution_count": null,
   "id": "1821f365-b766-42f0-a677-f2ebeba87feb",
   "metadata": {},
   "outputs": [],
   "source": []
  }
 ],
 "metadata": {
  "kernelspec": {
   "display_name": "Python 3 (ipykernel)",
   "language": "python",
   "name": "python3"
  },
  "language_info": {
   "codemirror_mode": {
    "name": "ipython",
    "version": 3
   },
   "file_extension": ".py",
   "mimetype": "text/x-python",
   "name": "python",
   "nbconvert_exporter": "python",
   "pygments_lexer": "ipython3",
   "version": "3.11.7"
  }
 },
 "nbformat": 4,
 "nbformat_minor": 5
}
