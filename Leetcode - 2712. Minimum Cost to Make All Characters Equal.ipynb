{
 "cells": [
  {
   "cell_type": "code",
   "execution_count": 10,
   "id": "35541ea1",
   "metadata": {},
   "outputs": [],
   "source": [
    "#Beats 100% in TLE\n",
    "def minimumCost(s):\n",
    "    \"\"\"\n",
    "    :type s: str\n",
    "    :rtype: int\n",
    "    \"\"\"\n",
    "    n = len(s)\n",
    "    totalcost = 0\n",
    "    for i in range(1,n):\n",
    "        if s[i]!=s[i-1]:\n",
    "            totalcost+= min(i,n-i)\n",
    "        \n",
    "    return totalcost"
   ]
  },
  {
   "cell_type": "code",
   "execution_count": 11,
   "id": "b9bd6b6e",
   "metadata": {},
   "outputs": [
    {
     "data": {
      "text/plain": [
       "9"
      ]
     },
     "execution_count": 11,
     "metadata": {},
     "output_type": "execute_result"
    }
   ],
   "source": [
    "minimumCost(\"010101\")"
   ]
  },
  {
   "cell_type": "code",
   "execution_count": null,
   "id": "6b6b365b",
   "metadata": {},
   "outputs": [],
   "source": []
  }
 ],
 "metadata": {
  "kernelspec": {
   "display_name": "Python 3 (ipykernel)",
   "language": "python",
   "name": "python3"
  },
  "language_info": {
   "codemirror_mode": {
    "name": "ipython",
    "version": 3
   },
   "file_extension": ".py",
   "mimetype": "text/x-python",
   "name": "python",
   "nbconvert_exporter": "python",
   "pygments_lexer": "ipython3",
   "version": "3.10.9"
  }
 },
 "nbformat": 4,
 "nbformat_minor": 5
}
