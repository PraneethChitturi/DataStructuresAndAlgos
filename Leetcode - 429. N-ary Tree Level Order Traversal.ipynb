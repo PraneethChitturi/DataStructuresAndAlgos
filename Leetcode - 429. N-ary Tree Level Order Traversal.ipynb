{
 "cells": [
  {
   "cell_type": "code",
   "execution_count": 50,
   "id": "47ad538c",
   "metadata": {},
   "outputs": [],
   "source": [
    "class Node(object):\n",
    "    def __init__(self, val=None, children=None):\n",
    "        self.val = val\n",
    "        self.children = children\n",
    "        \n",
    "root = Node(1)\n",
    "root.children = [Node(3),Node(2),Node(4)]\n",
    "root.children[0].children = [Node(5),Node(6)]"
   ]
  },
  {
   "cell_type": "code",
   "execution_count": 54,
   "id": "8ac7a719",
   "metadata": {},
   "outputs": [
    {
     "data": {
      "text/plain": [
       "[[1], [3, 2, 4], [5, 6]]"
      ]
     },
     "execution_count": 54,
     "metadata": {},
     "output_type": "execute_result"
    }
   ],
   "source": [
    "#Beats only 35%\n",
    "from collections import deque\n",
    "def levelOrder(root):\n",
    "        \"\"\"\n",
    "        :type root: Node\n",
    "        :rtype: List[List[int]]\n",
    "        \"\"\"\n",
    "        ans = []\n",
    "        queue = deque([[root]])\n",
    "        while queue:\n",
    "            curr = queue.popleft()\n",
    "            temp = []\n",
    "            tempq = []\n",
    "            for ele in curr:\n",
    "                if ele !=None:\n",
    "                    temp.append(ele.val)\n",
    "                    if ele.children:\n",
    "                        tempq = tempq + ele.children\n",
    "\n",
    "            if tempq:\n",
    "                queue.append(tempq)\n",
    "\n",
    "            if temp:\n",
    "                ans.append(temp)\n",
    "        return ans\n",
    "\n",
    "    \n",
    "levelOrder(root)"
   ]
  },
  {
   "cell_type": "code",
   "execution_count": 49,
   "id": "c9502082",
   "metadata": {},
   "outputs": [
    {
     "data": {
      "text/plain": [
       "[[1], [2, 3, 4, 5], [6, 7, 8, 9, 10], [11, 12, 13], [14]]"
      ]
     },
     "execution_count": 49,
     "metadata": {},
     "output_type": "execute_result"
    }
   ],
   "source": [
    "root = Node(1)\n",
    "root.children = [Node(2),Node(3),Node(4),Node(5)]\n",
    "root.children[1].children = [Node(6),Node(7)]\n",
    "root.children[1].children[1].children = [Node(11)]\n",
    "root.children[1].children[1].children[0].children = [Node(14)]\n",
    "root.children[2].children = [Node(8)]\n",
    "root.children[2].children[0].children = [Node(12)]\n",
    "root.children[3].children = [Node(9),Node(10)]\n",
    "root.children[3].children[0].children = [Node(13)]\n",
    "\n",
    "levelOrder(root)"
   ]
  },
  {
   "cell_type": "code",
   "execution_count": null,
   "id": "2c6bb8f3",
   "metadata": {},
   "outputs": [],
   "source": [
    "#Beats 60%\n",
    "class Solution(object):\n",
    "    def levelOrder(self, root):\n",
    "        \"\"\"\n",
    "        :type root: Node\n",
    "        :rtype: List[List[int]]\n",
    "        \"\"\"\n",
    "        if root == None: return []\n",
    "        queue = deque()\n",
    "        levelOrder = []\n",
    "        queue.append(root)\n",
    "        while queue:\n",
    "           \n",
    "            level = []\n",
    "            for _ in range(len(queue)):\n",
    "                curr = queue.popleft()\n",
    "                level.append(curr.val)\n",
    "                for c in curr.children:\n",
    "                    queue.append(c)\n",
    "            if level:\n",
    "                levelOrder.append(level)\n",
    "        return levelOrder"
   ]
  }
 ],
 "metadata": {
  "kernelspec": {
   "display_name": "Python 3 (ipykernel)",
   "language": "python",
   "name": "python3"
  },
  "language_info": {
   "codemirror_mode": {
    "name": "ipython",
    "version": 3
   },
   "file_extension": ".py",
   "mimetype": "text/x-python",
   "name": "python",
   "nbconvert_exporter": "python",
   "pygments_lexer": "ipython3",
   "version": "3.10.9"
  }
 },
 "nbformat": 4,
 "nbformat_minor": 5
}
