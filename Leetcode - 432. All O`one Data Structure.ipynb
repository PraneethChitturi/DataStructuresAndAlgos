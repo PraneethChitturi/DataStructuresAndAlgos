{
 "cells": [
  {
   "cell_type": "code",
   "execution_count": 23,
   "id": "b61ba1a5",
   "metadata": {},
   "outputs": [],
   "source": [
    "#Beats 90%\n",
    "class AllOne(object):\n",
    "\n",
    "    def __init__(self):\n",
    "        self.lookup = collections.defaultdict(set)\n",
    "        self.counts={}\n",
    "        self.maxIndex = 0\n",
    "        self.minIndex = 0\n",
    "        \n",
    "    def inc(self, key):\n",
    "        \"\"\"\n",
    "        :type key: str\n",
    "        :rtype: None\n",
    "        \"\"\"\n",
    "        if key not in self.counts:\n",
    "            self.counts[key]=1\n",
    "            self.lookup[1].add(key)\n",
    "            self.minIndex=1\n",
    "            if self.maxIndex <1:\n",
    "                self.maxIndex = 1\n",
    "        else:\n",
    "            self.lookup[self.counts[key]].remove(key)\n",
    "            if self.minIndex == self.counts[key] and len(self.lookup[self.counts[key]])==0:\n",
    "                self.minIndex +=1\n",
    "                \n",
    "            self.counts[key]+=1\n",
    "            self.lookup[self.counts[key]].add(key)\n",
    "            \n",
    "            if self.counts[key] > self.maxIndex:\n",
    "                self.maxIndex = self.counts[key]\n",
    "            \n",
    "\n",
    "    def dec(self, key):\n",
    "        \"\"\"\n",
    "        :type key: str\n",
    "        :rtype: None\n",
    "        \"\"\"\n",
    "        self.lookup[self.counts[key]].remove(key)\n",
    "        if self.minIndex == self.counts[key] and len(self.lookup[self.counts[key]])==0:\n",
    "            self.minIndex-=1\n",
    "        if self.counts[key]==self.maxIndex and len(self.lookup[self.counts[key]])==0:\n",
    "            self.maxIndex-=1\n",
    "            \n",
    "        self.counts[key]-=1\n",
    "        \n",
    "        if self.counts[key]>0:\n",
    "            self.lookup[self.counts[key]].add(key)\n",
    "        else:\n",
    "            del self.counts[key]\n",
    "\n",
    "    def getMaxKey(self):\n",
    "        \"\"\"\n",
    "        :rtype: str\n",
    "        \"\"\"\n",
    "        print(self.lookup,self.maxIndex)\n",
    "        if len(self.lookup[self.maxIndex])>0:\n",
    "            return next(iter(self.lookup[self.maxIndex]))\n",
    "        return \"\"\n",
    "        \n",
    "\n",
    "    def getMinKey(self):\n",
    "        \"\"\"\n",
    "        :rtype: str\n",
    "        \"\"\"\n",
    "        if len(self.lookup[self.minIndex])>0:\n",
    "            return next(iter(self.lookup[self.minIndex]))\n",
    "        if self.minIndex==0 and len(self.counts)>0:\n",
    "            while len(self.lookup[self.minIndex])==0:\n",
    "                self.minIndex +=1\n",
    "            return next(iter(self.lookup[self.minIndex]))\n",
    "        return \"\""
   ]
  },
  {
   "cell_type": "code",
   "execution_count": 24,
   "id": "23a87fb0",
   "metadata": {},
   "outputs": [
    {
     "name": "stdout",
     "output_type": "stream",
     "text": [
      "None\n",
      "None\n",
      "defaultdict(<class 'set'>, {1: set(), 2: {'hello'}}) 2\n",
      "hello\n",
      "hello\n",
      "None\n",
      "defaultdict(<class 'set'>, {1: {'leet'}, 2: {'hello'}}) 2\n",
      "hello\n",
      "leet\n"
     ]
    }
   ],
   "source": [
    "allOne = AllOne();\n",
    "print(allOne.inc(\"hello\"));\n",
    "print(allOne.inc(\"hello\"));\n",
    "print(allOne.getMaxKey()); \n",
    "print(allOne.getMinKey()); \n",
    "print(allOne.inc(\"leet\"));\n",
    "print(allOne.getMaxKey()); \n",
    "print(allOne.getMinKey());"
   ]
  },
  {
   "cell_type": "code",
   "execution_count": null,
   "id": "ac1df570",
   "metadata": {},
   "outputs": [],
   "source": []
  }
 ],
 "metadata": {
  "kernelspec": {
   "display_name": "Python 3 (ipykernel)",
   "language": "python",
   "name": "python3"
  },
  "language_info": {
   "codemirror_mode": {
    "name": "ipython",
    "version": 3
   },
   "file_extension": ".py",
   "mimetype": "text/x-python",
   "name": "python",
   "nbconvert_exporter": "python",
   "pygments_lexer": "ipython3",
   "version": "3.10.9"
  }
 },
 "nbformat": 4,
 "nbformat_minor": 5
}
