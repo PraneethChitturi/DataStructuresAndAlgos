{
 "cells": [
  {
   "cell_type": "code",
   "execution_count": null,
   "id": "142bfd7b",
   "metadata": {},
   "outputs": [],
   "source": [
    "#Beats 99.4%\n",
    "class Solution(object):\n",
    "    def longestCommonPrefix(self, strs):\n",
    "        \"\"\"\n",
    "        :type strs: List[str]\n",
    "        :rtype: str\n",
    "        \"\"\"\n",
    "        strs = sorted(strs, key=lambda x: len(x))\n",
    "        ref = strs[0]\n",
    "        i=0\n",
    "        ans = ''\n",
    "        while i<len(ref):\n",
    "            for j in strs[1:]:\n",
    "                if ref[i] != j[i]:\n",
    "                    return ans\n",
    "            ans=ans+ref[i]\n",
    "            i+=1\n",
    "        return ans"
   ]
  }
 ],
 "metadata": {
  "kernelspec": {
   "display_name": "Python 3 (ipykernel)",
   "language": "python",
   "name": "python3"
  },
  "language_info": {
   "codemirror_mode": {
    "name": "ipython",
    "version": 3
   },
   "file_extension": ".py",
   "mimetype": "text/x-python",
   "name": "python",
   "nbconvert_exporter": "python",
   "pygments_lexer": "ipython3",
   "version": "3.11.4"
  }
 },
 "nbformat": 4,
 "nbformat_minor": 5
}
