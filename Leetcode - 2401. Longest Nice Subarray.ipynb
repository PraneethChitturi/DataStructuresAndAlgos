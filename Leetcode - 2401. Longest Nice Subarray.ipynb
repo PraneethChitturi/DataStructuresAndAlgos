{
 "cells": [
  {
   "cell_type": "code",
   "execution_count": null,
   "id": "cc9f7fd9-33ec-4229-b3f5-ee573216a8f1",
   "metadata": {},
   "outputs": [],
   "source": [
    "class Solution {\n",
    "    public int longestNiceSubarray(int[] nums) {\n",
    "        int maxLength =1;\n",
    "        int bitmask=0;\n",
    "        int left=0;\n",
    "\n",
    "        for (int right=0;right<nums.length;right++){\n",
    "\n",
    "          while ((bitmask & nums[right])!=0){\n",
    "            bitmask = (bitmask ^ nums[left]);\n",
    "            left+=1;\n",
    "          }\n",
    "          bitmask = (bitmask|nums[right]);\n",
    "          maxLength=Math.max(maxLength,right-left+1);\n",
    "        }\n",
    "\n",
    "        return maxLength;\n",
    "    }\n",
    "}"
   ]
  }
 ],
 "metadata": {
  "kernelspec": {
   "display_name": "Python 3 (ipykernel)",
   "language": "python",
   "name": "python3"
  },
  "language_info": {
   "codemirror_mode": {
    "name": "ipython",
    "version": 3
   },
   "file_extension": ".py",
   "mimetype": "text/x-python",
   "name": "python",
   "nbconvert_exporter": "python",
   "pygments_lexer": "ipython3",
   "version": "3.11.7"
  }
 },
 "nbformat": 4,
 "nbformat_minor": 5
}
