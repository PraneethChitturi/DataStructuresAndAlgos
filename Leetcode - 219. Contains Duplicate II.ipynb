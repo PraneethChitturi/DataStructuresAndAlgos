{
 "cells": [
  {
   "cell_type": "code",
   "execution_count": 29,
   "id": "b116bc58",
   "metadata": {},
   "outputs": [],
   "source": [
    "#Beats 83% in TLE\n",
    "def containsNearbyDuplicate(nums, k):\n",
    "    dic = {}\n",
    "    for i,item in enumerate(nums):\n",
    "        if item in dic and i - dic[item] <=k:\n",
    "            return True\n",
    "        dic[item]=i\n",
    "    return False"
   ]
  },
  {
   "cell_type": "code",
   "execution_count": 25,
   "id": "0b539df5",
   "metadata": {},
   "outputs": [],
   "source": [
    "#Beats 5% in TLE\n",
    "def containsNearbyDuplicate(nums, k):\n",
    "    templist = []\n",
    "    tempc = 0\n",
    "    for i in range(len(nums)):\n",
    "        \n",
    "        if tempc>k:\n",
    "            templist = templist[1:]\n",
    "            tempc-=1\n",
    "            \n",
    "        if nums[i] in templist:\n",
    "            return True\n",
    "        \n",
    "        templist.append(nums[i])\n",
    "        tempc+=1\n",
    "        \n",
    "    return False\n",
    "        "
   ]
  },
  {
   "cell_type": "code",
   "execution_count": 30,
   "id": "6609a13b",
   "metadata": {},
   "outputs": [
    {
     "data": {
      "text/plain": [
       "True"
      ]
     },
     "execution_count": 30,
     "metadata": {},
     "output_type": "execute_result"
    }
   ],
   "source": [
    "nums = [1,2,3,1]\n",
    "k = 3\n",
    "containsNearbyDuplicate(nums, k)"
   ]
  },
  {
   "cell_type": "code",
   "execution_count": 31,
   "id": "c93ea0b0",
   "metadata": {},
   "outputs": [
    {
     "data": {
      "text/plain": [
       "True"
      ]
     },
     "execution_count": 31,
     "metadata": {},
     "output_type": "execute_result"
    }
   ],
   "source": [
    "nums = [1,0,1,1]\n",
    "k = 1\n",
    "containsNearbyDuplicate(nums, k)"
   ]
  },
  {
   "cell_type": "code",
   "execution_count": 32,
   "id": "424d4582",
   "metadata": {},
   "outputs": [],
   "source": [
    "nums = [1,2,3,1,2,3]\n",
    "k = 2\n",
    "containsNearbyDuplicate(nums, k)"
   ]
  }
 ],
 "metadata": {
  "kernelspec": {
   "display_name": "Python 3 (ipykernel)",
   "language": "python",
   "name": "python3"
  },
  "language_info": {
   "codemirror_mode": {
    "name": "ipython",
    "version": 3
   },
   "file_extension": ".py",
   "mimetype": "text/x-python",
   "name": "python",
   "nbconvert_exporter": "python",
   "pygments_lexer": "ipython3",
   "version": "3.11.4"
  }
 },
 "nbformat": 4,
 "nbformat_minor": 5
}
