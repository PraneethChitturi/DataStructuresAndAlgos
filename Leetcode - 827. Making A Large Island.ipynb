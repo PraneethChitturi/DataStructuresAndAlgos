{
 "cells": [
  {
   "cell_type": "code",
   "execution_count": null,
   "id": "17fa50cf-72f6-46ae-b8a5-bac4906a2c1d",
   "metadata": {},
   "outputs": [],
   "source": [
    "class Solution(object):\n",
    "    def largestIsland(self, grid):\n",
    "        \"\"\"\n",
    "        :type grid: List[List[int]]\n",
    "        :rtype: int\n",
    "        \"\"\"\n",
    "        n = len(grid)\n",
    "        directions = [(0, 1), (1, 0), (0, -1), (-1, 0)]\n",
    "        island_id = 2  # Start from 2 because 0 and 1 are taken\n",
    "        area_map = {}\n",
    "        \n",
    "        def dfs(i, j, id):\n",
    "            area = 1\n",
    "            grid[i][j] = id\n",
    "            for dx, dy in directions:\n",
    "                ni, nj = i + dx, j + dy\n",
    "                if 0 <= ni < n and 0 <= nj < n and grid[ni][nj] == 1:\n",
    "                    area += dfs(ni, nj, id)\n",
    "            return area\n",
    "\n",
    "        # Step 1: Mark islands and record areas\n",
    "        for i in range(n):\n",
    "            for j in range(n):\n",
    "                if grid[i][j] == 1:\n",
    "                    area_map[island_id] = dfs(i, j, island_id)\n",
    "                    island_id += 1\n",
    "\n",
    "        max_area = max(area_map.values() or [0])\n",
    "\n",
    "        # Step 2: Try flipping each 0\n",
    "        for i in range(n):\n",
    "            for j in range(n):\n",
    "                if grid[i][j] == 0:\n",
    "                    seen = set()\n",
    "                    area = 1\n",
    "                    for dx, dy in directions:\n",
    "                        ni, nj = i + dx, j + dy\n",
    "                        if 0 <= ni < n and 0 <= nj < n and grid[ni][nj] > 1:\n",
    "                            seen.add(grid[ni][nj])\n",
    "                    for id in seen:\n",
    "                        area += area_map[id]\n",
    "                    max_area = max(max_area, area)\n",
    "\n",
    "        return max_area"
   ]
  },
  {
   "cell_type": "code",
   "execution_count": 32,
   "id": "2f610c3d-1639-406b-beb8-9507ef70bf44",
   "metadata": {},
   "outputs": [],
   "source": [
    "def largestIsland(grid):\n",
    "    n = len(grid)\n",
    "    directions = [(0, 1), (1, 0), (0, -1), (-1, 0)]\n",
    "    island_id = 2  # Start from 2 because 0 and 1 are taken\n",
    "    area_map = {}\n",
    "    \n",
    "    def dfs(i, j, id):\n",
    "        area = 1\n",
    "        grid[i][j] = id\n",
    "        for dx, dy in directions:\n",
    "            ni, nj = i + dx, j + dy\n",
    "            if 0 <= ni < n and 0 <= nj < n and grid[ni][nj] == 1:\n",
    "                area += dfs(ni, nj, id)\n",
    "        return area\n",
    "\n",
    "    # Step 1: Mark islands and record areas\n",
    "    for i in range(n):\n",
    "        for j in range(n):\n",
    "            if grid[i][j] == 1:\n",
    "                area_map[island_id] = dfs(i, j, island_id)\n",
    "                island_id += 1\n",
    "\n",
    "    max_area = max(area_map.values() or [0])\n",
    "\n",
    "    # Step 2: Try flipping each 0\n",
    "    for i in range(n):\n",
    "        for j in range(n):\n",
    "            if grid[i][j] == 0:\n",
    "                seen = set()\n",
    "                area = 1\n",
    "                for dx, dy in directions:\n",
    "                    ni, nj = i + dx, j + dy\n",
    "                    if 0 <= ni < n and 0 <= nj < n and grid[ni][nj] > 1:\n",
    "                        seen.add(grid[ni][nj])\n",
    "                for id in seen:\n",
    "                    area += area_map[id]\n",
    "                max_area = max(max_area, area)\n",
    "\n",
    "    return max_area\n"
   ]
  },
  {
   "cell_type": "code",
   "execution_count": 34,
   "id": "94831e94-12bf-419d-b7ab-57a1b7dab29a",
   "metadata": {},
   "outputs": [
    {
     "data": {
      "text/plain": [
       "4"
      ]
     },
     "execution_count": 34,
     "metadata": {},
     "output_type": "execute_result"
    }
   ],
   "source": [
    "largestIsland([[1,1],[1,1]])"
   ]
  },
  {
   "cell_type": "code",
   "execution_count": null,
   "id": "2d333bbf-c752-4209-bd81-331c73d013a9",
   "metadata": {},
   "outputs": [],
   "source": []
  }
 ],
 "metadata": {
  "kernelspec": {
   "display_name": "Python 3 (ipykernel)",
   "language": "python",
   "name": "python3"
  },
  "language_info": {
   "codemirror_mode": {
    "name": "ipython",
    "version": 3
   },
   "file_extension": ".py",
   "mimetype": "text/x-python",
   "name": "python",
   "nbconvert_exporter": "python",
   "pygments_lexer": "ipython3",
   "version": "3.11.7"
  }
 },
 "nbformat": 4,
 "nbformat_minor": 5
}
