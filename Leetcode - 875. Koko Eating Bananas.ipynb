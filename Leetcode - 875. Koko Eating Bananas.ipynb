{
 "cells": [
  {
   "cell_type": "code",
   "execution_count": 9,
   "id": "479fd06e-d6c9-4309-b7d2-49af6a7f744e",
   "metadata": {},
   "outputs": [],
   "source": [
    "import math\n",
    "class Solution(object):\n",
    "    def minEatingSpeed(self, piles, h):\n",
    "        \"\"\"\n",
    "        :type piles: List[int]\n",
    "        :type h: int\n",
    "        :rtype: int\n",
    "        \"\"\"\n",
    "        def worksornot(speed):\n",
    "            takes = 0\n",
    "            for pile in piles:\n",
    "                takes+= math.ceil(float(pile)/speed)\n",
    "\n",
    "            if takes>h:\n",
    "                return False\n",
    "\n",
    "            return True\n",
    "        low=1\n",
    "        high=max(piles)\n",
    "        while low<high:\n",
    "            mid=(high+low)//2\n",
    "            \n",
    "            if worksornot(mid):\n",
    "                high=mid\n",
    "            else:\n",
    "                low=mid+1\n",
    "        return low\n",
    "    "
   ]
  },
  {
   "cell_type": "code",
   "execution_count": 10,
   "id": "f05317aa-f6db-4433-9316-10c5b751b5ea",
   "metadata": {},
   "outputs": [
    {
     "data": {
      "text/plain": [
       "4"
      ]
     },
     "execution_count": 10,
     "metadata": {},
     "output_type": "execute_result"
    }
   ],
   "source": [
    "minEatingSpeed([3,6,7,11], 8)"
   ]
  },
  {
   "cell_type": "code",
   "execution_count": 11,
   "id": "a167814b-6beb-42ce-b05a-0ce18dc05231",
   "metadata": {},
   "outputs": [
    {
     "data": {
      "text/plain": [
       "30"
      ]
     },
     "execution_count": 11,
     "metadata": {},
     "output_type": "execute_result"
    }
   ],
   "source": [
    "minEatingSpeed([30,11,23,4,20], 5)"
   ]
  },
  {
   "cell_type": "code",
   "execution_count": 12,
   "id": "fbe2dd8a-94e1-464d-9245-9997e2cbf954",
   "metadata": {},
   "outputs": [
    {
     "data": {
      "text/plain": [
       "23"
      ]
     },
     "execution_count": 12,
     "metadata": {},
     "output_type": "execute_result"
    }
   ],
   "source": [
    "minEatingSpeed([30,11,23,4,20], 6)"
   ]
  },
  {
   "cell_type": "code",
   "execution_count": null,
   "id": "3836adab-dfc4-4642-a07c-4288a3a7ee35",
   "metadata": {},
   "outputs": [],
   "source": []
  }
 ],
 "metadata": {
  "kernelspec": {
   "display_name": "Python 3 (ipykernel)",
   "language": "python",
   "name": "python3"
  },
  "language_info": {
   "codemirror_mode": {
    "name": "ipython",
    "version": 3
   },
   "file_extension": ".py",
   "mimetype": "text/x-python",
   "name": "python",
   "nbconvert_exporter": "python",
   "pygments_lexer": "ipython3",
   "version": "3.11.7"
  }
 },
 "nbformat": 4,
 "nbformat_minor": 5
}
