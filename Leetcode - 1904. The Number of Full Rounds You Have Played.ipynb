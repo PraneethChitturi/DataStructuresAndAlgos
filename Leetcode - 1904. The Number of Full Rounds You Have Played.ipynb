{
 "cells": [
  {
   "cell_type": "code",
   "execution_count": 58,
   "id": "2ac875c3-ca87-405c-9add-574299eef04b",
   "metadata": {},
   "outputs": [],
   "source": [
    "#Beats 70% in TLE - in first try\n",
    "#Tried again - beat 100% in TLE...god knows\n",
    "def numberOfRounds(loginTime, logoutTime):\n",
    "    \"\"\"\n",
    "    :type loginTime: str\n",
    "    :type logoutTime: str\n",
    "    :rtype: int\n",
    "    \"\"\"\n",
    "        starthour=int(loginTime[:2])\n",
    "        startmin=int(loginTime[-2:])\n",
    "        endhour=int(logoutTime[:2])\n",
    "        endmin=int(logoutTime[-2:])\n",
    "        \n",
    "        starttime = starthour*60*60 + startmin*60\n",
    "            \n",
    "        if startmin%15!=0:\n",
    "            startmin=int(ceil(float(startmin)/15.0)*15)\n",
    "            logintime = starthour*60*60 + startmin*60\n",
    "        else:\n",
    "            logintime = starttime\n",
    "\n",
    "        if logoutTime==\"00:00\":\n",
    "            endtime=24*60*60 \n",
    "        else:\n",
    "            endtime=endhour*60*60 + endmin*60\n",
    "\n",
    "        if starttime<endtime and logintime>=endtime:\n",
    "            return 0\n",
    "\n",
    "        if endtime<starttime:\n",
    "            return  (((86400-logintime)+(endtime))/60)//15\n",
    "        else:\n",
    "            return ((endtime-logintime)/60)//15"
   ]
  },
  {
   "cell_type": "code",
   "execution_count": null,
   "id": "92402d31-06ac-4ebb-b1e9-b26d0dad8b18",
   "metadata": {},
   "outputs": [],
   "source": [
    "#Beats 82% in TLE\n",
    "def numberOfRounds(loginTime, logoutTime):\n",
    "        \"\"\"\n",
    "        :type loginTime: str\n",
    "        :type logoutTime: str\n",
    "        :rtype: int\n",
    "        \"\"\"\n",
    "        # Convert strin to minutes:\n",
    "        def convert_to_minutes(time):\n",
    "            HH, MM = map(int, time.split(':'))\n",
    "            return HH*60 + MM\n",
    "\n",
    "        # Convert all times to minutes\n",
    "        start_min = convert_to_minutes(loginTime)\n",
    "        end_min = convert_to_minutes(logoutTime)\n",
    "\n",
    "        # Adjust for overnight play\n",
    "        if end_min < start_min:\n",
    "            end_min += 24*60\n",
    "\n",
    "        # Adjust start_min to the next valid quarter-hour\n",
    "        start_min = (start_min) // 15 * 15\n",
    "\n",
    "        # Calculate rounds directly (full_rounds is the number of 15-minute intervals)\n",
    "        full_rounds = max(0, (end_min - start_min) // 15) \n",
    "        \n",
    "        return full_rounds"
   ]
  }
 ],
 "metadata": {
  "kernelspec": {
   "display_name": "Python 3 (ipykernel)",
   "language": "python",
   "name": "python3"
  },
  "language_info": {
   "codemirror_mode": {
    "name": "ipython",
    "version": 3
   },
   "file_extension": ".py",
   "mimetype": "text/x-python",
   "name": "python",
   "nbconvert_exporter": "python",
   "pygments_lexer": "ipython3",
   "version": "3.11.7"
  }
 },
 "nbformat": 4,
 "nbformat_minor": 5
}
