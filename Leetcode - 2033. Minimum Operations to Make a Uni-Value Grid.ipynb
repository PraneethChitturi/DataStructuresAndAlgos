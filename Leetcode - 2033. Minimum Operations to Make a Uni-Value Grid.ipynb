{
 "cells": [
  {
   "cell_type": "code",
   "execution_count": null,
   "id": "26111e07-f888-446c-98cd-a435ff66df77",
   "metadata": {},
   "outputs": [],
   "source": [
    "class Solution {\n",
    "    public int minOperations(int[][] grid, int x) {\n",
    "        ArrayList<Integer> numsArray = new ArrayList<>();\n",
    "\n",
    "        for (int row=0; row<grid.length; row++){\n",
    "          for (int col=0;col<grid[0].length;col++){\n",
    "            if (grid[row][col]%x != grid[0][0]%x){return -1;}\n",
    "\n",
    "            numsArray.add(grid[row][col]);\n",
    "          }\n",
    "        }\n",
    "\n",
    "        Collections.sort(numsArray);\n",
    "\n",
    "        int[] prefixSum= new int[grid.length * grid[0].length];\n",
    "        for (int i=1;i<numsArray.size();i++){\n",
    "          prefixSum[i] = prefixSum[i-1] + numsArray.get(i-1);\n",
    "        }\n",
    "\n",
    "        int[] suffixSum= new int[grid.length * grid[0].length];\n",
    "        for (int i=numsArray.size()-2;i>=0;i--){\n",
    "          suffixSum[i] = suffixSum[i+1] + numsArray.get(i+1);\n",
    "        }\n",
    "\n",
    "        int result = Integer.MAX_VALUE;\n",
    "        for (int i=0;i<numsArray.size();i++){\n",
    "          int leftOperations = ((numsArray.get(i)*(i)) - prefixSum[i])/x;\n",
    "\n",
    "          int rightOperations = (suffixSum[i] - (numsArray.get(i)*(numsArray.size() - i-1)))/x;\n",
    "\n",
    "\n",
    "          result = Math.min(result,leftOperations + rightOperations);\n",
    "        }\n",
    "\n",
    "        return result;\n",
    "    }\n",
    "}"
   ]
  }
 ],
 "metadata": {
  "kernelspec": {
   "display_name": "Python 3 (ipykernel)",
   "language": "python",
   "name": "python3"
  },
  "language_info": {
   "codemirror_mode": {
    "name": "ipython",
    "version": 3
   },
   "file_extension": ".py",
   "mimetype": "text/x-python",
   "name": "python",
   "nbconvert_exporter": "python",
   "pygments_lexer": "ipython3",
   "version": "3.11.7"
  }
 },
 "nbformat": 4,
 "nbformat_minor": 5
}
