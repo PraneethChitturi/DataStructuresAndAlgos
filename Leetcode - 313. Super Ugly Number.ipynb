{
 "cells": [
  {
   "cell_type": "code",
   "execution_count": 18,
   "id": "01b84c8e",
   "metadata": {},
   "outputs": [],
   "source": [
    "def nthSuperUglyNumber(n, primes):\n",
    "    queue = [1]\n",
    "    while n > 1:\n",
    "        print(queue)\n",
    "        n -= 1\n",
    "        num = heapq.heappop(queue)\n",
    "        for prime in primes:\n",
    "            heapq.heappush(queue, prime * num)\n",
    "            if num % prime == 0:\n",
    "                break\n",
    "    return queue[0]"
   ]
  },
  {
   "cell_type": "code",
   "execution_count": 19,
   "id": "3c489600",
   "metadata": {},
   "outputs": [
    {
     "name": "stdout",
     "output_type": "stream",
     "text": [
      "[1]\n",
      "[2, 7, 13, 19]\n",
      "[4, 7, 13, 19]\n",
      "[7, 8, 13, 19]\n",
      "[8, 14, 13, 19, 49]\n",
      "[13, 14, 49, 19, 16]\n",
      "[14, 16, 49, 19, 26, 91, 169]\n",
      "[16, 19, 28, 169, 26, 91, 49]\n",
      "[19, 26, 28, 169, 49, 91, 32]\n",
      "[26, 32, 28, 133, 49, 91, 38, 169, 247, 361]\n",
      "[28, 32, 38, 133, 49, 91, 361, 169, 247, 52]\n"
     ]
    },
    {
     "data": {
      "text/plain": [
       "32"
      ]
     },
     "execution_count": 19,
     "metadata": {},
     "output_type": "execute_result"
    }
   ],
   "source": [
    "nthSuperUglyNumber(12,[2,7,13,19])"
   ]
  }
 ],
 "metadata": {
  "kernelspec": {
   "display_name": "Python 3 (ipykernel)",
   "language": "python",
   "name": "python3"
  },
  "language_info": {
   "codemirror_mode": {
    "name": "ipython",
    "version": 3
   },
   "file_extension": ".py",
   "mimetype": "text/x-python",
   "name": "python",
   "nbconvert_exporter": "python",
   "pygments_lexer": "ipython3",
   "version": "3.10.9"
  }
 },
 "nbformat": 4,
 "nbformat_minor": 5
}
