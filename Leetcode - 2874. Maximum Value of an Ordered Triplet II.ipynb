{
 "cells": [
  {
   "cell_type": "code",
   "execution_count": null,
   "id": "ea5d0fde",
   "metadata": {},
   "outputs": [],
   "source": [
    "#Beats 85% in TLE\n",
    "class Solution(object):\n",
    "    def maximumTripletValue(self, nums):\n",
    "        \"\"\"\n",
    "        :type nums: List[int]\n",
    "        :rtype: int\n",
    "        \"\"\"\n",
    "        res = maxdiff = maxfirst = 0\n",
    "        for ele in nums:\n",
    "            res = max(res,maxdiff*ele)\n",
    "            maxdiff = max(maxdiff,maxfirst-ele)\n",
    "            maxfirst = max(maxfirst,ele)\n",
    "\n",
    "        return res"
   ]
  }
 ],
 "metadata": {
  "kernelspec": {
   "display_name": "Python 3 (ipykernel)",
   "language": "python",
   "name": "python3"
  },
  "language_info": {
   "codemirror_mode": {
    "name": "ipython",
    "version": 3
   },
   "file_extension": ".py",
   "mimetype": "text/x-python",
   "name": "python",
   "nbconvert_exporter": "python",
   "pygments_lexer": "ipython3",
   "version": "3.11.4"
  }
 },
 "nbformat": 4,
 "nbformat_minor": 5
}
