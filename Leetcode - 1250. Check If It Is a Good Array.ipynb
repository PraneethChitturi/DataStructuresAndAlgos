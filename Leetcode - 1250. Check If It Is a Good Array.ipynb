{
 "cells": [
  {
   "cell_type": "code",
   "execution_count": null,
   "id": "15a8df95-e49b-41eb-b215-0f6df2994107",
   "metadata": {},
   "outputs": [],
   "source": [
    "def isGoodArray(nums):\n",
    "        \"\"\"\n",
    "        :type nums: List[int]\n",
    "        :rtype: bool\n",
    "        \"\"\"\n",
    "        def gcd(a,b):\n",
    "          while b:\n",
    "            a,b=b,a%b\n",
    "          return a\n",
    "\n",
    "        x=nums[0]\n",
    "\n",
    "        for i in range(1,len(nums)):\n",
    "          x=gcd(x,nums[i])\n",
    "\n",
    "        return x==1"
   ]
  },
  {
   "cell_type": "code",
   "execution_count": null,
   "id": "85ee9963-6c82-400f-8bcd-bc10c3a76280",
   "metadata": {},
   "outputs": [],
   "source": []
  }
 ],
 "metadata": {
  "kernelspec": {
   "display_name": "Python 3 (ipykernel)",
   "language": "python",
   "name": "python3"
  },
  "language_info": {
   "codemirror_mode": {
    "name": "ipython",
    "version": 3
   },
   "file_extension": ".py",
   "mimetype": "text/x-python",
   "name": "python",
   "nbconvert_exporter": "python",
   "pygments_lexer": "ipython3",
   "version": "3.11.7"
  }
 },
 "nbformat": 4,
 "nbformat_minor": 5
}
