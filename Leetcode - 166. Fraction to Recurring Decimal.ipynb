{
 "cells": [
  {
   "cell_type": "code",
   "execution_count": 1,
   "id": "00e25e4b",
   "metadata": {},
   "outputs": [
    {
     "data": {
      "text/plain": [
       "0.012012012012012012"
      ]
     },
     "execution_count": 1,
     "metadata": {},
     "output_type": "execute_result"
    }
   ],
   "source": [
    "class Solution(object):\n",
    "    def fractionToDecimal(self, numerator, denominator):\n",
    "        \"\"\"\n",
    "        :type numerator: int\n",
    "        :type denominator: int\n",
    "        :rtype: str\n",
    "        \"\"\"\n",
    "        if denominator == 0: return ''\n",
    "        if numerator%denominator == 0: return str(numerator//denominator)\n",
    "\n",
    "        sign = '' if numerator*denominator>=0 else '-'\n",
    "        numerator, denominator = abs(numerator),abs(denominator)\n",
    "        f = sign+str(numerator//denominator)+'.'\n",
    "        numerator %= denominator\n",
    "        i,part = 0,''\n",
    "        dic = {numerator:i}\n",
    "        while numerator%denominator:\n",
    "          numerator*=10\n",
    "          i+=1\n",
    "          rem = numerator%denominator\n",
    "          part+=str(numerator//denominator)\n",
    "          if rem in dic:\n",
    "            part = part[:dic[rem]]+'('+part[dic[rem]:]+')'\n",
    "            return f+part\n",
    "          dic[rem]=i\n",
    "          numerator=rem\n",
    "        return f+part\n"
   ]
  }
 ],
 "metadata": {
  "kernelspec": {
   "display_name": "Python 3 (ipykernel)",
   "language": "python",
   "name": "python3"
  },
  "language_info": {
   "codemirror_mode": {
    "name": "ipython",
    "version": 3
   },
   "file_extension": ".py",
   "mimetype": "text/x-python",
   "name": "python",
   "nbconvert_exporter": "python",
   "pygments_lexer": "ipython3",
   "version": "3.10.9"
  }
 },
 "nbformat": 4,
 "nbformat_minor": 5
}
