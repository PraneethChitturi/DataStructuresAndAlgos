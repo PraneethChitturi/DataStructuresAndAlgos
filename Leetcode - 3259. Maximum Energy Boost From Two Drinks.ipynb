{
 "cells": [
  {
   "cell_type": "code",
   "execution_count": null,
   "id": "97b95b5b-bfd1-4794-9851-d37eb3e7f922",
   "metadata": {},
   "outputs": [],
   "source": [
    "class Solution(object):\n",
    "    def maxEnergyBoost(self, energyDrinkA, energyDrinkB):\n",
    "        \"\"\"\n",
    "        :type energyDrinkA: List[int]\n",
    "        :type energyDrinkB: List[int]\n",
    "        :rtype: int\n",
    "        \"\"\"\n",
    "        maxifA,maxifB=0,0\n",
    "        for i in range(len(energyDrinkA)):\n",
    "          maxifA,maxifB=max(maxifB,maxifA+energyDrinkA[i]),max(maxifA,maxifB+energyDrinkB[i])\n",
    "\n",
    "        return max(maxifA,maxifB)"
   ]
  }
 ],
 "metadata": {
  "kernelspec": {
   "display_name": "Python 3 (ipykernel)",
   "language": "python",
   "name": "python3"
  },
  "language_info": {
   "codemirror_mode": {
    "name": "ipython",
    "version": 3
   },
   "file_extension": ".py",
   "mimetype": "text/x-python",
   "name": "python",
   "nbconvert_exporter": "python",
   "pygments_lexer": "ipython3",
   "version": "3.11.7"
  }
 },
 "nbformat": 4,
 "nbformat_minor": 5
}
