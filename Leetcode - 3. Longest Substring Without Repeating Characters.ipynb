{
 "cells": [
  {
   "cell_type": "code",
   "execution_count": 30,
   "id": "86e1e008",
   "metadata": {},
   "outputs": [],
   "source": [
    "#Beats 17%\n",
    "def lengthOfLongestSubstring(s):\n",
    "    if s==\"\" or not s:\n",
    "        return 0\n",
    "    \n",
    "    resultmax = 0\n",
    "    length = len(s)\n",
    "    \n",
    "    if length == 1:\n",
    "        return 1\n",
    "    \n",
    "    for i in range(length-1):\n",
    "        refset = set(s[i])\n",
    "        j = i+1\n",
    "        tempmax=1\n",
    "        while j<length and s[j] not in refset:\n",
    "            refset.add(s[j])\n",
    "            tempmax+=1\n",
    "            j +=1\n",
    "        \n",
    "        if tempmax>resultmax:\n",
    "            resultmax=tempmax\n",
    "    \n",
    "    return resultmax"
   ]
  },
  {
   "cell_type": "code",
   "execution_count": null,
   "id": "ff210afa",
   "metadata": {},
   "outputs": [],
   "source": [
    "#Beats 75%\n",
    "def lengthOfLongestSubstring(s):\n",
    "        left = max_length = 0\n",
    "        char_set = set()\n",
    "        \n",
    "        for right in range(len(s)):\n",
    "            while s[right] in char_set:\n",
    "                char_set.remove(s[left])\n",
    "                left += 1\n",
    "\n",
    "            char_set.add(s[right])\n",
    "            max_length = max(max_length, right - left + 1)\n",
    "        \n",
    "        return max_length\n",
    "    \n",
    "lengthOfLongestSubstring(\"abcabcbb\")"
   ]
  },
  {
   "cell_type": "code",
   "execution_count": null,
   "id": "43112eff",
   "metadata": {},
   "outputs": [],
   "source": []
  }
 ],
 "metadata": {
  "kernelspec": {
   "display_name": "Python 3 (ipykernel)",
   "language": "python",
   "name": "python3"
  },
  "language_info": {
   "codemirror_mode": {
    "name": "ipython",
    "version": 3
   },
   "file_extension": ".py",
   "mimetype": "text/x-python",
   "name": "python",
   "nbconvert_exporter": "python",
   "pygments_lexer": "ipython3",
   "version": "3.10.9"
  }
 },
 "nbformat": 4,
 "nbformat_minor": 5
}
