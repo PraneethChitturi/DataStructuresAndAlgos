{
 "cells": [
  {
   "cell_type": "code",
   "execution_count": 35,
   "id": "d5eadb8a-3b37-4e8e-a082-93e7ecfd9aaa",
   "metadata": {},
   "outputs": [],
   "source": [
    "#Beats 96% in TLE\n",
    "def subsets(nums):\n",
    "    ans = []\n",
    "    l = len(nums)\n",
    "    for digit in range(2**l):\n",
    "        #print(digit)\n",
    "        tempans = []\n",
    "        j=0\n",
    "        #print(\"Bin:\",\"{0:0{width}b}\".format(digit, width=l))\n",
    "        for i in \"{0:0{width}b}\".format(digit, width=l):\n",
    "            #print(i)\n",
    "            if int(i)==1:\n",
    "               # print(\"APPENDING:\",nums[j])\n",
    "                tempans.append(nums[j])\n",
    "            j+=1\n",
    "        #print(\"Append:\",tempans)\n",
    "        ans.append(tempans)\n",
    "    #print(\"Final:\",ans)\n",
    "    return ans"
   ]
  },
  {
   "cell_type": "code",
   "execution_count": 36,
   "id": "73d28843-4861-46bb-b6d2-9ecc3c12fda0",
   "metadata": {},
   "outputs": [
    {
     "data": {
      "text/plain": [
       "[[], [3], [2], [2, 3], [1], [1, 3], [1, 2], [1, 2, 3]]"
      ]
     },
     "execution_count": 36,
     "metadata": {},
     "output_type": "execute_result"
    }
   ],
   "source": [
    "subsets([1,2,3])"
   ]
  },
  {
   "cell_type": "code",
   "execution_count": 37,
   "id": "56253277-a559-4ed8-8aca-046121f12e0c",
   "metadata": {},
   "outputs": [
    {
     "data": {
      "text/plain": [
       "[[], [0]]"
      ]
     },
     "execution_count": 37,
     "metadata": {},
     "output_type": "execute_result"
    }
   ],
   "source": [
    "subsets([0])"
   ]
  },
  {
   "cell_type": "code",
   "execution_count": 38,
   "id": "2c9ad00c-e7c3-41ba-b24f-a36eb80ddcfd",
   "metadata": {},
   "outputs": [
    {
     "data": {
      "text/plain": [
       "[[], [2], [1], [1, 2]]"
      ]
     },
     "execution_count": 38,
     "metadata": {},
     "output_type": "execute_result"
    }
   ],
   "source": [
    "subsets([1,2])"
   ]
  },
  {
   "cell_type": "code",
   "execution_count": null,
   "id": "8b056e65-928e-4b3a-818a-201e438d0e95",
   "metadata": {},
   "outputs": [],
   "source": []
  }
 ],
 "metadata": {
  "kernelspec": {
   "display_name": "Python 3 (ipykernel)",
   "language": "python",
   "name": "python3"
  },
  "language_info": {
   "codemirror_mode": {
    "name": "ipython",
    "version": 3
   },
   "file_extension": ".py",
   "mimetype": "text/x-python",
   "name": "python",
   "nbconvert_exporter": "python",
   "pygments_lexer": "ipython3",
   "version": "3.11.7"
  }
 },
 "nbformat": 4,
 "nbformat_minor": 5
}
