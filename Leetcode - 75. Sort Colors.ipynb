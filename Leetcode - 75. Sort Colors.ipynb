{
 "cells": [
  {
   "cell_type": "code",
   "execution_count": null,
   "id": "834b36d5-ce88-484e-bddd-aea603a8915d",
   "metadata": {},
   "outputs": [],
   "source": [
    "#Three pointers\n",
    "class Solution {\n",
    "    public void sortColors(int[] nums) {\n",
    "        int p0 = 0, p2=nums.length-1;\n",
    "        int pcurrent = 0;\n",
    "        int temp;\n",
    "        while (pcurrent<=p2){\n",
    "          temp = nums[pcurrent];\n",
    "          if (temp==0){\n",
    "            nums[pcurrent]=nums[p0];\n",
    "            nums[p0]=temp;\n",
    "            p0++;\n",
    "            pcurrent++;\n",
    "          } else if (temp==2) {\n",
    "            nums[pcurrent]=nums[p2];\n",
    "            nums[p2]=temp;\n",
    "            p2--;\n",
    "          } else {\n",
    "            pcurrent++;\n",
    "          }\n",
    "        }\n",
    "    }\n",
    "}"
   ]
  },
  {
   "cell_type": "code",
   "execution_count": null,
   "id": "a63cd452-2fec-4f95-bc1f-8b052cb06b90",
   "metadata": {},
   "outputs": [],
   "source": [
    "class Solution {\n",
    "    public void sortColors(int[] nums) {\n",
    "        int red = 0;\n",
    "        int white = 0;\n",
    "        int blue = 0;\n",
    "\n",
    "        for (int i=0;i<nums.length;i++){\n",
    "          if(nums[i]==0){\n",
    "            red++;\n",
    "          } else if (nums[i]==1){\n",
    "            white++;\n",
    "          } else {\n",
    "            blue++;\n",
    "          }\n",
    "        }\n",
    "\n",
    "        for (int i=0;i<nums.length;i++){\n",
    "          if(red!=0){\n",
    "            nums[i]=0;\n",
    "            red--;\n",
    "          } else if (white!=0){\n",
    "            nums[i]=1;\n",
    "            white--;\n",
    "          } else {\n",
    "            nums[i]=2;\n",
    "            blue--;\n",
    "          }\n",
    "        }\n",
    "    }\n",
    "}"
   ]
  }
 ],
 "metadata": {
  "kernelspec": {
   "display_name": "Python 3 (ipykernel)",
   "language": "python",
   "name": "python3"
  },
  "language_info": {
   "codemirror_mode": {
    "name": "ipython",
    "version": 3
   },
   "file_extension": ".py",
   "mimetype": "text/x-python",
   "name": "python",
   "nbconvert_exporter": "python",
   "pygments_lexer": "ipython3",
   "version": "3.11.7"
  }
 },
 "nbformat": 4,
 "nbformat_minor": 5
}
