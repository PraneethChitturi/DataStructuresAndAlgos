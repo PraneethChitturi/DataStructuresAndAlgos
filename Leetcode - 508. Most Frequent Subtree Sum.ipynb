{
 "cells": [
  {
   "cell_type": "code",
   "execution_count": 60,
   "id": "34cbb92e",
   "metadata": {},
   "outputs": [],
   "source": [
    "#Beats 77% in TLE\n",
    "from collections import deque\n",
    "\n",
    "class Solution(object):\n",
    "    def __init__(self):\n",
    "        self.freqdict = {}\n",
    "        self.sumdict = {}\n",
    "        self.maxfreq = 0\n",
    "        \n",
    "    def findFrequentTreeSum(self,root):\n",
    "        \n",
    "        def traversal(self,node):\n",
    "            if not node:\n",
    "                return 0\n",
    "            \n",
    "            lsum = traversal(self,node.left)\n",
    "            rsum = traversal(self,node.right)\n",
    "            \n",
    "            sumatnode = node.val + lsum + rsum\n",
    "            \n",
    "            if sumatnode in self.sumdict:\n",
    "                self.sumdict[sumatnode]+=1\n",
    "            else:\n",
    "                self.sumdict[sumatnode]=1\n",
    "\n",
    "            if self.sumdict[sumatnode] in self.freqdict:\n",
    "                self.freqdict[self.sumdict[sumatnode]].append(sumatnode)\n",
    "            else:\n",
    "                self.freqdict[self.sumdict[sumatnode]] = [sumatnode]\n",
    "                    \n",
    "            self.maxfreq = max(self.maxfreq,self.sumdict[sumatnode])\n",
    "            \n",
    "            return sumatnode\n",
    "        \n",
    "        traversal(self,root)\n",
    "        return self.freqdict[self.maxfreq]"
   ]
  },
  {
   "cell_type": "code",
   "execution_count": 65,
   "id": "6e34de17",
   "metadata": {},
   "outputs": [],
   "source": [
    "#Beats 77%\n",
    "from collections import deque\n",
    "\n",
    "class Solution(object):\n",
    "    def __init__(self):\n",
    "        self.sumdict = {}\n",
    "        self.maxfreq = 0\n",
    "        \n",
    "    def findFrequentTreeSum(self,root):\n",
    "        \n",
    "        def traversal(self,node):\n",
    "            if not node:\n",
    "                return 0\n",
    "            \n",
    "            lsum = traversal(self,node.left)\n",
    "            rsum = traversal(self,node.right)\n",
    "            \n",
    "            sumatnode = node.val + lsum + rsum\n",
    "            \n",
    "            if sumatnode in self.sumdict:\n",
    "                self.sumdict[sumatnode]+=1\n",
    "            else:\n",
    "                self.sumdict[sumatnode]=1\n",
    "                    \n",
    "            self.maxfreq = max(self.maxfreq,self.sumdict[sumatnode])\n",
    "            \n",
    "            return sumatnode\n",
    "        \n",
    "        traversal(self,root)\n",
    "        \n",
    "        res = []\n",
    "        for key,value in self.sumdict.items():\n",
    "            if value == self.maxfreq:\n",
    "                res.append(key)\n",
    "        return res"
   ]
  },
  {
   "cell_type": "code",
   "execution_count": 66,
   "id": "d19b1ac9",
   "metadata": {},
   "outputs": [],
   "source": [
    "class TreeNode(object):\n",
    "    def __init__(self, val=0, left=None, right=None):\n",
    "        self.val = val\n",
    "        self.left = left\n",
    "        self.right = right"
   ]
  },
  {
   "cell_type": "code",
   "execution_count": 67,
   "id": "cb1e6aa3",
   "metadata": {},
   "outputs": [
    {
     "data": {
      "text/plain": [
       "[2, -3, 4]"
      ]
     },
     "execution_count": 67,
     "metadata": {},
     "output_type": "execute_result"
    }
   ],
   "source": [
    "TestNode = TreeNode(5)\n",
    "TestNode.left = TreeNode(2)\n",
    "TestNode.right = TreeNode(-3)\n",
    "\n",
    "Sol = Solution()\n",
    "Sol.findFrequentTreeSum(TestNode)"
   ]
  },
  {
   "cell_type": "code",
   "execution_count": 68,
   "id": "bf055e9f",
   "metadata": {},
   "outputs": [
    {
     "data": {
      "text/plain": [
       "[2]"
      ]
     },
     "execution_count": 68,
     "metadata": {},
     "output_type": "execute_result"
    }
   ],
   "source": [
    "TestNode = TreeNode(5)\n",
    "TestNode.left = TreeNode(2)\n",
    "TestNode.right = TreeNode(-5)\n",
    "\n",
    "findFrequentTreeSum(TestNode)"
   ]
  },
  {
   "cell_type": "code",
   "execution_count": 69,
   "id": "3a9dac34",
   "metadata": {},
   "outputs": [
    {
     "data": {
      "text/plain": [
       "[2, 1]"
      ]
     },
     "execution_count": 69,
     "metadata": {},
     "output_type": "execute_result"
    }
   ],
   "source": [
    "TestNode = TreeNode(1)\n",
    "TestNode.left = TreeNode(1)\n",
    "findFrequentTreeSum(TestNode)"
   ]
  },
  {
   "cell_type": "code",
   "execution_count": null,
   "id": "f220c7f2",
   "metadata": {},
   "outputs": [],
   "source": []
  },
  {
   "cell_type": "code",
   "execution_count": null,
   "id": "9874fa9f",
   "metadata": {},
   "outputs": [],
   "source": []
  }
 ],
 "metadata": {
  "kernelspec": {
   "display_name": "Python 3 (ipykernel)",
   "language": "python",
   "name": "python3"
  },
  "language_info": {
   "codemirror_mode": {
    "name": "ipython",
    "version": 3
   },
   "file_extension": ".py",
   "mimetype": "text/x-python",
   "name": "python",
   "nbconvert_exporter": "python",
   "pygments_lexer": "ipython3",
   "version": "3.10.9"
  }
 },
 "nbformat": 4,
 "nbformat_minor": 5
}
