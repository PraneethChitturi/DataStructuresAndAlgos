{
 "cells": [
  {
   "cell_type": "code",
   "execution_count": 1,
   "id": "d2bfa420",
   "metadata": {},
   "outputs": [],
   "source": [
    "#Beats 96%\n",
    "class Solution(object):\n",
    "    def isBalanced(self, root):\n",
    "        \"\"\"\n",
    "        :type root: TreeNode\n",
    "        :rtype: bool\n",
    "        \"\"\"\n",
    "        def dfs(root):\n",
    "            if not root: return [True,0]\n",
    "            \n",
    "            left,right = dfs(root.left),dfs(root.right)\n",
    "            balanced = (left[0] and right[0] and (abs(left[1]-right[1])<=1))\n",
    "            \n",
    "            return [balanced,1+max(left[1],right[1])]\n",
    "        return dfs(root)[0]"
   ]
  }
 ],
 "metadata": {
  "kernelspec": {
   "display_name": "Python 3 (ipykernel)",
   "language": "python",
   "name": "python3"
  },
  "language_info": {
   "codemirror_mode": {
    "name": "ipython",
    "version": 3
   },
   "file_extension": ".py",
   "mimetype": "text/x-python",
   "name": "python",
   "nbconvert_exporter": "python",
   "pygments_lexer": "ipython3",
   "version": "3.10.9"
  }
 },
 "nbformat": 4,
 "nbformat_minor": 5
}
