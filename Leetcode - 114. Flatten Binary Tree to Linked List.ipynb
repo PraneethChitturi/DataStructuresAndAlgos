{
 "cells": [
  {
   "cell_type": "code",
   "execution_count": 74,
   "id": "719a2a68",
   "metadata": {},
   "outputs": [],
   "source": [
    "class TreeNode(object):\n",
    "     def __init__(self, val, left=None, right=None):\n",
    "        self.val = val\n",
    "        self.left = left\n",
    "        self.right = right\n",
    "        \n",
    "root = TreeNode(1)\n",
    "root.left = TreeNode(2)\n",
    "root.left.left = TreeNode(3)\n",
    "root.left.right = TreeNode(4)\n",
    "root.right = TreeNode(5)\n",
    "root.right.right = TreeNode(6)"
   ]
  },
  {
   "cell_type": "code",
   "execution_count": 75,
   "id": "1ffc6bdf",
   "metadata": {},
   "outputs": [],
   "source": [
    "#My solution beats 76%\n",
    "def flatten(root):\n",
    "        \"\"\"\n",
    "        :type root: TreeNode\n",
    "        :rtype: None Do not return anything, modify root in-place instead.\n",
    "        \"\"\"\n",
    "        ele = root\n",
    "        while ele != None:\n",
    "            print(ele.val)\n",
    "            curr = ele\n",
    "            traverse = ele.left\n",
    "            if traverse != None:\n",
    "                while traverse.right != None:\n",
    "                    traverse = traverse.right\n",
    "                traverse.right = curr.right\n",
    "                curr.right = curr.left\n",
    "                curr.left = None\n",
    "            ele = curr.right\n",
    "        return root"
   ]
  },
  {
   "cell_type": "code",
   "execution_count": 76,
   "id": "db0a4d82",
   "metadata": {},
   "outputs": [
    {
     "name": "stdout",
     "output_type": "stream",
     "text": [
      "1\n",
      "2\n",
      "3\n",
      "4\n",
      "5\n",
      "6\n"
     ]
    },
    {
     "data": {
      "text/plain": [
       "<__main__.TreeNode at 0x18cecaebd00>"
      ]
     },
     "execution_count": 76,
     "metadata": {},
     "output_type": "execute_result"
    }
   ],
   "source": [
    "flatten(root)"
   ]
  },
  {
   "cell_type": "code",
   "execution_count": null,
   "id": "dcf5bb10",
   "metadata": {},
   "outputs": [],
   "source": [
    "#Best optimized code - beats 90%\n",
    "class Solution(object):\n",
    "    def flatten(self, root):\n",
    "        \"\"\"\n",
    "        :type root: TreeNode\n",
    "        :rtype: None Do not return anything, modify root in-place instead.\n",
    "        \"\"\"\n",
    "        lst = []\n",
    "        if not root:\n",
    "            return \n",
    "        def preorder(node):\n",
    "            if node:\n",
    "                lst.append(node)\n",
    "                preorder(node.left)\n",
    "                preorder(node.right)\n",
    "        preorder(root)\n",
    "        for i in range(len(lst)-1):\n",
    "            lst[i].left = None\n",
    "            lst[i].right = lst[i+1]\n",
    "        lst[-1].left = None\n",
    "        lst[-1].right = None"
   ]
  }
 ],
 "metadata": {
  "kernelspec": {
   "display_name": "Python 3 (ipykernel)",
   "language": "python",
   "name": "python3"
  },
  "language_info": {
   "codemirror_mode": {
    "name": "ipython",
    "version": 3
   },
   "file_extension": ".py",
   "mimetype": "text/x-python",
   "name": "python",
   "nbconvert_exporter": "python",
   "pygments_lexer": "ipython3",
   "version": "3.10.9"
  }
 },
 "nbformat": 4,
 "nbformat_minor": 5
}
