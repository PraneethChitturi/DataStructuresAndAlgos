{
 "cells": [
  {
   "cell_type": "code",
   "execution_count": null,
   "id": "5ffed3a9-ee2d-4086-b0d5-790864b2fc2e",
   "metadata": {},
   "outputs": [],
   "source": [
    "class Solution {\n",
    "    public int minimumDeletions(int[] nums) {\n",
    "      int smallindex=0, largeindex=0, n=nums.length;\n",
    "      for (int k=0;k<n;++k){\n",
    "        if (nums[k]<nums[smallindex]){smallindex=k;}\n",
    "        if (nums[k]>nums[largeindex]){largeindex=k;}\n",
    "      }\n",
    "\n",
    "      return Math.min(Math.min(Math.max(smallindex+1,largeindex+1),Math.max(n-smallindex,n-largeindex)),Math.min(smallindex+1+n-largeindex,largeindex+1+n-smallindex));\n",
    "    }\n",
    "\n",
    "}"
   ]
  }
 ],
 "metadata": {
  "kernelspec": {
   "display_name": "Python 3 (ipykernel)",
   "language": "python",
   "name": "python3"
  },
  "language_info": {
   "codemirror_mode": {
    "name": "ipython",
    "version": 3
   },
   "file_extension": ".py",
   "mimetype": "text/x-python",
   "name": "python",
   "nbconvert_exporter": "python",
   "pygments_lexer": "ipython3",
   "version": "3.11.7"
  }
 },
 "nbformat": 4,
 "nbformat_minor": 5
}
