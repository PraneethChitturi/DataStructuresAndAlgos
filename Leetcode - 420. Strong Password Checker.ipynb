{
 "cells": [
  {
   "cell_type": "code",
   "execution_count": 154,
   "id": "f0b8c87c",
   "metadata": {},
   "outputs": [],
   "source": [
    "def strongPasswordChecker(password):\n",
    "    \"\"\"\n",
    "    :type password: str\n",
    "    :rtype: int\n",
    "    \"\"\"\n",
    "    length = len(password)\n",
    "    anssteps = 0\n",
    "\n",
    "    req = 0\n",
    "    digitcheck = False\n",
    "    lalphacheck = False\n",
    "    ualphacheck = False\n",
    "    req=digitcheck+lalphacheck+ualphacheck\n",
    "    for char in password:\n",
    "        if 97<= ord(char) <=122:\n",
    "            lalphacheck = True\n",
    "        if 65<=ord(char) <=90:\n",
    "            ualphacheck = True\n",
    "        if 48 <= ord(char) <=57:\n",
    "            digitcheck = True\n",
    "        req=digitcheck+lalphacheck+ualphacheck\n",
    "        if req==3:\n",
    "            break\n",
    "            \n",
    "    req=3-req\n",
    "    if length <6:\n",
    "        anssteps = 6 - length\n",
    "        if req!=0:\n",
    "            if anssteps < req:\n",
    "                req = req-anssteps\n",
    "            else:\n",
    "                req = 0\n",
    "        return anssteps+req\n",
    "    \n",
    "    elif length>20:\n",
    "        #print(length)\n",
    "        modpass = password\n",
    "        lenmodpass = len(modpass)\n",
    "        temp = modpass[0]\n",
    "        counter = 1\n",
    "        i = 1\n",
    "        while i<lenmodpass:\n",
    "            curr = modpass[i]\n",
    "\n",
    "            if temp==curr:\n",
    "                counter += 1\n",
    "            else:\n",
    "                temp = curr\n",
    "                counter = 1\n",
    "\n",
    "            if counter==3:\n",
    "                if lenmodpass<=20:\n",
    "                    anssteps+=1\n",
    "                    if req != 0:\n",
    "                        req -= 1\n",
    "                    temp='&'\n",
    "                    counter = 1\n",
    "                    #print(\"Modify\")\n",
    "                elif req!=0:\n",
    "                    anssteps+=1\n",
    "                    if req != 0:\n",
    "                        req -= 1\n",
    "                    temp='&'\n",
    "                    counter = 1\n",
    "                    #print(\"Modify\")\n",
    "                else:\n",
    "                    modpass = modpass[:i]+modpass[i+1:]\n",
    "                    lenmodpass = len(modpass)\n",
    "                    i-=1\n",
    "                    temp=modpass[i]\n",
    "                    counter = 1\n",
    "                    anssteps+=1\n",
    "                    #print(\"Remove\")\n",
    "                \n",
    "            i+=1\n",
    "        #print(req,anssteps,modpass) \n",
    "        if lenmodpass>20:\n",
    "            anssteps += lenmodpass - 20\n",
    "        return anssteps+req\n",
    "    \n",
    "    temp = password[0]\n",
    "    counter = 1\n",
    "    for i in range(1,length):\n",
    "        curr = password[i]\n",
    "        \n",
    "        if temp==curr:\n",
    "            counter += 1\n",
    "        else:\n",
    "            temp = curr\n",
    "            counter = 1\n",
    "            \n",
    "        if counter==3:\n",
    "            anssteps+=1\n",
    "            if req != 0:\n",
    "                req -= 1\n",
    "            temp='&'\n",
    "            counter = 1\n",
    "    \n",
    "    return anssteps+req\n",
    "        \n",
    "        "
   ]
  },
  {
   "cell_type": "code",
   "execution_count": 155,
   "id": "e2ae69d4",
   "metadata": {},
   "outputs": [
    {
     "data": {
      "text/plain": [
       "5"
      ]
     },
     "execution_count": 155,
     "metadata": {},
     "output_type": "execute_result"
    }
   ],
   "source": [
    "strongPasswordChecker(\"a\")"
   ]
  },
  {
   "cell_type": "code",
   "execution_count": 156,
   "id": "35f71a4d",
   "metadata": {},
   "outputs": [
    {
     "data": {
      "text/plain": [
       "3"
      ]
     },
     "execution_count": 156,
     "metadata": {},
     "output_type": "execute_result"
    }
   ],
   "source": [
    "strongPasswordChecker(\"aA1\")"
   ]
  },
  {
   "cell_type": "code",
   "execution_count": 157,
   "id": "2ee5629c",
   "metadata": {},
   "outputs": [
    {
     "data": {
      "text/plain": [
       "0"
      ]
     },
     "execution_count": 157,
     "metadata": {},
     "output_type": "execute_result"
    }
   ],
   "source": [
    "strongPasswordChecker(\"1337C0d3\")"
   ]
  },
  {
   "cell_type": "code",
   "execution_count": 158,
   "id": "4542d02e",
   "metadata": {},
   "outputs": [
    {
     "name": "stdout",
     "output_type": "stream",
     "text": [
      "26\n"
     ]
    },
    {
     "data": {
      "text/plain": [
       "6"
      ]
     },
     "execution_count": 158,
     "metadata": {},
     "output_type": "execute_result"
    }
   ],
   "source": [
    "word = '12225678910aBcdefghijklmno'\n",
    "print(len(word))\n",
    "strongPasswordChecker(word)"
   ]
  },
  {
   "cell_type": "code",
   "execution_count": 159,
   "id": "abe2fade",
   "metadata": {},
   "outputs": [
    {
     "name": "stdout",
     "output_type": "stream",
     "text": [
      "19\n"
     ]
    },
    {
     "data": {
      "text/plain": [
       "2"
      ]
     },
     "execution_count": 159,
     "metadata": {},
     "output_type": "execute_result"
    }
   ],
   "source": [
    "word = \"122255578910abcdefj\"\n",
    "print(len(word))\n",
    "strongPasswordChecker(word)"
   ]
  },
  {
   "cell_type": "code",
   "execution_count": 160,
   "id": "ca6c309e",
   "metadata": {},
   "outputs": [
    {
     "name": "stdout",
     "output_type": "stream",
     "text": [
      "5\n"
     ]
    },
    {
     "data": {
      "text/plain": [
       "1"
      ]
     },
     "execution_count": 160,
     "metadata": {},
     "output_type": "execute_result"
    }
   ],
   "source": [
    "word = \"aaaB1\"\n",
    "print(len(word))\n",
    "strongPasswordChecker(word)"
   ]
  },
  {
   "cell_type": "code",
   "execution_count": 161,
   "id": "c9e4319e",
   "metadata": {},
   "outputs": [
    {
     "name": "stdout",
     "output_type": "stream",
     "text": [
      "21\n"
     ]
    },
    {
     "data": {
      "text/plain": [
       "2"
      ]
     },
     "execution_count": 161,
     "metadata": {},
     "output_type": "execute_result"
    }
   ],
   "source": [
    "word = \"ABABABABABABABABABAB1\"\n",
    "print(len(word))\n",
    "strongPasswordChecker(word)"
   ]
  },
  {
   "cell_type": "code",
   "execution_count": 162,
   "id": "4a47ac8d",
   "metadata": {},
   "outputs": [
    {
     "name": "stdout",
     "output_type": "stream",
     "text": [
      "5\n"
     ]
    },
    {
     "data": {
      "text/plain": [
       "2"
      ]
     },
     "execution_count": 162,
     "metadata": {},
     "output_type": "execute_result"
    }
   ],
   "source": [
    "word = \"aaaab\"\n",
    "print(len(word))\n",
    "strongPasswordChecker(word)"
   ]
  },
  {
   "cell_type": "code",
   "execution_count": 163,
   "id": "12058561",
   "metadata": {},
   "outputs": [
    {
     "name": "stdout",
     "output_type": "stream",
     "text": [
      "23\n"
     ]
    },
    {
     "data": {
      "text/plain": [
       "8"
      ]
     },
     "execution_count": 163,
     "metadata": {},
     "output_type": "execute_result"
    }
   ],
   "source": [
    "word = \"bbaaaaaaaaaaaaaaacccccc\"\n",
    "print(len(word))\n",
    "strongPasswordChecker(word)"
   ]
  },
  {
   "cell_type": "code",
   "execution_count": 164,
   "id": "21409dc5",
   "metadata": {},
   "outputs": [
    {
     "name": "stdout",
     "output_type": "stream",
     "text": [
      "38\n"
     ]
    },
    {
     "data": {
      "text/plain": [
       "19"
      ]
     },
     "execution_count": 164,
     "metadata": {},
     "output_type": "execute_result"
    }
   ],
   "source": [
    "word = \"FFFFFFFFFFFFFFF11111111111111111111AAA\"\n",
    "print(len(word))\n",
    "strongPasswordChecker(word)"
   ]
  },
  {
   "cell_type": "code",
   "execution_count": 172,
   "id": "1c420a32",
   "metadata": {},
   "outputs": [
    {
     "name": "stdout",
     "output_type": "stream",
     "text": [
      "38\n"
     ]
    },
    {
     "data": {
      "text/plain": [
       "34"
      ]
     },
     "execution_count": 172,
     "metadata": {},
     "output_type": "execute_result"
    }
   ],
   "source": [
    "word = \"FFFFFFFFFFFFFFF11111111111111111111AAA\"\n",
    "print(len(word))\n",
    "strongPasswordChecker(word)"
   ]
  },
  {
   "cell_type": "code",
   "execution_count": null,
   "id": "1e24f2ad",
   "metadata": {},
   "outputs": [],
   "source": [
    "\"FFFFFFFFFFFFFFF11111111111111111111AAA\"\n",
    "\"FFfFFFFFFFFFFFF11111111111111111111AAA\" (Modify)\n",
    "\"FFfFFFFFFFFFFF11111111111111111111AAA\" (Remove)\n",
    "\"FFfFFFFFFFFFF11111111111111111111AAA\" (Remove)\n",
    "\"FFfFFFFFFFFF11111111111111111111AAA\" (Remove)\n",
    "\"FFfFFFFFFFF11111111111111111111AAA\" (Remove)\n",
    "\"FFfFFFFFFF11111111111111111111AAA\" (Remove)\n",
    "\"FFfFFFFFF11111111111111111111AAA\" (Remove)\n",
    "\"FFfFFFFF11111111111111111111AAA\" (Remove)\n",
    "\"FFfFFFF11111111111111111111AAA\" (Remove)\n",
    "\"FFfFFF11111111111111111111AAA\" (Remove)\n",
    "\"FFfFF11111111111111111111AAA\" (Remove)\n",
    "\"FFfFF1111111111111111111AAA\" (Remove)\n",
    "\"FFfFF111111111111111111AAA\" (Remove)\n",
    "\"FFfFF11111111111111111AAA\" (Remove)\n",
    "\"FFfFF1111111111111111AAA\" (Remove)\n",
    "\"FFfFF111111111111111AAA\" (Remove)\n",
    "\"FFfFF11111111111111AAA\" (Remove)\n",
    "\"FFfFF1111111111111AAA\" (Remove)\n",
    "\"FFfFF111111111111AAA\" (Remove)\n",
    "\"FFfFF11b111111111AAA\" (Modify)\n",
    "\"FFfFF11b11b111111AAA\" (Modify)\n",
    "\"FFfFF11b11b11b111AAA\" (Modify)\n",
    "\"FFfFF11b11b11b11bAAA\" (Modify)\n",
    "\"FFfFF11b11b11b11bAAb\" (Modify)"
   ]
  },
  {
   "cell_type": "code",
   "execution_count": 180,
   "id": "5ea3b586",
   "metadata": {},
   "outputs": [
    {
     "data": {
      "text/plain": [
       "20"
      ]
     },
     "execution_count": 180,
     "metadata": {},
     "output_type": "execute_result"
    }
   ],
   "source": [
    "len(\"FF111111111111111AAA\")"
   ]
  },
  {
   "cell_type": "code",
   "execution_count": null,
   "id": "6be37717",
   "metadata": {},
   "outputs": [],
   "source": [
    "\"FFFFFFFFFFFFFFF11111111111111111111AAA\"\n",
    "\"FF11111111111111111111AAA\" (Remove) *13\n",
    "\"FF111111111111111AAA\" (Remove) *5\n",
    "\"FF11F11F11F11F11FAAF\" (Modify) *6"
   ]
  },
  {
   "cell_type": "code",
   "execution_count": null,
   "id": "89605aa0",
   "metadata": {},
   "outputs": [],
   "source": [
    "\"FFFFFFFFFFFFFFF11111111111111111111AAA\"\n",
    "\"FFFFFFFFF11111111111111AA\" (Remove) *13\n",
    "\"FFFFFF111111111111AA\" (Remove) *5\n",
    "\"FFfFFf11f11f11f11fAA\" (Modify) *6"
   ]
  }
 ],
 "metadata": {
  "kernelspec": {
   "display_name": "Python 3 (ipykernel)",
   "language": "python",
   "name": "python3"
  },
  "language_info": {
   "codemirror_mode": {
    "name": "ipython",
    "version": 3
   },
   "file_extension": ".py",
   "mimetype": "text/x-python",
   "name": "python",
   "nbconvert_exporter": "python",
   "pygments_lexer": "ipython3",
   "version": "3.10.9"
  }
 },
 "nbformat": 4,
 "nbformat_minor": 5
}
