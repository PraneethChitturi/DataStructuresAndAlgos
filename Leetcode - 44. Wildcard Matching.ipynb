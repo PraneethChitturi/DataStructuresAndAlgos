{
 "cells": [
  {
   "cell_type": "code",
   "execution_count": 83,
   "id": "ec88657c",
   "metadata": {},
   "outputs": [],
   "source": [
    "#Beats 33% in TLE-  DP\n",
    "def isMatch(s, p):\n",
    "    \"\"\"\n",
    "    :type s: str\n",
    "    :type p: str\n",
    "    :rtype: bool\n",
    "    \"\"\"\n",
    "    N = len(s)\n",
    "    M = len(p)\n",
    "    \n",
    "    dic = [[False if i==0 else None for i in range(M+1)] if j!=0 else [False for i in range(M+1)] for j in range(N+1) ]\n",
    "    dic[0][0] = True\n",
    "    \n",
    "    for j in range(1, M + 1):\n",
    "        if p[j-1] == \"*\":\n",
    "            dic[0][j] = True\n",
    "        else:\n",
    "            break\n",
    "                \n",
    "    for i in range(1,len(dic)):\n",
    "        for j in range(1,len(dic[0])):\n",
    "            if s[i-1]==p[j-1] or p[j-1]=='?':\n",
    "                dic[i][j] = dic[i-1][j-1]\n",
    "            elif p[j-1] == '*':\n",
    "                dic[i][j] = dic[i][j-1] | dic[i-1][j] | (j-1==0)\n",
    "            else:\n",
    "                dic[i][j] = False\n",
    "                \n",
    "    return dic[N][M]"
   ]
  },
  {
   "cell_type": "code",
   "execution_count": 50,
   "id": "a89422b0",
   "metadata": {},
   "outputs": [],
   "source": [
    "#Beats 64% in TLE-  DP\n",
    "def isMatch(s, p):\n",
    "        \"\"\"\n",
    "        :type s: str\n",
    "        :type p: str\n",
    "        :rtype: bool\n",
    "        \"\"\"\n",
    "        N = len(s)\n",
    "        M = len(p)\n",
    "        \n",
    "        dp = [[False] * (M + 1) for _ in range(N + 1)]\n",
    "        dp[0][0] = True\n",
    "        \n",
    "        for j in range(1, M + 1):\n",
    "            if p[j-1] == \"*\":\n",
    "                dp[0][j] = True\n",
    "            else:\n",
    "                break\n",
    "                \n",
    "        for i in range(1, N + 1):\n",
    "            for j in range(1, M + 1):\n",
    "                if s[i-1] == p[j-1] or p[j-1] == \"?\":\n",
    "                    dp[i][j] = dp[i-1][j-1]\n",
    "                elif p[j-1] == \"*\":\n",
    "                    dp[i][j] = dp[i-1][j] or dp[i][j-1]\n",
    "        \n",
    "        return dp[N][M]"
   ]
  },
  {
   "cell_type": "code",
   "execution_count": null,
   "id": "81153310",
   "metadata": {},
   "outputs": [],
   "source": []
  }
 ],
 "metadata": {
  "kernelspec": {
   "display_name": "Python 3 (ipykernel)",
   "language": "python",
   "name": "python3"
  },
  "language_info": {
   "codemirror_mode": {
    "name": "ipython",
    "version": 3
   },
   "file_extension": ".py",
   "mimetype": "text/x-python",
   "name": "python",
   "nbconvert_exporter": "python",
   "pygments_lexer": "ipython3",
   "version": "3.10.9"
  }
 },
 "nbformat": 4,
 "nbformat_minor": 5
}
