{
 "cells": [
  {
   "cell_type": "code",
   "execution_count": null,
   "id": "ab979785-affe-4be8-960b-b7bb01844374",
   "metadata": {},
   "outputs": [],
   "source": [
    "class Solution(object):\n",
    "    def matchPlayersAndTrainers(self, players, trainers):\n",
    "        \"\"\"\n",
    "        :type players: List[int]\n",
    "        :type trainers: List[int]\n",
    "        :rtype: int\n",
    "        \"\"\"\n",
    "        players.sort()\n",
    "        trainers.sort()\n",
    "\n",
    "        count=0\n",
    "        i,j=0,0\n",
    "        while i<len(players) and j<len(trainers):\n",
    "          if trainers[j]>=players[i]:\n",
    "            count+=1\n",
    "            i+=1\n",
    "          j+=1\n",
    "        return count"
   ]
  }
 ],
 "metadata": {
  "kernelspec": {
   "display_name": "",
   "name": ""
  },
  "language_info": {
   "name": ""
  }
 },
 "nbformat": 4,
 "nbformat_minor": 5
}
