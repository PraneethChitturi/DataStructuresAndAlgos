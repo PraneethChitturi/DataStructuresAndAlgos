{
 "cells": [
  {
   "cell_type": "code",
   "execution_count": null,
   "id": "10f8d746",
   "metadata": {},
   "outputs": [],
   "source": [
    "#Beats 93% in TLE using Python3 - No need of converting to float\n",
    "class Solution:\n",
    "    def interchangeableRectangles(self, rectangles: List[List[int]]) -> int:\n",
    "        dictofratios = {}\n",
    "        for w,h in rectangles:\n",
    "            if w/h not in dictofratios:\n",
    "                dictofratios[w/h]=1\n",
    "            else:\n",
    "                dictofratios[w/h]+=1\n",
    "            \n",
    "        return sum((i*(i-1))//2 for i in dictofratios.values())"
   ]
  },
  {
   "cell_type": "code",
   "execution_count": 19,
   "id": "a5cc048d",
   "metadata": {},
   "outputs": [],
   "source": [
    "#Beats 32% in TLE - Python 2 Decimal divison only possible through float\n",
    "class Solution(object):\n",
    "    def interchangeableRectangles(self, rectangles):\n",
    "        \"\"\"\n",
    "        :type rectangles: List[List[int]]\n",
    "        :rtype: int\n",
    "        \"\"\"\n",
    "        dictofratios = {}\n",
    "        for w,h in rectangles:\n",
    "            if float(w)/float(h) not in dictofratios:\n",
    "                dictofratios[float(w)/float(h)]=1\n",
    "            else:\n",
    "                dictofratios[float(w)/float(h)]+=1\n",
    "            \n",
    "        return sum((i*(i-1))//2 for i in dictofratios.values())"
   ]
  },
  {
   "cell_type": "code",
   "execution_count": 13,
   "id": "d7a9f758",
   "metadata": {},
   "outputs": [],
   "source": [
    "#TLE Exceeded because of O^2\n",
    "def interchangeableRectangles(rectangles):\n",
    "    \"\"\"\n",
    "    :type rectangles: List[List[int]]\n",
    "    :rtype: int\n",
    "    \"\"\"\n",
    "    listofratios = []\n",
    "    pairs = 0\n",
    "    for i in range(len(rectangles)):\n",
    "        whratio = float(rectangles[i][0]) / rectangles[i][1])\n",
    "        \n",
    "        for a in listofratios:\n",
    "            if a==whratio:\n",
    "                pairs+=1\n",
    "        \n",
    "        listofratios.append(float(whratio))\n",
    "        \n",
    "    return pairs"
   ]
  },
  {
   "cell_type": "code",
   "execution_count": 20,
   "id": "5bb988a4",
   "metadata": {},
   "outputs": [
    {
     "data": {
      "text/plain": [
       "6"
      ]
     },
     "execution_count": 20,
     "metadata": {},
     "output_type": "execute_result"
    }
   ],
   "source": [
    "rectangles = [[4,8],[3,6],[10,20],[15,30]]\n",
    "interchangeableRectangles(rectangles)"
   ]
  },
  {
   "cell_type": "code",
   "execution_count": 21,
   "id": "8120bda4",
   "metadata": {},
   "outputs": [
    {
     "data": {
      "text/plain": [
       "0"
      ]
     },
     "execution_count": 21,
     "metadata": {},
     "output_type": "execute_result"
    }
   ],
   "source": [
    "rectangles = [[4,5],[7,8]]\n",
    "interchangeableRectangles(rectangles)"
   ]
  },
  {
   "cell_type": "code",
   "execution_count": null,
   "id": "33333164",
   "metadata": {},
   "outputs": [],
   "source": []
  }
 ],
 "metadata": {
  "kernelspec": {
   "display_name": "Python 3 (ipykernel)",
   "language": "python",
   "name": "python3"
  },
  "language_info": {
   "codemirror_mode": {
    "name": "ipython",
    "version": 3
   },
   "file_extension": ".py",
   "mimetype": "text/x-python",
   "name": "python",
   "nbconvert_exporter": "python",
   "pygments_lexer": "ipython3",
   "version": "3.10.9"
  }
 },
 "nbformat": 4,
 "nbformat_minor": 5
}
