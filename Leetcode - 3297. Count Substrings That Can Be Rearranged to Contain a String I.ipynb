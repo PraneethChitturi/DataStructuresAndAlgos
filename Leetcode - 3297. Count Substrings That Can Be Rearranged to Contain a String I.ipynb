{
 "cells": [
  {
   "cell_type": "code",
   "execution_count": 68,
   "id": "830815a9-7fbf-47ae-8de5-1de93e2e5836",
   "metadata": {},
   "outputs": [],
   "source": [
    "from collections import defaultdict,Counter\n",
    "\n",
    "def validSubstringCount(word1, word2):\n",
    "    refwordvec = Counter(word2)\n",
    "    need=len(word2)\n",
    "    l=0\n",
    "    have=0\n",
    "    ans=0\n",
    "    wordwindow=defaultdict(int)\n",
    "    print(refwordvec)\n",
    "    for i,s in enumerate(word1):\n",
    "        #print(wordwindow)\n",
    "        wordwindow[s]+=1\n",
    "        if s in refwordvec and wordwindow[s]<=refwordvec[s]:\n",
    "            #print(s,wordwindow[s],refwordvec[s])\n",
    "            have+=1\n",
    "            #print(\"H:\",have,need)\n",
    "            while have==need:\n",
    "                ans+=len(word1)-i\n",
    "                wordwindow[word1[l]]-=1\n",
    "                if word1[l] in refwordvec and wordwindow[word1[l]]<refwordvec[word1[l]]:\n",
    "                    have-=1\n",
    "                l+=1\n",
    "                   \n",
    "\n",
    "    return ans"
   ]
  },
  {
   "cell_type": "code",
   "execution_count": 24,
   "id": "00aeb58e-2368-47ee-a5b0-06076ac9ed5c",
   "metadata": {},
   "outputs": [],
   "source": [
    "#TLE\n",
    "def validSubstringCount(word1, word2):\n",
    "    i=0\n",
    "    ans=0\n",
    "    while i<=(len(word1)-1):\n",
    "        for j in range(i,len(word1)):\n",
    "            #print(substring)\n",
    "            substring=word1[i:j+1]\n",
    "            count=0\n",
    "            for letter in word2:\n",
    "                if letter in substring:\n",
    "                    substring=substring.replace(letter,\" \",1)\n",
    "                    count+=1\n",
    "            if count==len(word2):\n",
    "                ans+=len(word1)-j\n",
    "                break\n",
    "        i+=1\n",
    "    return ans\n",
    "        "
   ]
  },
  {
   "cell_type": "code",
   "execution_count": 69,
   "id": "63f4db79-d7fa-42df-80e1-d309c35b8078",
   "metadata": {},
   "outputs": [
    {
     "name": "stdout",
     "output_type": "stream",
     "text": [
      "Counter({'b': 2})\n"
     ]
    },
    {
     "data": {
      "text/plain": [
       "105"
      ]
     },
     "execution_count": 69,
     "metadata": {},
     "output_type": "execute_result"
    }
   ],
   "source": [
    "validSubstringCount(\"bbbbbbbbbbbbbbb\", \"bb\")"
   ]
  },
  {
   "cell_type": "code",
   "execution_count": 70,
   "id": "2414ad9c-3d49-43d1-9bd3-2bf0a1483113",
   "metadata": {},
   "outputs": [
    {
     "name": "stdout",
     "output_type": "stream",
     "text": [
      "Counter({'a': 1, 'b': 1, 'c': 1})\n"
     ]
    },
    {
     "data": {
      "text/plain": [
       "1"
      ]
     },
     "execution_count": 70,
     "metadata": {},
     "output_type": "execute_result"
    }
   ],
   "source": [
    "validSubstringCount(\"bcca\", \"abc\")"
   ]
  },
  {
   "cell_type": "code",
   "execution_count": 71,
   "id": "db37d3a8-4c2c-4604-95f5-034a92f6e788",
   "metadata": {},
   "outputs": [
    {
     "name": "stdout",
     "output_type": "stream",
     "text": [
      "Counter({'a': 1, 'b': 1, 'c': 1})\n"
     ]
    },
    {
     "data": {
      "text/plain": [
       "10"
      ]
     },
     "execution_count": 71,
     "metadata": {},
     "output_type": "execute_result"
    }
   ],
   "source": [
    "validSubstringCount(\"abcabc\", \"abc\")"
   ]
  },
  {
   "cell_type": "code",
   "execution_count": 72,
   "id": "2bc09d1e-6e79-457e-bef7-1d5acc325696",
   "metadata": {},
   "outputs": [
    {
     "name": "stdout",
     "output_type": "stream",
     "text": [
      "Counter({'a': 3, 'b': 1, 'c': 1})\n"
     ]
    },
    {
     "data": {
      "text/plain": [
       "0"
      ]
     },
     "execution_count": 72,
     "metadata": {},
     "output_type": "execute_result"
    }
   ],
   "source": [
    "validSubstringCount(\"abcabc\", \"aaabc\")"
   ]
  }
 ],
 "metadata": {
  "kernelspec": {
   "display_name": "Python 3 (ipykernel)",
   "language": "python",
   "name": "python3"
  },
  "language_info": {
   "codemirror_mode": {
    "name": "ipython",
    "version": 3
   },
   "file_extension": ".py",
   "mimetype": "text/x-python",
   "name": "python",
   "nbconvert_exporter": "python",
   "pygments_lexer": "ipython3",
   "version": "3.11.7"
  }
 },
 "nbformat": 4,
 "nbformat_minor": 5
}
