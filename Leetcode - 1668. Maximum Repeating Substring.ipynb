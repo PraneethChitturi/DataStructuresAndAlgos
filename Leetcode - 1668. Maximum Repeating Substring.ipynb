{
 "cells": [
  {
   "cell_type": "code",
   "execution_count": 42,
   "id": "17f64b68",
   "metadata": {},
   "outputs": [],
   "source": [
    "#Beats 95% \n",
    "def maxRepeating(sequence, word):\n",
    "    count = 0\n",
    "    while True:\n",
    "        if word*(count+1) not in sequence:\n",
    "            return count\n",
    "        count+=1\n",
    "            \n",
    "    "
   ]
  },
  {
   "cell_type": "code",
   "execution_count": 43,
   "id": "2dcfd7f1",
   "metadata": {},
   "outputs": [
    {
     "data": {
      "text/plain": [
       "1"
      ]
     },
     "execution_count": 43,
     "metadata": {},
     "output_type": "execute_result"
    }
   ],
   "source": [
    "maxRepeating(\"a\",\"a\")"
   ]
  },
  {
   "cell_type": "code",
   "execution_count": 44,
   "id": "81ca5fb5",
   "metadata": {},
   "outputs": [
    {
     "data": {
      "text/plain": [
       "0"
      ]
     },
     "execution_count": 44,
     "metadata": {},
     "output_type": "execute_result"
    }
   ],
   "source": [
    "maxRepeating(\"ababc\",\"ac\")"
   ]
  },
  {
   "cell_type": "code",
   "execution_count": 45,
   "id": "5614863d",
   "metadata": {},
   "outputs": [
    {
     "data": {
      "text/plain": [
       "1"
      ]
     },
     "execution_count": 45,
     "metadata": {},
     "output_type": "execute_result"
    }
   ],
   "source": [
    "maxRepeating(\"ababc\",\"ba\")"
   ]
  },
  {
   "cell_type": "code",
   "execution_count": 46,
   "id": "a3445359",
   "metadata": {},
   "outputs": [
    {
     "data": {
      "text/plain": [
       "2"
      ]
     },
     "execution_count": 46,
     "metadata": {},
     "output_type": "execute_result"
    }
   ],
   "source": [
    "maxRepeating(\"ababc\",\"ab\")"
   ]
  }
 ],
 "metadata": {
  "kernelspec": {
   "display_name": "Python 3 (ipykernel)",
   "language": "python",
   "name": "python3"
  },
  "language_info": {
   "codemirror_mode": {
    "name": "ipython",
    "version": 3
   },
   "file_extension": ".py",
   "mimetype": "text/x-python",
   "name": "python",
   "nbconvert_exporter": "python",
   "pygments_lexer": "ipython3",
   "version": "3.10.9"
  }
 },
 "nbformat": 4,
 "nbformat_minor": 5
}
