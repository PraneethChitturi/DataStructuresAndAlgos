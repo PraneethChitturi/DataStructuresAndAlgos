{
 "cells": [
  {
   "cell_type": "code",
   "execution_count": 14,
   "id": "9636a317-3a65-49dc-aaf0-755772c4c6ed",
   "metadata": {},
   "outputs": [],
   "source": [
    "def carFleet(target, position, speed):\n",
    "        \"\"\"\n",
    "        :type target: int\n",
    "        :type position: List[int]\n",
    "        :type speed: List[int]\n",
    "        :rtype: int\n",
    "        \"\"\"\n",
    "        fleet_time=None\n",
    "        ans=0\n",
    "        for pos, vel in sorted(zip(position,speed))[::-1]:\n",
    "            t = (target-pos)/vel\n",
    "            if fleet_time is None or t>fleet_time:\n",
    "                ans+=1\n",
    "                fleet_time=t\n",
    "        return ans"
   ]
  },
  {
   "cell_type": "code",
   "execution_count": 15,
   "id": "a3a167d8-545f-4961-a029-ee8a5567f2f2",
   "metadata": {},
   "outputs": [
    {
     "data": {
      "text/plain": [
       "3"
      ]
     },
     "execution_count": 15,
     "metadata": {},
     "output_type": "execute_result"
    }
   ],
   "source": [
    "target = 12\n",
    "position = [10,8,0,5,3]\n",
    "speed = [2,4,1,1,3]\n",
    "\n",
    "carFleet(target, position, speed)"
   ]
  },
  {
   "cell_type": "code",
   "execution_count": 16,
   "id": "31002d21-d131-4b49-9235-0cf691b89dee",
   "metadata": {},
   "outputs": [
    {
     "data": {
      "text/plain": [
       "1"
      ]
     },
     "execution_count": 16,
     "metadata": {},
     "output_type": "execute_result"
    }
   ],
   "source": [
    "target = 10\n",
    "position = [3]\n",
    "speed = [3]\n",
    "carFleet(target, position, speed)"
   ]
  },
  {
   "cell_type": "code",
   "execution_count": 17,
   "id": "b9974fa0-a0f6-4cd2-a1c7-b7a036300172",
   "metadata": {},
   "outputs": [
    {
     "data": {
      "text/plain": [
       "1"
      ]
     },
     "execution_count": 17,
     "metadata": {},
     "output_type": "execute_result"
    }
   ],
   "source": [
    "target = 100\n",
    "position = [0,2,4]\n",
    "speed = [4,2,1]\n",
    "carFleet(target, position, speed)"
   ]
  },
  {
   "cell_type": "code",
   "execution_count": 18,
   "id": "abe0dd9c-398a-40ea-86c0-fe0346a63049",
   "metadata": {},
   "outputs": [
    {
     "data": {
      "text/plain": [
       "2"
      ]
     },
     "execution_count": 18,
     "metadata": {},
     "output_type": "execute_result"
    }
   ],
   "source": [
    "target = 10\n",
    "position = [6,8]\n",
    "speed = [3,2]\n",
    "carFleet(target, position, speed)"
   ]
  },
  {
   "cell_type": "code",
   "execution_count": null,
   "id": "5b6bf912-435a-43de-ad13-02b3c6db0877",
   "metadata": {},
   "outputs": [],
   "source": []
  }
 ],
 "metadata": {
  "kernelspec": {
   "display_name": "Python 3 (ipykernel)",
   "language": "python",
   "name": "python3"
  },
  "language_info": {
   "codemirror_mode": {
    "name": "ipython",
    "version": 3
   },
   "file_extension": ".py",
   "mimetype": "text/x-python",
   "name": "python",
   "nbconvert_exporter": "python",
   "pygments_lexer": "ipython3",
   "version": "3.11.7"
  }
 },
 "nbformat": 4,
 "nbformat_minor": 5
}
