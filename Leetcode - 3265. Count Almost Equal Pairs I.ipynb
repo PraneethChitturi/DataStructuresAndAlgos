{
 "cells": [
  {
   "cell_type": "code",
   "execution_count": 18,
   "id": "d6c75819-eddf-485d-961b-b24709a48e86",
   "metadata": {},
   "outputs": [],
   "source": [
    "#Beats 100% in TLE\n",
    "def countPairs(nums):\n",
    "    count=0\n",
    "    for i in range(len(nums)):\n",
    "        for j in range(i+1,len(nums)):\n",
    "            ref=str(nums[i])\n",
    "            lref=len(ref)\n",
    "            comp=str(nums[j])\n",
    "            cref=len(comp)\n",
    "\n",
    "            if lref==cref and comp==ref:\n",
    "                count+=1\n",
    "                continue\n",
    "                \n",
    "            if lref<cref:\n",
    "                ref='0'*(cref-lref)+ref\n",
    "                lref=cref\n",
    "            elif cref<lref:\n",
    "                comp='0'*(lref-cref)+comp\n",
    "                cref=lref\n",
    "            \n",
    "            for x in range(cref):\n",
    "                for y in range(x,cref):\n",
    "                    \n",
    "                    temp = comp[:x]+comp[y]+comp[x+1:y]+comp[x]+comp[y+1:]\n",
    "                    #print(temp)\n",
    "                    if temp==ref:\n",
    "                        count+=1\n",
    "    return count"
   ]
  },
  {
   "cell_type": "code",
   "execution_count": 19,
   "id": "351b90ac-94b2-44da-b91d-ac8cb67d57c9",
   "metadata": {},
   "outputs": [
    {
     "data": {
      "text/plain": [
       "2"
      ]
     },
     "execution_count": 19,
     "metadata": {},
     "output_type": "execute_result"
    }
   ],
   "source": [
    "countPairs([3,12,30,17,21])"
   ]
  },
  {
   "cell_type": "code",
   "execution_count": 20,
   "id": "d4f196c3-3991-4076-9cbe-3ec49a7be66a",
   "metadata": {},
   "outputs": [
    {
     "data": {
      "text/plain": [
       "10"
      ]
     },
     "execution_count": 20,
     "metadata": {},
     "output_type": "execute_result"
    }
   ],
   "source": [
    "countPairs([1,1,1,1,1])"
   ]
  },
  {
   "cell_type": "code",
   "execution_count": 21,
   "id": "4a49b652-d892-4329-bafd-fdc826a24f3f",
   "metadata": {},
   "outputs": [
    {
     "data": {
      "text/plain": [
       "0"
      ]
     },
     "execution_count": 21,
     "metadata": {},
     "output_type": "execute_result"
    }
   ],
   "source": [
    "countPairs([123,231])"
   ]
  }
 ],
 "metadata": {
  "kernelspec": {
   "display_name": "Python 3 (ipykernel)",
   "language": "python",
   "name": "python3"
  },
  "language_info": {
   "codemirror_mode": {
    "name": "ipython",
    "version": 3
   },
   "file_extension": ".py",
   "mimetype": "text/x-python",
   "name": "python",
   "nbconvert_exporter": "python",
   "pygments_lexer": "ipython3",
   "version": "3.11.7"
  }
 },
 "nbformat": 4,
 "nbformat_minor": 5
}
