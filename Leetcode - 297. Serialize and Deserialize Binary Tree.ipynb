{
 "cells": [
  {
   "cell_type": "code",
   "execution_count": 107,
   "id": "cbde0946",
   "metadata": {},
   "outputs": [
    {
     "name": "stdout",
     "output_type": "stream",
     "text": [
      "0\n",
      "1\n",
      "2\n",
      "5\n",
      "6\n"
     ]
    },
    {
     "data": {
      "text/plain": [
       "<__main__.TreeNode at 0x19d7b799960>"
      ]
     },
     "execution_count": 107,
     "metadata": {},
     "output_type": "execute_result"
    }
   ],
   "source": [
    "#297. Serialize and Deserialize Binary Tree\n",
    "\n",
    "from collections import deque\n",
    "\n",
    "class TreeNode(object):\n",
    "    def __init__(self, x):\n",
    "        self.val = x\n",
    "        self.left = None\n",
    "        self.right = None\n",
    "        \n",
    "def BuildTree(data):\n",
    "        length = len(data)\n",
    "        if length==0:\n",
    "            return data\n",
    "        \n",
    "        root = TreeNode(int(data[0]))\n",
    "        queue = deque([(root,0)])\n",
    "\n",
    "        while queue:\n",
    "            Node,i = queue.popleft()\n",
    "            print(i)\n",
    "            if (i*2)+1 < length and data[(i*2)+1] != None:\n",
    "                Node.left = TreeNode(int(data[(i*2)+1]))\n",
    "                queue.append((Node.left,(i*2)+1))\n",
    "\n",
    "            if (i*2)+2 < length and data[(i*2)+2] != None:\n",
    "                Node.right = TreeNode(int(data[(i*2)+2]))\n",
    "                queue.append((Node.right,(i*2)+2))\n",
    "                \n",
    "        return root\n",
    "\n",
    "data = [1,2,3,None,None,4,5]\n",
    "\n",
    "root = BuildTree(data)\n",
    "root"
   ]
  },
  {
   "cell_type": "code",
   "execution_count": 100,
   "id": "3c7f5bbe",
   "metadata": {},
   "outputs": [
    {
     "data": {
      "text/plain": [
       "[]"
      ]
     },
     "execution_count": 100,
     "metadata": {},
     "output_type": "execute_result"
    }
   ],
   "source": [
    "def serialize(root):\n",
    "    if not root:\n",
    "        return root\n",
    "    \n",
    "    finals = [root.val]\n",
    "    \n",
    "    queue = deque([root])\n",
    "    \n",
    "    while queue:\n",
    "        Node = queue.popleft()\n",
    "        \n",
    "        if Node.left == None:\n",
    "            finals.append(None)\n",
    "        else:\n",
    "            finals.append(Node.left.val)\n",
    "            queue.append(Node.left)\n",
    "            \n",
    "        if Node.right == None:\n",
    "            finals.append(None)\n",
    "        else:\n",
    "            finals.append(Node.right.val)\n",
    "            queue.append(Node.right)\n",
    "            \n",
    "    return \",\".join(map(str,finals))\n",
    "\n",
    "finalstr = serialize(root)\n",
    "finalstr"
   ]
  },
  {
   "cell_type": "code",
   "execution_count": 103,
   "id": "df7c9440",
   "metadata": {},
   "outputs": [
    {
     "data": {
      "text/plain": [
       "[]"
      ]
     },
     "execution_count": 103,
     "metadata": {},
     "output_type": "execute_result"
    }
   ],
   "source": [
    "def deserialize(data):\n",
    "    if not data:\n",
    "        return data\n",
    "    lis = finalstr.split(\",\")\n",
    "    lis = [None if ele=='None' else ele for ele in lis]\n",
    "    root = BuildTree(lis)\n",
    "    return root\n",
    "finaltree = deserialize(finalstr)\n",
    "finaltree"
   ]
  },
  {
   "cell_type": "code",
   "execution_count": null,
   "id": "d2054c81",
   "metadata": {},
   "outputs": [],
   "source": [
    "#Beats 95.7%\n",
    "class Codec:\n",
    "  def serialize(self, root: 'TreeNode') -> str:\n",
    "    \"\"\"Encodes a tree to a single string.\"\"\"\n",
    "    s = []\n",
    "\n",
    "    def preorder(root: 'TreeNode') -> None:\n",
    "      if not root:\n",
    "        s.append('n')\n",
    "        return\n",
    "\n",
    "      s.append(str(root.val))\n",
    "      preorder(root.left)\n",
    "      preorder(root.right)\n",
    "\n",
    "    preorder(root)\n",
    "    return ' '.join(s)\n",
    "\n",
    "  def deserialize(self, data: str) -> 'TreeNode':\n",
    "    \"\"\"Decodes your encoded data to tree.\"\"\"\n",
    "    q = collections.deque(data.split())\n",
    "\n",
    "    def preorder() -> 'TreeNode':\n",
    "      s = q.popleft()\n",
    "      if s == 'n':\n",
    "        return None\n",
    "\n",
    "      root = TreeNode(s)\n",
    "      root.left = preorder()\n",
    "      root.right = preorder()\n",
    "      return root\n",
    "\n",
    "    return preorder()"
   ]
  },
  {
   "cell_type": "code",
   "execution_count": null,
   "id": "bc2577e5",
   "metadata": {},
   "outputs": [],
   "source": []
  }
 ],
 "metadata": {
  "kernelspec": {
   "display_name": "Python 3 (ipykernel)",
   "language": "python",
   "name": "python3"
  },
  "language_info": {
   "codemirror_mode": {
    "name": "ipython",
    "version": 3
   },
   "file_extension": ".py",
   "mimetype": "text/x-python",
   "name": "python",
   "nbconvert_exporter": "python",
   "pygments_lexer": "ipython3",
   "version": "3.10.9"
  }
 },
 "nbformat": 4,
 "nbformat_minor": 5
}
