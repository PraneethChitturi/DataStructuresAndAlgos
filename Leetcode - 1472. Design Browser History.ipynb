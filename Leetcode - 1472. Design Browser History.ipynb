{
 "cells": [
  {
   "cell_type": "code",
   "execution_count": null,
   "id": "940f343e",
   "metadata": {},
   "outputs": [],
   "source": [
    "class DoubleLinkedList(object):\n",
    "    def __init__(self,url):\n",
    "        self.url = url\n",
    "        self.prev, self.next = None, None\n",
    "\n",
    "class BrowserHistory(object):\n",
    "\n",
    "    def __init__(self, homepage):\n",
    "        \"\"\"\n",
    "        :type homepage: str\n",
    "        \"\"\"\n",
    "        self.current =  DoubleLinkedList(homepage)\n",
    "\n",
    "    def visit(self, url):\n",
    "        \"\"\"\n",
    "        :type url: str\n",
    "        :rtype: None\n",
    "        \"\"\"\n",
    "        curr = self.current\n",
    "        curr.next = DoubleLinkedList(url)\n",
    "        curr.next.prev = curr\n",
    "        self.current = curr.next\n",
    "\n",
    "    def back(self, steps):\n",
    "        \"\"\"\n",
    "        :type steps: int\n",
    "        :rtype: str\n",
    "        \"\"\"\n",
    "        while steps>0 and self.current.prev:\n",
    "            self.current = self.current.prev\n",
    "            steps = steps - 1\n",
    "        return self.current.url\n",
    "\n",
    "    def forward(self, steps):\n",
    "        \"\"\"\n",
    "        :type steps: int\n",
    "        :rtype: str\n",
    "        \"\"\"\n",
    "        while steps>0 and self.current.next:\n",
    "            self.current = self.current.next\n",
    "            steps = steps - 1 \n",
    "        return self.current.url\n",
    "\n",
    "\n",
    "# Your BrowserHistory object will be instantiated and called as such:\n",
    "# obj = BrowserHistory(homepage)\n",
    "# obj.visit(url)\n",
    "# param_2 = obj.back(steps)\n",
    "# param_3 = obj.forward(steps)"
   ]
  }
 ],
 "metadata": {
  "kernelspec": {
   "display_name": "Python 3 (ipykernel)",
   "language": "python",
   "name": "python3"
  },
  "language_info": {
   "codemirror_mode": {
    "name": "ipython",
    "version": 3
   },
   "file_extension": ".py",
   "mimetype": "text/x-python",
   "name": "python",
   "nbconvert_exporter": "python",
   "pygments_lexer": "ipython3",
   "version": "3.11.4"
  }
 },
 "nbformat": 4,
 "nbformat_minor": 5
}
