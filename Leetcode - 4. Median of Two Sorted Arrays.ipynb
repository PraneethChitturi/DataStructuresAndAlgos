{
 "cells": [
  {
   "cell_type": "code",
   "execution_count": 34,
   "id": "91ea9d6a",
   "metadata": {},
   "outputs": [],
   "source": [
    "#Beats 59% in TLE\n",
    "class Solution(object):\n",
    "\n",
    "    def findMedianSortedArrays(self, nums1, nums2):\n",
    "        \"\"\"\n",
    "        :type nums1: List[int]\n",
    "        :type nums2: List[int]\n",
    "        :rtype: float\n",
    "        \"\"\"\n",
    "        def combinetillmedian(list1,list2,m,n):\n",
    "          finalist = []\n",
    "          for i in range((m+n//2)+1):\n",
    "              if not list1:\n",
    "                  finalist = finalist + list2\n",
    "                  break\n",
    "              if not list2:\n",
    "                  finalist = finalist + list1\n",
    "                  break\n",
    "                  \n",
    "              if list1[0] <= list2[0]:\n",
    "                  finalist.append(list1[0])\n",
    "                  list1.pop(0)\n",
    "              else:\n",
    "                  finalist.append(list2[0])\n",
    "                  list2.pop(0)    \n",
    "          if (m+n)%2==0:\n",
    "              return (float(finalist[((m+n)//2)-1]) + float(finalist[((m+n)//2)])) /2\n",
    "          else:\n",
    "              return finalist[(m+n)//2]\n",
    "\n",
    "        m=len(nums1)\n",
    "        n=len(nums2)\n",
    "            \n",
    "        return combinetillmedian(nums1,nums2,m,n)"
   ]
  },
  {
   "cell_type": "code",
   "execution_count": null,
   "id": "6bff08db",
   "metadata": {},
   "outputs": [],
   "source": [
    "#Beats 93.18% TLE\n",
    "class Solution(object):\n",
    "\n",
    "    def findMedianSortedArrays(self, nums1, nums2):\n",
    "        \"\"\"\n",
    "        :type nums1: List[int]\n",
    "        :type nums2: List[int]\n",
    "        :rtype: float\n",
    "        \"\"\"\n",
    "        def combinetillmedian(list1,list2,m,n):\n",
    "          finalist = []\n",
    "          for i in range((m+n//2)+1):\n",
    "              if not list1:\n",
    "                  finalist = finalist + list2\n",
    "                  break\n",
    "              if not list2:\n",
    "                  finalist = finalist + list1\n",
    "                  break\n",
    "                  \n",
    "              if list1[0] <= list2[0]:\n",
    "                  finalist.append(list1[0])\n",
    "                  list1.pop(0)\n",
    "              else:\n",
    "                  finalist.append(list2[0])\n",
    "                  list2.pop(0)    \n",
    "          if (m+n)%2==0:\n",
    "              return (float(finalist[((m+n)//2)-1]) + float(finalist[((m+n)//2)])) /2\n",
    "          else:\n",
    "              return finalist[(m+n)//2]\n",
    "\n",
    "        m=len(nums1)\n",
    "        n=len(nums2)\n",
    "        if m == 0 or n ==0:\n",
    "          if not nums1:\n",
    "            finalist =nums2\n",
    "          else:\n",
    "            finalist =nums1\n",
    "            \n",
    "          if (m+n)%2==0:\n",
    "              return (float(finalist[((m+n)//2)-1]) + float(finalist[((m+n)//2)])) /2\n",
    "          else:\n",
    "              return finalist[(m+n)//2]\n",
    "\n",
    "        if nums1[-1] <= nums2[0]:\n",
    "            finalist = nums1 + nums2\n",
    "            \n",
    "            if (m+n)%2==0:\n",
    "                return (float(finalist[((m+n)//2)-1]) + float(finalist[((m+n)//2)]))/2\n",
    "            else:\n",
    "                return finalist[(m+n)//2]\n",
    "            \n",
    "        return combinetillmedian(nums1,nums2,m,n)"
   ]
  },
  {
   "cell_type": "code",
   "execution_count": 35,
   "id": "c4d95dc1",
   "metadata": {},
   "outputs": [
    {
     "data": {
      "text/plain": [
       "2.5"
      ]
     },
     "execution_count": 35,
     "metadata": {},
     "output_type": "execute_result"
    }
   ],
   "source": [
    "nums1 = [1,2]\n",
    "nums2 = [3,4]\n",
    "findMedianSortedArrays(nums1, nums2)"
   ]
  }
 ],
 "metadata": {
  "kernelspec": {
   "display_name": "Python 3 (ipykernel)",
   "language": "python",
   "name": "python3"
  },
  "language_info": {
   "codemirror_mode": {
    "name": "ipython",
    "version": 3
   },
   "file_extension": ".py",
   "mimetype": "text/x-python",
   "name": "python",
   "nbconvert_exporter": "python",
   "pygments_lexer": "ipython3",
   "version": "3.10.9"
  }
 },
 "nbformat": 4,
 "nbformat_minor": 5
}
