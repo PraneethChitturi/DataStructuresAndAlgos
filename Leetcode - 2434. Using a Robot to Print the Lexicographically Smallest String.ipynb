{
 "cells": [
  {
   "cell_type": "code",
   "execution_count": 16,
   "id": "31560344-d78c-4131-8a31-57383e70ebfe",
   "metadata": {},
   "outputs": [],
   "source": [
    "from collections import Counter\n",
    "\n",
    "def robotWithString(s):\n",
    "    counter,t,f = Counter(s),[],[]\n",
    "\n",
    "    for ch in s:\n",
    "        t.append(ch)\n",
    "\n",
    "        if counter[ch]==1:\n",
    "            del counter[ch]\n",
    "        else:\n",
    "            counter[ch]-=1\n",
    "\n",
    "        while t and counter and min(counter)>t[-1]:\n",
    "            f.append(t[-1])\n",
    "            t.pop()\n",
    "\n",
    "    f+=t[::-1]\n",
    "    return ''.join(f)"
   ]
  },
  {
   "cell_type": "code",
   "execution_count": 17,
   "id": "f685096e-0a18-4e59-9e3c-9fd2e294affa",
   "metadata": {},
   "outputs": [
    {
     "data": {
      "text/plain": [
       "'azz'"
      ]
     },
     "execution_count": 17,
     "metadata": {},
     "output_type": "execute_result"
    }
   ],
   "source": [
    "robotWithString(\"zza\")"
   ]
  },
  {
   "cell_type": "code",
   "execution_count": 18,
   "id": "17725ec2-af65-4e8c-bda1-31f271f9d7c8",
   "metadata": {},
   "outputs": [
    {
     "data": {
      "text/plain": [
       "'abc'"
      ]
     },
     "execution_count": 18,
     "metadata": {},
     "output_type": "execute_result"
    }
   ],
   "source": [
    "robotWithString(\"bac\")"
   ]
  },
  {
   "cell_type": "code",
   "execution_count": 19,
   "id": "9adaa995-0512-439f-a7b0-178bb0f8be5d",
   "metadata": {},
   "outputs": [
    {
     "data": {
      "text/plain": [
       "'addb'"
      ]
     },
     "execution_count": 19,
     "metadata": {},
     "output_type": "execute_result"
    }
   ],
   "source": [
    "robotWithString(\"bdda\")"
   ]
  },
  {
   "cell_type": "code",
   "execution_count": 20,
   "id": "ed826d95-3f13-400b-a300-db4960513e91",
   "metadata": {},
   "outputs": [
    {
     "data": {
      "text/plain": [
       "'a'"
      ]
     },
     "execution_count": 20,
     "metadata": {},
     "output_type": "execute_result"
    }
   ],
   "source": [
    "from collections import Counter\n",
    "min(Counter(\"bdda\"))"
   ]
  },
  {
   "cell_type": "code",
   "execution_count": null,
   "id": "3d63d5e1-4474-4504-b343-ff7c0704a46f",
   "metadata": {},
   "outputs": [],
   "source": []
  }
 ],
 "metadata": {
  "kernelspec": {
   "display_name": "Python 3 (ipykernel)",
   "language": "python",
   "name": "python3"
  },
  "language_info": {
   "codemirror_mode": {
    "name": "ipython",
    "version": 3
   },
   "file_extension": ".py",
   "mimetype": "text/x-python",
   "name": "python",
   "nbconvert_exporter": "python",
   "pygments_lexer": "ipython3",
   "version": "3.11.7"
  }
 },
 "nbformat": 4,
 "nbformat_minor": 5
}
