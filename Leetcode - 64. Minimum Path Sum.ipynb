{
 "cells": [
  {
   "cell_type": "code",
   "execution_count": null,
   "id": "7fa7a36f",
   "metadata": {},
   "outputs": [],
   "source": [
    "#Beats only 25% of Python users\n",
    "\n",
    "def minPathSum(grid):\n",
    "    \"\"\"\n",
    "    :type grid: List[List[int]]\n",
    "    :rtype: int\n",
    "    \"\"\"\n",
    "    backtrackgrid = [[-1 for j in range(len(grid[0]))] for i in range(len(grid))]\n",
    "    \n",
    "    def backtrackmin(grid,row,col,backtrackgrid):\n",
    "        if backtrackgrid[row][col]==-1:\n",
    "            if row==0 and col==0:\n",
    "                return grid[row][col]\n",
    "            if row==0:\n",
    "                return backtrackmin(grid,row,col-1,backtrackgrid) + grid[row][col]\n",
    "            if col==0:\n",
    "                return backtrackmin(grid,row-1,col,backtrackgrid) + grid[row][col]\n",
    "            backtrackgrid[row][col]= min(backtrackmin(grid,row-1,col,backtrackgrid),backtrackmin(grid,row,col-1,backtrackgrid)) + grid[row][col]\n",
    "            return backtrackgrid[row][col]\n",
    "        else:\n",
    "            return backtrackgrid[row][col]\n",
    "    return backtrackmin(grid,len(grid)-1,len(grid[0])-1,backtrackgrid), backtrackgrid"
   ]
  },
  {
   "cell_type": "code",
   "execution_count": 37,
   "id": "63fea37e",
   "metadata": {},
   "outputs": [],
   "source": [
    "#Beats 35%\n",
    "def minPathSum(grid):\n",
    "        \"\"\"\n",
    "        :type grid: List[List[int]]\n",
    "        :rtype: int\n",
    "        \"\"\"\n",
    "        \n",
    "        rowlen = len(grid)\n",
    "        collen = len(grid[0])\n",
    "        \n",
    "        bt = [[0]*collen for i in range(rowlen)]\n",
    "\n",
    "        bt[0][0] = grid[0][0]\n",
    "        for i in range(1,collen):\n",
    "            bt[0][i] = bt[0][i-1] + bt[0][i]\n",
    "        for i in range(1,rowlen):\n",
    "            bt[i][0] = bt[i-1][0] + grid[i][0]\n",
    "        for i in range(1,rowlen):\n",
    "            for j in range(1,collen):\n",
    "                bt[i][j] = min(bt[i-1][j], bt[i][j-1]) + grid[i][j]\n",
    "        return bt[rowlen-1][collen-1]"
   ]
  },
  {
   "cell_type": "code",
   "execution_count": null,
   "id": "0623aec9",
   "metadata": {},
   "outputs": [],
   "source": []
  }
 ],
 "metadata": {
  "kernelspec": {
   "display_name": "Python 3 (ipykernel)",
   "language": "python",
   "name": "python3"
  },
  "language_info": {
   "codemirror_mode": {
    "name": "ipython",
    "version": 3
   },
   "file_extension": ".py",
   "mimetype": "text/x-python",
   "name": "python",
   "nbconvert_exporter": "python",
   "pygments_lexer": "ipython3",
   "version": "3.10.9"
  }
 },
 "nbformat": 4,
 "nbformat_minor": 5
}
