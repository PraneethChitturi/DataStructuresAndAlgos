{
 "cells": [
  {
   "cell_type": "code",
   "execution_count": null,
   "id": "dd1e9ad1-1a99-4a0e-b27f-95ed497a7102",
   "metadata": {},
   "outputs": [],
   "source": [
    "class Solution {\n",
    "    public int wateringPlants(int[] plants, int capacity) {\n",
    "        int l = plants.length;\n",
    "        int c = 0;\n",
    "        int d = capacity;\n",
    "        for(int i=0; i<l; i++){\n",
    "            if(plants[i] <= capacity){\n",
    "                capacity -= plants[i];\n",
    "                c++;\n",
    "            }\n",
    "            else{\n",
    "                capacity = d - plants[i];\n",
    "                c += 2*i + 1;\n",
    "            }\n",
    "        }\n",
    "        return c;\n",
    "    }\n",
    "}"
   ]
  },
  {
   "cell_type": "code",
   "execution_count": null,
   "id": "1d2bfaf2-ee30-4b0f-a699-f7bff6199b17",
   "metadata": {},
   "outputs": [],
   "source": [
    "class Solution {\n",
    "    public int wateringPlants(int[] plants, int capacity) {\n",
    "        int river = -1;\n",
    "        int ans = 0;\n",
    "        int watercap = capacity;\n",
    "        int step;\n",
    "\n",
    "        for (int i=0;i<plants.length;i++){\n",
    "          if (plants[i]>watercap){\n",
    "            step=i-river-1;\n",
    "            ans+=(2*step)+1;\n",
    "            watercap=capacity-plants[i];\n",
    "          } else if (plants[i]<=watercap){\n",
    "            watercap-=plants[i];\n",
    "            ans+=1;\n",
    "          }\n",
    "        }\n",
    "\n",
    "        return ans;\n",
    "    }\n",
    "}"
   ]
  }
 ],
 "metadata": {
  "kernelspec": {
   "display_name": "Python 3 (ipykernel)",
   "language": "python",
   "name": "python3"
  },
  "language_info": {
   "codemirror_mode": {
    "name": "ipython",
    "version": 3
   },
   "file_extension": ".py",
   "mimetype": "text/x-python",
   "name": "python",
   "nbconvert_exporter": "python",
   "pygments_lexer": "ipython3",
   "version": "3.11.7"
  }
 },
 "nbformat": 4,
 "nbformat_minor": 5
}
