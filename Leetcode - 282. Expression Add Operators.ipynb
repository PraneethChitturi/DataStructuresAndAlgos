{
 "cells": [
  {
   "cell_type": "code",
   "execution_count": null,
   "id": "b1d016e8-d61c-4e8b-9c2e-ad771710025d",
   "metadata": {},
   "outputs": [],
   "source": [
    "class Solution:\n",
    "    def addOperators(self, num: 'str', target: 'int') -> 'List[str]':\n",
    "\n",
    "        N = len(num)\n",
    "        answers = []\n",
    "        def recurse(index, prev_operand, current_operand, value, string):\n",
    "\n",
    "            # Done processing all the digits in num\n",
    "            if index == N:\n",
    "\n",
    "                # If the final value == target expected AND\n",
    "                # no operand is left unprocessed\n",
    "                if value == target and current_operand == 0:\n",
    "                    answers.append(\"\".join(string[1:]))\n",
    "                return\n",
    "\n",
    "            # Extending the current operand by one digit\n",
    "            current_operand = current_operand*10 + int(num[index])\n",
    "            str_op = str(current_operand)\n",
    "\n",
    "            # To avoid cases where we have 1 + 05 or 1 * 05 since 05 won't be a\n",
    "            # valid operand. Hence this check\n",
    "            if current_operand > 0:\n",
    "\n",
    "                # NO OP recursion\n",
    "                recurse(index + 1, prev_operand, current_operand, value, string)\n",
    "\n",
    "            # ADDITION\n",
    "            string.append('+'); string.append(str_op)\n",
    "            recurse(index + 1, current_operand, 0, value + current_operand, string)\n",
    "            string.pop();string.pop()\n",
    "\n",
    "            # Can subtract or multiply only if there are some previous operands\n",
    "            if string:\n",
    "\n",
    "                # SUBTRACTION\n",
    "                string.append('-'); string.append(str_op)\n",
    "                recurse(index + 1, -current_operand, 0, value - current_operand, string)\n",
    "                string.pop();string.pop()\n",
    "\n",
    "                # MULTIPLICATION\n",
    "                string.append('*'); string.append(str_op)\n",
    "                recurse(index + 1, current_operand * prev_operand, 0, value - prev_operand + (current_operand * prev_operand), string)\n",
    "                string.pop();string.pop()\n",
    "        recurse(0, 0, 0, 0, [])    \n",
    "        return answers"
   ]
  }
 ],
 "metadata": {
  "kernelspec": {
   "display_name": "Python 3 (ipykernel)",
   "language": "python",
   "name": "python3"
  },
  "language_info": {
   "codemirror_mode": {
    "name": "ipython",
    "version": 3
   },
   "file_extension": ".py",
   "mimetype": "text/x-python",
   "name": "python",
   "nbconvert_exporter": "python",
   "pygments_lexer": "ipython3",
   "version": "3.11.7"
  }
 },
 "nbformat": 4,
 "nbformat_minor": 5
}
