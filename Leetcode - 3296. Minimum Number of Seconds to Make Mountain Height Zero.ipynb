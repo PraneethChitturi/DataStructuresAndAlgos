{
 "cells": [
  {
   "cell_type": "code",
   "execution_count": 144,
   "id": "686ec420-d0c8-4dee-adb0-0f8ec9e35128",
   "metadata": {},
   "outputs": [],
   "source": [
    "#Heap DataStructure\n",
    "import heapq \n",
    "\n",
    "def minNumberOfSeconds( mountainHeight, workerTimes):\n",
    "        h, res = [(t, t, 1) for i, t in enumerate(workerTimes)], 0\n",
    "        heapq.heapify(h)\n",
    "        while mountainHeight:\n",
    "            ps, wt, x = heapq.heappop(h)\n",
    "            res = max(res, ps)\n",
    "            heapq.heappush(h, (ps + wt * (x + 1), wt, x + 1))\n",
    "            mountainHeight-= 1\n",
    "        return res"
   ]
  },
  {
   "cell_type": "code",
   "execution_count": 145,
   "id": "0d17240e-1641-4447-88c2-3939733be195",
   "metadata": {},
   "outputs": [
    {
     "data": {
      "text/plain": [
       "21"
      ]
     },
     "execution_count": 145,
     "metadata": {},
     "output_type": "execute_result"
    }
   ],
   "source": [
    "minNumberOfSeconds( 9, [1,7,9])"
   ]
  },
  {
   "cell_type": "code",
   "execution_count": 146,
   "id": "a4b21704-a683-43d3-898d-53ad8d2fb22d",
   "metadata": {},
   "outputs": [
    {
     "data": {
      "text/plain": [
       "10"
      ]
     },
     "execution_count": 146,
     "metadata": {},
     "output_type": "execute_result"
    }
   ],
   "source": [
    "minNumberOfSeconds( 5, [1,5])"
   ]
  },
  {
   "cell_type": "code",
   "execution_count": 147,
   "id": "9a3ba07e-0941-4aa1-897d-2c005b203a44",
   "metadata": {},
   "outputs": [
    {
     "data": {
      "text/plain": [
       "12"
      ]
     },
     "execution_count": 147,
     "metadata": {},
     "output_type": "execute_result"
    }
   ],
   "source": [
    "minNumberOfSeconds( 10, [3,2,2,4])"
   ]
  },
  {
   "cell_type": "code",
   "execution_count": 148,
   "id": "dd49820d-74f0-42fd-833f-92982579ee0e",
   "metadata": {},
   "outputs": [
    {
     "data": {
      "text/plain": [
       "3"
      ]
     },
     "execution_count": 148,
     "metadata": {},
     "output_type": "execute_result"
    }
   ],
   "source": [
    "minNumberOfSeconds( 4,[2,1,1])"
   ]
  },
  {
   "cell_type": "code",
   "execution_count": 149,
   "id": "d854fa1d-8452-40d8-bd5b-1a2cd86ec6e0",
   "metadata": {},
   "outputs": [
    {
     "data": {
      "text/plain": [
       "15"
      ]
     },
     "execution_count": 149,
     "metadata": {},
     "output_type": "execute_result"
    }
   ],
   "source": [
    "minNumberOfSeconds( 5,[1])"
   ]
  },
  {
   "cell_type": "code",
   "execution_count": null,
   "id": "cf37df02-d860-420c-a2cd-ace806a40708",
   "metadata": {},
   "outputs": [],
   "source": []
  },
  {
   "cell_type": "code",
   "execution_count": null,
   "id": "58d134fd-0c44-47f6-a283-02665bc9425b",
   "metadata": {},
   "outputs": [],
   "source": []
  }
 ],
 "metadata": {
  "kernelspec": {
   "display_name": "Python 3 (ipykernel)",
   "language": "python",
   "name": "python3"
  },
  "language_info": {
   "codemirror_mode": {
    "name": "ipython",
    "version": 3
   },
   "file_extension": ".py",
   "mimetype": "text/x-python",
   "name": "python",
   "nbconvert_exporter": "python",
   "pygments_lexer": "ipython3",
   "version": "3.11.7"
  }
 },
 "nbformat": 4,
 "nbformat_minor": 5
}
