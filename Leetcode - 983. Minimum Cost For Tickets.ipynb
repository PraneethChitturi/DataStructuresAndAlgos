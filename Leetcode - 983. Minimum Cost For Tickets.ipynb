{
 "cells": [
  {
   "cell_type": "code",
   "execution_count": null,
   "id": "811e335a-7923-4ec5-8ce4-192439d8a706",
   "metadata": {},
   "outputs": [],
   "source": [
    "class Solution(object):\n",
    "    def mincostTickets(self, days, costs):\n",
    "        \"\"\"\n",
    "        :type days: List[int]\n",
    "        :type costs: List[int]\n",
    "        :rtype: int\n",
    "        \"\"\"\n",
    "        dp={}\n",
    "        def dfs(index):\n",
    "          if index==len(days):\n",
    "            return 0\n",
    "          if index in dp:\n",
    "            return dp[index]\n",
    "\n",
    "          dp[index]=float(\"inf\")\n",
    "          for day,cost in zip([1,7,30],costs):\n",
    "            j=index\n",
    "            while j<len(days) and days[j]<days[index]+day:\n",
    "             j+=1\n",
    "\n",
    "            dp[index]=min(dp[index],cost+dfs(j))\n",
    "\n",
    "          return dp[index]\n",
    "\n",
    "        return dfs(0)"
   ]
  }
 ],
 "metadata": {
  "kernelspec": {
   "display_name": "Python 3 (ipykernel)",
   "language": "python",
   "name": "python3"
  },
  "language_info": {
   "codemirror_mode": {
    "name": "ipython",
    "version": 3
   },
   "file_extension": ".py",
   "mimetype": "text/x-python",
   "name": "python",
   "nbconvert_exporter": "python",
   "pygments_lexer": "ipython3",
   "version": "3.11.7"
  }
 },
 "nbformat": 4,
 "nbformat_minor": 5
}
