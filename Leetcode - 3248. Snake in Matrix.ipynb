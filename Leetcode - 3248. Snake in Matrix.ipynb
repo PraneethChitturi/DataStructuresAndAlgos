{
 "cells": [
  {
   "cell_type": "code",
   "execution_count": null,
   "id": "28a03890",
   "metadata": {},
   "outputs": [],
   "source": [
    "#Beats 100% in TLE\n",
    "class Solution(object):\n",
    "    def finalPositionOfSnake(self, n, commands):\n",
    "        \"\"\"\n",
    "        :type n: int\n",
    "        :type commands: List[str]\n",
    "        :rtype: int\n",
    "        \"\"\"\n",
    "        ans = 0\n",
    "        for comm in commands:\n",
    "            if comm == 'UP':\n",
    "                ans-=n\n",
    "            elif comm == \"DOWN\":\n",
    "                ans+=n\n",
    "            elif comm == \"RIGHT\":\n",
    "                ans+=1\n",
    "            elif comm == 'LEFT':\n",
    "                ans-=1\n",
    "        return ans"
   ]
  }
 ],
 "metadata": {
  "kernelspec": {
   "display_name": "Python 3 (ipykernel)",
   "language": "python",
   "name": "python3"
  },
  "language_info": {
   "codemirror_mode": {
    "name": "ipython",
    "version": 3
   },
   "file_extension": ".py",
   "mimetype": "text/x-python",
   "name": "python",
   "nbconvert_exporter": "python",
   "pygments_lexer": "ipython3",
   "version": "3.11.4"
  }
 },
 "nbformat": 4,
 "nbformat_minor": 5
}
