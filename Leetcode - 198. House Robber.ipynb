{
 "cells": [
  {
   "cell_type": "code",
   "execution_count": null,
   "id": "22971ee6-e715-480b-a11e-a06c6a903888",
   "metadata": {},
   "outputs": [],
   "source": [
    "class Solution(object):\n",
    "    def rob(self, nums):\n",
    "        \"\"\"\n",
    "        :type nums: List[int]\n",
    "        :rtype: int\n",
    "        \"\"\"\n",
    "        if len(nums)<=2:\n",
    "            return max(nums)\n",
    "        \n",
    "        dp=[-1]*len(nums)\n",
    "        dp[-1]=nums[-1]\n",
    "        dp[-2]=max(nums[-2],nums[-1])\n",
    "        for i in range(len(nums)-3,-1,-1):\n",
    "            dp[i]=max(nums[i]+dp[i+2],dp[i+1])\n",
    "        return max(dp[0],dp[1])"
   ]
  },
  {
   "cell_type": "code",
   "execution_count": null,
   "id": "27158566-6529-4d79-aebf-e7d8c41db1b2",
   "metadata": {},
   "outputs": [],
   "source": [
    "rob([1,2,3,1])"
   ]
  },
  {
   "cell_type": "code",
   "execution_count": null,
   "id": "eada4df2-ef4f-4c2e-9613-b4fa4f122b99",
   "metadata": {},
   "outputs": [],
   "source": [
    "rob([2,7,9,3,1])"
   ]
  },
  {
   "cell_type": "code",
   "execution_count": null,
   "id": "0c6a02c0-f8a0-4551-a8d2-9ef2c53455dc",
   "metadata": {},
   "outputs": [],
   "source": []
  }
 ],
 "metadata": {
  "kernelspec": {
   "display_name": "Python 3 (ipykernel)",
   "language": "python",
   "name": "python3"
  },
  "language_info": {
   "codemirror_mode": {
    "name": "ipython",
    "version": 3
   },
   "file_extension": ".py",
   "mimetype": "text/x-python",
   "name": "python",
   "nbconvert_exporter": "python",
   "pygments_lexer": "ipython3",
   "version": "3.11.7"
  }
 },
 "nbformat": 4,
 "nbformat_minor": 5
}
