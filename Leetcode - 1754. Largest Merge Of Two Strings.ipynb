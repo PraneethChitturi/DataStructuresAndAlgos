{
 "cells": [
  {
   "cell_type": "code",
   "execution_count": 96,
   "id": "df13ff99",
   "metadata": {},
   "outputs": [],
   "source": [
    "#Failed attempt\n",
    "def largestMerge(word1, word2):\n",
    "    finalstr = ''\n",
    "    \n",
    "    while word1 and word2:\n",
    "        i=0\n",
    "        print(\"Word1:\",word1,\" Word2:\",word2,\"; Finalword: \",finalstr)\n",
    "        while i<min(len(word1),len(word2)) and word1[i]==word2[i]:\n",
    "            i = i+1\n",
    "            \n",
    "        if i>=len(word1):\n",
    "            finalstr += word2[:]\n",
    "            word2 = ''\n",
    "            break\n",
    "        elif i>=len(word2):\n",
    "            finalstr += word1[:]\n",
    "            word1 = ''\n",
    "            break\n",
    " \n",
    "        if word1[i]>word2[i]:\n",
    "            finalstr += word1[:i+1]\n",
    "            word1 = word1[i+1:]\n",
    "        \n",
    "        elif word2[i]>word1[i]:\n",
    "            finalstr += word2[:i+1]\n",
    "            word2 = word2[i+1:]\n",
    "            \n",
    "    print(word1,word2,\"; Finalword: \",finalstr)    \n",
    "    finalstr = finalstr + word1 + word2\n",
    "    \n",
    "    return finalstr\n",
    "    "
   ]
  },
  {
   "cell_type": "code",
   "execution_count": 97,
   "id": "5c365287",
   "metadata": {},
   "outputs": [
    {
     "name": "stdout",
     "output_type": "stream",
     "text": [
      "Word1: uuurruuuruuuuuuuuruuuuu  Word2: urrrurrrrrrrruurrrurrrurrrrruu ; Finalword:  \n",
      "Word1: urruuuruuuuuuuuruuuuu  Word2: urrrurrrrrrrruurrrurrrurrrrruu ; Finalword:  uu\n",
      "Word1: uuruuuuuuuuruuuuu  Word2: urrrurrrrrrrruurrrurrrurrrrruu ; Finalword:  uuurru\n",
      "Word1: ruuuuuuuuruuuuu  Word2: urrrurrrrrrrruurrrurrrurrrrruu ; Finalword:  uuurruuu\n",
      "Word1: ruuuuuuuuruuuuu  Word2: rrrurrrrrrrruurrrurrrurrrrruu ; Finalword:  uuurruuuu\n",
      "Word1: uuuuuuuruuuuu  Word2: rrrurrrrrrrruurrrurrrurrrrruu ; Finalword:  uuurruuuuru\n",
      "Word1: uuuuuuruuuuu  Word2: rrrurrrrrrrruurrrurrrurrrrruu ; Finalword:  uuurruuuuruu\n",
      "Word1: uuuuuruuuuu  Word2: rrrurrrrrrrruurrrurrrurrrrruu ; Finalword:  uuurruuuuruuu\n",
      "Word1: uuuuruuuuu  Word2: rrrurrrrrrrruurrrurrrurrrrruu ; Finalword:  uuurruuuuruuuu\n",
      "Word1: uuuruuuuu  Word2: rrrurrrrrrrruurrrurrrurrrrruu ; Finalword:  uuurruuuuruuuuu\n",
      "Word1: uuruuuuu  Word2: rrrurrrrrrrruurrrurrrurrrrruu ; Finalword:  uuurruuuuruuuuuu\n",
      "Word1: uruuuuu  Word2: rrrurrrrrrrruurrrurrrurrrrruu ; Finalword:  uuurruuuuruuuuuuu\n",
      "Word1: ruuuuu  Word2: rrrurrrrrrrruurrrurrrurrrrruu ; Finalword:  uuurruuuuruuuuuuuu\n",
      "Word1: uuuu  Word2: rrrurrrrrrrruurrrurrrurrrrruu ; Finalword:  uuurruuuuruuuuuuuuru\n",
      "Word1: uuu  Word2: rrrurrrrrrrruurrrurrrurrrrruu ; Finalword:  uuurruuuuruuuuuuuuruu\n",
      "Word1: uu  Word2: rrrurrrrrrrruurrrurrrurrrrruu ; Finalword:  uuurruuuuruuuuuuuuruuu\n",
      "Word1: u  Word2: rrrurrrrrrrruurrrurrrurrrrruu ; Finalword:  uuurruuuuruuuuuuuuruuuu\n",
      " rrrurrrrrrrruurrrurrrurrrrruu ; Finalword:  uuurruuuuruuuuuuuuruuuuu\n"
     ]
    },
    {
     "data": {
      "text/plain": [
       "'uuurruuuuruuuuuuuuruuuuurrrurrrrrrrruurrrurrrurrrrruu'"
      ]
     },
     "execution_count": 97,
     "metadata": {},
     "output_type": "execute_result"
    }
   ],
   "source": [
    "largestMerge(\"uuurruuuruuuuuuuuruuuuu\",\"urrrurrrrrrrruurrrurrrurrrrruu\")"
   ]
  },
  {
   "cell_type": "code",
   "execution_count": 94,
   "id": "85b803b6",
   "metadata": {},
   "outputs": [
    {
     "name": "stdout",
     "output_type": "stream",
     "text": [
      "Word1: cabaa  Word2: bcaaa ; Finalword:  \n",
      "Word1: abaa  Word2: bcaaa ; Finalword:  c\n",
      "Word1: abaa  Word2: caaa ; Finalword:  cb\n",
      "Word1: abaa  Word2: aaa ; Finalword:  cbc\n",
      "Word1: aa  Word2: aaa ; Finalword:  cbcab\n",
      "aa  ; Finalword:  cbcabaaa\n"
     ]
    },
    {
     "data": {
      "text/plain": [
       "'cbcabaaaaa'"
      ]
     },
     "execution_count": 94,
     "metadata": {},
     "output_type": "execute_result"
    }
   ],
   "source": [
    "largestMerge(\"cabaa\",\"bcaaa\")"
   ]
  },
  {
   "cell_type": "code",
   "execution_count": 95,
   "id": "dd417709",
   "metadata": {},
   "outputs": [
    {
     "name": "stdout",
     "output_type": "stream",
     "text": [
      "Word1: abcabc  Word2: abdcaba ; Finalword:  \n",
      "Word1: abcabc  Word2: caba ; Finalword:  abd\n",
      "Word1: abcabc  Word2: aba ; Finalword:  abdc\n",
      "Word1: abc  Word2: aba ; Finalword:  abdcabc\n",
      " aba ; Finalword:  abdcabcabc\n"
     ]
    },
    {
     "data": {
      "text/plain": [
       "'abdcabcabcaba'"
      ]
     },
     "execution_count": 95,
     "metadata": {},
     "output_type": "execute_result"
    }
   ],
   "source": [
    "largestMerge(\"abcabc\",\"abdcaba\")"
   ]
  },
  {
   "cell_type": "code",
   "execution_count": 32,
   "id": "e0001b82",
   "metadata": {},
   "outputs": [
    {
     "data": {
      "text/plain": [
       "('abd', 'cabc', 'dcaba')"
      ]
     },
     "execution_count": 32,
     "metadata": {},
     "output_type": "execute_result"
    }
   ],
   "source": [
    "#Beats 80% in TLE\n",
    "def largestMerge(word1, word2):\n",
    "    finalstr = ''\n",
    "        \n",
    "    while word1 and word2:\n",
    "        if word1 > word2:\n",
    "            finalstr += word1[0]\n",
    "            word1 = word1[1:]\n",
    "        else:\n",
    "            finalstr += word2[0]\n",
    "            word2 = word2[1:]\n",
    "\n",
    "    finalstr += word1+word2\n",
    "    return finalstr"
   ]
  },
  {
   "cell_type": "code",
   "execution_count": null,
   "id": "fd13e49a",
   "metadata": {},
   "outputs": [],
   "source": []
  }
 ],
 "metadata": {
  "kernelspec": {
   "display_name": "Python 3 (ipykernel)",
   "language": "python",
   "name": "python3"
  },
  "language_info": {
   "codemirror_mode": {
    "name": "ipython",
    "version": 3
   },
   "file_extension": ".py",
   "mimetype": "text/x-python",
   "name": "python",
   "nbconvert_exporter": "python",
   "pygments_lexer": "ipython3",
   "version": "3.10.9"
  }
 },
 "nbformat": 4,
 "nbformat_minor": 5
}
