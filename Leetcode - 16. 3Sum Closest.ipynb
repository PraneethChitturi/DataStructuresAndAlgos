{
 "cells": [
  {
   "cell_type": "code",
   "execution_count": 10,
   "id": "394551b3",
   "metadata": {},
   "outputs": [],
   "source": [
    "nums = [-1,2,1,-4]\n",
    "target = 1\n",
    "\n",
    "def threeSumClosest(nums, target):\n",
    "    nums.sort()\n",
    "    n = len(nums)\n",
    "    resultsum = nums[0] + nums[1] + nums[2]\n",
    "    resultdiff = abs(target - resultsum)\n",
    "    \n",
    "    for i in range(0,len(nums)-2):\n",
    "        ele = nums[i]\n",
    "        left = i+1\n",
    "        right = n-1\n",
    "        while left<right:\n",
    "            tempsum = ele + nums[left] + nums[right]\n",
    "            \n",
    "            if tempsum==target:\n",
    "                return target\n",
    "            elif tempsum < target:\n",
    "                left = left+1\n",
    "            else:\n",
    "                right = right-1\n",
    "                \n",
    "            tempdiff = abs(target-tempsum)\n",
    "            if tempdiff < resultdiff:\n",
    "                resultsum = tempsum\n",
    "                resultdiff = tempdiff\n",
    "    return resultsum\n",
    "    "
   ]
  },
  {
   "cell_type": "code",
   "execution_count": 12,
   "id": "94b10ecf",
   "metadata": {},
   "outputs": [
    {
     "data": {
      "text/plain": [
       "0"
      ]
     },
     "execution_count": 12,
     "metadata": {},
     "output_type": "execute_result"
    }
   ],
   "source": [
    "nums = [0,0,0]\n",
    "target = 1\n",
    "threeSumClosest(nums,target)"
   ]
  },
  {
   "cell_type": "code",
   "execution_count": null,
   "id": "954681db",
   "metadata": {},
   "outputs": [],
   "source": []
  }
 ],
 "metadata": {
  "kernelspec": {
   "display_name": "Python 3 (ipykernel)",
   "language": "python",
   "name": "python3"
  },
  "language_info": {
   "codemirror_mode": {
    "name": "ipython",
    "version": 3
   },
   "file_extension": ".py",
   "mimetype": "text/x-python",
   "name": "python",
   "nbconvert_exporter": "python",
   "pygments_lexer": "ipython3",
   "version": "3.10.9"
  }
 },
 "nbformat": 4,
 "nbformat_minor": 5
}
