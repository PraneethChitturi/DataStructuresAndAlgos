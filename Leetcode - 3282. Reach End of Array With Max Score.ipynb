{
 "cells": [
  {
   "cell_type": "code",
   "execution_count": null,
   "id": "a419a89d-48b3-4b7c-ad5c-44763dc1207f",
   "metadata": {},
   "outputs": [],
   "source": [
    "#Greedy Solution\n",
    "class Solution(object):\n",
    "    def findMaximumScore(self, nums):\n",
    "        max_val = 0\n",
    "        total_sum = 0\n",
    "        for i in range(len(nums) - 1):\n",
    "            max_val = max(max_val, nums[i])\n",
    "            total_sum += max_val\n",
    "        return total_sum"
   ]
  },
  {
   "cell_type": "code",
   "execution_count": 13,
   "id": "ee602843-7cdc-4669-98eb-609ef855181d",
   "metadata": {},
   "outputs": [],
   "source": [
    "#DP \n",
    "class Solution(object):\n",
    "    def findMaximumScore(self, nums):\n",
    "        \"\"\"\n",
    "        :type nums: List[int]\n",
    "        :rtype: int\n",
    "        \"\"\"\n",
    "        if len(nums)==1:\n",
    "          return 0\n",
    "        dp={}\n",
    "        for i in range(len(nums)-2,-1,-1):\n",
    "            maxati=0\n",
    "            for j in range(i+1,len(nums)):\n",
    "                if j in dp:\n",
    "                    score=dp[j]+((j-i)*nums[i])\n",
    "                else:\n",
    "                    score=((j-i)*nums[i])\n",
    "\n",
    "                if score>maxati:\n",
    "                    maxati=score\n",
    "            dp[i]=maxati\n",
    "        return dp[0]\n",
    "        "
   ]
  },
  {
   "cell_type": "code",
   "execution_count": 15,
   "id": "dfeff5da-6a47-4fbb-8fa1-f5902554c1e6",
   "metadata": {},
   "outputs": [
    {
     "data": {
      "text/plain": [
       "16"
      ]
     },
     "execution_count": 15,
     "metadata": {},
     "output_type": "execute_result"
    }
   ],
   "source": [
    "findMaximumScore([1,3,1,5])"
   ]
  },
  {
   "cell_type": "code",
   "execution_count": null,
   "id": "f7f27502-a935-445f-ade9-36effda0a7f9",
   "metadata": {},
   "outputs": [],
   "source": [
    "findMaximumScore([1,3,1,5])"
   ]
  }
 ],
 "metadata": {
  "kernelspec": {
   "display_name": "Python 3 (ipykernel)",
   "language": "python",
   "name": "python3"
  },
  "language_info": {
   "codemirror_mode": {
    "name": "ipython",
    "version": 3
   },
   "file_extension": ".py",
   "mimetype": "text/x-python",
   "name": "python",
   "nbconvert_exporter": "python",
   "pygments_lexer": "ipython3",
   "version": "3.11.7"
  }
 },
 "nbformat": 4,
 "nbformat_minor": 5
}
