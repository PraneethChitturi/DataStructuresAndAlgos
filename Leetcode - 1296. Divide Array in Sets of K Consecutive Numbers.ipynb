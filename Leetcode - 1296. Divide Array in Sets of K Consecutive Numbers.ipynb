{
 "cells": [
  {
   "cell_type": "code",
   "execution_count": null,
   "id": "524c1737-9db1-43b5-b80a-fda57a5d4473",
   "metadata": {},
   "outputs": [],
   "source": [
    "class Solution {\n",
    "    public boolean isPossibleDivide(int[] nums, int k) {\n",
    "        if(nums.length%k!=0){return false;}\n",
    "        TreeMap<Integer,Integer> map = new TreeMap<>();\n",
    "\n",
    "        for (int num:nums){\n",
    "            map.put(num,map.getOrDefault(num,0)+1);\n",
    "        }\n",
    "\n",
    "        while(!map.isEmpty()){\n",
    "            int key = map.firstKey();\n",
    "            for (int i=key;i<key+k;i++){\n",
    "                if (!map.containsKey(i)){\n",
    "                    return false;\n",
    "                }\n",
    "                int val = map.get(i);\n",
    "                if (val==1){map.remove(i);}\n",
    "                else{map.put(i,val-1);}\n",
    "            }\n",
    "\n",
    "        }\n",
    "        return true;\n",
    "    }\n",
    "}"
   ]
  }
 ],
 "metadata": {
  "kernelspec": {
   "display_name": "Python 3 (ipykernel)",
   "language": "python",
   "name": "python3"
  },
  "language_info": {
   "codemirror_mode": {
    "name": "ipython",
    "version": 3
   },
   "file_extension": ".py",
   "mimetype": "text/x-python",
   "name": "python",
   "nbconvert_exporter": "python",
   "pygments_lexer": "ipython3",
   "version": "3.11.7"
  }
 },
 "nbformat": 4,
 "nbformat_minor": 5
}
