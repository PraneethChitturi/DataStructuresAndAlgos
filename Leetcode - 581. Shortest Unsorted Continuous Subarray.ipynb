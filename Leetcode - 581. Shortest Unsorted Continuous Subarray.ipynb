{
 "cells": [
  {
   "cell_type": "code",
   "execution_count": null,
   "id": "6140071d-1332-40b3-bb49-87d100027538",
   "metadata": {},
   "outputs": [],
   "source": [
    "class Solution {\n",
    "    public int findUnsortedSubarray(int[] nums) {\n",
    "\n",
    "        int right=0;\n",
    "        int left =nums.length;\n",
    "\n",
    "        Deque<Integer> stack = new ArrayDeque<>();\n",
    "\n",
    "        for (int i=0;i<nums.length;i++){\n",
    "\n",
    "            while (!stack.isEmpty() && nums[i]<nums[stack.peek()]){\n",
    "                left=Math.min(left,stack.pop());\n",
    "            }\n",
    "            stack.push(i);\n",
    "\n",
    "        }\n",
    "\n",
    "        stack.clear();\n",
    "        for (int j=nums.length-1;j>-1;j--){\n",
    "            while (!stack.isEmpty() && nums[j]>nums[stack.peek()]){\n",
    "                right=Math.max(right,stack.pop());\n",
    "            }\n",
    "            stack.push(j);\n",
    "        }\n",
    "\n",
    "        return right-left>0?right-left+1:0;\n",
    "    }\n",
    "}"
   ]
  }
 ],
 "metadata": {
  "kernelspec": {
   "display_name": "Python 3 (ipykernel)",
   "language": "python",
   "name": "python3"
  },
  "language_info": {
   "codemirror_mode": {
    "name": "ipython",
    "version": 3
   },
   "file_extension": ".py",
   "mimetype": "text/x-python",
   "name": "python",
   "nbconvert_exporter": "python",
   "pygments_lexer": "ipython3",
   "version": "3.11.7"
  }
 },
 "nbformat": 4,
 "nbformat_minor": 5
}
