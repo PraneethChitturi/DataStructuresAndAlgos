{
 "cells": [
  {
   "cell_type": "code",
   "execution_count": 41,
   "id": "83cafa20",
   "metadata": {},
   "outputs": [],
   "source": [
    "#Beats 96% in TLE\n",
    "def searchInsert(nums, target):\n",
    "    \n",
    "    def binarysearch(nums,i,j,target):\n",
    "        #print(\"index0:\",i,\"; index1:\",j,\"; ele=\",nums[i:j+1])\n",
    "        if nums[i] >= target:\n",
    "            return i\n",
    "        \n",
    "        if nums[j] < target:\n",
    "            return j+1 \n",
    "        if nums[j] ==target:\n",
    "            return j\n",
    "        \n",
    "        mid = i+ (j-i+1) // 2\n",
    "        #print(mid,nums[mid])\n",
    "        #print(\"End:\",i,j)\n",
    "        if nums[mid]==target:\n",
    "            return mid\n",
    "        elif nums[mid]<target:\n",
    "            return binarysearch(nums,mid+1,j,target)\n",
    "        else:\n",
    "            return binarysearch(nums,i,mid-1,target)\n",
    "        \n",
    "    return binarysearch(nums,0,len(nums)-1,target)"
   ]
  },
  {
   "cell_type": "code",
   "execution_count": 42,
   "id": "e62830e5",
   "metadata": {},
   "outputs": [
    {
     "name": "stdout",
     "output_type": "stream",
     "text": [
      "index0: 0 ; index1: 4 ; ele= [2, 3, 5, 6, 9]\n",
      "2 5\n",
      "End: 0 4\n",
      "index0: 3 ; index1: 4 ; ele= [6, 9]\n",
      "4 9\n",
      "End: 3 4\n",
      "index0: 3 ; index1: 3 ; ele= [6]\n"
     ]
    },
    {
     "data": {
      "text/plain": [
       "4"
      ]
     },
     "execution_count": 42,
     "metadata": {},
     "output_type": "execute_result"
    }
   ],
   "source": [
    "searchInsert([2,3,5,6,9],7)"
   ]
  },
  {
   "cell_type": "code",
   "execution_count": 43,
   "id": "130b8df2",
   "metadata": {},
   "outputs": [
    {
     "name": "stdout",
     "output_type": "stream",
     "text": [
      "index0: 0 ; index1: 3 ; ele= [1, 3, 5, 6]\n",
      "2 5\n",
      "End: 0 3\n"
     ]
    },
    {
     "data": {
      "text/plain": [
       "2"
      ]
     },
     "execution_count": 43,
     "metadata": {},
     "output_type": "execute_result"
    }
   ],
   "source": [
    "searchInsert([1,3,5,6], 5)\n",
    "#Output: 2"
   ]
  },
  {
   "cell_type": "code",
   "execution_count": 44,
   "id": "449ef78f",
   "metadata": {},
   "outputs": [
    {
     "name": "stdout",
     "output_type": "stream",
     "text": [
      "index0: 0 ; index1: 3 ; ele= [1, 3, 5, 6]\n",
      "2 5\n",
      "End: 0 3\n",
      "index0: 0 ; index1: 1 ; ele= [1, 3]\n",
      "1 3\n",
      "End: 0 1\n",
      "index0: 0 ; index1: 0 ; ele= [1]\n"
     ]
    },
    {
     "data": {
      "text/plain": [
       "1"
      ]
     },
     "execution_count": 44,
     "metadata": {},
     "output_type": "execute_result"
    }
   ],
   "source": [
    "searchInsert([1,3,5,6], 2)\n",
    "#Output: 1"
   ]
  },
  {
   "cell_type": "code",
   "execution_count": 45,
   "id": "b8f4bc37",
   "metadata": {},
   "outputs": [
    {
     "name": "stdout",
     "output_type": "stream",
     "text": [
      "index0: 0 ; index1: 3 ; ele= [1, 3, 5, 6]\n"
     ]
    },
    {
     "data": {
      "text/plain": [
       "4"
      ]
     },
     "execution_count": 45,
     "metadata": {},
     "output_type": "execute_result"
    }
   ],
   "source": [
    "searchInsert([1,3,5,6], 7)\n",
    "#Output: 4"
   ]
  },
  {
   "cell_type": "code",
   "execution_count": 46,
   "id": "1351ffb4",
   "metadata": {},
   "outputs": [
    {
     "name": "stdout",
     "output_type": "stream",
     "text": [
      "index0: 0 ; index1: 2 ; ele= [1, 3, 5]\n",
      "1 3\n",
      "End: 0 2\n",
      "index0: 2 ; index1: 2 ; ele= [5]\n"
     ]
    },
    {
     "data": {
      "text/plain": [
       "2"
      ]
     },
     "execution_count": 46,
     "metadata": {},
     "output_type": "execute_result"
    }
   ],
   "source": [
    "searchInsert([1,3,5],4)"
   ]
  },
  {
   "cell_type": "code",
   "execution_count": null,
   "id": "f07c349c",
   "metadata": {},
   "outputs": [],
   "source": []
  }
 ],
 "metadata": {
  "kernelspec": {
   "display_name": "Python 3 (ipykernel)",
   "language": "python",
   "name": "python3"
  },
  "language_info": {
   "codemirror_mode": {
    "name": "ipython",
    "version": 3
   },
   "file_extension": ".py",
   "mimetype": "text/x-python",
   "name": "python",
   "nbconvert_exporter": "python",
   "pygments_lexer": "ipython3",
   "version": "3.11.4"
  }
 },
 "nbformat": 4,
 "nbformat_minor": 5
}
