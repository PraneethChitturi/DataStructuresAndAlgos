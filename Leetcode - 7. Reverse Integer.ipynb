{
 "cells": [
  {
   "cell_type": "code",
   "execution_count": 23,
   "id": "f7c21e37",
   "metadata": {},
   "outputs": [],
   "source": [
    "#Simple logic\n",
    "def reverse(x):\n",
    "    \"\"\"\n",
    "    :type x: int\n",
    "    :rtype: int\n",
    "    \"\"\"\n",
    "    negative = 0\n",
    "    if x<0:\n",
    "        negative = 1\n",
    "        x=x*-1\n",
    "            \n",
    "    x = str(x)[::-1]\n",
    "    \n",
    "    if negative:\n",
    "        x = -x\n",
    "    if x < -(2**31) or x > (2**31 - 1):\n",
    "        return 0\n",
    "    else:\n",
    "        return x"
   ]
  },
  {
   "cell_type": "code",
   "execution_count": 24,
   "id": "b192e8d1",
   "metadata": {},
   "outputs": [
    {
     "data": {
      "text/plain": [
       "0"
      ]
     },
     "execution_count": 24,
     "metadata": {},
     "output_type": "execute_result"
    }
   ],
   "source": [
    "#Time opt\n",
    "def reverse(x):\n",
    "    \"\"\"\n",
    "    :type x: int\n",
    "    :rtype: int\n",
    "    \"\"\"\n",
    "        result=0\n",
    "        negative=x<0\n",
    "        x=abs(x)\n",
    "        while x!=0:\n",
    "            digit=x%10\n",
    "            result=result*10+digit\n",
    "            x//=10\n",
    "        if negative:\n",
    "            result=-result\n",
    "        if result < -(2**31) or result > (2**31 - 1):\n",
    "            return 0  # Return 0 if the reversed number is out of range\n",
    "       \n",
    "        return result "
   ]
  },
  {
   "cell_type": "code",
   "execution_count": null,
   "id": "4ac16d5f",
   "metadata": {},
   "outputs": [],
   "source": []
  }
 ],
 "metadata": {
  "kernelspec": {
   "display_name": "Python 3 (ipykernel)",
   "language": "python",
   "name": "python3"
  },
  "language_info": {
   "codemirror_mode": {
    "name": "ipython",
    "version": 3
   },
   "file_extension": ".py",
   "mimetype": "text/x-python",
   "name": "python",
   "nbconvert_exporter": "python",
   "pygments_lexer": "ipython3",
   "version": "3.10.9"
  }
 },
 "nbformat": 4,
 "nbformat_minor": 5
}
