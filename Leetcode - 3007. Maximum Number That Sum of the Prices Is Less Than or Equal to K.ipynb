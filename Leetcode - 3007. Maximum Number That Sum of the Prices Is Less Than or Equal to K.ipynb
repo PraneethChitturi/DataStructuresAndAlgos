{
 "cells": [
  {
   "cell_type": "code",
   "execution_count": null,
   "id": "5954ca62-9237-4485-9c89-15461df1e483",
   "metadata": {},
   "outputs": [],
   "source": [
    "import math\n",
    "\n",
    "class Solution(object):\n",
    "    def __init__(self):\n",
    "        self.bitsum = [0] * 53\n",
    "\n",
    "    def findMaximumNumber(self, k, x):\n",
    "        \"\"\"\n",
    "        :type k: int\n",
    "        :type x: int\n",
    "        :rtype: int\n",
    "        \"\"\"\n",
    "        l = 0\n",
    "        r = 10**15  # fix: use exponentiation, not bitwise XOR\n",
    "\n",
    "        while l < r:\n",
    "            mid = (l + r + 1) // 2\n",
    "            self.bitsum = [0] * 53\n",
    "            self.solve(mid)\n",
    "\n",
    "            ans = 0\n",
    "            for i in range(53):\n",
    "                if (i+1) % x == 0:\n",
    "                    ans += self.bitsum[i]\n",
    "\n",
    "            if ans > k:\n",
    "                r = mid - 1\n",
    "            else:\n",
    "                l = mid\n",
    "\n",
    "        return l\n",
    "\n",
    "    def solve(self, N):\n",
    "        if N == 0:\n",
    "            return\n",
    "\n",
    "        msb = int(math.log(N,2))\n",
    "        cn = 1 << msb\n",
    "        self.bitsum[msb] += N - cn + 1\n",
    "\n",
    "        for i in range(msb):\n",
    "            self.bitsum[i] += cn // 2\n",
    "        self.solve(N - cn)\n"
   ]
  }
 ],
 "metadata": {
  "kernelspec": {
   "display_name": "Python 3 (ipykernel)",
   "language": "python",
   "name": "python3"
  },
  "language_info": {
   "codemirror_mode": {
    "name": "ipython",
    "version": 3
   },
   "file_extension": ".py",
   "mimetype": "text/x-python",
   "name": "python",
   "nbconvert_exporter": "python",
   "pygments_lexer": "ipython3",
   "version": "3.11.7"
  }
 },
 "nbformat": 4,
 "nbformat_minor": 5
}
