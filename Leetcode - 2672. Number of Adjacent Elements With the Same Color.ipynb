{
 "cells": [
  {
   "cell_type": "code",
   "execution_count": null,
   "id": "c4c22100-55fe-4ba6-932c-5e5d19c11378",
   "metadata": {},
   "outputs": [],
   "source": [
    "class Solution(object):\n",
    "    def colorTheArray(self, n, queries):\n",
    "        \"\"\"\n",
    "        :type n: int\n",
    "        :type queries: List[List[int]]\n",
    "        :rtype: List[int]\n",
    "        \"\"\"\n",
    "        anslist = []\n",
    "        orig = [0]*n\n",
    "        ans=0\n",
    "        for query in queries:\n",
    "          \n",
    "          if orig[query[0]]!=0 and query[0]-1 >=0 and orig[query[0]-1]==orig[query[0]]:\n",
    "            ans-=1\n",
    "\n",
    "          if orig[query[0]]!=0 and query[0]+1<n and orig[query[0]+1]==orig[query[0]]:\n",
    "            ans-=1\n",
    "            \n",
    "          orig[query[0]]=query[1]\n",
    "\n",
    "          if query[0]-1 >=0 and orig[query[0]-1]==orig[query[0]]:\n",
    "            ans+=1\n",
    "\n",
    "          if query[0]+1<n and orig[query[0]+1]==orig[query[0]]:\n",
    "            ans+=1\n",
    "\n",
    "          anslist.append(ans)\n",
    "\n",
    "        return anslist"
   ]
  }
 ],
 "metadata": {
  "kernelspec": {
   "display_name": "Python 3 (ipykernel)",
   "language": "python",
   "name": "python3"
  },
  "language_info": {
   "codemirror_mode": {
    "name": "ipython",
    "version": 3
   },
   "file_extension": ".py",
   "mimetype": "text/x-python",
   "name": "python",
   "nbconvert_exporter": "python",
   "pygments_lexer": "ipython3",
   "version": "3.11.7"
  }
 },
 "nbformat": 4,
 "nbformat_minor": 5
}
