{
 "cells": [
  {
   "cell_type": "code",
   "execution_count": 21,
   "id": "4c12f5fe",
   "metadata": {},
   "outputs": [],
   "source": [
    "#Beats 75% in TLE\n",
    "def removeAnagrams(words):\n",
    "    \"\"\"\n",
    "    :type words: List[str]\n",
    "    :rtype: List[str]\n",
    "    \"\"\"\n",
    "    i = 0\n",
    "    l = len(words)\n",
    "    temp=0\n",
    "    \n",
    "    f = [0]*26\n",
    "    for s in words[i]:\n",
    "        f[ord(s)-ord(\"a\")]+=1\n",
    "                \n",
    "    while True:\n",
    "        if i == l-1:\n",
    "            break   \n",
    "\n",
    "        sec = [0]*26\n",
    "        for s in words[i+1]:\n",
    "                sec[ord(s)-ord(\"a\")]+=1\n",
    "        \n",
    "        if f==sec:\n",
    "            words.pop(i+1)\n",
    "            i-=1\n",
    "            l-=1\n",
    "        else:\n",
    "            f=sec\n",
    "        \n",
    "        i +=1\n",
    "        \n",
    "    return words"
   ]
  },
  {
   "cell_type": "code",
   "execution_count": 22,
   "id": "d2efc6a0",
   "metadata": {},
   "outputs": [
    {
     "data": {
      "text/plain": [
       "['abba', 'cd']"
      ]
     },
     "execution_count": 22,
     "metadata": {},
     "output_type": "execute_result"
    }
   ],
   "source": [
    "words = [\"abba\",\"baba\",\"bbaa\",\"cd\",\"cd\"]\n",
    "removeAnagrams(words)"
   ]
  },
  {
   "cell_type": "code",
   "execution_count": null,
   "id": "aebdd260",
   "metadata": {},
   "outputs": [],
   "source": []
  }
 ],
 "metadata": {
  "kernelspec": {
   "display_name": "Python 3 (ipykernel)",
   "language": "python",
   "name": "python3"
  },
  "language_info": {
   "codemirror_mode": {
    "name": "ipython",
    "version": 3
   },
   "file_extension": ".py",
   "mimetype": "text/x-python",
   "name": "python",
   "nbconvert_exporter": "python",
   "pygments_lexer": "ipython3",
   "version": "3.10.9"
  }
 },
 "nbformat": 4,
 "nbformat_minor": 5
}
