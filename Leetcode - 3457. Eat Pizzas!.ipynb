{
 "cells": [
  {
   "cell_type": "code",
   "execution_count": null,
   "id": "b0b3575f-417a-4c1f-a369-64430aacfc2a",
   "metadata": {},
   "outputs": [],
   "source": [
    "class Solution(object):\n",
    "    def maxWeight(self, pizzas):\n",
    "        \"\"\"\n",
    "        :type pizzas: List[int]\n",
    "        :rtype: int\n",
    "        \"\"\"\n",
    "        n=len(pizzas)\n",
    "        pizzas.sort()\n",
    "        m=n/4\n",
    "        oddcount=(m+1)/2\n",
    "        evencount=m/2\n",
    "\n",
    "        total=0\n",
    "        j=n-1\n",
    "        for i in range(oddcount):\n",
    "          total+=pizzas[j]\n",
    "          j-=1\n",
    "        \n",
    "        for i in range(evencount):\n",
    "          j-=1\n",
    "          total+=pizzas[j]\n",
    "          j-=1\n",
    "        \n",
    "        return total"
   ]
  }
 ],
 "metadata": {
  "kernelspec": {
   "display_name": "Python 3 (ipykernel)",
   "language": "python",
   "name": "python3"
  },
  "language_info": {
   "codemirror_mode": {
    "name": "ipython",
    "version": 3
   },
   "file_extension": ".py",
   "mimetype": "text/x-python",
   "name": "python",
   "nbconvert_exporter": "python",
   "pygments_lexer": "ipython3",
   "version": "3.11.7"
  }
 },
 "nbformat": 4,
 "nbformat_minor": 5
}
