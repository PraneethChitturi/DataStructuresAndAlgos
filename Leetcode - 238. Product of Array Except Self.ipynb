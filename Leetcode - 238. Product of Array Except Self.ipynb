{
 "cells": [
  {
   "cell_type": "code",
   "execution_count": null,
   "id": "5294a8df-71e5-4091-924f-d944d7b294cf",
   "metadata": {},
   "outputs": [],
   "source": [
    "class Solution(object):\n",
    "    def productExceptSelf(self, nums):\n",
    "        \"\"\"\n",
    "        :type nums: List[int]\n",
    "        :rtype: List[int]\n",
    "        \"\"\"\n",
    "        totalprod = 1\n",
    "        totalprodwithoutzero=1\n",
    "        countofzeros=0\n",
    "        for num in nums:\n",
    "            totalprod *=num\n",
    "            if num!=0:\n",
    "                totalprodwithoutzero*=num\n",
    "            else:\n",
    "                countofzeros+=1\n",
    "\n",
    "        if countofzeros>1:\n",
    "            return [0]*len(nums)\n",
    "        \n",
    "        ans=[totalprod]*len(nums)\n",
    "        for i in range(len(nums)):\n",
    "            if nums[i]==0:\n",
    "                ans[i]=totalprodwithoutzero\n",
    "            else:\n",
    "                ans[i]=ans[i]/nums[i]\n",
    "        return ans"
   ]
  },
  {
   "cell_type": "code",
   "execution_count": null,
   "id": "d04d02c5-ce6a-468d-80dc-c744714f69f4",
   "metadata": {},
   "outputs": [],
   "source": [
    "class Solution(object):\n",
    "    def productExceptSelf(self, nums):\n",
    "        n=len(nums)\n",
    "        prefixmult = [1]*n\n",
    "        sufficmult=[1]*n\n",
    "\n",
    "        for i in range(1,n):\n",
    "            prefixmult[i]=prefixmult[i-1]*nums[i-1]\n",
    "        for i in range(n-2,-1,-1):\n",
    "            sufficmult[i]=sufficmult[i+1]*nums[i+1]\n",
    "\n",
    "        ans = [1]*n\n",
    "        for i in range(n):\n",
    "            ans[i]=prefixmult[i]*sufficmult[i]\n",
    "\n",
    "        return ans"
   ]
  }
 ],
 "metadata": {
  "kernelspec": {
   "display_name": "Python 3 (ipykernel)",
   "language": "python",
   "name": "python3"
  },
  "language_info": {
   "codemirror_mode": {
    "name": "ipython",
    "version": 3
   },
   "file_extension": ".py",
   "mimetype": "text/x-python",
   "name": "python",
   "nbconvert_exporter": "python",
   "pygments_lexer": "ipython3",
   "version": "3.11.7"
  }
 },
 "nbformat": 4,
 "nbformat_minor": 5
}
