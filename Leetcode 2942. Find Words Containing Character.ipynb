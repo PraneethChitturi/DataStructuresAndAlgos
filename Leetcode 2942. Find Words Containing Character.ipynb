{
 "cells": [
  {
   "cell_type": "code",
   "execution_count": null,
   "id": "f8751995-6268-4544-b5c7-25b350126611",
   "metadata": {},
   "outputs": [],
   "source": [
    "class Solution(object):\n",
    "    def findWordsContaining(self, words, x):\n",
    "        \"\"\"\n",
    "        :type words: List[str]\n",
    "        :type x: str\n",
    "        :rtype: List[int]\n",
    "        \"\"\"\n",
    "        ls = []\n",
    "        for i,w in enumerate(words):\n",
    "          if x in w:\n",
    "            ls.append(i)\n",
    "        return ls"
   ]
  }
 ],
 "metadata": {
  "kernelspec": {
   "display_name": "Python 3 (ipykernel)",
   "language": "python",
   "name": "python3"
  },
  "language_info": {
   "codemirror_mode": {
    "name": "ipython",
    "version": 3
   },
   "file_extension": ".py",
   "mimetype": "text/x-python",
   "name": "python",
   "nbconvert_exporter": "python",
   "pygments_lexer": "ipython3",
   "version": "3.11.7"
  }
 },
 "nbformat": 4,
 "nbformat_minor": 5
}
