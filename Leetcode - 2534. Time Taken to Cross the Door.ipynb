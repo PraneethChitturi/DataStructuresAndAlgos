{
 "cells": [
  {
   "cell_type": "code",
   "execution_count": null,
   "id": "caedeffb-abd3-44ec-9116-70c9a692df4d",
   "metadata": {},
   "outputs": [],
   "source": [
    "class Solution {\n",
    "    public int[] timeTaken(int[] arrival, int[] state) {\n",
    "        Queue<Integer> entryQ=new ArrayDeque<>();\n",
    "        Queue<Integer> exitQ = new ArrayDeque<>();\n",
    "\n",
    "        for (int i=0;i<state.length;i++){\n",
    "          if(state[i]==0){\n",
    "            entryQ.offer(i);\n",
    "          } else {\n",
    "            exitQ.offer(i);\n",
    "          }\n",
    "        }\n",
    "\n",
    "        int[] res=new int[arrival.length];\n",
    "        int preState=0;\n",
    "        int time=0;\n",
    "        int var;\n",
    "        while (!entryQ.isEmpty() || !exitQ.isEmpty()){\n",
    "          int entryTime = entryQ.isEmpty() ? Integer.MAX_VALUE : arrival[entryQ.peek()];\n",
    "          int exitTime = exitQ.isEmpty() ? Integer.MAX_VALUE : arrival[exitQ.peek()];\n",
    "\n",
    "          if (entryTime<=time && exitTime<=time){\n",
    "            if (preState==1){\n",
    "              var=entryQ.poll();\n",
    "              res[var]=time;\n",
    "            } else if (preState==-1){\n",
    "              var=exitQ.poll();\n",
    "              res[var]=time;\n",
    "            } else {\n",
    "              var=exitQ.poll();\n",
    "              res[var]=time;\n",
    "              preState=-1;\n",
    "            }\n",
    "          } else if (entryTime<=time){\n",
    "            var=entryQ.poll();\n",
    "            res[var]=time;\n",
    "            preState=1;\n",
    "          } else if (exitTime<=time){\n",
    "            var=exitQ.poll();\n",
    "            res[var]=time;\n",
    "            preState=-1;\n",
    "          } else {\n",
    "            preState=0;\n",
    "            time = Math.min(entryTime,exitTime)-1;\n",
    "          }\n",
    "\n",
    "          time++;\n",
    "        }\n",
    "\n",
    "        return res;\n",
    "    }\n",
    "}"
   ]
  }
 ],
 "metadata": {
  "kernelspec": {
   "display_name": "Python 3 (ipykernel)",
   "language": "python",
   "name": "python3"
  },
  "language_info": {
   "codemirror_mode": {
    "name": "ipython",
    "version": 3
   },
   "file_extension": ".py",
   "mimetype": "text/x-python",
   "name": "python",
   "nbconvert_exporter": "python",
   "pygments_lexer": "ipython3",
   "version": "3.11.7"
  }
 },
 "nbformat": 4,
 "nbformat_minor": 5
}
