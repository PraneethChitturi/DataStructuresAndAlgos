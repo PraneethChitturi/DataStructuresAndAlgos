{
 "cells": [
  {
   "cell_type": "code",
   "execution_count": 50,
   "id": "9897790b-9e06-4ab7-af68-0a97d315fcc9",
   "metadata": {},
   "outputs": [],
   "source": [
    "class Solution(object):\n",
    "    def calculate(self, s):\n",
    "        \"\"\"\n",
    "        :type s: str\n",
    "        :rtype: int\n",
    "        \"\"\"\n",
    "        stack = []\n",
    "        num = 0\n",
    "        prev_operator = '+'\n",
    "        \n",
    "        for i in range(len(s) + 1):\n",
    "            ch = s[i] if i < len(s) else '\\0'\n",
    "            \n",
    "            if ch.isdigit():\n",
    "                num = num * 10 + int(ch)\n",
    "            \n",
    "            if (not ch.isdigit() and ch != ' ') or i == len(s):\n",
    "                if prev_operator == '+':\n",
    "                    stack.append(num)\n",
    "                elif prev_operator == '-':\n",
    "                    stack.append(-num)\n",
    "                elif prev_operator == '*':\n",
    "                    stack.append(stack.pop() * num)\n",
    "                elif prev_operator == '/':\n",
    "                    prev = stack.pop()\n",
    "                    # Truncate toward zero division\n",
    "                    result = int(float(prev) / num) if prev * num >= 0 else -int(abs(prev) / num)\n",
    "                    stack.append(result)\n",
    "                \n",
    "                prev_operator = ch\n",
    "                num = 0\n",
    "        \n",
    "        return sum(stack)\n"
   ]
  },
  {
   "cell_type": "code",
   "execution_count": 51,
   "id": "572e635e-1b7f-4d91-9390-58eea409b41a",
   "metadata": {},
   "outputs": [
    {
     "data": {
      "text/plain": [
       "7"
      ]
     },
     "execution_count": 51,
     "metadata": {},
     "output_type": "execute_result"
    }
   ],
   "source": [
    "calculate(\"3+2*2\")"
   ]
  },
  {
   "cell_type": "code",
   "execution_count": 52,
   "id": "939492e4-31f6-4c28-ad07-e93a9b15b0ac",
   "metadata": {},
   "outputs": [
    {
     "data": {
      "text/plain": [
       "1"
      ]
     },
     "execution_count": 52,
     "metadata": {},
     "output_type": "execute_result"
    }
   ],
   "source": [
    "calculate(\" 3/2 \")"
   ]
  },
  {
   "cell_type": "code",
   "execution_count": 53,
   "id": "edbdac48-254c-4f93-b223-8e415c7ec5d2",
   "metadata": {},
   "outputs": [
    {
     "data": {
      "text/plain": [
       "13"
      ]
     },
     "execution_count": 53,
     "metadata": {},
     "output_type": "execute_result"
    }
   ],
   "source": [
    "calculate(\"14-3/2\")"
   ]
  },
  {
   "cell_type": "code",
   "execution_count": 54,
   "id": "8d93a028-2f51-4422-b55f-7a1432b7aa18",
   "metadata": {},
   "outputs": [
    {
     "data": {
      "text/plain": [
       "6"
      ]
     },
     "execution_count": 54,
     "metadata": {},
     "output_type": "execute_result"
    }
   ],
   "source": [
    "calculate(\"1+2*5/3+6/4*2\")"
   ]
  },
  {
   "cell_type": "code",
   "execution_count": null,
   "id": "e1f34c3d-4175-417b-8628-ccee1a18bc42",
   "metadata": {},
   "outputs": [],
   "source": []
  }
 ],
 "metadata": {
  "kernelspec": {
   "display_name": "Python 3 (ipykernel)",
   "language": "python",
   "name": "python3"
  },
  "language_info": {
   "codemirror_mode": {
    "name": "ipython",
    "version": 3
   },
   "file_extension": ".py",
   "mimetype": "text/x-python",
   "name": "python",
   "nbconvert_exporter": "python",
   "pygments_lexer": "ipython3",
   "version": "3.11.7"
  }
 },
 "nbformat": 4,
 "nbformat_minor": 5
}
