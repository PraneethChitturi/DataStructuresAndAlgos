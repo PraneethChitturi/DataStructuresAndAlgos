{
 "cells": [
  {
   "cell_type": "code",
   "execution_count": 83,
   "id": "9c702aa8",
   "metadata": {},
   "outputs": [],
   "source": [
    "from collections import deque\n",
    "import operator\n",
    "def evalRPN(tokens):\n",
    "    op = {'+': lambda x, y: int(x + y),\n",
    "          '-': lambda x, y: int(x - y),\n",
    "          '*': lambda x, y:int(x * y),\n",
    "          '/': lambda x, y: int(operator.truediv(x , y))}\n",
    "    \n",
    "    i=1\n",
    "    B=int(tokens[0])\n",
    "    A=0\n",
    "    q = deque([])\n",
    "    while i<len(tokens):\n",
    "        #print(A,B,tokens[i])\n",
    "        #if B==None and tokens[i] in ('+','*','/','-'):\n",
    "        #    continue\n",
    "        if tokens[i]=='+':\n",
    "            B=op['+'](A,B)\n",
    "            try:\n",
    "                A=q.pop()\n",
    "            except:\n",
    "                A=0\n",
    "        elif tokens[i]=='*':\n",
    "            B=op['*'](A,B)\n",
    "            try:\n",
    "                A=q.pop()\n",
    "            except:\n",
    "                A=0\n",
    "        elif tokens[i]=='/':\n",
    "            B=op['/'](A,B)\n",
    "            try:\n",
    "                A=q.pop()\n",
    "            except:\n",
    "                A=0\n",
    "        elif tokens[i]=='-':\n",
    "            B=op['-'](A,B)\n",
    "            try:\n",
    "                A=q.pop()\n",
    "            except:\n",
    "                A=0          \n",
    "        else:\n",
    "            q.append(A)\n",
    "            A=B\n",
    "            B=int(tokens[i])\n",
    "            \n",
    "        i+=1\n",
    "    return B"
   ]
  },
  {
   "cell_type": "code",
   "execution_count": null,
   "id": "92505938",
   "metadata": {},
   "outputs": [],
   "source": [
    "import operator\n",
    "class Solution(object):\n",
    "    def evalRPN(self, tokens):\n",
    "        \"\"\"\n",
    "        :type tokens: List[str]\n",
    "        :rtype: int\n",
    "        \"\"\"\n",
    "        op = {'+': lambda x, y: x + y,\n",
    "          '-': lambda x, y: x - y,\n",
    "          '*': lambda x, y:x * y,\n",
    "          '/': lambda x, y: int(operator.truediv(x , y))}\n",
    "    \n",
    "        stack = deque([])\n",
    "        for token in tokens:\n",
    "                    if token in op:  # if token is an operator\n",
    "                        # Pop the last two operands\n",
    "                        b = stack.pop()\n",
    "                        a = stack.pop()\n",
    "                        # Apply the operation and push the result back onto the stack\n",
    "                        result = op[token](a, b)\n",
    "                        stack.append(result)\n",
    "                    else:\n",
    "                        # Token is an operand, so we push it to the stack\n",
    "                        stack.append(int(token))\n",
    "                \n",
    "                # At the end, the stack should have only one element, the result\n",
    "        return stack.pop()"
   ]
  },
  {
   "cell_type": "code",
   "execution_count": 79,
   "id": "b8995b0f",
   "metadata": {},
   "outputs": [
    {
     "data": {
      "text/plain": [
       "9"
      ]
     },
     "execution_count": 79,
     "metadata": {},
     "output_type": "execute_result"
    }
   ],
   "source": [
    "evalRPN([\"2\",\"1\",\"+\",\"3\",\"*\"])"
   ]
  },
  {
   "cell_type": "code",
   "execution_count": 80,
   "id": "89e5f8ea",
   "metadata": {},
   "outputs": [
    {
     "data": {
      "text/plain": [
       "6"
      ]
     },
     "execution_count": 80,
     "metadata": {},
     "output_type": "execute_result"
    }
   ],
   "source": [
    "evalRPN([\"4\",\"13\",\"5\",\"/\",\"+\"])"
   ]
  },
  {
   "cell_type": "code",
   "execution_count": 81,
   "id": "c5a9b10d",
   "metadata": {},
   "outputs": [
    {
     "data": {
      "text/plain": [
       "22"
      ]
     },
     "execution_count": 81,
     "metadata": {},
     "output_type": "execute_result"
    }
   ],
   "source": [
    "evalRPN([\"10\",\"6\",\"9\",\"3\",\"+\",\"-11\",\"*\",\"/\",\"*\",\"17\",\"+\",\"5\",\"+\"])"
   ]
  },
  {
   "cell_type": "code",
   "execution_count": null,
   "id": "061e6d65",
   "metadata": {},
   "outputs": [],
   "source": []
  }
 ],
 "metadata": {
  "kernelspec": {
   "display_name": "Python 3 (ipykernel)",
   "language": "python",
   "name": "python3"
  },
  "language_info": {
   "codemirror_mode": {
    "name": "ipython",
    "version": 3
   },
   "file_extension": ".py",
   "mimetype": "text/x-python",
   "name": "python",
   "nbconvert_exporter": "python",
   "pygments_lexer": "ipython3",
   "version": "3.11.4"
  }
 },
 "nbformat": 4,
 "nbformat_minor": 5
}
