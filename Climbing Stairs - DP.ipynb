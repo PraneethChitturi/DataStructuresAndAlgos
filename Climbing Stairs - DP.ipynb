{
 "cells": [
  {
   "cell_type": "code",
   "execution_count": 1,
   "id": "dcb8a001",
   "metadata": {},
   "outputs": [
    {
     "ename": "ValueError",
     "evalue": "invalid literal for int() with base 10: ''",
     "output_type": "error",
     "traceback": [
      "\u001b[1;31m---------------------------------------------------------------------------\u001b[0m",
      "\u001b[1;31mValueError\u001b[0m                                Traceback (most recent call last)",
      "Cell \u001b[1;32mIn[1], line 8\u001b[0m\n\u001b[0;32m      4\u001b[0m \u001b[38;5;28;01mimport\u001b[39;00m \u001b[38;5;21;01msys\u001b[39;00m\n\u001b[0;32m      6\u001b[0m \u001b[38;5;28minput\u001b[39m \u001b[38;5;241m=\u001b[39m io\u001b[38;5;241m.\u001b[39mBytesIO(os\u001b[38;5;241m.\u001b[39mread(\u001b[38;5;241m0\u001b[39m,os\u001b[38;5;241m.\u001b[39mfstat(\u001b[38;5;241m0\u001b[39m)\u001b[38;5;241m.\u001b[39mst_size))\u001b[38;5;241m.\u001b[39mreadline\n\u001b[1;32m----> 8\u001b[0m T \u001b[38;5;241m=\u001b[39m \u001b[38;5;28;43mint\u001b[39;49m\u001b[43m(\u001b[49m\u001b[38;5;28;43minput\u001b[39;49m\u001b[43m(\u001b[49m\u001b[43m)\u001b[49m\u001b[38;5;241;43m.\u001b[39;49m\u001b[43mdecode\u001b[49m\u001b[43m(\u001b[49m\u001b[43m)\u001b[49m\u001b[43m)\u001b[49m\n\u001b[0;32m     10\u001b[0m \u001b[38;5;28;01mdef\u001b[39;00m \u001b[38;5;21mClimbingStairs\u001b[39m(N):\n\u001b[0;32m     11\u001b[0m     \u001b[38;5;28;01mif\u001b[39;00m N\u001b[38;5;241m<\u001b[39m\u001b[38;5;241m0\u001b[39m:\n",
      "\u001b[1;31mValueError\u001b[0m: invalid literal for int() with base 10: ''"
     ]
    }
   ],
   "source": [
    "#Approach 1 - Memoization - \n",
    "#Website - MentorPick\n",
    "import io,os\n",
    "import sys\n",
    "\n",
    "input = io.BytesIO(os.read(0,os.fstat(0).st_size)).readline\n",
    "\n",
    "T = int(input().decode())\n",
    "\n",
    "def ClimbingStairs(N):\n",
    "    if N<0:\n",
    "        return 0\n",
    "    if Arr[N-1] != -1:\n",
    "        return Arr[N-1]\n",
    "    if N == 0:\n",
    "        return 1\n",
    "    Arr[N-1] = ClimbingStairs(N-1) + ClimbingStairs(N-2)\n",
    "    return Arr[N-1]\n",
    "    \n",
    "while T>0:\n",
    "    N = int(input().decode())\n",
    "    Arr = [-1]*N\n",
    "    print(ClimbingStairs(N))\n",
    "    T = T-1\n",
    "    \n",
    "    \n",
    "#Similar Memorization -\n",
    "#Website - Leetcode\n",
    "class Solution:\n",
    "    def climbStairs(self, n):\n",
    "        memo = {}\n",
    "        return self.helper(n, memo)\n",
    "    \n",
    "    def helper(self, n, memo):\n",
    "        if n == 0 or n == 1:\n",
    "            return 1\n",
    "        if n not in memo:\n",
    "            memo[n] = self.helper(n-1, memo) + self.helper(n-2, memo)\n",
    "        return memo[n]"
   ]
  },
  {
   "cell_type": "code",
   "execution_count": null,
   "id": "2b447cee",
   "metadata": {},
   "outputs": [],
   "source": [
    "#Approach 2 - Basic Sense\n",
    "\n",
    "class Solution(object):\n",
    "    def climbStairs(self, n):\n",
    "        \"\"\"\n",
    "        :type n: int\n",
    "        :rtype: int\n",
    "        \"\"\"\n",
    "        first,second = 1,1\n",
    "\n",
    "        # for n equals 5 we will have 4 iterations.\n",
    "        for i in range(n-1):\n",
    "            temp = second\n",
    "            second = first + second\n",
    "            first = temp\n",
    "\n",
    "        return second"
   ]
  }
 ],
 "metadata": {
  "kernelspec": {
   "display_name": "Python 3 (ipykernel)",
   "language": "python",
   "name": "python3"
  },
  "language_info": {
   "codemirror_mode": {
    "name": "ipython",
    "version": 3
   },
   "file_extension": ".py",
   "mimetype": "text/x-python",
   "name": "python",
   "nbconvert_exporter": "python",
   "pygments_lexer": "ipython3",
   "version": "3.10.9"
  }
 },
 "nbformat": 4,
 "nbformat_minor": 5
}
