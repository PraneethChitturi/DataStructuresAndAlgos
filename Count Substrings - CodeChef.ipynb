{
 "cells": [
  {
   "cell_type": "code",
   "execution_count": 47,
   "id": "60500604",
   "metadata": {},
   "outputs": [
    {
     "name": "stdout",
     "output_type": "stream",
     "text": [
      "1\n",
      "8 2 3\n",
      "01110000\n",
      "1 4\n",
      "8\n",
      "2 4\n",
      "5\n",
      "5 8\n",
      "7\n"
     ]
    }
   ],
   "source": [
    "import sys,os,io\n",
    "\n",
    "T = int(input())\n",
    "\n",
    "def get_substrings(string):\n",
    "    final = []\n",
    "    for i in range(len(string)):\n",
    "        substr = \"\"\n",
    "        for j in range(i,len(string)):\n",
    "            substr += string[j]\n",
    "            final.append(substr)\n",
    "    return final\n",
    "\n",
    "\n",
    "def bitcount(n):\n",
    "    n = int(n,2)\n",
    "    count = 0\n",
    "    while n > 0:\n",
    "        count = count + 1\n",
    "        n = n & (n-1)\n",
    "    return count\n",
    "\n",
    "\n",
    "while T>0:\n",
    "    N,K,Q = map(int,input().split())\n",
    "    string = input()\n",
    "    \n",
    "    while Q>0:\n",
    "        finallis = []\n",
    "        L,R = map(int,input().split())\n",
    "\n",
    "        l = get_substrings(string[L-1:R])\n",
    "        \n",
    "        \n",
    "        for i in range(len(l)):\n",
    "            countof1 = bitcount(l[i])\n",
    "            countof0 = len(l[i]) - countof1\n",
    "            if countof0 <= K and countof1 <= K:\n",
    "                finallis.append(l[i])\n",
    "        print(len(finallis))    \n",
    "        Q = Q-1\n",
    "    T = T-1"
   ]
  },
  {
   "cell_type": "code",
   "execution_count": 46,
   "id": "61d3f50c",
   "metadata": {},
   "outputs": [],
   "source": [
    "finallis = []\n",
    "\n",
    "def get_substrings(string):\n",
    "    final = []\n",
    "    for i in range(len(string)):\n",
    "        substr = \"\"\n",
    "        for j in range(i,len(string)):\n",
    "            substr += string[j]\n",
    "            final.append(substr)\n",
    "    return final\n",
    "\n",
    "l = get_substrings(\"0111\")\n",
    "\n",
    "def bitcount(n):\n",
    "    n = int(n,2)\n",
    "    count = 0\n",
    "    while n > 0:\n",
    "        count = count + 1\n",
    "        n = n & (n-1)\n",
    "    return count\n",
    "\n",
    "for i in range(len(l)):\n",
    "    countof1 = bitcount(l[i])\n",
    "    countof0 = len(l[i]) - countof1\n",
    "    if countof0 <= 2 and countof1 <= 2:\n",
    "        finallis.append(l[i])"
   ]
  },
  {
   "cell_type": "code",
   "execution_count": 29,
   "id": "2075d9d7",
   "metadata": {},
   "outputs": [
    {
     "data": {
      "text/plain": [
       "['0', '01', '011', '0111', '1', '11', '111', '1', '11', '1']"
      ]
     },
     "execution_count": 29,
     "metadata": {},
     "output_type": "execute_result"
    }
   ],
   "source": [
    "l"
   ]
  },
  {
   "cell_type": "code",
   "execution_count": 26,
   "id": "af3b679d",
   "metadata": {},
   "outputs": [
    {
     "data": {
      "text/plain": [
       "5"
      ]
     },
     "execution_count": 26,
     "metadata": {},
     "output_type": "execute_result"
    }
   ],
   "source": [
    "bitcount('11100101')"
   ]
  },
  {
   "cell_type": "code",
   "execution_count": 48,
   "id": "d544c05f",
   "metadata": {},
   "outputs": [
    {
     "name": "stdout",
     "output_type": "stream",
     "text": [
      " 10111\n"
     ]
    }
   ],
   "source": [
    "S = input(\" \")"
   ]
  },
  {
   "cell_type": "code",
   "execution_count": 50,
   "id": "04cf8850",
   "metadata": {},
   "outputs": [
    {
     "data": {
      "text/plain": [
       "0"
      ]
     },
     "execution_count": 50,
     "metadata": {},
     "output_type": "execute_result"
    }
   ],
   "source": [
    "(0+1)//2"
   ]
  },
  {
   "cell_type": "code",
   "execution_count": 52,
   "id": "d94bb569",
   "metadata": {},
   "outputs": [
    {
     "data": {
      "text/plain": [
       "1"
      ]
     },
     "execution_count": 52,
     "metadata": {},
     "output_type": "execute_result"
    }
   ],
   "source": [
    "3//2"
   ]
  },
  {
   "cell_type": "code",
   "execution_count": null,
   "id": "9810014a",
   "metadata": {},
   "outputs": [],
   "source": []
  }
 ],
 "metadata": {
  "kernelspec": {
   "display_name": "Python 3 (ipykernel)",
   "language": "python",
   "name": "python3"
  },
  "language_info": {
   "codemirror_mode": {
    "name": "ipython",
    "version": 3
   },
   "file_extension": ".py",
   "mimetype": "text/x-python",
   "name": "python",
   "nbconvert_exporter": "python",
   "pygments_lexer": "ipython3",
   "version": "3.10.9"
  }
 },
 "nbformat": 4,
 "nbformat_minor": 5
}
