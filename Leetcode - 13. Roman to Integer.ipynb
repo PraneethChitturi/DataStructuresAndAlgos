{
 "cells": [
  {
   "cell_type": "code",
   "execution_count": null,
   "id": "acf25b7f",
   "metadata": {},
   "outputs": [],
   "source": [
    "#Beats 78% in TLE\n",
    "class Solution(object):\n",
    "    def romanToInt(self, s):\n",
    "        \"\"\"\n",
    "        :type s: str\n",
    "        :rtype: int\n",
    "        \"\"\"\n",
    "        roma = {'I':1,'V':5,'X':10,'L':50,'C':100,'D':500,'M':1000,'IV':4,'IX':9,'XL':40,'XC':90,'CD':400,'CM':900}\n",
    "        ans = 0\n",
    "        i=0\n",
    "        while i<len(s):\n",
    "            if s[i:i+2] in roma:\n",
    "                ans += roma[s[i:i+2]]\n",
    "                i +=2\n",
    "            else:\n",
    "                ans += roma[s[i]]\n",
    "                i +=1\n",
    "        return ans"
   ]
  },
  {
   "cell_type": "code",
   "execution_count": null,
   "id": "724486ad",
   "metadata": {},
   "outputs": [],
   "source": [
    "#Beats 53% in TLE\n",
    "class Solution(object):\n",
    "    def romanToInt(self, s):\n",
    "        \"\"\"\n",
    "        :type s: str\n",
    "        :rtype: int\n",
    "        \"\"\"\n",
    "        roma = {'I':1,'V':5,'X':10,'L':50,'C':100,'D':500,'M':1000}\n",
    "        ans = 0\n",
    "        s = s.replace('IV','IIII').replace('IX','VIIII').replace('XL','XXXX').replace('XC','LXXXX').replace('CD','CCCC').replace('CM','DCCCC')\n",
    "        for i in s:\n",
    "            ans += roma[i]\n",
    "        return ans"
   ]
  }
 ],
 "metadata": {
  "kernelspec": {
   "display_name": "Python 3 (ipykernel)",
   "language": "python",
   "name": "python3"
  },
  "language_info": {
   "codemirror_mode": {
    "name": "ipython",
    "version": 3
   },
   "file_extension": ".py",
   "mimetype": "text/x-python",
   "name": "python",
   "nbconvert_exporter": "python",
   "pygments_lexer": "ipython3",
   "version": "3.11.4"
  }
 },
 "nbformat": 4,
 "nbformat_minor": 5
}
