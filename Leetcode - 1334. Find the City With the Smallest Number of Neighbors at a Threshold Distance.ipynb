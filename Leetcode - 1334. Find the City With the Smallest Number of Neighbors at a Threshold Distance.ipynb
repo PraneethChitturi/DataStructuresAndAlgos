{
 "cells": [
  {
   "cell_type": "code",
   "execution_count": null,
   "id": "5a0f3278-a594-4979-9bff-5b90e3539578",
   "metadata": {},
   "outputs": [],
   "source": [
    "class Solution(object):\n",
    "    def findTheCity(self, n, edges, distanceThreshold):\n",
    "        \"\"\"\n",
    "        :type n: int\n",
    "        :type edges: List[List[int]]\n",
    "        :type distanceThreshold: int\n",
    "        :rtype: int\n",
    "        \"\"\"\n",
    "        adj_list = [[] for i in range(n)]\n",
    "\n",
    "        short_distances_mat = [[float(\"inf\")]*n for i in range(n)]\n",
    "\n",
    "        for start,end,weight in edges:\n",
    "          adj_list[start].append((end,weight))\n",
    "          adj_list[end].append((start,weight))\n",
    "\n",
    "        for i in range(n):\n",
    "          short_distances_mat[i][i]=0\n",
    "          self.djikstra(n,adj_list,short_distances_mat[i],i)\n",
    "\n",
    "        return self.findsmallestcity(n,short_distances_mat,distanceThreshold)\n",
    "\n",
    "    def djikstra(self, n, adj_list, short_distances_row,i):\n",
    "        priorqueue = [(0,i)]\n",
    "\n",
    "        while priorqueue:\n",
    "          currweight,currnode = heapq.heappop(priorqueue)\n",
    "\n",
    "          if currweight > short_distances_row[currnode]:\n",
    "            continue\n",
    "          \n",
    "          for neighbor,neiborweight in adj_list[currnode]:\n",
    "            if currweight+neiborweight<=short_distances_row[neighbor]:\n",
    "              short_distances_row[neighbor] = currweight+neiborweight\n",
    "              heapq.heappush(priorqueue,(short_distances_row[neighbor],neighbor))\n",
    "        \n",
    "\n",
    "    def findsmallestcity(self,n,short_distances_mat,distanceThreshold):\n",
    "        short_city = -1\n",
    "        shortest_city_count=n+1\n",
    "\n",
    "        for i in range(n):\n",
    "          counteligible = 0\n",
    "          for j in range(n):\n",
    "            if i!=j and short_distances_mat[i][j]<=distanceThreshold:\n",
    "              counteligible+=1\n",
    "          \n",
    "          if counteligible<=shortest_city_count:\n",
    "            short_city=i\n",
    "            shortest_city_count=counteligible\n",
    "\n",
    "        return short_city\n",
    "        \n",
    "        "
   ]
  }
 ],
 "metadata": {
  "kernelspec": {
   "display_name": "Python 3 (ipykernel)",
   "language": "python",
   "name": "python3"
  },
  "language_info": {
   "codemirror_mode": {
    "name": "ipython",
    "version": 3
   },
   "file_extension": ".py",
   "mimetype": "text/x-python",
   "name": "python",
   "nbconvert_exporter": "python",
   "pygments_lexer": "ipython3",
   "version": "3.11.7"
  }
 },
 "nbformat": 4,
 "nbformat_minor": 5
}
