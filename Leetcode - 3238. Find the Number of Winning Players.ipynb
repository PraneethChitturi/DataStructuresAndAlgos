{
 "cells": [
  {
   "cell_type": "code",
   "execution_count": null,
   "id": "ced04b28-5355-477e-a3ba-926dbf29ffa1",
   "metadata": {},
   "outputs": [],
   "source": [
    "#Beats 100% in TLE\n",
    "class Solution(object):\n",
    "    def winningPlayerCount(self, n, pick):\n",
    "        \"\"\"\n",
    "        :type n: int\n",
    "        :type pick: List[List[int]]\n",
    "        :rtype: int\n",
    "        \"\"\"\n",
    "        totalwin = 0\n",
    "        dicti={}\n",
    "        ansdict = {}\n",
    "        for i in pick:\n",
    "            comb = str(i)\n",
    "            if str(i) in dicti:\n",
    "                dicti[str(i)]+=1\n",
    "            else:\n",
    "                dicti[str(i)]=1\n",
    "                \n",
    "            if dicti[str(i)]>i[0] and i[0] not in ansdict:\n",
    "                    totalwin+=1\n",
    "                    ansdict[i[0]]=1\n",
    "            \n",
    "        return totalwin"
   ]
  }
 ],
 "metadata": {
  "kernelspec": {
   "display_name": "Python 3 (ipykernel)",
   "language": "python",
   "name": "python3"
  },
  "language_info": {
   "codemirror_mode": {
    "name": "ipython",
    "version": 3
   },
   "file_extension": ".py",
   "mimetype": "text/x-python",
   "name": "python",
   "nbconvert_exporter": "python",
   "pygments_lexer": "ipython3",
   "version": "3.11.7"
  }
 },
 "nbformat": 4,
 "nbformat_minor": 5
}
