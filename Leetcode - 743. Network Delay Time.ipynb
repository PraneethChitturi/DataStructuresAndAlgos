{
 "cells": [
  {
   "cell_type": "code",
   "execution_count": 49,
   "id": "f97af8e6-ec25-4fc4-9009-b4cfa4be9b1b",
   "metadata": {},
   "outputs": [],
   "source": [
    "#BFS+Djikstra\n",
    "#Beatds 54% in TLE\n",
    "from collections import defaultdict\n",
    "from collections import deque\n",
    "import sys\n",
    "def networkDelayTime(times, n, k):\n",
    "    map = defaultdict(list)\n",
    "    for u,v,w in times:\n",
    "        map[u].append([v,w])\n",
    "        \n",
    "    queue = deque([(k,0)])\n",
    "    visitedtimes = [float('inf')]*n\n",
    "    visited=[False]*n\n",
    "    visitedtimes[k-1]=0\n",
    "    visited[k-1]=True\n",
    "    while queue:\n",
    "        node,time = queue.popleft()\n",
    "\n",
    "        for children,timetovisit in map[node]:\n",
    "\n",
    "            if visitedtimes[children-1]>visitedtimes[node-1]+timetovisit:\n",
    "                visitedtimes[children-1] = visitedtimes[node-1]+timetovisit\n",
    "                visited[children-1]=True\n",
    "\n",
    "                queue.append((children,visitedtimes[children-1]))\n",
    "                \n",
    "    return max(visitedtimes) if sum(visited)==n else -1\n"
   ]
  },
  {
   "cell_type": "code",
   "execution_count": 50,
   "id": "90ac9ae1-2008-4619-86a1-81cf2bf8404b",
   "metadata": {},
   "outputs": [
    {
     "data": {
      "text/plain": [
       "3"
      ]
     },
     "execution_count": 50,
     "metadata": {},
     "output_type": "execute_result"
    }
   ],
   "source": [
    "networkDelayTime([[1,2,1],[2,3,2],[1,3,4]], 3, 1)"
   ]
  },
  {
   "cell_type": "code",
   "execution_count": 51,
   "id": "e9848876-16cf-4362-af11-f3843eddcd1e",
   "metadata": {},
   "outputs": [
    {
     "data": {
      "text/plain": [
       "2"
      ]
     },
     "execution_count": 51,
     "metadata": {},
     "output_type": "execute_result"
    }
   ],
   "source": [
    "networkDelayTime([[2,1,1],[2,3,1],[3,4,1]], 4, 2)"
   ]
  },
  {
   "cell_type": "code",
   "execution_count": 52,
   "id": "3f9e8521-cc6e-4888-b380-659f239b20f8",
   "metadata": {},
   "outputs": [
    {
     "data": {
      "text/plain": [
       "1"
      ]
     },
     "execution_count": 52,
     "metadata": {},
     "output_type": "execute_result"
    }
   ],
   "source": [
    "networkDelayTime([[1,2,1]], 2, 1)"
   ]
  },
  {
   "cell_type": "code",
   "execution_count": 53,
   "id": "e02bedf9-688a-44ba-909b-17df7ac3c9fa",
   "metadata": {},
   "outputs": [
    {
     "data": {
      "text/plain": [
       "-1"
      ]
     },
     "execution_count": 53,
     "metadata": {},
     "output_type": "execute_result"
    }
   ],
   "source": [
    "networkDelayTime([[1,2,1]], 2, 2)"
   ]
  },
  {
   "cell_type": "code",
   "execution_count": null,
   "id": "b6589f71-856c-4dd1-b356-8f88439cf9d0",
   "metadata": {},
   "outputs": [],
   "source": []
  }
 ],
 "metadata": {
  "kernelspec": {
   "display_name": "Python 3 (ipykernel)",
   "language": "python",
   "name": "python3"
  },
  "language_info": {
   "codemirror_mode": {
    "name": "ipython",
    "version": 3
   },
   "file_extension": ".py",
   "mimetype": "text/x-python",
   "name": "python",
   "nbconvert_exporter": "python",
   "pygments_lexer": "ipython3",
   "version": "3.11.7"
  }
 },
 "nbformat": 4,
 "nbformat_minor": 5
}
