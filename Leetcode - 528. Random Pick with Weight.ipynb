{
 "cells": [
  {
   "cell_type": "code",
   "execution_count": null,
   "id": "2b920f7f",
   "metadata": {},
   "outputs": [],
   "source": [
    "import random\n",
    "\n",
    "class Solution(object):\n",
    "\n",
    "    def __init__(self, w):\n",
    "        \"\"\"\n",
    "        :type w: List[int]\n",
    "        \"\"\"\n",
    "        self.runninsumarr=[]\n",
    "        self.totalrunningsum=0\n",
    "        for n in w:\n",
    "            self.totalrunningsum+=n\n",
    "            self.runninsumarr.append(self.totalrunningsum)\n",
    "\n",
    "    def pickIndex(self):\n",
    "        \"\"\"\n",
    "        :rtype: int\n",
    "        \"\"\"\n",
    "        target=random.randint(1,self.totalrunningsum)\n",
    "        right,left=0,len(self.runninsumarr)\n",
    "        while right<left:\n",
    "            mid=right+(left-right)//2\n",
    "            if target > self.runninsumarr[mid]:\n",
    "                right=mid+1\n",
    "            else:\n",
    "                left=mid\n",
    "        \n",
    "        return right\n",
    "        \n"
   ]
  },
  {
   "cell_type": "code",
   "execution_count": null,
   "id": "3711dcb8",
   "metadata": {},
   "outputs": [],
   "source": []
  }
 ],
 "metadata": {
  "kernelspec": {
   "display_name": "Python 3 (ipykernel)",
   "language": "python",
   "name": "python3"
  },
  "language_info": {
   "codemirror_mode": {
    "name": "ipython",
    "version": 3
   },
   "file_extension": ".py",
   "mimetype": "text/x-python",
   "name": "python",
   "nbconvert_exporter": "python",
   "pygments_lexer": "ipython3",
   "version": "3.11.4"
  }
 },
 "nbformat": 4,
 "nbformat_minor": 5
}
