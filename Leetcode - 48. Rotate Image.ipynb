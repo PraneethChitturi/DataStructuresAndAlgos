{
 "cells": [
  {
   "cell_type": "code",
   "execution_count": 14,
   "id": "45ae235c",
   "metadata": {},
   "outputs": [],
   "source": [
    "class Solution(object):\n",
    "    def rotate(self, matrix):\n",
    "        \"\"\"\n",
    "        :type matrix: List[List[int]]\n",
    "        :rtype: None Do not return anything, modify matrix in-place instead.\n",
    "        \"\"\"\n",
    "        n = len(matrix)\n",
    "        for i in range(n):\n",
    "            for j in range(i):\n",
    "                matrix[i][j],matrix[j][i] = matrix[j][i],matrix[i][j]\n",
    "\n",
    "        for i in range(n):\n",
    "            for j in range(n/2):\n",
    "                matrix[i][j], matrix[i][~j] = matrix[i][~j],matrix[i][j]"
   ]
  }
 ],
 "metadata": {
  "kernelspec": {
   "display_name": "Python 3 (ipykernel)",
   "language": "python",
   "name": "python3"
  },
  "language_info": {
   "codemirror_mode": {
    "name": "ipython",
    "version": 3
   },
   "file_extension": ".py",
   "mimetype": "text/x-python",
   "name": "python",
   "nbconvert_exporter": "python",
   "pygments_lexer": "ipython3",
   "version": "3.10.9"
  }
 },
 "nbformat": 4,
 "nbformat_minor": 5
}
