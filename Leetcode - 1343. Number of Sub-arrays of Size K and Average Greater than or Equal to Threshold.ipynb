{
 "cells": [
  {
   "cell_type": "code",
   "execution_count": 16,
   "id": "27739ee3-6ea5-4ee0-aba4-c4b2da0db527",
   "metadata": {},
   "outputs": [],
   "source": [
    "#TLT\n",
    "def numOfSubarrays(arr, k, threshold):\n",
    "    count = 0\n",
    "    for a in zip(*[arr[i:] for i in range(k)]):\n",
    "        if sum(a)/k>=threshold:\n",
    "            count+=1\n",
    "    return count"
   ]
  },
  {
   "cell_type": "code",
   "execution_count": 37,
   "id": "8c1eb8f9-2961-4b91-9c6b-e3246d759a16",
   "metadata": {},
   "outputs": [],
   "source": [
    "#TLT\n",
    "def numOfSubarrays(arr, k, threshold):\n",
    "    count = 0\n",
    "    for i in range(len(arr[:-k])+1):\n",
    "        if sum(arr[i:i+k])/k >= threshold:\n",
    "            count+=1\n",
    "    return count"
   ]
  },
  {
   "cell_type": "code",
   "execution_count": 46,
   "id": "d9110ddf-8404-40fc-b316-85d8f8441b09",
   "metadata": {},
   "outputs": [],
   "source": [
    "#Beats 26% in TLE\n",
    "def numOfSubarrays(arr, k, threshold):\n",
    "    i =0\n",
    "    j=0\n",
    "    n=len(arr)\n",
    "    s=0\n",
    "    ans=0\n",
    "    while j<n:\n",
    "        if k > j-i:\n",
    "            s+=arr[j]\n",
    "            \n",
    "        if k == (j-i+1) :\n",
    "            if s/k>=threshold:\n",
    "                ans+=1\n",
    "            s-=arr[i]\n",
    "            i+=1\n",
    "        j+=1\n",
    "    return ans"
   ]
  },
  {
   "cell_type": "code",
   "execution_count": 72,
   "id": "f604c222-c546-43a9-94e3-93683b925f42",
   "metadata": {},
   "outputs": [],
   "source": [
    "#Beats 85%\n",
    "def numOfSubarrays(arr, k, threshold):\n",
    "    threshold *=k\n",
    "    runningtotal = sum(arr[:k])\n",
    "    count=0\n",
    "    for i in range(k,len(arr)):\n",
    "        count+=(threshold<=runningtotal)\n",
    "        runningtotal+=arr[i]-arr[i-k]\n",
    "    \n",
    "    return count+(threshold<=runningtotal)"
   ]
  },
  {
   "cell_type": "code",
   "execution_count": 73,
   "id": "ce6efb7f-1718-475e-bda9-db097603fdd5",
   "metadata": {},
   "outputs": [
    {
     "data": {
      "text/plain": [
       "3"
      ]
     },
     "execution_count": 73,
     "metadata": {},
     "output_type": "execute_result"
    }
   ],
   "source": [
    "numOfSubarrays([2,2,2,2,5,5,5,8],3,4)"
   ]
  },
  {
   "cell_type": "code",
   "execution_count": 74,
   "id": "1574a517-6fb8-4e82-80f5-0499a542d645",
   "metadata": {},
   "outputs": [
    {
     "data": {
      "text/plain": [
       "6"
      ]
     },
     "execution_count": 74,
     "metadata": {},
     "output_type": "execute_result"
    }
   ],
   "source": [
    "numOfSubarrays([11,13,17,23,29,31,7,5,2,3],3,5)"
   ]
  },
  {
   "cell_type": "code",
   "execution_count": null,
   "id": "61ec1568-0f39-40c1-9ada-aa8f962783dc",
   "metadata": {},
   "outputs": [],
   "source": []
  }
 ],
 "metadata": {
  "kernelspec": {
   "display_name": "Python 3 (ipykernel)",
   "language": "python",
   "name": "python3"
  },
  "language_info": {
   "codemirror_mode": {
    "name": "ipython",
    "version": 3
   },
   "file_extension": ".py",
   "mimetype": "text/x-python",
   "name": "python",
   "nbconvert_exporter": "python",
   "pygments_lexer": "ipython3",
   "version": "3.11.7"
  }
 },
 "nbformat": 4,
 "nbformat_minor": 5
}
