{
 "cells": [
  {
   "cell_type": "code",
   "execution_count": 47,
   "id": "182f69e8",
   "metadata": {},
   "outputs": [],
   "source": [
    "# Definition for a binary tree node.\n",
    "class TreeNode(object):\n",
    "    def __init__(self, val=0, left=None, right=None):\n",
    "        self.val = val\n",
    "        self.left = left\n",
    "        self.right = right\n",
    "        \n",
    "root = TreeNode(3)\n",
    "root.left = TreeNode(9)\n",
    "root.right = TreeNode(20)\n",
    "root.right.left = TreeNode(15)\n",
    "root.right.right = TreeNode(7)"
   ]
  },
  {
   "cell_type": "code",
   "execution_count": 48,
   "id": "807fe91d",
   "metadata": {},
   "outputs": [
    {
     "data": {
      "text/plain": [
       "[[3], [9, 20], [15, 7]]"
      ]
     },
     "execution_count": 48,
     "metadata": {},
     "output_type": "execute_result"
    }
   ],
   "source": [
    "#Beats 81% \n",
    "def levelOrder(root):\n",
    "        \"\"\"\n",
    "        :type root: TreeNode\n",
    "        :rtype: List[List[int]]\n",
    "        \"\"\"\n",
    "        ans = []\n",
    "        queue = [[root]]\n",
    "        while queue:\n",
    "            curr = queue.pop(0)\n",
    "            temp = []\n",
    "            tempq = []\n",
    "            for ele in curr:\n",
    "                if ele!=None:\n",
    "                    temp.append(ele.val)\n",
    "                    if ele.left!=None:\n",
    "                        tempq.append(ele.left)\n",
    "                    if ele.right != None:\n",
    "                        tempq.append(ele.right)\n",
    "            if tempq:\n",
    "                queue.append(tempq)\n",
    "            if temp:\n",
    "                ans.append(temp)\n",
    "        return ans\n",
    "levelOrder(root)          "
   ]
  },
  {
   "cell_type": "code",
   "execution_count": null,
   "id": "c61c6db7",
   "metadata": {},
   "outputs": [],
   "source": []
  }
 ],
 "metadata": {
  "kernelspec": {
   "display_name": "Python 3 (ipykernel)",
   "language": "python",
   "name": "python3"
  },
  "language_info": {
   "codemirror_mode": {
    "name": "ipython",
    "version": 3
   },
   "file_extension": ".py",
   "mimetype": "text/x-python",
   "name": "python",
   "nbconvert_exporter": "python",
   "pygments_lexer": "ipython3",
   "version": "3.10.9"
  }
 },
 "nbformat": 4,
 "nbformat_minor": 5
}
