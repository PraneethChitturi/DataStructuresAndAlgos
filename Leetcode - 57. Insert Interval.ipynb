{
 "cells": [
  {
   "cell_type": "code",
   "execution_count": 91,
   "id": "7a5716b2",
   "metadata": {},
   "outputs": [],
   "source": [
    "#Beats 30%\n",
    "from collections import deque \n",
    "\n",
    "def insert(intervals, newInterval):\n",
    "    res = []\n",
    "    i = 0\n",
    "    l = len(intervals)\n",
    "\n",
    "    while (i<l and intervals[i][1]<newInterval[0]):\n",
    "        res.append(intervals[i])\n",
    "        i+=1\n",
    "        \n",
    "    while (i<l and intervals[i][0] <= newInterval[1]):\n",
    "        newInterval[0] = min(newInterval[0],intervals[i][0])\n",
    "        newInterval[1] = max(newInterval[1],intervals[i][1])\n",
    "        i+=1\n",
    "        \n",
    "    res.append(newInterval)\n",
    "\n",
    "    if i<l:\n",
    "        res = res + intervals[i:]\n",
    "\n",
    "    return res\n",
    "    "
   ]
  },
  {
   "cell_type": "code",
   "execution_count": 92,
   "id": "bceafbd2",
   "metadata": {},
   "outputs": [
    {
     "data": {
      "text/plain": [
       "[[1, 2], [3, 10], [12, 16]]"
      ]
     },
     "execution_count": 92,
     "metadata": {},
     "output_type": "execute_result"
    }
   ],
   "source": [
    "intervals = [[1,2],[3,5],[6,7],[8,10],[12,16]]\n",
    "newInterval = [4,8]\n",
    "\n",
    "insert(intervals,newInterval)"
   ]
  },
  {
   "cell_type": "code",
   "execution_count": 93,
   "id": "fe4ff021",
   "metadata": {},
   "outputs": [],
   "source": [
    "#Beats 36%\n",
    "def insert(intervals, newInterval):\n",
    "    left = []\n",
    "    right = []\n",
    "\n",
    "    for interval in intervals:\n",
    "        if interval[1] < newInterval[0]:\n",
    "            left.append(interval)\n",
    "        elif interval[0] > newInterval[1]:\n",
    "            right.append(interval)\n",
    "        else:\n",
    "            newInterval[0] = min(newInterval[0], interval[0])\n",
    "            newInterval[1] = max(newInterval[1], interval[1])\n",
    "        \n",
    "    return left + [newInterval] + right"
   ]
  },
  {
   "cell_type": "code",
   "execution_count": null,
   "id": "0cf1ff5f",
   "metadata": {},
   "outputs": [],
   "source": []
  }
 ],
 "metadata": {
  "kernelspec": {
   "display_name": "Python 3 (ipykernel)",
   "language": "python",
   "name": "python3"
  },
  "language_info": {
   "codemirror_mode": {
    "name": "ipython",
    "version": 3
   },
   "file_extension": ".py",
   "mimetype": "text/x-python",
   "name": "python",
   "nbconvert_exporter": "python",
   "pygments_lexer": "ipython3",
   "version": "3.10.9"
  }
 },
 "nbformat": 4,
 "nbformat_minor": 5
}
