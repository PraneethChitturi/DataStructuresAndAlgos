{
 "cells": [
  {
   "cell_type": "code",
   "execution_count": 19,
   "id": "4b4d7fd1",
   "metadata": {},
   "outputs": [],
   "source": [
    "#Beats 65%\n",
    "from collections import deque\n",
    "\n",
    "class TreeNode(object):\n",
    "    def __init__(self, val=0, left=None, right=None):\n",
    "        self.val = val\n",
    "        self.left = left\n",
    "        self.right = right\n",
    "        \n",
    "class Solution(object):\n",
    "    def invertTree(self,root):\n",
    "        \"\"\"\n",
    "        :type root: TreeNode\n",
    "        :rtype: TreeNode\n",
    "        \"\"\"\n",
    "        if root:\n",
    "            queue = deque([root])\n",
    "            while queue:\n",
    "                main = queue.popleft()\n",
    "                temp = main.right\n",
    "                main.right = main.left\n",
    "                main.left = temp\n",
    "\n",
    "                if main.right:\n",
    "                    queue.append(main.right)\n",
    "                if main.left:\n",
    "                    queue.append(main.left)\n",
    "\n",
    "            return root\n",
    "    "
   ]
  },
  {
   "cell_type": "code",
   "execution_count": 27,
   "id": "27ce5f4c",
   "metadata": {},
   "outputs": [],
   "source": [
    "a = TreeNode(4)\n",
    "a.left = TreeNode(2)\n",
    "a.right = TreeNode(7)\n",
    "a.left.left = TreeNode(1)\n",
    "a.left.right = TreeNode(3)\n",
    "a.right.left = TreeNode(6)\n",
    "a.right.right = TreeNode(9)\n",
    "\n",
    "b = invertTree(a)"
   ]
  },
  {
   "cell_type": "code",
   "execution_count": 26,
   "id": "db5f68c0",
   "metadata": {},
   "outputs": [],
   "source": [
    "#Beats 94%\n",
    "\n",
    "# Definition for a binary tree node.\n",
    "# class TreeNode(object):\n",
    "#     def __init__(self, val=0, left=None, right=None):\n",
    "#         self.val = val\n",
    "#         self.left = left\n",
    "#         self.right = right\n",
    "class Solution(object):\n",
    "    def invertTree(self, root):\n",
    "        \"\"\"\n",
    "        :type root: TreeNode\n",
    "        :rtype: TreeNode\n",
    "        \"\"\"\n",
    "        if not root: return root\n",
    "        #Waht is right will become left,iteratively loop function on left\n",
    "        left = self.invertTree(root.right)\n",
    "        #Waht is left will become right,iteratively loop function on right\n",
    "        right = self.invertTree(root.left)\n",
    "        \n",
    "        #Swapping left of node to right and right of node to left\n",
    "        root.left, root.right = left, right\n",
    "        return root"
   ]
  }
 ],
 "metadata": {
  "kernelspec": {
   "display_name": "Python 3 (ipykernel)",
   "language": "python",
   "name": "python3"
  },
  "language_info": {
   "codemirror_mode": {
    "name": "ipython",
    "version": 3
   },
   "file_extension": ".py",
   "mimetype": "text/x-python",
   "name": "python",
   "nbconvert_exporter": "python",
   "pygments_lexer": "ipython3",
   "version": "3.10.9"
  }
 },
 "nbformat": 4,
 "nbformat_minor": 5
}
