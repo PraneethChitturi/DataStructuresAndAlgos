{
 "cells": [
  {
   "cell_type": "code",
   "execution_count": null,
   "id": "bfa87d29-53b8-4c23-86b0-1a55f05a70a0",
   "metadata": {},
   "outputs": [],
   "source": [
    "class TimeMap(object):\n",
    "\n",
    "\n",
    "    def __init__(self):\n",
    "        self.time_map = defaultdict(list)\n",
    "\n",
    "\n",
    "    def set(self,key, value, timestamp):\n",
    "        self.time_map[key].append([timestamp, value])\n",
    "\n",
    "    def get(self, key, timestamp):\n",
    "        if key not in self.time_map:\n",
    "            return \"\"\n",
    "        values = self.time_map[key]\n",
    "        low, high = 0, len(values) - 1\n",
    "        value = \"\"\n",
    "        while low <= high:\n",
    "            mid = low + (high - low) // 2\n",
    "            if values[mid][0] <= timestamp:\n",
    "                value = values[mid][1]\n",
    "                low = mid + 1\n",
    "            else:\n",
    "                high = mid - 1\n",
    "        return value\n",
    "\n"
   ]
  }
 ],
 "metadata": {
  "kernelspec": {
   "display_name": "Python 3 (ipykernel)",
   "language": "python",
   "name": "python3"
  },
  "language_info": {
   "codemirror_mode": {
    "name": "ipython",
    "version": 3
   },
   "file_extension": ".py",
   "mimetype": "text/x-python",
   "name": "python",
   "nbconvert_exporter": "python",
   "pygments_lexer": "ipython3",
   "version": "3.11.7"
  }
 },
 "nbformat": 4,
 "nbformat_minor": 5
}
