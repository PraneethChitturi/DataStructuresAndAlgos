{
 "cells": [
  {
   "cell_type": "code",
   "execution_count": 14,
   "id": "31bcb0b2-7b10-4d5a-b311-0552e2b6965f",
   "metadata": {},
   "outputs": [],
   "source": [
    "class Solution(object):\n",
    "    def __init__(self):\n",
    "       self.dp={}\n",
    "       self.nums=[]\n",
    "       self.length=0\n",
    "      \n",
    "    def solve(self,left,right,target):\n",
    "        if left>=right: return 0\n",
    "\n",
    "        if str(left)+\"-\"+str(right) in self.dp: return self.dp[str(left)+\"-\"+str(right)]\n",
    "\n",
    "        ans=0\n",
    "        if self.nums[left]+self.nums[left+1]==target:\n",
    "          ans=max(ans,1+self.solve(left+2,right,target))\n",
    "        \n",
    "        if self.nums[right]+self.nums[right-1]==target:\n",
    "          ans=max(ans,1+self.solve(left,right-2,target))\n",
    "\n",
    "        if self.nums[left]+self.nums[right]==target:\n",
    "          ans=max(ans,1+self.solve(left+1,right-1,target))\n",
    "\n",
    "        self.dp[str(left)+\"-\"+str(right)]=ans\n",
    "        return ans\n",
    "\n",
    "    def maxOperations(self, nums):\n",
    "        \"\"\"\n",
    "        :type nums: List[int]\n",
    "        :rtype: int\n",
    "        \"\"\"\n",
    "        self.nums=nums\n",
    "        self.length = len(nums)\n",
    "\n",
    "        oneway = 1+self.solve(2,self.length-1,nums[0]+nums[1])\n",
    "\n",
    "        secondway = 1+self.solve(0,self.length-3,nums[self.length-2]+nums[self.length-1])\n",
    "\n",
    "        thirdway = 1+self.solve(1,self.length-2,nums[0]+nums[self.length-1])\n",
    "\n",
    "        return max(oneway,secondway,thirdway)"
   ]
  },
  {
   "cell_type": "code",
   "execution_count": 16,
   "id": "6f163f4f-abd7-4310-9b44-dfa1b121784b",
   "metadata": {},
   "outputs": [
    {
     "data": {
      "text/plain": [
       "3"
      ]
     },
     "execution_count": 16,
     "metadata": {},
     "output_type": "execute_result"
    }
   ],
   "source": [
    "clas = Solution()\n",
    "clas.maxOperations([3,2,1,2,3,4])"
   ]
  }
 ],
 "metadata": {
  "kernelspec": {
   "display_name": "Python 3 (ipykernel)",
   "language": "python",
   "name": "python3"
  },
  "language_info": {
   "codemirror_mode": {
    "name": "ipython",
    "version": 3
   },
   "file_extension": ".py",
   "mimetype": "text/x-python",
   "name": "python",
   "nbconvert_exporter": "python",
   "pygments_lexer": "ipython3",
   "version": "3.11.7"
  }
 },
 "nbformat": 4,
 "nbformat_minor": 5
}
