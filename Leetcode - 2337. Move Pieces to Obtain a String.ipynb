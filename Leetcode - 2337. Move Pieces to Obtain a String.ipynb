{
 "cells": [
  {
   "cell_type": "code",
   "execution_count": null,
   "id": "e544029d-a2c3-4304-86e2-caec5cb5105a",
   "metadata": {},
   "outputs": [],
   "source": [
    "class Solution {\n",
    "    public boolean canChange(String start, String target) {\n",
    "        int len = start.length();\n",
    "        int startInd = 0, targetInd=0;\n",
    "        while (startInd<len||targetInd<len){\n",
    "            while (startInd<len && start.charAt(startInd)=='_'){\n",
    "                startInd++;\n",
    "            }\n",
    "\n",
    "            while (targetInd<len && target.charAt(targetInd)=='_'){\n",
    "                targetInd++;\n",
    "            }\n",
    "\n",
    "            if (startInd==len || targetInd==len){\n",
    "                return startInd==len && targetInd==len;\n",
    "            }\n",
    "\n",
    "            if ((start.charAt(startInd)!=target.charAt(targetInd)) || \n",
    "            (start.charAt(startInd)=='L' && startInd<targetInd) || \n",
    "            (start.charAt(startInd)=='R' && startInd>targetInd)){\n",
    "                return false;\n",
    "            }\n",
    "\n",
    "            startInd++;\n",
    "            targetInd++;\n",
    "        }\n",
    "\n",
    "\n",
    "        return true;\n",
    "    }\n",
    "}"
   ]
  }
 ],
 "metadata": {
  "kernelspec": {
   "display_name": "Python 3 (ipykernel)",
   "language": "python",
   "name": "python3"
  },
  "language_info": {
   "codemirror_mode": {
    "name": "ipython",
    "version": 3
   },
   "file_extension": ".py",
   "mimetype": "text/x-python",
   "name": "python",
   "nbconvert_exporter": "python",
   "pygments_lexer": "ipython3",
   "version": "3.11.7"
  }
 },
 "nbformat": 4,
 "nbformat_minor": 5
}
