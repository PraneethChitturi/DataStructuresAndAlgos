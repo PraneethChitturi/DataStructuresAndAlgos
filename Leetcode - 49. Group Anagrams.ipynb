{
 "cells": [
  {
   "cell_type": "code",
   "execution_count": 5,
   "id": "4d6fb934",
   "metadata": {},
   "outputs": [],
   "source": [
    "#Beats 52% in TLE\n",
    "from collections import defaultdict \n",
    "\n",
    "def groupAnagrams(strs):\n",
    "    \"\"\"\n",
    "    :type strs: List[str]\n",
    "    :rtype: List[List[str]]\n",
    "    \"\"\"\n",
    "    res = defaultdict(list)\n",
    "    b = ord('a')\n",
    "    for s in strs:\n",
    "        c = [0]*26\n",
    "        for i in s:\n",
    "            c[ord(i)-b] +=1\n",
    "        res[tuple(c)].append(s)\n",
    "        \n",
    "    return res.values()"
   ]
  },
  {
   "cell_type": "code",
   "execution_count": 18,
   "id": "fd232810",
   "metadata": {},
   "outputs": [],
   "source": [
    "#Beats 98% \n",
    "def groupAnagrams(strs):\n",
    "    \"\"\"\n",
    "    :type strs: List[str]\n",
    "    :rtype: List[List[str]]\n",
    "    \"\"\"\n",
    "    res={}\n",
    "    for s in strs:\n",
    "        sorts = \"\".join(sorted(s))\n",
    "        if sorts in res:\n",
    "            res[sorts].append(s)\n",
    "        else:\n",
    "            res[sorts]=[s]\n",
    "    \n",
    "    return res.values()"
   ]
  },
  {
   "cell_type": "code",
   "execution_count": 19,
   "id": "05afa2ad",
   "metadata": {},
   "outputs": [
    {
     "data": {
      "text/plain": [
       "dict_values([['eat', 'tea', 'ate'], ['tan', 'nat'], ['bat']])"
      ]
     },
     "execution_count": 19,
     "metadata": {},
     "output_type": "execute_result"
    }
   ],
   "source": [
    "strs = [\"eat\",\"tea\",\"tan\",\"ate\",\"nat\",\"bat\"]\n",
    "groupAnagrams(strs)"
   ]
  }
 ],
 "metadata": {
  "kernelspec": {
   "display_name": "Python 3 (ipykernel)",
   "language": "python",
   "name": "python3"
  },
  "language_info": {
   "codemirror_mode": {
    "name": "ipython",
    "version": 3
   },
   "file_extension": ".py",
   "mimetype": "text/x-python",
   "name": "python",
   "nbconvert_exporter": "python",
   "pygments_lexer": "ipython3",
   "version": "3.10.9"
  }
 },
 "nbformat": 4,
 "nbformat_minor": 5
}
