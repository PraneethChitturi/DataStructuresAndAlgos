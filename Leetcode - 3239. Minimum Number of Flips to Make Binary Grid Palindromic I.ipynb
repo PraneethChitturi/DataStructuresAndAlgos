{
 "cells": [
  {
   "cell_type": "code",
   "execution_count": 135,
   "id": "85b43c26-cc90-4c36-9ec3-a4a3e7a464ad",
   "metadata": {},
   "outputs": [],
   "source": [
    "#Beats 100% in TLE\n",
    "def minFlips(grid):\n",
    "    colsteps = 0\n",
    "    rowsteps = 0\n",
    "    m = len(grid)\n",
    "    n = len(grid[0])\n",
    "    for i in range(m):\n",
    "        for j in range(n//2):\n",
    "            if grid[i][j] != grid[i][n-j-1]:\n",
    "                colsteps+=1\n",
    "                print(\"col+1; \",\"i,j=\",i,j,\":\",grid[i][j],\"; \",\"i,m-i-1=\",m-i-1,j,\":\",grid[m-i-1][j])\n",
    "    print('ok')\n",
    "    for i in range(m//2):\n",
    "        for j in range(n):\n",
    "            if grid[i][j] != grid[m-i-1][j]:\n",
    "                rowsteps+=1\n",
    "                print(\"row+1; \",\"i,j=\",i,j,\":\",grid[i][j],\"; \",\"i,n-j-1=\",i,n-j-1,\":\",grid[i][n-j-1])\n",
    "    print(rowsteps,colsteps)\n",
    "    return rowsteps if rowsteps<colsteps else colsteps"
   ]
  },
  {
   "cell_type": "code",
   "execution_count": 136,
   "id": "51f7692c-92a0-43c5-a1f6-01aace2dd690",
   "metadata": {},
   "outputs": [
    {
     "name": "stdout",
     "output_type": "stream",
     "text": [
      "col+1;  i,j= 0 0 : 1 ;  i,m-i-1= 1 0 : 0\n",
      "col+1;  i,j= 1 0 : 0 ;  i,m-i-1= 0 0 : 1\n",
      "col+1;  i,j= 1 1 : 1 ;  i,m-i-1= 0 1 : 0\n",
      "ok\n",
      "row+1;  i,j= 0 0 : 1 ;  i,n-j-1= 0 3 : 0\n",
      "row+1;  i,j= 0 1 : 0 ;  i,n-j-1= 0 2 : 0\n",
      "row+1;  i,j= 0 3 : 0 ;  i,n-j-1= 0 0 : 1\n",
      "3 3\n"
     ]
    },
    {
     "data": {
      "text/plain": [
       "3"
      ]
     },
     "execution_count": 136,
     "metadata": {},
     "output_type": "execute_result"
    }
   ],
   "source": [
    "minFlips([[1,0,0,0],[0,1,0,1]])"
   ]
  },
  {
   "cell_type": "code",
   "execution_count": 137,
   "id": "1fc9c4ae-f736-4981-a8fc-47ffba33d883",
   "metadata": {},
   "outputs": [
    {
     "name": "stdout",
     "output_type": "stream",
     "text": [
      "col+1;  i,j= 0 0 : 1 ;  i,m-i-1= 2 0 : 0\n",
      "col+1;  i,j= 2 0 : 0 ;  i,m-i-1= 0 0 : 1\n",
      "ok\n",
      "row+1;  i,j= 0 0 : 1 ;  i,n-j-1= 0 2 : 0\n",
      "row+1;  i,j= 0 2 : 0 ;  i,n-j-1= 0 0 : 1\n",
      "2 2\n"
     ]
    },
    {
     "data": {
      "text/plain": [
       "2"
      ]
     },
     "execution_count": 137,
     "metadata": {},
     "output_type": "execute_result"
    }
   ],
   "source": [
    "minFlips([[1,0,0],[0,0,0],[0,0,1]])"
   ]
  },
  {
   "cell_type": "code",
   "execution_count": 138,
   "id": "120c8d2f-0221-4c7e-afe8-ae999eeb3274",
   "metadata": {},
   "outputs": [
    {
     "name": "stdout",
     "output_type": "stream",
     "text": [
      "col+1;  i,j= 0 0 : 0 ;  i,m-i-1= 2 0 : 0\n",
      "col+1;  i,j= 1 0 : 0 ;  i,m-i-1= 1 0 : 0\n",
      "ok\n",
      "row+1;  i,j= 0 1 : 1 ;  i,n-j-1= 0 0 : 0\n",
      "1 2\n"
     ]
    },
    {
     "data": {
      "text/plain": [
       "1"
      ]
     },
     "execution_count": 138,
     "metadata": {},
     "output_type": "execute_result"
    }
   ],
   "source": [
    "minFlips([[0,1],[0,1],[0,0]])"
   ]
  },
  {
   "cell_type": "code",
   "execution_count": 139,
   "id": "2c792f66-a96e-4d66-80dc-0c6b9f53cc87",
   "metadata": {},
   "outputs": [
    {
     "name": "stdout",
     "output_type": "stream",
     "text": [
      "ok\n",
      "row+1;  i,j= 0 0 : 1 ;  i,n-j-1= 0 0 : 1\n",
      "1 0\n"
     ]
    },
    {
     "data": {
      "text/plain": [
       "0"
      ]
     },
     "execution_count": 139,
     "metadata": {},
     "output_type": "execute_result"
    }
   ],
   "source": [
    "minFlips([[1],[0]])"
   ]
  }
 ],
 "metadata": {
  "kernelspec": {
   "display_name": "Python 3 (ipykernel)",
   "language": "python",
   "name": "python3"
  },
  "language_info": {
   "codemirror_mode": {
    "name": "ipython",
    "version": 3
   },
   "file_extension": ".py",
   "mimetype": "text/x-python",
   "name": "python",
   "nbconvert_exporter": "python",
   "pygments_lexer": "ipython3",
   "version": "3.11.7"
  }
 },
 "nbformat": 4,
 "nbformat_minor": 5
}
