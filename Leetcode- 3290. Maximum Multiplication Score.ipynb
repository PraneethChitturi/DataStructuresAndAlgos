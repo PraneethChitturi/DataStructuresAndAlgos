{
 "cells": [
  {
   "cell_type": "code",
   "execution_count": 33,
   "id": "63c53c0d-3f56-49eb-8d34-a143946f85cf",
   "metadata": {},
   "outputs": [],
   "source": [
    "#DP with Memoization\n",
    "class Solution(object):\n",
    "    def helper(a, b, i1, i2, memo):\n",
    "        if i1 == len(a):\n",
    "            return 0\n",
    "        if i2 >= len(b):\n",
    "            return float('-inf')\n",
    "        \n",
    "        if memo[i1][i2] != -1:\n",
    "            return memo[i1][i2]\n",
    "\n",
    "        memo[i1][i2] = max(a[i1] * b[i2] + helper(a, b, i1 + 1, i2 + 1, memo), helper(a, b, i1, i2 + 1, memo))\n",
    "        return memo[i1][i2]\n",
    "\n",
    "    def maxScore(self, a, b):\n",
    "        \"\"\"\n",
    "        :type a: List[int]\n",
    "        :type b: List[int]\n",
    "        :rtype: int\n",
    "        \"\"\"\n",
    "       \n",
    "        memo = [[-1] * len(b) for _ in range(4)]\n",
    "        return helper(a, b, 0, 0, memo)"
   ]
  },
  {
   "cell_type": "code",
   "execution_count": 37,
   "id": "10b4d1cb-0884-4837-9e9f-8ed213fdecb2",
   "metadata": {},
   "outputs": [
    {
     "data": {
      "text/plain": [
       "(34, -75)"
      ]
     },
     "execution_count": 37,
     "metadata": {},
     "output_type": "execute_result"
    }
   ],
   "source": [
    "maxScore([3,2,5,6], [2,-6,4,-5,-3,2,-7])"
   ]
  },
  {
   "cell_type": "code",
   "execution_count": 16,
   "id": "70dd2b36-2342-45ce-9d72-c5a657cd9b65",
   "metadata": {},
   "outputs": [
    {
     "data": {
      "text/plain": [
       "(0, -8)"
      ]
     },
     "execution_count": 16,
     "metadata": {},
     "output_type": "execute_result"
    }
   ],
   "source": [
    "maxScore([-1,4,5,-2], [-5,-1,-3,-2,-4])"
   ]
  },
  {
   "cell_type": "code",
   "execution_count": null,
   "id": "985a0d4b-725f-4880-b98d-2eb1581147c3",
   "metadata": {},
   "outputs": [],
   "source": []
  }
 ],
 "metadata": {
  "kernelspec": {
   "display_name": "Python 3 (ipykernel)",
   "language": "python",
   "name": "python3"
  },
  "language_info": {
   "codemirror_mode": {
    "name": "ipython",
    "version": 3
   },
   "file_extension": ".py",
   "mimetype": "text/x-python",
   "name": "python",
   "nbconvert_exporter": "python",
   "pygments_lexer": "ipython3",
   "version": "3.11.7"
  }
 },
 "nbformat": 4,
 "nbformat_minor": 5
}
