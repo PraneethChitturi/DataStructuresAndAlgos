{
 "cells": [
  {
   "cell_type": "code",
   "execution_count": null,
   "id": "9a1b6775-3002-475c-9d67-b7c278c8312f",
   "metadata": {},
   "outputs": [],
   "source": [
    "class Solution(object):\n",
    "    def maxChunksToSorted(self, arr):\n",
    "        \"\"\"\n",
    "        :type arr: List[int]\n",
    "        :rtype: int\n",
    "        \"\"\"\n",
    "        n = len(arr)\n",
    "        prefix_max = [arr[0]]\n",
    "        suffix_min = arr[:]\n",
    "\n",
    "        # Fill the prefix_max array\n",
    "        for i in range(1, n):\n",
    "            prefix_max.append(max(prefix_max[i - 1], arr[i]))\n",
    "\n",
    "        # Fill the suffix_min array in reverse order\n",
    "        for i in range(n - 2, -1, -1):\n",
    "            suffix_min[i] = min(suffix_min[i + 1], suffix_min[i])\n",
    "\n",
    "        chunks = 1\n",
    "        for i in range(1,n):\n",
    "            # A new chunk can be created\n",
    "            if suffix_min[i] > prefix_max[i - 1]:\n",
    "                chunks += 1\n",
    "\n",
    "        return chunks"
   ]
  }
 ],
 "metadata": {
  "kernelspec": {
   "display_name": "Python 3 (ipykernel)",
   "language": "python",
   "name": "python3"
  },
  "language_info": {
   "codemirror_mode": {
    "name": "ipython",
    "version": 3
   },
   "file_extension": ".py",
   "mimetype": "text/x-python",
   "name": "python",
   "nbconvert_exporter": "python",
   "pygments_lexer": "ipython3",
   "version": "3.11.7"
  }
 },
 "nbformat": 4,
 "nbformat_minor": 5
}
