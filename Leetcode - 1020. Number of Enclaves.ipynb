{
 "cells": [
  {
   "cell_type": "code",
   "execution_count": null,
   "id": "e8a83b4d-db32-469d-89d6-cb63dd29ca1c",
   "metadata": {},
   "outputs": [],
   "source": [
    "class Solution(object):\n",
    "    def numEnclaves(self, grid):\n",
    "        \"\"\"\n",
    "        :type grid: List[List[int]]\n",
    "        :rtype: int\n",
    "        \"\"\"\n",
    "        nrows = len(grid)\n",
    "        ncols = len(grid[0])\n",
    "\n",
    "        def bfs(i, j):\n",
    "            queue = deque()\n",
    "            queue.append((i, j))\n",
    "            grid[i][j] = 0  # mark as water\n",
    "\n",
    "            while queue:\n",
    "                x, y = queue.popleft()\n",
    "                for dx, dy in [(-1,0), (1,0), (0,-1), (0,1)]:\n",
    "                    nx, ny = x + dx, y + dy\n",
    "                    if 0 <= nx < nrows and 0 <= ny < ncols and grid[nx][ny] == 1:\n",
    "                        grid[nx][ny] = 0\n",
    "                        queue.append((nx, ny))\n",
    "\n",
    "        # Remove land connected to borders\n",
    "        for i in range(nrows):\n",
    "            for j in range(ncols):\n",
    "                if (i == 0 or i == nrows - 1 or j == 0 or j == ncols - 1) and grid[i][j] == 1:\n",
    "                    bfs(i, j)\n",
    "\n",
    "        # Count remaining land cells\n",
    "        count = 0\n",
    "        for i in range(nrows):\n",
    "            for j in range(ncols):\n",
    "                if grid[i][j] == 1:\n",
    "                    count += 1\n",
    "\n",
    "        return count"
   ]
  }
 ],
 "metadata": {
  "kernelspec": {
   "display_name": "Python 3 (ipykernel)",
   "language": "python",
   "name": "python3"
  },
  "language_info": {
   "codemirror_mode": {
    "name": "ipython",
    "version": 3
   },
   "file_extension": ".py",
   "mimetype": "text/x-python",
   "name": "python",
   "nbconvert_exporter": "python",
   "pygments_lexer": "ipython3",
   "version": "3.11.7"
  }
 },
 "nbformat": 4,
 "nbformat_minor": 5
}
