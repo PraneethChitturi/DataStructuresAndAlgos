{
 "cells": [
  {
   "cell_type": "code",
   "execution_count": null,
   "id": "508f0ec2",
   "metadata": {},
   "outputs": [],
   "source": [
    "#Passed- but beats only 20%\n",
    "class Solution(object):\n",
    "    def isSymmetric(self, root):\n",
    "        \"\"\"\n",
    "        :type root: TreeNode\n",
    "        :rtype: bool\n",
    "        \"\"\"\n",
    "        if root.left == None and root.right == None:\n",
    "            return True\n",
    "        if root.left and root.right == None:\n",
    "            return False\n",
    "        if root.left == None and root.right:\n",
    "            return False\n",
    "        if root.left.val != root.right.val:\n",
    "            return False\n",
    "\n",
    "        queue = [[root.left,root.right]]\n",
    "\n",
    "        while queue:\n",
    "            curr1,curr2 = queue.pop(0)\n",
    "\n",
    "            if curr1.left and curr2.right == None:\n",
    "                return False\n",
    "            if curr1.left == None and curr2.right:\n",
    "                return False\n",
    "\n",
    "            if curr1.right and curr2.left == None:\n",
    "                return False\n",
    "            if curr1.right == None and curr2.left:\n",
    "                return False\n",
    "\n",
    "            if curr1.left and curr2.right:\n",
    "                if curr1.left.val != curr2.right.val:\n",
    "                    return False\n",
    "                queue.append([curr1.left,curr2.right])\n",
    "\n",
    "            if curr1.right and curr2.left:\n",
    "                if curr1.right.val != curr2.left.val:\n",
    "                    return False\n",
    "                queue.append([curr1.right,curr2.left])\n",
    "\n",
    "        return True\n",
    "        "
   ]
  },
  {
   "cell_type": "code",
   "execution_count": null,
   "id": "18a6f856",
   "metadata": {},
   "outputs": [],
   "source": [
    "#Helps with beating competition - 90%\n",
    "class Solution(object):\n",
    "    \n",
    "    def isSymmetric(self, root):\n",
    "        \"\"\"\n",
    "        :type root: TreeNode\n",
    "        :rtype: bool\n",
    "        \"\"\"\n",
    "        if not root:\n",
    "            return True\n",
    "        return self.isSymmetric_env(root,root)\n",
    "    \n",
    "    def isSymmetric_env(self,r1,r2):\n",
    "        if r1 == None and r2 == None:\n",
    "            return True\n",
    "        if r1 == None or r2 == None:\n",
    "            return False\n",
    "        return r1.val == r2.val and self.isSymmetric_env(r1.left,r2.right) and self.isSymmetric_env(r1.right,r2.left)\n",
    "        "
   ]
  }
 ],
 "metadata": {
  "kernelspec": {
   "display_name": "Python 3 (ipykernel)",
   "language": "python",
   "name": "python3"
  },
  "language_info": {
   "codemirror_mode": {
    "name": "ipython",
    "version": 3
   },
   "file_extension": ".py",
   "mimetype": "text/x-python",
   "name": "python",
   "nbconvert_exporter": "python",
   "pygments_lexer": "ipython3",
   "version": "3.10.9"
  }
 },
 "nbformat": 4,
 "nbformat_minor": 5
}
