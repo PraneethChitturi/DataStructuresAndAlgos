{
 "cells": [
  {
   "cell_type": "code",
   "execution_count": 22,
   "id": "6323beb3-b992-4a65-bf68-19377fa6f9c7",
   "metadata": {},
   "outputs": [],
   "source": [
    "import numpy as np\n",
    "class Solution(object):\n",
    "    def minSubArrayLen(self, target, nums):\n",
    "        \"\"\"\n",
    "        :type target: int\n",
    "        :type nums: List[int]\n",
    "        :rtype: int\n",
    "        \"\"\"\n",
    "        i=0\n",
    "        j=1\n",
    "        minlen= np.Inf\n",
    "        sofw=nums[0]\n",
    "        while i<len(nums):\n",
    "            if sofw>=target:\n",
    "                minlen=min(minlen,j-i)\n",
    "                sofw-=nums[i]\n",
    "                i+=1\n",
    "            elif sofw<target:\n",
    "                if j<len(nums):\n",
    "                    sofw+=nums[j]\n",
    "                    j+=1\n",
    "                else:\n",
    "                    sofw-=nums[i] \n",
    "                    i+=1\n",
    "                    \n",
    "\n",
    "        return 0 if minlen==np.Inf else minlen"
   ]
  },
  {
   "cell_type": "code",
   "execution_count": null,
   "id": "0df761ff-2431-4e2b-a52b-7486b8bd2710",
   "metadata": {},
   "outputs": [],
   "source": [
    "\n",
    "class Solution(object):\n",
    "    def minSubArrayLen(self, target, nums):\n",
    "        \"\"\"\n",
    "        :type target: int\n",
    "        :type nums: List[int]\n",
    "        :rtype: int\n",
    "        \"\"\"\n",
    "        sum_tot = sum(nums)\n",
    "        if sum_tot < target:\n",
    "            return 0\n",
    "        left = 0\n",
    "        sum_cum = 0\n",
    "        out = len(nums)\n",
    "\n",
    "        for i, num in enumerate(nums):\n",
    "            sum_cum += num\n",
    "            while sum_cum >= target:\n",
    "                sum_cum -= nums[left]\n",
    "                left += 1\n",
    "                out = min(out, i + 1 - left)\n",
    "\n",
    "\n",
    "        return out+1"
   ]
  },
  {
   "cell_type": "code",
   "execution_count": 26,
   "id": "641a528f-1b87-4e96-ae5a-9067b0745de6",
   "metadata": {},
   "outputs": [
    {
     "name": "stdout",
     "output_type": "stream",
     "text": [
      "[1]\n",
      "[1, 2]\n",
      "[1, 2, 3]\n",
      "[1, 2, 3, 4]\n",
      "[1, 2, 3, 4, 5]\n",
      "[2, 3, 4, 5]\n",
      "[3, 4, 5]\n",
      "[4, 5]\n",
      "[5]\n"
     ]
    },
    {
     "data": {
      "text/plain": [
       "0"
      ]
     },
     "execution_count": 26,
     "metadata": {},
     "output_type": "execute_result"
    }
   ],
   "source": [
    "minSubArrayLen(11,[1,2,3,4,5])"
   ]
  },
  {
   "cell_type": "code",
   "execution_count": 23,
   "id": "fa7a1dfb-2379-49b2-ba6c-4fd0206bc7bc",
   "metadata": {},
   "outputs": [
    {
     "name": "stdout",
     "output_type": "stream",
     "text": [
      "[2]\n",
      "[2, 3]\n",
      "[2, 3, 1]\n",
      "[2, 3, 1, 2]\n",
      "[3, 1, 2]\n",
      "[3, 1, 2, 4]\n",
      "[1, 2, 4]\n",
      "[2, 4]\n",
      "[2, 4, 3]\n",
      "[4, 3]\n",
      "[3]\n"
     ]
    },
    {
     "data": {
      "text/plain": [
       "2"
      ]
     },
     "execution_count": 23,
     "metadata": {},
     "output_type": "execute_result"
    }
   ],
   "source": [
    "minSubArrayLen(7, [2,3,1,2,4,3])"
   ]
  },
  {
   "cell_type": "code",
   "execution_count": 24,
   "id": "ec798178-fc74-4eca-b2b3-149e815323bb",
   "metadata": {},
   "outputs": [
    {
     "name": "stdout",
     "output_type": "stream",
     "text": [
      "[1]\n",
      "[1, 4]\n",
      "[4]\n",
      "[]\n",
      "[4]\n"
     ]
    },
    {
     "data": {
      "text/plain": [
       "1"
      ]
     },
     "execution_count": 24,
     "metadata": {},
     "output_type": "execute_result"
    }
   ],
   "source": [
    "minSubArrayLen(4, [1,4,4])"
   ]
  },
  {
   "cell_type": "code",
   "execution_count": 25,
   "id": "82e2f65e-0378-4dc0-a3fd-ea9ab480ea75",
   "metadata": {},
   "outputs": [
    {
     "name": "stdout",
     "output_type": "stream",
     "text": [
      "[1]\n",
      "[1, 1]\n",
      "[1, 1, 1]\n",
      "[1, 1, 1, 1]\n",
      "[1, 1, 1, 1, 1]\n",
      "[1, 1, 1, 1, 1, 1]\n",
      "[1, 1, 1, 1, 1, 1, 1]\n",
      "[1, 1, 1, 1, 1, 1, 1, 1]\n",
      "[1, 1, 1, 1, 1, 1, 1]\n",
      "[1, 1, 1, 1, 1, 1]\n",
      "[1, 1, 1, 1, 1]\n",
      "[1, 1, 1, 1]\n",
      "[1, 1, 1]\n",
      "[1, 1]\n",
      "[1]\n"
     ]
    },
    {
     "data": {
      "text/plain": [
       "0"
      ]
     },
     "execution_count": 25,
     "metadata": {},
     "output_type": "execute_result"
    }
   ],
   "source": [
    "minSubArrayLen(11, [1,1,1,1,1,1,1,1])"
   ]
  },
  {
   "cell_type": "code",
   "execution_count": null,
   "id": "b1e178ef-bb87-4632-974b-e703434b9139",
   "metadata": {},
   "outputs": [],
   "source": []
  }
 ],
 "metadata": {
  "kernelspec": {
   "display_name": "Python 3 (ipykernel)",
   "language": "python",
   "name": "python3"
  },
  "language_info": {
   "codemirror_mode": {
    "name": "ipython",
    "version": 3
   },
   "file_extension": ".py",
   "mimetype": "text/x-python",
   "name": "python",
   "nbconvert_exporter": "python",
   "pygments_lexer": "ipython3",
   "version": "3.11.7"
  }
 },
 "nbformat": 4,
 "nbformat_minor": 5
}
