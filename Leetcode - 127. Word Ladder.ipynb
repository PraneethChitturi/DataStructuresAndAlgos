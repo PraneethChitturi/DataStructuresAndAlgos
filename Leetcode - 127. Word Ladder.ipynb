{
 "cells": [
  {
   "cell_type": "code",
   "execution_count": 140,
   "id": "7d0505cf-c24f-4b92-b760-b67f38f0ddfb",
   "metadata": {},
   "outputs": [],
   "source": [
    "#Beats 68% in TLE\n",
    "from collections import deque\n",
    "from collections import defaultdict\n",
    "\n",
    "def ladderLength(beginWord, endWord, wordList):\n",
    "    seendict={beginWord:1}\n",
    "    queue = deque([(beginWord,1)])\n",
    "    ans = 0\n",
    "\n",
    "    \n",
    "    all_combo_dict = defaultdict(list)\n",
    "    L=len(beginWord)\n",
    "    for word in wordList:\n",
    "        for i in range(L):\n",
    "            all_combo_dict[word[:i] + \"*\" + word[i+1:]].append(word) \n",
    "    while queue and ans==0:\n",
    "        ele,pos = queue.popleft()\n",
    "        if ele==endWord:\n",
    "            ans = pos\n",
    "            return ans\n",
    "        for i in range(L):\n",
    "            for elems in all_combo_dict[ele[:i] + \"*\" + ele[i+1:]]:\n",
    "                if elems==endWord:\n",
    "                    ans = pos+1\n",
    "                    return ans\n",
    "                if elems not in seendict:\n",
    "                    queue.append((elems,pos+1))\n",
    "                    seendict[elems]=1\n",
    "    return ans\n",
    "    "
   ]
  },
  {
   "cell_type": "code",
   "execution_count": 141,
   "id": "e4ab3cc0-bbe0-4772-9166-f4cb4552394d",
   "metadata": {},
   "outputs": [
    {
     "data": {
      "text/plain": [
       "5"
      ]
     },
     "execution_count": 141,
     "metadata": {},
     "output_type": "execute_result"
    }
   ],
   "source": [
    "ladderLength(\"hit\", \"cog\", [\"hot\",\"dot\",\"dog\",\"lot\",\"log\",\"cog\"])"
   ]
  },
  {
   "cell_type": "code",
   "execution_count": 142,
   "id": "291a8ec6-cffd-4564-8882-a1772de310f3",
   "metadata": {},
   "outputs": [
    {
     "data": {
      "text/plain": [
       "0"
      ]
     },
     "execution_count": 142,
     "metadata": {},
     "output_type": "execute_result"
    }
   ],
   "source": [
    "ladderLength(\"hit\", \"cog\", [\"hot\",\"dot\",\"dog\",\"lot\",\"log\"])"
   ]
  }
 ],
 "metadata": {
  "kernelspec": {
   "display_name": "Python 3 (ipykernel)",
   "language": "python",
   "name": "python3"
  },
  "language_info": {
   "codemirror_mode": {
    "name": "ipython",
    "version": 3
   },
   "file_extension": ".py",
   "mimetype": "text/x-python",
   "name": "python",
   "nbconvert_exporter": "python",
   "pygments_lexer": "ipython3",
   "version": "3.11.7"
  }
 },
 "nbformat": 4,
 "nbformat_minor": 5
}
