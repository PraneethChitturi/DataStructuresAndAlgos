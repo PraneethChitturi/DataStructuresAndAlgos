{
 "cells": [
  {
   "cell_type": "code",
   "execution_count": 27,
   "id": "26aab8e9-5dfe-42d2-afd6-669b46c058cc",
   "metadata": {},
   "outputs": [],
   "source": [
    "from collections import defaultdict\n",
    "\n",
    "def characterReplacement(s, k):\n",
    "    count={}\n",
    "    res=0\n",
    "    l=0\n",
    "\n",
    "    for r in range(len(s)):\n",
    "        count[s[r]]=1+count.get(s[r],0)\n",
    "\n",
    "        while (r-l+1)-max(count.values())>k:\n",
    "            count[s[l]]-=1\n",
    "            l+=1\n",
    "\n",
    "        res=max(res,r-l+1)\n",
    "\n",
    "    return res"
   ]
  },
  {
   "cell_type": "code",
   "execution_count": 28,
   "id": "536c62d7-ed10-4f02-a576-d4023230e3e9",
   "metadata": {},
   "outputs": [
    {
     "data": {
      "text/plain": [
       "4"
      ]
     },
     "execution_count": 28,
     "metadata": {},
     "output_type": "execute_result"
    }
   ],
   "source": [
    "characterReplacement(\"ABAB\",2)"
   ]
  },
  {
   "cell_type": "code",
   "execution_count": 29,
   "id": "98b0c64e-f562-41a1-8f6a-ad1dd5fcc126",
   "metadata": {},
   "outputs": [
    {
     "data": {
      "text/plain": [
       "4"
      ]
     },
     "execution_count": 29,
     "metadata": {},
     "output_type": "execute_result"
    }
   ],
   "source": [
    "characterReplacement(\"AABABBA\", 1)"
   ]
  },
  {
   "cell_type": "code",
   "execution_count": null,
   "id": "1ee4c7b4-c3cc-4f43-b226-4e4ec6e53b4d",
   "metadata": {},
   "outputs": [],
   "source": []
  }
 ],
 "metadata": {
  "kernelspec": {
   "display_name": "Python 3 (ipykernel)",
   "language": "python",
   "name": "python3"
  },
  "language_info": {
   "codemirror_mode": {
    "name": "ipython",
    "version": 3
   },
   "file_extension": ".py",
   "mimetype": "text/x-python",
   "name": "python",
   "nbconvert_exporter": "python",
   "pygments_lexer": "ipython3",
   "version": "3.11.7"
  }
 },
 "nbformat": 4,
 "nbformat_minor": 5
}
