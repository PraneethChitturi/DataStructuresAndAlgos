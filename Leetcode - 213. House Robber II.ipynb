{
 "cells": [
  {
   "cell_type": "code",
   "execution_count": 7,
   "id": "3086867a-285b-40fb-a49d-bf45cc973c9e",
   "metadata": {},
   "outputs": [],
   "source": [
    "# DP beats 98% in TLE\n",
    "\n",
    "def rob( nums):\n",
    "        \"\"\"\n",
    "        :type nums: List[int]\n",
    "        :rtype: int\n",
    "        \"\"\"\n",
    "        def dpin(nums,ind,st,dp):\n",
    "          if ind<st: return 0\n",
    "          if ind==st: return nums[ind]\n",
    "          if dp[ind]!=-1: return dp[ind]\n",
    "          withadd = nums[ind]+dpin(nums,ind-2,st,dp)\n",
    "          withoutadd = 0+dpin(nums,ind-1,st,dp)\n",
    "          dp[ind] = max(withadd,withoutadd)\n",
    "          return dp[ind]\n",
    "\n",
    "        l=len(nums)\n",
    "        if l==1: return nums[0]\n",
    "        if l==2: return max(nums[0],nums[1])\n",
    "\n",
    "        dp1 = [-1]*l\n",
    "        dp2 = [-1]*l\n",
    "        withoutlast=dpin(nums,l-1,1,dp1)\n",
    "        withlast=dpin(nums,l-2,0,dp2)\n",
    "\n",
    "        return max(withoutlast,withlast)\n",
    "\n",
    "\n"
   ]
  },
  {
   "cell_type": "code",
   "execution_count": 8,
   "id": "4de20d66-5f66-450f-83f6-fbc8be6e0a72",
   "metadata": {},
   "outputs": [
    {
     "data": {
      "text/plain": [
       "3"
      ]
     },
     "execution_count": 8,
     "metadata": {},
     "output_type": "execute_result"
    }
   ],
   "source": [
    "rob([2,3,2])"
   ]
  },
  {
   "cell_type": "code",
   "execution_count": 9,
   "id": "bf00f679-f708-417d-89b8-5f930385df7f",
   "metadata": {},
   "outputs": [
    {
     "data": {
      "text/plain": [
       "4"
      ]
     },
     "execution_count": 9,
     "metadata": {},
     "output_type": "execute_result"
    }
   ],
   "source": [
    "rob([1,2,3,1])"
   ]
  },
  {
   "cell_type": "code",
   "execution_count": 10,
   "id": "0f02f541-63b9-4117-88d9-0605c4bca5fb",
   "metadata": {},
   "outputs": [
    {
     "data": {
      "text/plain": [
       "3"
      ]
     },
     "execution_count": 10,
     "metadata": {},
     "output_type": "execute_result"
    }
   ],
   "source": [
    "rob([1,2,3])"
   ]
  },
  {
   "cell_type": "code",
   "execution_count": null,
   "id": "f47baeca-4ed3-4035-85e2-1fb59139970a",
   "metadata": {},
   "outputs": [],
   "source": []
  }
 ],
 "metadata": {
  "kernelspec": {
   "display_name": "Python 3 (ipykernel)",
   "language": "python",
   "name": "python3"
  },
  "language_info": {
   "codemirror_mode": {
    "name": "ipython",
    "version": 3
   },
   "file_extension": ".py",
   "mimetype": "text/x-python",
   "name": "python",
   "nbconvert_exporter": "python",
   "pygments_lexer": "ipython3",
   "version": "3.11.7"
  }
 },
 "nbformat": 4,
 "nbformat_minor": 5
}
