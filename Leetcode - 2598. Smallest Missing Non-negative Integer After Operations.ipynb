{
 "cells": [
  {
   "cell_type": "code",
   "execution_count": 5,
   "id": "698b6293-487c-4651-aa23-e5d4d41db11b",
   "metadata": {},
   "outputs": [],
   "source": [
    "from collections import Counter\n",
    "class Solution(object):\n",
    "    def findSmallestInteger(self, nums, value):\n",
    "        \"\"\"\n",
    "        :type nums: List[int]\n",
    "        :type value: int\n",
    "        :rtype: int\n",
    "        \"\"\"\n",
    "        m=Counter([n%value for n in nums])\n",
    "        for i in range(len(nums)):\n",
    "            if m[i%value]==0:\n",
    "                return i\n",
    "            m[i%value]-=1\n",
    "        return len(nums)"
   ]
  },
  {
   "cell_type": "code",
   "execution_count": null,
   "id": "b2032f67-54cb-4c88-a849-8614e5e06ed3",
   "metadata": {},
   "outputs": [],
   "source": []
  }
 ],
 "metadata": {
  "kernelspec": {
   "display_name": "Python 3 (ipykernel)",
   "language": "python",
   "name": "python3"
  },
  "language_info": {
   "codemirror_mode": {
    "name": "ipython",
    "version": 3
   },
   "file_extension": ".py",
   "mimetype": "text/x-python",
   "name": "python",
   "nbconvert_exporter": "python",
   "pygments_lexer": "ipython3",
   "version": "3.11.7"
  }
 },
 "nbformat": 4,
 "nbformat_minor": 5
}
