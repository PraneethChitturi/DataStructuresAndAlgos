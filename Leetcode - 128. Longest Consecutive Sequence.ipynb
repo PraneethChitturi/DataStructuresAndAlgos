{
 "cells": [
  {
   "cell_type": "code",
   "execution_count": 13,
   "id": "71f606e3-bf69-47fa-9834-f5740039717e",
   "metadata": {},
   "outputs": [],
   "source": [
    "class Solution(object):\n",
    "    \n",
    "     \n",
    "    def longestConsecutive(self, nums):\n",
    "        \"\"\"\n",
    "        :type nums: List[int]\n",
    "        :rtype: int\n",
    "        \"\"\"\n",
    "        s, longest = set(nums), 0\n",
    "        for num in s:\n",
    "            if num - 1 in s: continue\n",
    "            j = 1\n",
    "            while num + j in s: j += 1\n",
    "            longest = max(longest, j)\n",
    "        return longest"
   ]
  }
 ],
 "metadata": {
  "kernelspec": {
   "display_name": "Python 3 (ipykernel)",
   "language": "python",
   "name": "python3"
  },
  "language_info": {
   "codemirror_mode": {
    "name": "ipython",
    "version": 3
   },
   "file_extension": ".py",
   "mimetype": "text/x-python",
   "name": "python",
   "nbconvert_exporter": "python",
   "pygments_lexer": "ipython3",
   "version": "3.11.7"
  }
 },
 "nbformat": 4,
 "nbformat_minor": 5
}
