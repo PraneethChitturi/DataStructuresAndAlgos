{
 "cells": [
  {
   "cell_type": "code",
   "execution_count": null,
   "id": "b3cd8237-4f35-44e2-8005-780b6595cb78",
   "metadata": {},
   "outputs": [],
   "source": [
    "class DetectSquares {\n",
    "    HashMap<String,Integer> count;\n",
    "    List<int[]> points;\n",
    "\n",
    "    public DetectSquares() {\n",
    "        this.count = new HashMap<>();\n",
    "        this.points = new ArrayList<>();\n",
    "    }\n",
    "    \n",
    "    public void add(int[] point) {\n",
    "        String key=point[0]+ \",\" + point[1];\n",
    "        this.count.put(key,this.count.getOrDefault(key,0)+1);\n",
    "\n",
    "        this.points.add(point);\n",
    "\n",
    "    }\n",
    "    \n",
    "    public int count(int[] point) {\n",
    "        int x = point[0], y = point[1];\n",
    "        int ans = 0;\n",
    "\n",
    "        for (int[] coords : this.points) {\n",
    "            int px = coords[0], py = coords[1];\n",
    "\n",
    "            // Not a diagonal (skip same row or column)\n",
    "            if (Math.abs(px - x) != Math.abs(py - y) || px == x || py == y) continue;\n",
    "\n",
    "            // Find other two square corners\n",
    "            String key1 = px + \",\" + y;\n",
    "            String key2 = x + \",\" + py;\n",
    "\n",
    "            if (this.count.containsKey(key1) && this.count.containsKey(key2)) {\n",
    "                ans += this.count.get(key1) * this.count.get(key2);\n",
    "            }\n",
    "        }\n",
    "\n",
    "        return ans;\n",
    "    }\n",
    "\n",
    "}\n",
    "\n",
    "/**\n",
    " * Your DetectSquares object will be instantiated and called as such:\n",
    " * DetectSquares obj = new DetectSquares();\n",
    " * obj.add(point);\n",
    " * int param_2 = obj.count(point);\n",
    " */"
   ]
  }
 ],
 "metadata": {
  "kernelspec": {
   "display_name": "Python 3 (ipykernel)",
   "language": "python",
   "name": "python3"
  },
  "language_info": {
   "codemirror_mode": {
    "name": "ipython",
    "version": 3
   },
   "file_extension": ".py",
   "mimetype": "text/x-python",
   "name": "python",
   "nbconvert_exporter": "python",
   "pygments_lexer": "ipython3",
   "version": "3.11.7"
  }
 },
 "nbformat": 4,
 "nbformat_minor": 5
}
