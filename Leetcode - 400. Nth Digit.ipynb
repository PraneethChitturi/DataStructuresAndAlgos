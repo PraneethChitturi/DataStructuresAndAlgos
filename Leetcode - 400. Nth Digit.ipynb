{
 "cells": [
  {
   "cell_type": "code",
   "execution_count": null,
   "id": "e272ea73-26e3-4116-adbc-fd534d9c8528",
   "metadata": {},
   "outputs": [],
   "source": [
    "class Solution(object):\n",
    "    def findNthDigit(self, n):\n",
    "        \"\"\"\n",
    "        :type n: int\n",
    "        :rtype: int\n",
    "        \"\"\"\n",
    "        digits = 1\n",
    "        start=1\n",
    "        count=9\n",
    "        while n>count*digits:\n",
    "          n-=count*digits\n",
    "          digits+=1\n",
    "          count*=10\n",
    "          start*=10\n",
    "        \n",
    "        startnumber = start+((n-1)//digits)\n",
    "        return int(str(startnumber)[(n-1)%digits])\n",
    "        "
   ]
  }
 ],
 "metadata": {
  "kernelspec": {
   "display_name": "Python 3 (ipykernel)",
   "language": "python",
   "name": "python3"
  },
  "language_info": {
   "codemirror_mode": {
    "name": "ipython",
    "version": 3
   },
   "file_extension": ".py",
   "mimetype": "text/x-python",
   "name": "python",
   "nbconvert_exporter": "python",
   "pygments_lexer": "ipython3",
   "version": "3.11.7"
  }
 },
 "nbformat": 4,
 "nbformat_minor": 5
}
