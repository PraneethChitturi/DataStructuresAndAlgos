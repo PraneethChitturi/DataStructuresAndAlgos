{
 "cells": [
  {
   "cell_type": "code",
   "execution_count": 3,
   "id": "7da4da47",
   "metadata": {},
   "outputs": [],
   "source": [
    "#Beats 84%\n",
    "def isMatch(s, p):\n",
    "    \"\"\"\n",
    "    :type s: str\n",
    "    :type p: str\n",
    "    :rtype: bool\n",
    "    \"\"\"\n",
    "    cache = {}\n",
    "    \n",
    "    def dfs(i,j):\n",
    "        if (i,j) in cache:\n",
    "            return cache[(i,j)]\n",
    "        \n",
    "        if i>= len(s) and j >= len(p):\n",
    "            return True\n",
    "        if j>=len(p):\n",
    "            return False\n",
    "\n",
    "        match = i < len(s) and (s[i]==p[j] or p[j]==\".\")\n",
    "        \n",
    "        if (j+1) <len(p) and p[j+1] == \"*\":\n",
    "            cache[(i,j)] =  (dfs(i,j+2)) or (match and dfs(i+1,j))\n",
    "            return cache[(i,j)]\n",
    "        if match:\n",
    "            cache[(i,j)] = dfs(i+1,j+1)\n",
    "            return cache[(i,j)]\n",
    "        cache[(i,j)] = False\n",
    "        return False\n",
    "    \n",
    "    return dfs(0,0)"
   ]
  },
  {
   "cell_type": "code",
   "execution_count": 4,
   "id": "4ca43b2b",
   "metadata": {},
   "outputs": [
    {
     "data": {
      "text/plain": [
       "False"
      ]
     },
     "execution_count": 4,
     "metadata": {},
     "output_type": "execute_result"
    }
   ],
   "source": [
    "isMatch(\"ab\",\".*c\")"
   ]
  },
  {
   "cell_type": "code",
   "execution_count": null,
   "id": "b74d0ee2",
   "metadata": {},
   "outputs": [],
   "source": []
  }
 ],
 "metadata": {
  "kernelspec": {
   "display_name": "Python 3 (ipykernel)",
   "language": "python",
   "name": "python3"
  },
  "language_info": {
   "codemirror_mode": {
    "name": "ipython",
    "version": 3
   },
   "file_extension": ".py",
   "mimetype": "text/x-python",
   "name": "python",
   "nbconvert_exporter": "python",
   "pygments_lexer": "ipython3",
   "version": "3.10.9"
  }
 },
 "nbformat": 4,
 "nbformat_minor": 5
}
