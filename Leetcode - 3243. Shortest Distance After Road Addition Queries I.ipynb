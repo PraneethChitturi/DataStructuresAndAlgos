{
 "cells": [
  {
   "cell_type": "code",
   "execution_count": null,
   "id": "a0c6e07d-32e6-4d81-b44f-7253ee97a026",
   "metadata": {},
   "outputs": [],
   "source": [
    "#Beats 53% in TLE\n",
    "from collections import deque\n",
    "def shortestDistanceAfterQueries(n, queries):\n",
    "        \"\"\"\n",
    "        :type n: int\n",
    "        :type queries: List[List[int]]\n",
    "        :rtype: List[int]\n",
    "        \"\"\"\n",
    "        adj = [[] for i in range(n)]\n",
    "        for i in range(n-1, 0, -1):\n",
    "            adj[i].append(i-1)\n",
    "\n",
    "        def dijkstra(adj):\n",
    "            \n",
    "            n = len(adj)\n",
    "            d = [float(\"inf\")] * (n)\n",
    "            d[n-1] = 0\n",
    "            pq = deque()\n",
    "            print(pq)\n",
    "            pq.append((0, n-1))\n",
    "            print(pq)\n",
    "            while pq:\n",
    "                du, u = pq.popleft()\n",
    "\n",
    "                if du != d[u]:\n",
    "                    print(\"cont:\",du,d[u])\n",
    "                    continue\n",
    "                \n",
    "                for v in adj[u]:\n",
    "                    print(\"Inside:\",v)\n",
    "                    if d[u] + 1 < d[v]:\n",
    "                        d[v] = d[u] + 1\n",
    "                        pq.append((d[v], v))\n",
    "                    print(\"Inside:\",pq)\n",
    "            \n",
    "            return d[0]\n",
    "\n",
    "        ans = []\n",
    "        for a, b in queries:\n",
    "            adj[b].append(a)\n",
    "            print(adj)\n",
    "            ans.append(dijkstra(adj))\n",
    "        \n",
    "        return ans"
   ]
  },
  {
   "cell_type": "code",
   "execution_count": null,
   "id": "02872f07-d406-49fd-bf16-375f4fdddcf0",
   "metadata": {},
   "outputs": [],
   "source": [
    "shortestDistanceAfterQueries(5, [[2,4],[0,2],[0,4]])"
   ]
  },
  {
   "cell_type": "code",
   "execution_count": null,
   "id": "8ab88cbf-37fd-4391-8e74-a81c74d6e5b3",
   "metadata": {},
   "outputs": [],
   "source": [
    "shortestDistanceAfterQueries(4, [[0,3],[0,2]])"
   ]
  }
 ],
 "metadata": {
  "kernelspec": {
   "display_name": "Python 3 (ipykernel)",
   "language": "python",
   "name": "python3"
  },
  "language_info": {
   "codemirror_mode": {
    "name": "ipython",
    "version": 3
   },
   "file_extension": ".py",
   "mimetype": "text/x-python",
   "name": "python",
   "nbconvert_exporter": "python",
   "pygments_lexer": "ipython3",
   "version": "3.11.7"
  }
 },
 "nbformat": 4,
 "nbformat_minor": 5
}
