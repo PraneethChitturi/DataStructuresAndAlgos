{
 "cells": [
  {
   "cell_type": "code",
   "execution_count": 53,
   "id": "feade66e-16ee-4317-a93b-5ca87315a834",
   "metadata": {},
   "outputs": [],
   "source": [
    "def search(nums, target):\n",
    "        i=0\n",
    "        j=len(nums)-1\n",
    "\n",
    "        if j==0 and target in nums:\n",
    "            return 0\n",
    "            \n",
    "        while i<j:\n",
    "            mid=(i+j)//2\n",
    "            print(\"i:\",i,nums[i])\n",
    "            print(\"j:\",j,nums[j])\n",
    "            print(\"mid:\",mid,nums[mid])\n",
    "            \n",
    "            if target==nums[mid]:\n",
    "                return mid\n",
    "            elif target==nums[j]:\n",
    "                return j\n",
    "            elif target == nums[i]:\n",
    "                return i\n",
    "                \n",
    "            if nums[i]<=nums[mid]:\n",
    "                if nums[i]<=target<nums[mid]:\n",
    "                    j=mid-1\n",
    "                else:\n",
    "                    i=mid+1\n",
    "            else:\n",
    "                if nums[mid]<=target<nums[j]:\n",
    "                    i=mid+1\n",
    "                else:\n",
    "                    j=mid-1\n",
    "            \n",
    "        return -1"
   ]
  },
  {
   "cell_type": "code",
   "execution_count": 54,
   "id": "74ff1600-602e-4a0e-bc3d-4c709e06a36d",
   "metadata": {},
   "outputs": [
    {
     "name": "stdout",
     "output_type": "stream",
     "text": [
      "i: 0 4\n",
      "j: 6 2\n",
      "mid: 3 7\n",
      "i: 4 0\n",
      "j: 6 2\n",
      "mid: 5 1\n"
     ]
    },
    {
     "data": {
      "text/plain": [
       "4"
      ]
     },
     "execution_count": 54,
     "metadata": {},
     "output_type": "execute_result"
    }
   ],
   "source": [
    "search([4,5,6,7,0,1,2], 0)"
   ]
  },
  {
   "cell_type": "code",
   "execution_count": 52,
   "id": "f4ffde94-4084-46ea-b3ec-462e5ffced6b",
   "metadata": {},
   "outputs": [
    {
     "name": "stdout",
     "output_type": "stream",
     "text": [
      "i: 0 4\n",
      "j: 7 3\n",
      "mid: 3 7\n",
      "i: 4 8\n",
      "j: 7 3\n",
      "mid: 5 1\n"
     ]
    },
    {
     "data": {
      "text/plain": [
       "4"
      ]
     },
     "execution_count": 52,
     "metadata": {},
     "output_type": "execute_result"
    }
   ],
   "source": [
    "search([4,5,6,7,8,1,2,3], 8)"
   ]
  },
  {
   "cell_type": "code",
   "execution_count": 45,
   "id": "ef5dfae6-bcf3-4133-8e55-52731f710721",
   "metadata": {},
   "outputs": [
    {
     "data": {
      "text/plain": [
       "1"
      ]
     },
     "execution_count": 45,
     "metadata": {},
     "output_type": "execute_result"
    }
   ],
   "source": [
    "search([1,2], 2)"
   ]
  },
  {
   "cell_type": "code",
   "execution_count": 28,
   "id": "dfbb2fe6-5f1d-42e9-bef9-168b80f58d68",
   "metadata": {},
   "outputs": [
    {
     "name": "stdout",
     "output_type": "stream",
     "text": [
      "i: 0 4\n",
      "j: 6 2\n",
      "mid: 3 7\n"
     ]
    },
    {
     "data": {
      "text/plain": [
       "0"
      ]
     },
     "execution_count": 28,
     "metadata": {},
     "output_type": "execute_result"
    }
   ],
   "source": [
    "search([4,5,6,7,0,1,2], 4)"
   ]
  },
  {
   "cell_type": "code",
   "execution_count": 17,
   "id": "9aadc91d-c82b-4f05-a5cd-c987172a8c5f",
   "metadata": {},
   "outputs": [
    {
     "data": {
      "text/plain": [
       "-1"
      ]
     },
     "execution_count": 17,
     "metadata": {},
     "output_type": "execute_result"
    }
   ],
   "source": [
    "search([1], 0)"
   ]
  },
  {
   "cell_type": "code",
   "execution_count": null,
   "id": "87979847-0bb4-4f7e-95eb-bce4f88b4d47",
   "metadata": {},
   "outputs": [],
   "source": []
  },
  {
   "cell_type": "code",
   "execution_count": null,
   "id": "4822cc7b-dee2-4199-ab56-db4eef9f5786",
   "metadata": {},
   "outputs": [],
   "source": []
  }
 ],
 "metadata": {
  "kernelspec": {
   "display_name": "Python 3 (ipykernel)",
   "language": "python",
   "name": "python3"
  },
  "language_info": {
   "codemirror_mode": {
    "name": "ipython",
    "version": 3
   },
   "file_extension": ".py",
   "mimetype": "text/x-python",
   "name": "python",
   "nbconvert_exporter": "python",
   "pygments_lexer": "ipython3",
   "version": "3.11.7"
  }
 },
 "nbformat": 4,
 "nbformat_minor": 5
}
