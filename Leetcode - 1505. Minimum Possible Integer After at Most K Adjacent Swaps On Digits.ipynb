{
 "cells": [
  {
   "cell_type": "code",
   "execution_count": 64,
   "id": "706acc41-4225-4b90-87ca-a084e762c239",
   "metadata": {},
   "outputs": [],
   "source": [
    "#Doesn't pass all testcases\n",
    "def minInteger(num, k):\n",
    "        w=k\n",
    "        i=0\n",
    "        while w>0 and i<len(num):\n",
    "          mininwindow = min(num[i:i+w+1])\n",
    "          print(\"window: \",num[i:i+w+1],\"; minofwindow:\",mininwindow)\n",
    "          indexofmin=num.index(mininwindow)\n",
    "          if i<indexofmin:\n",
    "              num=num[:i]+num[indexofmin]+num[i:indexofmin]+num[indexofmin+1:]\n",
    "\n",
    "          print(\"Finalstr:\",num)\n",
    "    \n",
    "          w=w-indexofmin-i\n",
    "          i+=1\n",
    "          print(\"Leftswaps:\",w)\n",
    "\n",
    "        return num"
   ]
  },
  {
   "cell_type": "code",
   "execution_count": 65,
   "id": "a97212da-fc04-473f-83b4-5cd0eace0b29",
   "metadata": {},
   "outputs": [
    {
     "name": "stdout",
     "output_type": "stream",
     "text": [
      "window:  4321 ; minofwindow: 1\n",
      "Finalstr: 1432\n",
      "Leftswaps: 1\n",
      "window:  43 ; minofwindow: 3\n",
      "Finalstr: 1342\n",
      "Leftswaps: -2\n"
     ]
    },
    {
     "data": {
      "text/plain": [
       "'1342'"
      ]
     },
     "execution_count": 65,
     "metadata": {},
     "output_type": "execute_result"
    }
   ],
   "source": [
    "minInteger(\"4321\", 4)"
   ]
  },
  {
   "cell_type": "code",
   "execution_count": 66,
   "id": "3f93b91f-0605-4e91-acfc-f5229de551bf",
   "metadata": {},
   "outputs": [
    {
     "name": "stdout",
     "output_type": "stream",
     "text": [
      "window:  10 ; minofwindow: 0\n",
      "Finalstr: 010\n",
      "Leftswaps: 0\n"
     ]
    },
    {
     "data": {
      "text/plain": [
       "'010'"
      ]
     },
     "execution_count": 66,
     "metadata": {},
     "output_type": "execute_result"
    }
   ],
   "source": [
    "minInteger(\"100\", 1)"
   ]
  },
  {
   "cell_type": "code",
   "execution_count": 67,
   "id": "0ffccf1c-d575-4110-8509-d735d699e9cb",
   "metadata": {},
   "outputs": [
    {
     "name": "stdout",
     "output_type": "stream",
     "text": [
      "window:  36789 ; minofwindow: 3\n",
      "Finalstr: 36789\n",
      "Leftswaps: 1000\n",
      "window:  6789 ; minofwindow: 6\n",
      "Finalstr: 36789\n",
      "Leftswaps: 998\n",
      "window:  789 ; minofwindow: 7\n",
      "Finalstr: 36789\n",
      "Leftswaps: 994\n",
      "window:  89 ; minofwindow: 8\n",
      "Finalstr: 36789\n",
      "Leftswaps: 988\n",
      "window:  9 ; minofwindow: 9\n",
      "Finalstr: 36789\n",
      "Leftswaps: 980\n"
     ]
    },
    {
     "data": {
      "text/plain": [
       "'36789'"
      ]
     },
     "execution_count": 67,
     "metadata": {},
     "output_type": "execute_result"
    }
   ],
   "source": [
    "minInteger(\"36789\", 1000)"
   ]
  },
  {
   "cell_type": "code",
   "execution_count": 68,
   "id": "90d60dd2-009d-4453-b0a1-9810cc5febc6",
   "metadata": {},
   "outputs": [
    {
     "name": "stdout",
     "output_type": "stream",
     "text": [
      "window:  22 ; minofwindow: 2\n",
      "Finalstr: 22\n",
      "Leftswaps: 22\n",
      "window:  2 ; minofwindow: 2\n",
      "Finalstr: 22\n",
      "Leftswaps: 21\n"
     ]
    },
    {
     "data": {
      "text/plain": [
       "'22'"
      ]
     },
     "execution_count": 68,
     "metadata": {},
     "output_type": "execute_result"
    }
   ],
   "source": [
    "minInteger(\"22\", 22)"
   ]
  },
  {
   "cell_type": "code",
   "execution_count": 69,
   "id": "ae7fd58a-1a58-4c66-95a1-686d85756961",
   "metadata": {},
   "outputs": [
    {
     "name": "stdout",
     "output_type": "stream",
     "text": [
      "window:  9438957234785635408 ; minofwindow: 0\n",
      "Finalstr: 0943895723478563548\n",
      "Leftswaps: 6\n",
      "window:  9438957 ; minofwindow: 3\n",
      "Finalstr: 0394895723478563548\n",
      "Leftswaps: 2\n",
      "window:  948 ; minofwindow: 4\n",
      "Finalstr: 0349895723478563548\n",
      "Leftswaps: -3\n"
     ]
    },
    {
     "data": {
      "text/plain": [
       "'0349895723478563548'"
      ]
     },
     "execution_count": 69,
     "metadata": {},
     "output_type": "execute_result"
    }
   ],
   "source": [
    "minInteger(\"9438957234785635408\", 23)"
   ]
  },
  {
   "cell_type": "code",
   "execution_count": null,
   "id": "03ce699e-fb16-4583-a2b0-4773967a6bd8",
   "metadata": {},
   "outputs": [],
   "source": [
    "#Passes all and beats 100% in TLE\n",
    "def minInteger(num, k):\n",
    "        n = len(num)\n",
    "        w = k + 1\n",
    "        res = []\n",
    "        while num and w:\n",
    "            s = num[:w]\n",
    "            j = s.index(min(s))\n",
    "            res.append(s[j])\n",
    "            w -= j\n",
    "            num = num[:j] + num[j+1:]\n",
    "        return \"\".join(res)\n"
   ]
  }
 ],
 "metadata": {
  "kernelspec": {
   "display_name": "Python 3 (ipykernel)",
   "language": "python",
   "name": "python3"
  },
  "language_info": {
   "codemirror_mode": {
    "name": "ipython",
    "version": 3
   },
   "file_extension": ".py",
   "mimetype": "text/x-python",
   "name": "python",
   "nbconvert_exporter": "python",
   "pygments_lexer": "ipython3",
   "version": "3.11.7"
  }
 },
 "nbformat": 4,
 "nbformat_minor": 5
}
