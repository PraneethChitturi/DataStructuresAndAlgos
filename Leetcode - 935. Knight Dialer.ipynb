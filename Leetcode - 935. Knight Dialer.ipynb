{
 "cells": [
  {
   "cell_type": "code",
   "execution_count": 16,
   "id": "b014fc7b-1b7d-409f-a3ab-50c467e29e5a",
   "metadata": {},
   "outputs": [],
   "source": [
    "def knightDialer(n):\n",
    "    steps = {\n",
    "        1: [8, 6],\n",
    "        2: [7, 9],\n",
    "        3: [4, 8],\n",
    "        4: [3, 9, 0],\n",
    "        5: [],\n",
    "        6: [1, 7, 0],\n",
    "        7: [2, 6],\n",
    "        8: [1, 3],\n",
    "        9: [2, 4],\n",
    "        0: [4, 6]\n",
    "    }\n",
    "\n",
    "    MOD = 10**9 + 7\n",
    "    dp = {}\n",
    "\n",
    "    def dfs(remain, step):\n",
    "        key = (remain, step)\n",
    "        if key in dp:\n",
    "            return dp[key]\n",
    "        if remain == 0:\n",
    "            return 1\n",
    "        ans = 0\n",
    "        for nextstep in steps[step]:\n",
    "            ans = (ans + dfs(remain - 1, nextstep)) % MOD\n",
    "        dp[key] = ans\n",
    "        return ans\n",
    "\n",
    "    total = 0\n",
    "    for i in range(10):\n",
    "        total = (total + dfs(n - 1, i)) % MOD\n",
    "    return total\n"
   ]
  },
  {
   "cell_type": "code",
   "execution_count": 17,
   "id": "3f0b4ade-146a-4a02-98b0-a955f313261d",
   "metadata": {},
   "outputs": [
    {
     "ename": "RecursionError",
     "evalue": "maximum recursion depth exceeded",
     "output_type": "error",
     "traceback": [
      "\u001b[1;31m---------------------------------------------------------------------------\u001b[0m",
      "\u001b[1;31mRecursionError\u001b[0m                            Traceback (most recent call last)",
      "Cell \u001b[1;32mIn[17], line 1\u001b[0m\n\u001b[1;32m----> 1\u001b[0m knightDialer(\u001b[38;5;241m3131\u001b[39m)\n",
      "Cell \u001b[1;32mIn[16], line 32\u001b[0m, in \u001b[0;36mknightDialer\u001b[1;34m(n)\u001b[0m\n\u001b[0;32m     30\u001b[0m total \u001b[38;5;241m=\u001b[39m \u001b[38;5;241m0\u001b[39m\n\u001b[0;32m     31\u001b[0m \u001b[38;5;28;01mfor\u001b[39;00m i \u001b[38;5;129;01min\u001b[39;00m \u001b[38;5;28mrange\u001b[39m(\u001b[38;5;241m10\u001b[39m):\n\u001b[1;32m---> 32\u001b[0m     total \u001b[38;5;241m=\u001b[39m (total \u001b[38;5;241m+\u001b[39m dfs(n \u001b[38;5;241m-\u001b[39m \u001b[38;5;241m1\u001b[39m, i)) \u001b[38;5;241m%\u001b[39m MOD\n\u001b[0;32m     33\u001b[0m \u001b[38;5;28;01mreturn\u001b[39;00m total\n",
      "Cell \u001b[1;32mIn[16], line 26\u001b[0m, in \u001b[0;36mknightDialer.<locals>.dfs\u001b[1;34m(remain, step)\u001b[0m\n\u001b[0;32m     24\u001b[0m ans \u001b[38;5;241m=\u001b[39m \u001b[38;5;241m0\u001b[39m\n\u001b[0;32m     25\u001b[0m \u001b[38;5;28;01mfor\u001b[39;00m nextstep \u001b[38;5;129;01min\u001b[39;00m steps[step]:\n\u001b[1;32m---> 26\u001b[0m     ans \u001b[38;5;241m=\u001b[39m (ans \u001b[38;5;241m+\u001b[39m dfs(remain \u001b[38;5;241m-\u001b[39m \u001b[38;5;241m1\u001b[39m, nextstep)) \u001b[38;5;241m%\u001b[39m MOD\n\u001b[0;32m     27\u001b[0m dp[key] \u001b[38;5;241m=\u001b[39m ans\n\u001b[0;32m     28\u001b[0m \u001b[38;5;28;01mreturn\u001b[39;00m ans\n",
      "Cell \u001b[1;32mIn[16], line 26\u001b[0m, in \u001b[0;36mknightDialer.<locals>.dfs\u001b[1;34m(remain, step)\u001b[0m\n\u001b[0;32m     24\u001b[0m ans \u001b[38;5;241m=\u001b[39m \u001b[38;5;241m0\u001b[39m\n\u001b[0;32m     25\u001b[0m \u001b[38;5;28;01mfor\u001b[39;00m nextstep \u001b[38;5;129;01min\u001b[39;00m steps[step]:\n\u001b[1;32m---> 26\u001b[0m     ans \u001b[38;5;241m=\u001b[39m (ans \u001b[38;5;241m+\u001b[39m dfs(remain \u001b[38;5;241m-\u001b[39m \u001b[38;5;241m1\u001b[39m, nextstep)) \u001b[38;5;241m%\u001b[39m MOD\n\u001b[0;32m     27\u001b[0m dp[key] \u001b[38;5;241m=\u001b[39m ans\n\u001b[0;32m     28\u001b[0m \u001b[38;5;28;01mreturn\u001b[39;00m ans\n",
      "    \u001b[1;31m[... skipping similar frames: knightDialer.<locals>.dfs at line 26 (2969 times)]\u001b[0m\n",
      "Cell \u001b[1;32mIn[16], line 26\u001b[0m, in \u001b[0;36mknightDialer.<locals>.dfs\u001b[1;34m(remain, step)\u001b[0m\n\u001b[0;32m     24\u001b[0m ans \u001b[38;5;241m=\u001b[39m \u001b[38;5;241m0\u001b[39m\n\u001b[0;32m     25\u001b[0m \u001b[38;5;28;01mfor\u001b[39;00m nextstep \u001b[38;5;129;01min\u001b[39;00m steps[step]:\n\u001b[1;32m---> 26\u001b[0m     ans \u001b[38;5;241m=\u001b[39m (ans \u001b[38;5;241m+\u001b[39m dfs(remain \u001b[38;5;241m-\u001b[39m \u001b[38;5;241m1\u001b[39m, nextstep)) \u001b[38;5;241m%\u001b[39m MOD\n\u001b[0;32m     27\u001b[0m dp[key] \u001b[38;5;241m=\u001b[39m ans\n\u001b[0;32m     28\u001b[0m \u001b[38;5;28;01mreturn\u001b[39;00m ans\n",
      "\u001b[1;31mRecursionError\u001b[0m: maximum recursion depth exceeded"
     ]
    }
   ],
   "source": [
    "knightDialer(3131)"
   ]
  },
  {
   "cell_type": "code",
   "execution_count": null,
   "id": "a1fd8ae1-cfb6-4940-b26d-d584fc11a22d",
   "metadata": {},
   "outputs": [],
   "source": []
  }
 ],
 "metadata": {
  "kernelspec": {
   "display_name": "Python 3 (ipykernel)",
   "language": "python",
   "name": "python3"
  },
  "language_info": {
   "codemirror_mode": {
    "name": "ipython",
    "version": 3
   },
   "file_extension": ".py",
   "mimetype": "text/x-python",
   "name": "python",
   "nbconvert_exporter": "python",
   "pygments_lexer": "ipython3",
   "version": "3.11.7"
  }
 },
 "nbformat": 4,
 "nbformat_minor": 5
}
