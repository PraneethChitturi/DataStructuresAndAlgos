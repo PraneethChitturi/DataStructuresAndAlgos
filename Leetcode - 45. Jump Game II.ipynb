{
 "cells": [
  {
   "cell_type": "code",
   "execution_count": 14,
   "id": "9a15091e",
   "metadata": {},
   "outputs": [],
   "source": [
    "#Beats 20%\n",
    "def jump(nums):\n",
    "    import sys\n",
    "    n = len(nums)\n",
    "    dp = [float('inf')]*n\n",
    "    dp[n-1] = 0\n",
    "    \n",
    "    for i in range(n-2,-1,-1):\n",
    "        mini = float('inf')\n",
    "        for j in range(i+1,min(n-1,nums[i]+i)+1):\n",
    "            mini = min(mini,dp[j]);\n",
    "            \n",
    "        if (mini!=float('inf')):\n",
    "            dp[i] = mini+1\n",
    "        \n",
    "    return dp[0]"
   ]
  },
  {
   "cell_type": "code",
   "execution_count": 15,
   "id": "fb836b2d",
   "metadata": {},
   "outputs": [
    {
     "data": {
      "text/plain": [
       "2"
      ]
     },
     "execution_count": 15,
     "metadata": {},
     "output_type": "execute_result"
    }
   ],
   "source": [
    "nums=[2,3,1,1,4]\n",
    "jump(nums)"
   ]
  },
  {
   "cell_type": "code",
   "execution_count": null,
   "id": "aea57192",
   "metadata": {},
   "outputs": [],
   "source": [
    "#Optimised for Time - beats 77%\n",
    "def jump(nums):\n",
    "    res = 0\n",
    "    l = r = 0\n",
    "    \n",
    "    while r<len(nums)-1:\n",
    "        farthest = 0\n",
    "        for i in range(l,r+1):\n",
    "            farthest = max(farthest,i+nums[i])\n",
    "        l = r + 1\n",
    "        r = farthest\n",
    "        res = res+1\n",
    "        \n",
    "    return res\n",
    "        "
   ]
  }
 ],
 "metadata": {
  "kernelspec": {
   "display_name": "Python 3 (ipykernel)",
   "language": "python",
   "name": "python3"
  },
  "language_info": {
   "codemirror_mode": {
    "name": "ipython",
    "version": 3
   },
   "file_extension": ".py",
   "mimetype": "text/x-python",
   "name": "python",
   "nbconvert_exporter": "python",
   "pygments_lexer": "ipython3",
   "version": "3.10.9"
  }
 },
 "nbformat": 4,
 "nbformat_minor": 5
}
