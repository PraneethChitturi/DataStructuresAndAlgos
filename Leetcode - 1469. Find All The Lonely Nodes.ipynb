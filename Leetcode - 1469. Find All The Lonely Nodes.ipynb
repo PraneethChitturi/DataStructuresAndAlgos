{
 "cells": [
  {
   "cell_type": "code",
   "execution_count": null,
   "id": "8a9458b3-2aad-4af1-9340-8a1e761ea323",
   "metadata": {},
   "outputs": [],
   "source": [
    "/**\n",
    " * Definition for a binary tree node.\n",
    " * public class TreeNode {\n",
    " *     int val;\n",
    " *     TreeNode left;\n",
    " *     TreeNode right;\n",
    " *     TreeNode() {}\n",
    " *     TreeNode(int val) { this.val = val; }\n",
    " *     TreeNode(int val, TreeNode left, TreeNode right) {\n",
    " *         this.val = val;\n",
    " *         this.left = left;\n",
    " *         this.right = right;\n",
    " *     }\n",
    " * }\n",
    " */\n",
    "class Solution {\n",
    "    public List<Integer> getLonelyNodes(TreeNode root) {\n",
    "        List<Integer> res = new ArrayList<>();\n",
    "\n",
    "        Deque<TreeNode> queue = new ArrayDeque<>();\n",
    "        queue.offer(root);\n",
    "\n",
    "        while (!queue.isEmpty()){\n",
    "          TreeNode node = queue.poll();\n",
    "          if (node.left!=null && node.right==null){\n",
    "            res.add(node.left.val);\n",
    "            queue.offer(node.left);\n",
    "          } else if (node.left==null && node.right!=null){\n",
    "            res.add(node.right.val);\n",
    "            queue.offer(node.right);\n",
    "          } else if (node.left!=null && node.right!=null){\n",
    "            queue.offer(node.left);\n",
    "            queue.offer(node.right);\n",
    "          }\n",
    "        }\n",
    "\n",
    "        return res;\n",
    "\n",
    "    }\n",
    "}"
   ]
  }
 ],
 "metadata": {
  "kernelspec": {
   "display_name": "Python 3 (ipykernel)",
   "language": "python",
   "name": "python3"
  },
  "language_info": {
   "codemirror_mode": {
    "name": "ipython",
    "version": 3
   },
   "file_extension": ".py",
   "mimetype": "text/x-python",
   "name": "python",
   "nbconvert_exporter": "python",
   "pygments_lexer": "ipython3",
   "version": "3.11.7"
  }
 },
 "nbformat": 4,
 "nbformat_minor": 5
}
