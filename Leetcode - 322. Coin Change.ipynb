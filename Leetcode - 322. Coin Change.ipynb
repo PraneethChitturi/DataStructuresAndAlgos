{
 "cells": [
  {
   "cell_type": "code",
   "execution_count": 1,
   "id": "ff5c3adc-7fcf-4676-8f13-a1f4a5415107",
   "metadata": {},
   "outputs": [
    {
     "data": {
      "text/plain": [
       "[0, inf]"
      ]
     },
     "execution_count": 1,
     "metadata": {},
     "output_type": "execute_result"
    }
   ],
   "source": [
    "class Solution(object):\n",
    "    def coinChange(self, coins, amount):\n",
    "        \"\"\"\n",
    "        :type coins: List[int]\n",
    "        :type amount: int\n",
    "        :rtype: int\n",
    "        \"\"\"\n",
    "        dp=[0]+([float('inf')]*amount)\n",
    "        for i in range(1,amount+1):\n",
    "            for coin in coins:\n",
    "                if coin<=i:\n",
    "                    dp[i]=min(dp[i],dp[i-coin]+1)\n",
    "        if dp[-1]==float('inf'):\n",
    "            return -1\n",
    "        return dp[-1]"
   ]
  },
  {
   "cell_type": "code",
   "execution_count": null,
   "id": "53037771-5a93-4199-8f48-655608052a4c",
   "metadata": {},
   "outputs": [],
   "source": []
  }
 ],
 "metadata": {
  "kernelspec": {
   "display_name": "Python 3 (ipykernel)",
   "language": "python",
   "name": "python3"
  },
  "language_info": {
   "codemirror_mode": {
    "name": "ipython",
    "version": 3
   },
   "file_extension": ".py",
   "mimetype": "text/x-python",
   "name": "python",
   "nbconvert_exporter": "python",
   "pygments_lexer": "ipython3",
   "version": "3.11.7"
  }
 },
 "nbformat": 4,
 "nbformat_minor": 5
}
