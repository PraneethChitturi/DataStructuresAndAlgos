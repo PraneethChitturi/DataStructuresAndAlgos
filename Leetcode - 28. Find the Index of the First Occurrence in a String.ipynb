{
 "cells": [
  {
   "cell_type": "code",
   "execution_count": 27,
   "id": "1f60eae3",
   "metadata": {},
   "outputs": [],
   "source": [
    "#Beats 95% in TLE\n",
    "def strStr(haystack, needle):\n",
    "    lenof = len(needle)\n",
    "    if needle in haystack:\n",
    "        for i in range(0,len(haystack)):\n",
    "            if haystack[i:i+lenof] == needle:\n",
    "                return i\n",
    "            if needle not in haystack[i+1:]:\n",
    "                return -1\n",
    "    \n",
    "    return -1"
   ]
  },
  {
   "cell_type": "code",
   "execution_count": null,
   "id": "c35af5b6",
   "metadata": {},
   "outputs": [],
   "source": [
    "#Beats 70% in TLE\n",
    "def strStr(haystack, needle):\n",
    "    while True:\n",
    "        if haystack[i] == needle[0]:\n",
    "            if haystack[i+1:i+len(needle)] == needle[1:]:\n",
    "                return i\n",
    "        \n",
    "        if needle not in haystack:\n",
    "            return -1\n",
    "        \n",
    "        i+=1  "
   ]
  },
  {
   "cell_type": "code",
   "execution_count": 15,
   "id": "6f4c643a",
   "metadata": {},
   "outputs": [],
   "source": [
    "#Beats 13% in TLE\n",
    "def strStr(haystack, needle):\n",
    "    if needle not in haystack:\n",
    "        return -1\n",
    "    \n",
    "    i=0\n",
    "    while True:\n",
    "        if haystack[i] == needle[0]:\n",
    "            if haystack[i+1:i+len(needle)] == needle[1:]:\n",
    "                return i\n",
    "        \n",
    "        if needle not in haystack:\n",
    "            return -1\n",
    "        \n",
    "        i+=1  "
   ]
  },
  {
   "cell_type": "code",
   "execution_count": 29,
   "id": "1300ccd8",
   "metadata": {},
   "outputs": [
    {
     "data": {
      "text/plain": [
       "2"
      ]
     },
     "execution_count": 29,
     "metadata": {},
     "output_type": "execute_result"
    }
   ],
   "source": [
    "haystack = \"busadtsad\"\n",
    "needle = \"sad\"\n",
    "strStr(haystack, needle)"
   ]
  },
  {
   "cell_type": "code",
   "execution_count": 28,
   "id": "08f1024f",
   "metadata": {},
   "outputs": [
    {
     "data": {
      "text/plain": [
       "-1"
      ]
     },
     "execution_count": 28,
     "metadata": {},
     "output_type": "execute_result"
    }
   ],
   "source": [
    "haystack = \"leetcode\"\n",
    "needle = \"leeto\"\n",
    "strStr(haystack, needle)"
   ]
  },
  {
   "cell_type": "code",
   "execution_count": 23,
   "id": "7145788f",
   "metadata": {},
   "outputs": [
    {
     "data": {
      "text/plain": [
       "[0, 1, 2, 3, 4, 5, 6, 7, 8]"
      ]
     },
     "execution_count": 23,
     "metadata": {},
     "output_type": "execute_result"
    }
   ],
   "source": [
    "list(range(0,9,3))"
   ]
  },
  {
   "cell_type": "code",
   "execution_count": null,
   "id": "081bcc5b",
   "metadata": {},
   "outputs": [],
   "source": []
  }
 ],
 "metadata": {
  "kernelspec": {
   "display_name": "Python 3 (ipykernel)",
   "language": "python",
   "name": "python3"
  },
  "language_info": {
   "codemirror_mode": {
    "name": "ipython",
    "version": 3
   },
   "file_extension": ".py",
   "mimetype": "text/x-python",
   "name": "python",
   "nbconvert_exporter": "python",
   "pygments_lexer": "ipython3",
   "version": "3.10.9"
  }
 },
 "nbformat": 4,
 "nbformat_minor": 5
}
