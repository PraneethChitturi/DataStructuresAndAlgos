{
 "cells": [
  {
   "cell_type": "code",
   "execution_count": null,
   "id": "569cc8df",
   "metadata": {},
   "outputs": [],
   "source": [
    "class Solution(object):\n",
    "    def numSubmat(self, mat):\n",
    "        \"\"\"\n",
    "        :type mat: List[List[int]]\n",
    "        :rtype: int\n",
    "        \"\"\"\n",
    "        m,n = len(mat),len(mat[0])\n",
    "        dp=[[0 for j in range(n)] for i in range(m)] \n",
    "        \n",
    "        for i in range(m):\n",
    "            for j in range(n):\n",
    "                if j==0: \n",
    "                    dp[i][j]= mat[i][j]\n",
    "                elif mat[i][j]: \n",
    "                    dp[i][j]=dp[i][j-1]+mat[i][j]\n",
    "        \n",
    "        counterofrect=0\n",
    "        for i in range(m):\n",
    "            for j in range(n):\n",
    "                    mincounter=dp[i][j]\n",
    "                    for k in range(i,m):\n",
    "                        mincounter=min(mincounter,dp[k][j])\n",
    "                        counterofrect+=mincounter\n",
    "                        \n",
    "                        if mincounter==0:\n",
    "                            break\n",
    "                        \n",
    "        return counterofrect"
   ]
  },
  {
   "cell_type": "code",
   "execution_count": 43,
   "id": "d93f86b5",
   "metadata": {},
   "outputs": [],
   "source": [
    "def numSubmat(mat):\n",
    "    m,n = len(mat),len(mat[0])\n",
    "    dp=[[0 for j in range(n)] for i in range(m)] \n",
    "    \n",
    "    for i in range(m):\n",
    "        for j in range(n):\n",
    "            if j==0: \n",
    "                dp[i][j]= mat[i][j]\n",
    "            elif mat[i][j]: \n",
    "                dp[i][j]=dp[i][j-1]+mat[i][j]\n",
    "    \n",
    "    counterofrect=0\n",
    "    for i in range(m):\n",
    "        for j in range(n):\n",
    "            if mat[i][j]:\n",
    "                mincounter=dp[i][j]\n",
    "                for k in range(i,m):\n",
    "                    counterofrect+=min(mincounter,dp[k][j])\n",
    "                    mincounter=min(mincounter,dp[k][j])\n",
    "                    \n",
    "    return counterofrect\n",
    "\n",
    "            "
   ]
  },
  {
   "cell_type": "code",
   "execution_count": 44,
   "id": "bf7f4869",
   "metadata": {},
   "outputs": [
    {
     "data": {
      "text/plain": [
       "13"
      ]
     },
     "execution_count": 44,
     "metadata": {},
     "output_type": "execute_result"
    }
   ],
   "source": [
    "numSubmat([[1,0,1],[1,1,0],[1,1,0]]) #13"
   ]
  },
  {
   "cell_type": "code",
   "execution_count": 45,
   "id": "5ebbbffb",
   "metadata": {},
   "outputs": [
    {
     "data": {
      "text/plain": [
       "24"
      ]
     },
     "execution_count": 45,
     "metadata": {},
     "output_type": "execute_result"
    }
   ],
   "source": [
    "numSubmat([[0,1,1,0],[0,1,1,1],[1,1,1,0]]) #24"
   ]
  }
 ],
 "metadata": {
  "kernelspec": {
   "display_name": "Python 3 (ipykernel)",
   "language": "python",
   "name": "python3"
  },
  "language_info": {
   "codemirror_mode": {
    "name": "ipython",
    "version": 3
   },
   "file_extension": ".py",
   "mimetype": "text/x-python",
   "name": "python",
   "nbconvert_exporter": "python",
   "pygments_lexer": "ipython3",
   "version": "3.11.4"
  }
 },
 "nbformat": 4,
 "nbformat_minor": 5
}
