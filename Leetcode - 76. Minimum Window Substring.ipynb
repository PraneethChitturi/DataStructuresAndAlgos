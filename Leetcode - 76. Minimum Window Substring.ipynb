{
 "cells": [
  {
   "cell_type": "code",
   "execution_count": 59,
   "id": "c8a68c7b-53ee-4a36-813d-94470c2d2568",
   "metadata": {},
   "outputs": [],
   "source": [
    "from collections import Counter\n",
    "\n",
    "def minWindow(s, t):\n",
    "    if len(t)>len(s):\n",
    "        return \"\"\n",
    "        \n",
    "    minwind=[-1,-1]\n",
    "    counterofT = Counter(t)\n",
    "    counterofS = {}\n",
    "    i=0\n",
    "    j=0\n",
    "\n",
    "    for letter in s:\n",
    "        print(counterofT,counterofS,letter,i,j)\n",
    "        if letter in counterofT:\n",
    "            if counterofT[letter]==0:\n",
    "                counterofS[letter]=1+counterofS.get(letter,0)\n",
    "            counterofT[letter]=max(counterofT[letter]-1,0)\n",
    "\n",
    "        j+=1\n",
    "\n",
    "        while sum(counterofT.values())==0 and i<=j:\n",
    "            print(counterofT,counterofS)\n",
    "            print(i,j,minwind)\n",
    "            if minwind[0]==-1:\n",
    "                minwind=[i,j]\n",
    "            elif j-i+1 < minwind[1]-minwind[0]+1:\n",
    "                minwind=[i,j]\n",
    "                \n",
    "            if s[i] in counterofT:\n",
    "                if counterofS[s[i]]>1:\n",
    "                    counterofS[s[i]]-=1\n",
    "                    \n",
    "                else:\n",
    "                    counterofS[s[i]]-=1\n",
    "                    counterofT[s[i]]+=1\n",
    "            i+=1\n",
    "\n",
    "    return s[minwind[0]:minwind[1]] if minwind[0]!=-1 else ''\n",
    "    "
   ]
  },
  {
   "cell_type": "code",
   "execution_count": 60,
   "id": "1830da38-8998-4f89-b3d6-82289e0f4e83",
   "metadata": {},
   "outputs": [
    {
     "name": "stdout",
     "output_type": "stream",
     "text": [
      "Counter({'a': 2}) {} a 0 0\n",
      "Counter({'a': 1}) {} a 0 1\n",
      "Counter({'a': 0}) {}\n",
      "0 2 [-1, -1]\n"
     ]
    },
    {
     "ename": "KeyError",
     "evalue": "'a'",
     "output_type": "error",
     "traceback": [
      "\u001b[1;31m---------------------------------------------------------------------------\u001b[0m",
      "\u001b[1;31mKeyError\u001b[0m                                  Traceback (most recent call last)",
      "Cell \u001b[1;32mIn[60], line 1\u001b[0m\n\u001b[1;32m----> 1\u001b[0m minWindow(\u001b[38;5;124m\"\u001b[39m\u001b[38;5;124maa\u001b[39m\u001b[38;5;124m\"\u001b[39m,\u001b[38;5;124m\"\u001b[39m\u001b[38;5;124maa\u001b[39m\u001b[38;5;124m\"\u001b[39m)\n",
      "Cell \u001b[1;32mIn[59], line 31\u001b[0m, in \u001b[0;36mminWindow\u001b[1;34m(s, t)\u001b[0m\n\u001b[0;32m     28\u001b[0m     minwind\u001b[38;5;241m=\u001b[39m[i,j]\n\u001b[0;32m     30\u001b[0m \u001b[38;5;28;01mif\u001b[39;00m s[i] \u001b[38;5;129;01min\u001b[39;00m counterofT:\n\u001b[1;32m---> 31\u001b[0m     \u001b[38;5;28;01mif\u001b[39;00m counterofS[s[i]]\u001b[38;5;241m>\u001b[39m\u001b[38;5;241m1\u001b[39m:\n\u001b[0;32m     32\u001b[0m         counterofS[s[i]]\u001b[38;5;241m-\u001b[39m\u001b[38;5;241m=\u001b[39m\u001b[38;5;241m1\u001b[39m\n\u001b[0;32m     34\u001b[0m     \u001b[38;5;28;01melse\u001b[39;00m:\n",
      "\u001b[1;31mKeyError\u001b[0m: 'a'"
     ]
    }
   ],
   "source": [
    "minWindow(\"aa\",\"aa\")"
   ]
  },
  {
   "cell_type": "code",
   "execution_count": 57,
   "id": "0c12529e-8766-4935-94de-245ff1fd98db",
   "metadata": {},
   "outputs": [
    {
     "name": "stdout",
     "output_type": "stream",
     "text": [
      "Counter({'a': 1}) {} a 0 0\n",
      "Counter({'a': 0}) {'a': 1}\n",
      "0 1 [-1, -1]\n",
      "Counter({'a': 1}) {'a': 0} b 1 1\n"
     ]
    },
    {
     "data": {
      "text/plain": [
       "'a'"
      ]
     },
     "execution_count": 57,
     "metadata": {},
     "output_type": "execute_result"
    }
   ],
   "source": [
    "minWindow(\"ab\",\"a\")"
   ]
  },
  {
   "cell_type": "code",
   "execution_count": 58,
   "id": "81478d5e-1d52-4b54-921b-5350644c4555",
   "metadata": {},
   "outputs": [
    {
     "name": "stdout",
     "output_type": "stream",
     "text": [
      "Counter({'A': 1, 'B': 1, 'C': 1}) {} A 0 0\n",
      "Counter({'B': 1, 'C': 1, 'A': 0}) {'A': 1} D 0 1\n",
      "Counter({'B': 1, 'C': 1, 'A': 0}) {'A': 1} O 0 2\n",
      "Counter({'B': 1, 'C': 1, 'A': 0}) {'A': 1} B 0 3\n",
      "Counter({'C': 1, 'A': 0, 'B': 0}) {'A': 1, 'B': 1} E 0 4\n",
      "Counter({'C': 1, 'A': 0, 'B': 0}) {'A': 1, 'B': 1} C 0 5\n",
      "Counter({'A': 0, 'B': 0, 'C': 0}) {'A': 1, 'B': 1, 'C': 1}\n",
      "0 6 [-1, -1]\n",
      "Counter({'A': 1, 'B': 0, 'C': 0}) {'A': 0, 'B': 1, 'C': 1} O 1 6\n",
      "Counter({'A': 1, 'B': 0, 'C': 0}) {'A': 0, 'B': 1, 'C': 1} D 1 7\n",
      "Counter({'A': 1, 'B': 0, 'C': 0}) {'A': 0, 'B': 1, 'C': 1} E 1 8\n",
      "Counter({'A': 1, 'B': 0, 'C': 0}) {'A': 0, 'B': 1, 'C': 1} B 1 9\n",
      "Counter({'A': 1, 'B': 0, 'C': 0}) {'A': 0, 'B': 2, 'C': 1} A 1 10\n",
      "Counter({'A': 0, 'B': 0, 'C': 0}) {'A': 1, 'B': 2, 'C': 1}\n",
      "1 11 [0, 6]\n",
      "Counter({'A': 0, 'B': 0, 'C': 0}) {'A': 1, 'B': 2, 'C': 1}\n",
      "2 11 [0, 6]\n",
      "Counter({'A': 0, 'B': 0, 'C': 0}) {'A': 1, 'B': 2, 'C': 1}\n",
      "3 11 [0, 6]\n",
      "Counter({'A': 0, 'B': 0, 'C': 0}) {'A': 1, 'B': 1, 'C': 1}\n",
      "4 11 [0, 6]\n",
      "Counter({'A': 0, 'B': 0, 'C': 0}) {'A': 1, 'B': 1, 'C': 1}\n",
      "5 11 [0, 6]\n",
      "Counter({'C': 1, 'A': 0, 'B': 0}) {'A': 1, 'B': 1, 'C': 0} N 6 11\n",
      "Counter({'C': 1, 'A': 0, 'B': 0}) {'A': 1, 'B': 1, 'C': 0} C 6 12\n",
      "Counter({'A': 0, 'B': 0, 'C': 0}) {'A': 1, 'B': 1, 'C': 1}\n",
      "6 13 [0, 6]\n",
      "Counter({'A': 0, 'B': 0, 'C': 0}) {'A': 1, 'B': 1, 'C': 1}\n",
      "7 13 [0, 6]\n",
      "Counter({'A': 0, 'B': 0, 'C': 0}) {'A': 1, 'B': 1, 'C': 1}\n",
      "8 13 [0, 6]\n",
      "Counter({'A': 0, 'B': 0, 'C': 0}) {'A': 1, 'B': 1, 'C': 1}\n",
      "9 13 [8, 13]\n"
     ]
    },
    {
     "data": {
      "text/plain": [
       "'BANC'"
      ]
     },
     "execution_count": 58,
     "metadata": {},
     "output_type": "execute_result"
    }
   ],
   "source": [
    "minWindow(\"ADOBECODEBANC\",\"ABC\")"
   ]
  },
  {
   "cell_type": "code",
   "execution_count": 52,
   "id": "b8dfec48-76c6-43dd-8d31-1f0a7bd3ca48",
   "metadata": {},
   "outputs": [
    {
     "name": "stdout",
     "output_type": "stream",
     "text": [
      "Counter({'a': 1}) {} a 0 0\n",
      "Counter({'a': 0}) {'a': 1}\n",
      "0 1 [-1, -1]\n"
     ]
    },
    {
     "data": {
      "text/plain": [
       "'a'"
      ]
     },
     "execution_count": 52,
     "metadata": {},
     "output_type": "execute_result"
    }
   ],
   "source": [
    "minWindow(\"a\",\"a\")"
   ]
  },
  {
   "cell_type": "code",
   "execution_count": 53,
   "id": "1a70ee7f-b0bd-43e1-9601-703a90ab9494",
   "metadata": {},
   "outputs": [
    {
     "data": {
      "text/plain": [
       "''"
      ]
     },
     "execution_count": 53,
     "metadata": {},
     "output_type": "execute_result"
    }
   ],
   "source": [
    "minWindow(\"a\",\"aa\")"
   ]
  },
  {
   "cell_type": "code",
   "execution_count": null,
   "id": "0df705d9-fdb5-4111-b222-b0abcab7dc6c",
   "metadata": {},
   "outputs": [],
   "source": []
  }
 ],
 "metadata": {
  "kernelspec": {
   "display_name": "Python 3 (ipykernel)",
   "language": "python",
   "name": "python3"
  },
  "language_info": {
   "codemirror_mode": {
    "name": "ipython",
    "version": 3
   },
   "file_extension": ".py",
   "mimetype": "text/x-python",
   "name": "python",
   "nbconvert_exporter": "python",
   "pygments_lexer": "ipython3",
   "version": "3.11.7"
  }
 },
 "nbformat": 4,
 "nbformat_minor": 5
}
