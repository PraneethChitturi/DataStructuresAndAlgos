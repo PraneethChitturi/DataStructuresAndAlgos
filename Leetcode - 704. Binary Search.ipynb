{
 "cells": [
  {
   "cell_type": "code",
   "execution_count": 41,
   "id": "d3a33c8f-cdeb-4f97-9e1c-3f9f2b567e95",
   "metadata": {},
   "outputs": [],
   "source": [
    "def search( nums, target):\n",
    "        \"\"\"\n",
    "        :type nums: List[int]\n",
    "        :type target: int\n",
    "        :rtype: int\n",
    "        \"\"\"\n",
    "        i,j=0,len(nums)-1\n",
    "        ans=-1\n",
    "        while i<=j:\n",
    "            mid = i+((j-i+1)//2)\n",
    "            if nums[mid]>target:\n",
    "                j=mid-1\n",
    "            elif nums[mid]<target:\n",
    "                i=mid+1\n",
    "            else:\n",
    "                ans=mid\n",
    "                i,j=mid,mid\n",
    "                break\n",
    "\n",
    "        return ans"
   ]
  }
 ],
 "metadata": {
  "kernelspec": {
   "display_name": "Python 3 (ipykernel)",
   "language": "python",
   "name": "python3"
  },
  "language_info": {
   "codemirror_mode": {
    "name": "ipython",
    "version": 3
   },
   "file_extension": ".py",
   "mimetype": "text/x-python",
   "name": "python",
   "nbconvert_exporter": "python",
   "pygments_lexer": "ipython3",
   "version": "3.11.7"
  }
 },
 "nbformat": 4,
 "nbformat_minor": 5
}
