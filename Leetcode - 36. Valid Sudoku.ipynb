{
 "cells": [
  {
   "cell_type": "code",
   "execution_count": 40,
   "id": "c40988f2",
   "metadata": {},
   "outputs": [],
   "source": [
    "#Beats 81% in TLE- using Dict\n",
    "class Solution(object):\n",
    "    def isValidSudoku(self, board):\n",
    "        \"\"\"\n",
    "        :type board: List[List[str]]\n",
    "        :rtype: bool\n",
    "        \"\"\"\n",
    "        mat_dict = {}\n",
    "        col_dict = {}\n",
    "\n",
    "        rowlength = len(board)\n",
    "        collength = len(board[0])\n",
    "        for i in range(rowlength):\n",
    "            row_dict = {}\n",
    "            for j in range(collength):\n",
    "                if board[i][j]!='.':\n",
    "                    #ROW PROCESSING\n",
    "                    if row_dict.get(board[i][j],'False')!='False':\n",
    "                        return False\n",
    "                    row_dict[board[i][j]] = 1\n",
    "\n",
    "                    #COLUMN PROCESSING\n",
    "                    if col_dict.get(j,'False') == 'False':\n",
    "                        col_dict[j] = {board[i][j]:1}\n",
    "                    elif col_dict.get(j).get(board[i][j],'False')!='False':\n",
    "                        return False\n",
    "                    else:\n",
    "                        col_dict[j].update({board[i][j]:1})\n",
    "                        \n",
    "                    #MATRIX PROCESSING\n",
    "                    matindex = 3*(i//3) + 2*(j//3)\n",
    "                    if mat_dict.get(matindex,'False') == 'False':\n",
    "                        mat_dict[matindex] = {board[i][j]:1}\n",
    "                    elif mat_dict.get(matindex).get(board[i][j],'False')!='False':\n",
    "                        return False\n",
    "                    else:\n",
    "                        mat_dict[matindex].update({board[i][j]:1})\n",
    "        return True"
   ]
  },
  {
   "cell_type": "code",
   "execution_count": 52,
   "id": "dc6c4530",
   "metadata": {},
   "outputs": [],
   "source": [
    "#Beats 94%....using hashset->collections.defaultdict \n",
    "import collections\n",
    "board = [[\"5\",\"3\",\".\",\".\",\"7\",\".\",\".\",\".\",\".\"]\n",
    ",[\"6\",\".\",\".\",\"1\",\"9\",\"5\",\".\",\".\",\".\"]\n",
    ",[\".\",\"9\",\"8\",\".\",\".\",\".\",\".\",\"6\",\".\"]\n",
    ",[\"8\",\".\",\".\",\".\",\"6\",\".\",\".\",\".\",\"3\"]\n",
    ",[\"4\",\".\",\".\",\"8\",\".\",\"3\",\".\",\".\",\"1\"]\n",
    ",[\"7\",\".\",\".\",\".\",\"2\",\".\",\".\",\".\",\"6\"]\n",
    ",[\".\",\"6\",\".\",\".\",\".\",\".\",\"2\",\"8\",\".\"]\n",
    ",[\".\",\".\",\".\",\"4\",\"1\",\"9\",\".\",\".\",\"5\"]\n",
    ",[\".\",\".\",\".\",\".\",\"8\",\".\",\".\",\"7\",\"9\"]]\n",
    "\n",
    "def isValidSudoku(board):\n",
    "    cols = collections.defaultdict(set)\n",
    "    rows = collections.defaultdict(set)\n",
    "    squares = collections.defaultdict(set) #key = (r/3,c/3)\n",
    "    \n",
    "    for r in range(9):\n",
    "        for c in range(9):\n",
    "            if board[r][c]=='.':\n",
    "                continue\n",
    "            if (board[r][c] in rows[r] or\n",
    "               board[r][c] in cols[c] or\n",
    "               board[r][c] in squares[(r//3,c//3)]):\n",
    "                return False\n",
    "            cols[c].add(board[r][c])\n",
    "            rows[r].add(board[r][c])\n",
    "            squares[(r//3,c//3)].add(board[r][c])\n",
    "            \n",
    "    return True"
   ]
  },
  {
   "cell_type": "code",
   "execution_count": null,
   "id": "6077b5cd",
   "metadata": {},
   "outputs": [],
   "source": []
  }
 ],
 "metadata": {
  "kernelspec": {
   "display_name": "Python 3 (ipykernel)",
   "language": "python",
   "name": "python3"
  },
  "language_info": {
   "codemirror_mode": {
    "name": "ipython",
    "version": 3
   },
   "file_extension": ".py",
   "mimetype": "text/x-python",
   "name": "python",
   "nbconvert_exporter": "python",
   "pygments_lexer": "ipython3",
   "version": "3.10.9"
  }
 },
 "nbformat": 4,
 "nbformat_minor": 5
}
