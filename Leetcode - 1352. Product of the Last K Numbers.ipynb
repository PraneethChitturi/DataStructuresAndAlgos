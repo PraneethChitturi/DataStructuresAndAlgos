{
 "cells": [
  {
   "cell_type": "code",
   "execution_count": null,
   "id": "793c0641-5833-4bd2-8601-9a5db195d9c1",
   "metadata": {},
   "outputs": [],
   "source": [
    "class ProductOfNumbers(object):\n",
    "\n",
    "    def __init__(self):\n",
    "        self.product=[1]\n",
    "        self.size=0\n",
    "\n",
    "    def add(self, num):\n",
    "        \"\"\"\n",
    "        :type num: int\n",
    "        :rtype: None\n",
    "        \"\"\"\n",
    "        if num==0:\n",
    "          self.product=[1]\n",
    "          self.size=0\n",
    "        else:\n",
    "          self.product.append(self.product[self.size]*num)\n",
    "          self.size+=1\n",
    "        \n",
    "\n",
    "    def getProduct(self, k):\n",
    "        \"\"\"\n",
    "        :type k: int\n",
    "        :rtype: int\n",
    "        \"\"\"\n",
    "        if k>self.size:\n",
    "          return 0\n",
    "        \n",
    "        return (self.product[self.size]/self.product[self.size-k])\n",
    "\n",
    "\n",
    "# Your ProductOfNumbers object will be instantiated and called as such:\n",
    "# obj = ProductOfNumbers()\n",
    "# obj.add(num)\n",
    "# param_2 = obj.getProduct(k)"
   ]
  }
 ],
 "metadata": {
  "kernelspec": {
   "display_name": "Python 3 (ipykernel)",
   "language": "python",
   "name": "python3"
  },
  "language_info": {
   "codemirror_mode": {
    "name": "ipython",
    "version": 3
   },
   "file_extension": ".py",
   "mimetype": "text/x-python",
   "name": "python",
   "nbconvert_exporter": "python",
   "pygments_lexer": "ipython3",
   "version": "3.11.7"
  }
 },
 "nbformat": 4,
 "nbformat_minor": 5
}
