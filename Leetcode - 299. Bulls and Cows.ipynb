{
 "cells": [
  {
   "cell_type": "code",
   "execution_count": 12,
   "id": "dfe72c2a",
   "metadata": {},
   "outputs": [
    {
     "name": "stdout",
     "output_type": "stream",
     "text": [
      "15\n"
     ]
    }
   ],
   "source": [
    "class Solution(object):\n",
    "    def getHint(self, secret, guess):\n",
    "        \"\"\"\n",
    "        :type secret: str\n",
    "        :type guess: str\n",
    "        :rtype: str\n",
    "        \"\"\"\n",
    "        bulls = 0\n",
    "        cows = 0\n",
    "        secret_dict={}\n",
    "        guess_dict={}\n",
    "        \n",
    "        for i in range(len(secret)):\n",
    "          if secret[i]==guess[i]:\n",
    "            bulls += 1\n",
    "\n",
    "          else:\n",
    "            if secret[i] in guess_dict and guess_dict[secret[i]] >0:\n",
    "              cows = cows+1\n",
    "              guess_dict[secret[i]] -= 1\n",
    "            else:\n",
    "              secret_dict[secret[i]] = secret_dict.get(secret[i], 0) + 1\n",
    "\n",
    "            if guess[i] in secret_dict and secret_dict[guess[i]] >0:\n",
    "              cows = cows+1\n",
    "              secret_dict[guess[i]]-= 1\n",
    "            else:\n",
    "              guess_dict[guess[i]] = guess_dict.get(guess[i], 0) + 1\n",
    "\n",
    "        return str(bulls)+'A'+str(cows)+'B'"
   ]
  }
 ],
 "metadata": {
  "kernelspec": {
   "display_name": "Python 3 (ipykernel)",
   "language": "python",
   "name": "python3"
  },
  "language_info": {
   "codemirror_mode": {
    "name": "ipython",
    "version": 3
   },
   "file_extension": ".py",
   "mimetype": "text/x-python",
   "name": "python",
   "nbconvert_exporter": "python",
   "pygments_lexer": "ipython3",
   "version": "3.10.9"
  }
 },
 "nbformat": 4,
 "nbformat_minor": 5
}
