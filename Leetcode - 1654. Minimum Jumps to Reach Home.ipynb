{
 "cells": [
  {
   "cell_type": "code",
   "execution_count": 34,
   "id": "21e71366",
   "metadata": {},
   "outputs": [],
   "source": [
    "#Beats 91% in TLE\n",
    "from collections import deque\n",
    "def minimumJumps(forbidden, a, b, x):\n",
    "    #a - forward\n",
    "    #b - backward\n",
    "    #x - home\n",
    "    queue = deque()\n",
    "    queue.append((0, 0, False))\n",
    "    isvisited = {0:True}\n",
    "    forbidden=set(forbidden)\n",
    "    threshold = max(forbidden)+a+b+x\n",
    "    while queue:\n",
    "        currpos,moves,backflag = queue.popleft()\n",
    "        \n",
    "        if currpos==x:\n",
    "            return moves\n",
    "        \n",
    "        backtogo=currpos-b\n",
    "        fronttogo=currpos+a\n",
    "        if not backflag and backtogo>0 and backtogo not in isvisited and backtogo not in forbidden:\n",
    "            queue.append((backtogo,moves+1,True))\n",
    "            isvisited[backtogo]=True\n",
    "        if fronttogo not in forbidden and fronttogo not in isvisited and fronttogo <=threshold:\n",
    "            queue.append((fronttogo,moves+1,False))\n",
    "            isvisited[fronttogo]=True\n",
    "    return -1"
   ]
  },
  {
   "cell_type": "code",
   "execution_count": 26,
   "id": "2798f550",
   "metadata": {},
   "outputs": [
    {
     "data": {
      "text/plain": [
       "3"
      ]
     },
     "execution_count": 26,
     "metadata": {},
     "output_type": "execute_result"
    }
   ],
   "source": [
    "minimumJumps([14,4,18,1,15], 3, 15, 9)"
   ]
  },
  {
   "cell_type": "code",
   "execution_count": 27,
   "id": "936168c7",
   "metadata": {},
   "outputs": [
    {
     "data": {
      "text/plain": [
       "-1"
      ]
     },
     "execution_count": 27,
     "metadata": {},
     "output_type": "execute_result"
    }
   ],
   "source": [
    "minimumJumps([8,3,16,6,12,20],15, 13, 11)"
   ]
  },
  {
   "cell_type": "code",
   "execution_count": 28,
   "id": "81c0dd8d",
   "metadata": {},
   "outputs": [
    {
     "data": {
      "text/plain": [
       "2"
      ]
     },
     "execution_count": 28,
     "metadata": {},
     "output_type": "execute_result"
    }
   ],
   "source": [
    "minimumJumps([1,6,2,14,5,17,4],16, 9, 7)"
   ]
  },
  {
   "cell_type": "code",
   "execution_count": 35,
   "id": "6fec05fc",
   "metadata": {},
   "outputs": [
    {
     "data": {
      "text/plain": [
       "121"
      ]
     },
     "execution_count": 35,
     "metadata": {},
     "output_type": "execute_result"
    }
   ],
   "source": [
    "minimumJumps([162,118,178,152,167,100,40,74,199,186,26,73,200,127,30,124,193,84,184,36,103,149,153,9,54,154,133,95,45,198,79,157,64,122,59,71,48,177,82,35,14,176,16,108,111,6,168,31,134,164,136,72,98],\n",
    "             29, 98, 80)"
   ]
  },
  {
   "cell_type": "code",
   "execution_count": null,
   "id": "cf6c8834",
   "metadata": {},
   "outputs": [],
   "source": []
  }
 ],
 "metadata": {
  "kernelspec": {
   "display_name": "Python 3 (ipykernel)",
   "language": "python",
   "name": "python3"
  },
  "language_info": {
   "codemirror_mode": {
    "name": "ipython",
    "version": 3
   },
   "file_extension": ".py",
   "mimetype": "text/x-python",
   "name": "python",
   "nbconvert_exporter": "python",
   "pygments_lexer": "ipython3",
   "version": "3.11.4"
  }
 },
 "nbformat": 4,
 "nbformat_minor": 5
}
