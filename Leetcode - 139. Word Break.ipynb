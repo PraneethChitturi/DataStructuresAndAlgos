{
 "cells": [
  {
   "cell_type": "code",
   "execution_count": null,
   "id": "448c4719-ac01-49cd-8e7f-ca441871b0e6",
   "metadata": {},
   "outputs": [],
   "source": [
    "def wordBreak(s, wordDict):\n",
    "    def stringcheck(s, wordDict, seen):\n",
    "        if s in seen:  # Check if the result is already computed\n",
    "            return seen[s]\n",
    "        if not s:  # If the string is empty, it's a valid segmentation\n",
    "            return True\n",
    "        \n",
    "        for i in range(1, len(s) + 1):\n",
    "            prefix = s[:i]\n",
    "            suffix = s[i:]\n",
    "            for w in wordDict:\n",
    "                if prefix==w and stringcheck(suffix, wordDict, seen):\n",
    "                    seen[s] = True\n",
    "                    return True\n",
    "        \n",
    "        seen[s] = False  # Cache the result as False if no valid segmentation\n",
    "        return False\n",
    "    \n",
    "    return stringcheck(s, set(wordDict), {})\n",
    "\n",
    "# Example Usage\n",
    "s = \"leetcode\"\n",
    "wordDict = [\"leet\", \"code\"]\n",
    "print(wordBreak(s, wordDict))  # Output: True\n"
   ]
  },
  {
   "cell_type": "code",
   "execution_count": 58,
   "id": "6616afba-9618-4889-87ad-6b10d6adc315",
   "metadata": {},
   "outputs": [],
   "source": [
    "def wordBreak(s, wordDict):\n",
    "    dp=[False]*(len(s)+1)\n",
    "    dp[-1]=True\n",
    "    for i in range(len(s)-1,-1,-1):\n",
    "        for w in wordDict:\n",
    "            if i+len(w)<=len(s) and s[i:i+len(w)]==w:\n",
    "                dp[i]=dp[i+len(w)]\n",
    "            if dp[i]:\n",
    "                break\n",
    "    return dp[0]\n",
    "        \n"
   ]
  },
  {
   "cell_type": "code",
   "execution_count": 59,
   "id": "63192f0f-13ab-4262-a8a7-a1c40a940e41",
   "metadata": {},
   "outputs": [
    {
     "data": {
      "text/plain": [
       "True"
      ]
     },
     "execution_count": 59,
     "metadata": {},
     "output_type": "execute_result"
    }
   ],
   "source": [
    "wordBreak(\"leetcode\", [\"leet\",\"code\"])"
   ]
  },
  {
   "cell_type": "code",
   "execution_count": 60,
   "id": "b881524d-5162-4682-920b-0c552ea69d57",
   "metadata": {},
   "outputs": [
    {
     "data": {
      "text/plain": [
       "True"
      ]
     },
     "execution_count": 60,
     "metadata": {},
     "output_type": "execute_result"
    }
   ],
   "source": [
    "wordBreak(\"applepenapple\", [\"apple\",\"pen\"])"
   ]
  },
  {
   "cell_type": "code",
   "execution_count": 61,
   "id": "5a3e64b6-dbf6-40ef-989f-cf2be00cc82f",
   "metadata": {},
   "outputs": [
    {
     "data": {
      "text/plain": [
       "False"
      ]
     },
     "execution_count": 61,
     "metadata": {},
     "output_type": "execute_result"
    }
   ],
   "source": [
    "wordBreak(\"catsandog\", [\"cats\",\"dog\",\"sand\",\"and\",\"cat\"])"
   ]
  },
  {
   "cell_type": "code",
   "execution_count": null,
   "id": "62258639-d79a-4056-8548-c3a73b47d46e",
   "metadata": {},
   "outputs": [],
   "source": []
  }
 ],
 "metadata": {
  "kernelspec": {
   "display_name": "Python 3 (ipykernel)",
   "language": "python",
   "name": "python3"
  },
  "language_info": {
   "codemirror_mode": {
    "name": "ipython",
    "version": 3
   },
   "file_extension": ".py",
   "mimetype": "text/x-python",
   "name": "python",
   "nbconvert_exporter": "python",
   "pygments_lexer": "ipython3",
   "version": "3.11.7"
  }
 },
 "nbformat": 4,
 "nbformat_minor": 5
}
