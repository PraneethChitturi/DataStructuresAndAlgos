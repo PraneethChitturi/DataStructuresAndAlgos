{
 "cells": [
  {
   "cell_type": "code",
   "execution_count": 31,
   "id": "11b79a65",
   "metadata": {},
   "outputs": [],
   "source": [
    "#Brute Force by Sorting\n",
    "def longestWord(words):\n",
    "    \n",
    "    Array = words.sort()\n",
    "    result = ''\n",
    "    builtWords = set()\n",
    "    \n",
    "    for w in words:\n",
    "        if len(w)==1 or (w[:-1] in builtWords):\n",
    "            if len(w)>len(result): \n",
    "                result=w\n",
    "            builtWords.add(w)\n",
    "            \n",
    "    return result"
   ]
  },
  {
   "cell_type": "code",
   "execution_count": 32,
   "id": "1312b6ed",
   "metadata": {},
   "outputs": [],
   "source": [
    "#Trie Approach + DFS\n",
    "import collections\n",
    "import functools\n",
    "\n",
    "class Solution(object):\n",
    "    def longestWord(self, words):\n",
    "        Trie = lambda: collections.defaultdict(Trie)\n",
    "        trie = Trie()\n",
    "        END = True\n",
    "\n",
    "        for i, word in enumerate(words):\n",
    "            reduce(dict.__getitem__, word, trie)[END] = i\n",
    "\n",
    "        stack = trie.values()\n",
    "        ans = \"\"\n",
    "        while stack:\n",
    "            cur = stack.pop()\n",
    "            if END in cur:\n",
    "                word = words[cur[END]]\n",
    "                if len(word) > len(ans) or len(word) == len(ans) and word < ans:\n",
    "                    ans = word\n",
    "                stack.extend([cur[letter] for letter in cur if letter != END])\n",
    "\n",
    "        return ans"
   ]
  },
  {
   "cell_type": "code",
   "execution_count": 33,
   "id": "3fe96bc9",
   "metadata": {},
   "outputs": [
    {
     "data": {
      "text/plain": [
       "'world'"
      ]
     },
     "execution_count": 33,
     "metadata": {},
     "output_type": "execute_result"
    }
   ],
   "source": [
    "words = [\"w\",\"wo\",\"wor\",\"worl\",\"world\"]\n",
    "\n",
    "longestWord(words)"
   ]
  },
  {
   "cell_type": "code",
   "execution_count": 34,
   "id": "b97b0510",
   "metadata": {},
   "outputs": [
    {
     "data": {
      "text/plain": [
       "'apple'"
      ]
     },
     "execution_count": 34,
     "metadata": {},
     "output_type": "execute_result"
    }
   ],
   "source": [
    "words = [\"a\",\"banana\",\"app\",\"appl\",\"ap\",\"apply\",\"apple\"]\n",
    "\n",
    "longestWord(words)"
   ]
  },
  {
   "cell_type": "code",
   "execution_count": null,
   "id": "ecf70eef",
   "metadata": {},
   "outputs": [],
   "source": []
  }
 ],
 "metadata": {
  "kernelspec": {
   "display_name": "Python 3 (ipykernel)",
   "language": "python",
   "name": "python3"
  },
  "language_info": {
   "codemirror_mode": {
    "name": "ipython",
    "version": 3
   },
   "file_extension": ".py",
   "mimetype": "text/x-python",
   "name": "python",
   "nbconvert_exporter": "python",
   "pygments_lexer": "ipython3",
   "version": "3.10.9"
  }
 },
 "nbformat": 4,
 "nbformat_minor": 5
}
