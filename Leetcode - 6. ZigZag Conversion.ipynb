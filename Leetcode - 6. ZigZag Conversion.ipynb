{
 "cells": [
  {
   "cell_type": "code",
   "execution_count": 38,
   "id": "e8ccede2",
   "metadata": {},
   "outputs": [],
   "source": [
    "#Beats 63.66% in Time\n",
    "s = \"PAYPALISHIRING\"\n",
    "numRows = 3\n",
    "\n",
    "def convert(s, numRows):\n",
    "    length = len(s)-1\n",
    "    if length<=1 or numRows>length or numRows==1:\n",
    "        return s\n",
    "    ans = \"\"\n",
    "    base = numRows+(numRows-2)\n",
    "    adder = 0\n",
    "    index = 0\n",
    "\n",
    "\n",
    "    while base-adder>=0:\n",
    "        firstadd=base-adder\n",
    "        secondadd=adder\n",
    "        \n",
    "\n",
    "        if firstadd == 0:\n",
    "            firstadd=secondadd\n",
    "        \n",
    "        if secondadd==0:\n",
    "            secondadd=firstadd\n",
    "            \n",
    "\n",
    "        i = index\n",
    "\n",
    "        ans = ans+s[i]\n",
    "        while i<=length:\n",
    "            i = firstadd+i\n",
    "            if i>length:\n",
    "                break\n",
    "            ans = ans+s[i]\n",
    "\n",
    "            i = secondadd+i\n",
    "            if i>length:\n",
    "                break\n",
    "            ans = ans+s[i]\n",
    "\n",
    "        \n",
    "        index = index+1\n",
    "        adder = adder+2\n",
    "        \n",
    "\n",
    "    return ans"
   ]
  },
  {
   "cell_type": "code",
   "execution_count": 40,
   "id": "f0d5f8ed",
   "metadata": {},
   "outputs": [],
   "source": [
    "#Beats 71%\n",
    "def convert(s, numRows):\n",
    "        \"\"\"\n",
    "        :type s: str\n",
    "        :type numRows: int\n",
    "        :rtype: str\n",
    "        \"\"\"\n",
    "        if numRows == 1 or numRows >= len(s):\n",
    "            return s\n",
    "\n",
    "        L = [''] * numRows\n",
    "        index, step = 0, 1\n",
    "\n",
    "        for x in s:\n",
    "            L[index] += x\n",
    "            if index == 0:\n",
    "                step = 1\n",
    "            elif index == numRows -1:\n",
    "                step = -1\n",
    "            index += step\n",
    "            print(L)\n",
    "    \n",
    "        return ''.join(L)"
   ]
  },
  {
   "cell_type": "code",
   "execution_count": 41,
   "id": "81bd53d4",
   "metadata": {},
   "outputs": [
    {
     "name": "stdout",
     "output_type": "stream",
     "text": [
      "['P', '', '']\n",
      "['P', 'A', '']\n",
      "['P', 'A', 'Y']\n",
      "['P', 'AP', 'Y']\n",
      "['PA', 'AP', 'Y']\n",
      "['PA', 'APL', 'Y']\n",
      "['PA', 'APL', 'YI']\n",
      "['PA', 'APLS', 'YI']\n",
      "['PAH', 'APLS', 'YI']\n",
      "['PAH', 'APLSI', 'YI']\n",
      "['PAH', 'APLSI', 'YIR']\n",
      "['PAH', 'APLSII', 'YIR']\n",
      "['PAHN', 'APLSII', 'YIR']\n",
      "['PAHN', 'APLSIIG', 'YIR']\n"
     ]
    },
    {
     "data": {
      "text/plain": [
       "'PAHNAPLSIIGYIR'"
      ]
     },
     "execution_count": 41,
     "metadata": {},
     "output_type": "execute_result"
    }
   ],
   "source": [
    "convert(s, numRows)"
   ]
  },
  {
   "cell_type": "code",
   "execution_count": null,
   "id": "00790a02",
   "metadata": {},
   "outputs": [],
   "source": []
  }
 ],
 "metadata": {
  "kernelspec": {
   "display_name": "Python 3 (ipykernel)",
   "language": "python",
   "name": "python3"
  },
  "language_info": {
   "codemirror_mode": {
    "name": "ipython",
    "version": 3
   },
   "file_extension": ".py",
   "mimetype": "text/x-python",
   "name": "python",
   "nbconvert_exporter": "python",
   "pygments_lexer": "ipython3",
   "version": "3.10.9"
  }
 },
 "nbformat": 4,
 "nbformat_minor": 5
}
