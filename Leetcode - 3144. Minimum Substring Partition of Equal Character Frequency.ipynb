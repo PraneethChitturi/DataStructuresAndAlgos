{
 "cells": [
  {
   "cell_type": "code",
   "execution_count": 8,
   "id": "7b31d07c-3c47-4414-9703-1a95c0e80a79",
   "metadata": {},
   "outputs": [],
   "source": [
    "from collections import Counter\n",
    "def minimumSubstringsInPartition(s):\n",
    "        \"\"\"\n",
    "        :type s: str\n",
    "        :rtype: int\n",
    "        \"\"\"\n",
    "        dp={}\n",
    "\n",
    "        def dfs(index):\n",
    "          if index>=len(s):\n",
    "            return 0\n",
    "          \n",
    "          if index in dp:\n",
    "            return dp[index]\n",
    "\n",
    "          m = len(s)\n",
    "          counter = Counter()\n",
    "          for i in range(index,len(s)):\n",
    "            counter[s[i]]+=1\n",
    "            if len(set(counter.values()))==1:\n",
    "              m=min(m,dfs(i+1)+1)\n",
    "          \n",
    "          dp[index]=m\n",
    "          return m\n",
    "\n",
    "\n",
    "        return dfs(0)"
   ]
  },
  {
   "cell_type": "code",
   "execution_count": 9,
   "id": "049bacd6-d2e2-456f-a382-c0e2e3c7ba75",
   "metadata": {},
   "outputs": [
    {
     "data": {
      "text/plain": [
       "3"
      ]
     },
     "execution_count": 9,
     "metadata": {},
     "output_type": "execute_result"
    }
   ],
   "source": [
    "minimumSubstringsInPartition(\"fabccddg\")"
   ]
  },
  {
   "cell_type": "code",
   "execution_count": null,
   "id": "6ff7fe38-a3f1-48f7-b7b7-d69370105434",
   "metadata": {},
   "outputs": [],
   "source": []
  }
 ],
 "metadata": {
  "kernelspec": {
   "display_name": "Python 3 (ipykernel)",
   "language": "python",
   "name": "python3"
  },
  "language_info": {
   "codemirror_mode": {
    "name": "ipython",
    "version": 3
   },
   "file_extension": ".py",
   "mimetype": "text/x-python",
   "name": "python",
   "nbconvert_exporter": "python",
   "pygments_lexer": "ipython3",
   "version": "3.11.7"
  }
 },
 "nbformat": 4,
 "nbformat_minor": 5
}
