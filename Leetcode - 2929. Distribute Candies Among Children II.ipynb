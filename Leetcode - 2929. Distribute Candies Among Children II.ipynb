{
 "cells": [
  {
   "cell_type": "code",
   "execution_count": 16,
   "id": "e20dd782",
   "metadata": {},
   "outputs": [],
   "source": [
    "class Solution(object):\n",
    "    def distributeCandies(self, n, limit):\n",
    "        \"\"\"\n",
    "        :type n: int\n",
    "        :type limit: int\n",
    "        :rtype: int\n",
    "        \"\"\"\n",
    "        res=((n+2)*(n+1))/2\n",
    "        x=max(0,n-limit-1+2)\n",
    "        x2=max(0,n-2*limit-2+2)\n",
    "        x3=max(0,n-3*limit-3+2)\n",
    "        res-=(3*x*(x-1))/2 -((3*x2*(x2-1))/2) + (x3*(x3-1))/2\n",
    "\n",
    "        return res\n",
    "        "
   ]
  },
  {
   "cell_type": "code",
   "execution_count": 13,
   "id": "a3e78203",
   "metadata": {},
   "outputs": [],
   "source": [
    "def distributeCandies(n, limit):\n",
    "        \"\"\"\n",
    "        :type n: int\n",
    "        :type limit: int\n",
    "        :rtype: int\n",
    "        \"\"\"\n",
    "        ans=0\n",
    "        def returnposibilities(numofchilds,numberofcandies,limit):\n",
    "            #print(\"function(\",numofchilds,\",\",numberofcandies,\",\",limit,\")\")\n",
    "            if numofchilds==0 and numberofcandies==0:\n",
    "                return 1\n",
    "            elif numofchilds==0 and numberofcandies>0:\n",
    "                return 0\n",
    "\n",
    "            c=0\n",
    "            for i in range(min(limit,numberofcandies),-1,-1):\n",
    "                c+=returnposibilities(numofchilds-1,numberofcandies-i,limit)\n",
    "            \n",
    "            return c\n",
    "\n",
    "\n",
    "        return returnposibilities(3,n,limit)"
   ]
  },
  {
   "cell_type": "code",
   "execution_count": null,
   "id": "25f94960",
   "metadata": {},
   "outputs": [],
   "source": [
    "distributeCandies(5, 2)"
   ]
  },
  {
   "cell_type": "code",
   "execution_count": null,
   "id": "cc390d4f",
   "metadata": {},
   "outputs": [],
   "source": [
    "distributeCandies(3, 3)"
   ]
  },
  {
   "cell_type": "code",
   "execution_count": null,
   "id": "668c4257",
   "metadata": {},
   "outputs": [],
   "source": []
  }
 ],
 "metadata": {
  "kernelspec": {
   "display_name": "Python 3 (ipykernel)",
   "language": "python",
   "name": "python3"
  },
  "language_info": {
   "codemirror_mode": {
    "name": "ipython",
    "version": 3
   },
   "file_extension": ".py",
   "mimetype": "text/x-python",
   "name": "python",
   "nbconvert_exporter": "python",
   "pygments_lexer": "ipython3",
   "version": "3.11.4"
  }
 },
 "nbformat": 4,
 "nbformat_minor": 5
}
