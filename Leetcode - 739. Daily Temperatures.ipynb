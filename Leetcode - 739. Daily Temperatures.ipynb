{
 "cells": [
  {
   "cell_type": "code",
   "execution_count": 46,
   "id": "4f3f4914-3cce-4e9d-84cc-26dbeb267799",
   "metadata": {},
   "outputs": [],
   "source": [
    "#Min Heap - beats 25% in TLE\n",
    "import heapq\n",
    "\n",
    "def dailyTemperatures(temperatures):\n",
    "    heaplist=[(temperatures[0],0)]\n",
    "    heapq.heapify(heaplist)\n",
    "    ans=[0]*len(temperatures)\n",
    "    for i,ele in enumerate(temperatures[1:]):\n",
    "        #print(ans,i,ele)\n",
    "        #print(heaplist,heaplist[0][0])\n",
    "        while heaplist and ele>heaplist[0][0]:\n",
    "            changeele,changeindex = heapq.heappop(heaplist)\n",
    "            ans[changeindex]=i+1-changeindex\n",
    "\n",
    "        heapq.heappush(heaplist,(ele,i+1))\n",
    "\n",
    "    return ans"
   ]
  },
  {
   "cell_type": "code",
   "execution_count": 47,
   "id": "2bfa77d1-141f-4bfe-b75e-4d995d6ba00f",
   "metadata": {},
   "outputs": [
    {
     "data": {
      "text/plain": [
       "[1, 1, 4, 2, 1, 1, 0, 0]"
      ]
     },
     "execution_count": 47,
     "metadata": {},
     "output_type": "execute_result"
    }
   ],
   "source": [
    "dailyTemperatures([73,74,75,71,69,72,76,73])"
   ]
  },
  {
   "cell_type": "code",
   "execution_count": 48,
   "id": "2c162f74-d965-45a7-8cd0-d7ea9dcf3b11",
   "metadata": {},
   "outputs": [
    {
     "data": {
      "text/plain": [
       "[1, 1, 1, 0]"
      ]
     },
     "execution_count": 48,
     "metadata": {},
     "output_type": "execute_result"
    }
   ],
   "source": [
    "dailyTemperatures([30,40,50,60])"
   ]
  },
  {
   "cell_type": "code",
   "execution_count": 49,
   "id": "d27f09a0-6f75-4fc0-82ed-69cbdcf08224",
   "metadata": {},
   "outputs": [
    {
     "data": {
      "text/plain": [
       "[1, 1, 0]"
      ]
     },
     "execution_count": 49,
     "metadata": {},
     "output_type": "execute_result"
    }
   ],
   "source": [
    "dailyTemperatures([30,60,90])"
   ]
  },
  {
   "cell_type": "code",
   "execution_count": 50,
   "id": "d3493bd2-d244-427d-b495-628bb92bca58",
   "metadata": {},
   "outputs": [
    {
     "data": {
      "text/plain": [
       "[0]"
      ]
     },
     "execution_count": 50,
     "metadata": {},
     "output_type": "execute_result"
    }
   ],
   "source": [
    "dailyTemperatures([30])"
   ]
  },
  {
   "cell_type": "code",
   "execution_count": null,
   "id": "fbe1ddd4-410d-474f-8eb2-8e7e0632182e",
   "metadata": {},
   "outputs": [],
   "source": [
    "#Stack-Beats 95% in TLE\n",
    "def dailyTemperatures(temperatures):\n",
    "    stack = []\n",
    "    ans = [0] * len(temperatures)\n",
    "    for i, temp in enumerate(temperatures):\n",
    "        while stack and temperatures[stack[-1]] < temp:\n",
    "            j = stack.pop()\n",
    "            ans[j] = i - j\n",
    "        stack.append(i)\n",
    "    return ans"
   ]
  },
  {
   "cell_type": "code",
   "execution_count": null,
   "id": "633795c8-2170-49b0-a396-75d019d83ac7",
   "metadata": {},
   "outputs": [],
   "source": []
  }
 ],
 "metadata": {
  "kernelspec": {
   "display_name": "Python 3 (ipykernel)",
   "language": "python",
   "name": "python3"
  },
  "language_info": {
   "codemirror_mode": {
    "name": "ipython",
    "version": 3
   },
   "file_extension": ".py",
   "mimetype": "text/x-python",
   "name": "python",
   "nbconvert_exporter": "python",
   "pygments_lexer": "ipython3",
   "version": "3.11.7"
  }
 },
 "nbformat": 4,
 "nbformat_minor": 5
}
