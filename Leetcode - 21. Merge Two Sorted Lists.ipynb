{
 "cells": [
  {
   "cell_type": "code",
   "execution_count": 14,
   "id": "f3df2e17",
   "metadata": {},
   "outputs": [],
   "source": [
    "#Beats 98% in TLE\n",
    "def mergeTwoLists(list1, list2):\n",
    "        \"\"\"\n",
    "        :type list1: Optional[ListNode]\n",
    "        :type list2: Optional[ListNode]\n",
    "        :rtype: Optional[ListNode]\n",
    "        \"\"\"\n",
    "        \n",
    "        mergedlist = ListNode()\n",
    "        \n",
    "        curr = mergedlist\n",
    "        \n",
    "        while list1 and list2:\n",
    "            if list1.val >= list2.val:\n",
    "                curr.next = list2\n",
    "                list2 = list2.next\n",
    "            else:\n",
    "                curr.next = list1\n",
    "                list1 = list1.next\n",
    "            curr = curr.next\n",
    "            \n",
    "            \n",
    "        curr.next = list1 if list1 else list2\n",
    "            \n",
    "        return mergedlist.next"
   ]
  },
  {
   "cell_type": "code",
   "execution_count": 4,
   "id": "cd9928d6",
   "metadata": {},
   "outputs": [],
   "source": [
    "#Beats 33% in TLE\n",
    "class ListNode(object):\n",
    "     def __init__(self, val=0, next=None):\n",
    "            self.val = val\n",
    "            self.next = next\n",
    "            \n",
    "            \n",
    "def mergeTwoLists(list1, list2):\n",
    "        \"\"\"\n",
    "        :type list1: Optional[ListNode]\n",
    "        :type list2: Optional[ListNode]\n",
    "        :rtype: Optional[ListNode]\n",
    "        \"\"\"\n",
    "        if list1 == None:\n",
    "            return list2\n",
    "        if list2 == None:\n",
    "            return list1\n",
    "        \n",
    "        mergedlist = None\n",
    "        \n",
    "        pointer1 = list1\n",
    "        pointer2 = list2\n",
    "        \n",
    "        while pointer1!= None and pointer2!= None:\n",
    "            if pointer1.val >= pointer2.val:\n",
    "                if mergedlist==None:\n",
    "                    mergedlist = ListNode(pointer2.val)\n",
    "                    currele = mergedlist\n",
    "                else:\n",
    "                    currele.next = ListNode(pointer2.val)\n",
    "                    currele = currele.next\n",
    "                pointer2 = pointer2.next\n",
    "                \n",
    "            else:\n",
    "                if mergedlist==None:\n",
    "                    mergedlist = ListNode(pointer1.val)\n",
    "                    currele = mergedlist\n",
    "                else:\n",
    "                    currele.next = ListNode(pointer1.val)\n",
    "                    currele = currele.next\n",
    "                pointer1 = pointer1.next\n",
    "            \n",
    "        if pointer1 == None:\n",
    "            currele.next = pointer2\n",
    "        else:\n",
    "            currele.next = pointer1\n",
    "            \n",
    "        return mergedlist\n",
    "        "
   ]
  },
  {
   "cell_type": "code",
   "execution_count": 15,
   "id": "16319098",
   "metadata": {},
   "outputs": [],
   "source": [
    "headoflist1 = ListNode(1)\n",
    "headoflist1.next = ListNode(2)\n",
    "headoflist1.next.next = ListNode(4)\n",
    "\n",
    "headoflist2 = ListNode(1)\n",
    "headoflist2.next = ListNode(3)\n",
    "headoflist2.next.next = ListNode(4)"
   ]
  },
  {
   "cell_type": "code",
   "execution_count": 16,
   "id": "9b39cfac",
   "metadata": {},
   "outputs": [],
   "source": [
    "a = mergeTwoLists(headoflist1, headoflist2)"
   ]
  },
  {
   "cell_type": "code",
   "execution_count": null,
   "id": "4ed802ff",
   "metadata": {},
   "outputs": [],
   "source": []
  }
 ],
 "metadata": {
  "kernelspec": {
   "display_name": "Python 3 (ipykernel)",
   "language": "python",
   "name": "python3"
  },
  "language_info": {
   "codemirror_mode": {
    "name": "ipython",
    "version": 3
   },
   "file_extension": ".py",
   "mimetype": "text/x-python",
   "name": "python",
   "nbconvert_exporter": "python",
   "pygments_lexer": "ipython3",
   "version": "3.10.9"
  }
 },
 "nbformat": 4,
 "nbformat_minor": 5
}
