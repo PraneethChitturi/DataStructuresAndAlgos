{
 "cells": [
  {
   "cell_type": "code",
   "execution_count": 10,
   "id": "34db1f1e-37d9-48fa-be8a-5179ac7a06e7",
   "metadata": {},
   "outputs": [],
   "source": [
    "#Beats 95% in TLE\n",
    "class Trie(object):\n",
    "\n",
    "    def __init__(self):\n",
    "        self.trie = {}\n",
    "\n",
    "    def insert(self, word):\n",
    "        \"\"\"\n",
    "        :type word: str\n",
    "        :rtype: None\n",
    "        \"\"\"\n",
    "        t = self.trie\n",
    "        for str in word:\n",
    "            if str in t:\n",
    "                t=t[str]\n",
    "            else:\n",
    "                t[str]={}\n",
    "                t = t[str]\n",
    "        t['-']=True\n",
    "        \n",
    "\n",
    "    def search(self, word):\n",
    "        \"\"\"\n",
    "        :type word: str\n",
    "        :rtype: bool\n",
    "        \"\"\"\n",
    "        t = self.trie\n",
    "        for str in word:\n",
    "            if str not in t:\n",
    "                return False\n",
    "            else:\n",
    "                t=t[str]\n",
    "        return '-' in t\n",
    "        \n",
    "\n",
    "    def startsWith(self, prefix):\n",
    "        \"\"\"\n",
    "        :type prefix: str\n",
    "        :rtype: bool\n",
    "        \"\"\"\n",
    "        t = self.trie\n",
    "        for str in prefix:\n",
    "            if str not in t:\n",
    "                return False\n",
    "            else:\n",
    "                t=t[str]\n",
    "        return True\n",
    "\n",
    "\n",
    "# Your Trie object will be instantiated and called as such:\n",
    "# obj = Trie()\n",
    "# obj.insert(word)\n",
    "# param_2 = obj.search(word)\n",
    "# param_3 = obj.startsWith(prefix)"
   ]
  },
  {
   "cell_type": "code",
   "execution_count": 11,
   "id": "65ab8ebc-1653-47e1-bdbb-b5a01d7f0cc0",
   "metadata": {},
   "outputs": [
    {
     "name": "stdout",
     "output_type": "stream",
     "text": [
      "None\n",
      "{'a': {'p': {'p': {'l': {'e': {'-': True}}}}}}\n",
      "True\n",
      "False\n",
      "True\n",
      "None\n",
      "True\n"
     ]
    }
   ],
   "source": [
    "a = Trie()\n",
    "print(a.insert(\"apple\"))\n",
    "print(a.trie)\n",
    "print(a.search(\"apple\"))\n",
    "print(a.search(\"app\"))\n",
    "print(a.startsWith(\"app\"))\n",
    "print(a.insert(\"app\"))\n",
    "print(a.search(\"app\"))"
   ]
  },
  {
   "cell_type": "code",
   "execution_count": 13,
   "id": "67dac2a9-95b8-48da-aebe-32fa7c3a7b5d",
   "metadata": {},
   "outputs": [
    {
     "data": {
      "text/plain": [
       "{'a': {'p': {'p': {'l': {'e': {'-': True}}, '-': True}}}}"
      ]
     },
     "execution_count": 13,
     "metadata": {},
     "output_type": "execute_result"
    }
   ],
   "source": [
    "a.trie"
   ]
  },
  {
   "cell_type": "code",
   "execution_count": null,
   "id": "e1664b3a-5f74-40ed-9aa2-bbb9e76a6e1e",
   "metadata": {},
   "outputs": [],
   "source": []
  }
 ],
 "metadata": {
  "kernelspec": {
   "display_name": "Python 3 (ipykernel)",
   "language": "python",
   "name": "python3"
  },
  "language_info": {
   "codemirror_mode": {
    "name": "ipython",
    "version": 3
   },
   "file_extension": ".py",
   "mimetype": "text/x-python",
   "name": "python",
   "nbconvert_exporter": "python",
   "pygments_lexer": "ipython3",
   "version": "3.11.7"
  }
 },
 "nbformat": 4,
 "nbformat_minor": 5
}
