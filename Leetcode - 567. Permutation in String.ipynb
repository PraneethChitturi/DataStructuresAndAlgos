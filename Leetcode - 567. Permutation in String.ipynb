{
 "cells": [
  {
   "cell_type": "code",
   "execution_count": 131,
   "id": "f00f70ad-e11c-4b1e-912a-acb1bd1d0dc6",
   "metadata": {},
   "outputs": [],
   "source": [
    "from collections import Counter\n",
    "\n",
    "def checkInclusion(s1, s2):\n",
    "    origs1counter = dict(Counter(s1))\n",
    "\n",
    "    s2slidingwindowcounter={}\n",
    "    i=0\n",
    "    j=0\n",
    "    for s in s2:\n",
    "        print(i,j)\n",
    "        \n",
    "        while ((s in origs1counter and origs1counter[s]==s2slidingwindowcounter.get(s,0)) or (s not in origs1counter)) and i<=j:\n",
    "            print(i,j)\n",
    "            if s2[i] in s2slidingwindowcounter:\n",
    "                s2slidingwindowcounter[s2[i]]-=1\n",
    "\n",
    "            i+=1\n",
    "\n",
    "        if s in origs1counter:\n",
    "            s2slidingwindowcounter[s]=1+s2slidingwindowcounter.get(s,0)\n",
    "        j+=1\n",
    "\n",
    "\n",
    "        print(origs1counter,s2slidingwindowcounter)\n",
    "        if origs1counter==s2slidingwindowcounter:\n",
    "            return True\n",
    "            \n",
    "    return False"
   ]
  },
  {
   "cell_type": "code",
   "execution_count": 132,
   "id": "bfb75b42-66a6-46ae-91e1-04528efed155",
   "metadata": {},
   "outputs": [
    {
     "name": "stdout",
     "output_type": "stream",
     "text": [
      "0 0\n",
      "0 0\n",
      "{'a': 1, 'b': 1} {}\n",
      "1 1\n",
      "1 1\n",
      "{'a': 1, 'b': 1} {}\n",
      "2 2\n",
      "2 2\n",
      "{'a': 1, 'b': 1} {}\n",
      "3 3\n",
      "{'a': 1, 'b': 1} {'b': 1}\n",
      "3 4\n",
      "3 4\n",
      "4 4\n",
      "{'a': 1, 'b': 1} {'b': 0}\n",
      "5 5\n",
      "{'a': 1, 'b': 1} {'b': 0, 'a': 1}\n",
      "5 6\n",
      "5 6\n",
      "6 6\n",
      "{'a': 1, 'b': 1} {'b': 0, 'a': 0}\n",
      "7 7\n",
      "7 7\n",
      "{'a': 1, 'b': 1} {'b': 0, 'a': 0}\n"
     ]
    },
    {
     "data": {
      "text/plain": [
       "False"
      ]
     },
     "execution_count": 132,
     "metadata": {},
     "output_type": "execute_result"
    }
   ],
   "source": [
    "checkInclusion(\"ab\", \"eidboaoo\")"
   ]
  },
  {
   "cell_type": "code",
   "execution_count": 133,
   "id": "7ed5b4b2-f890-4d19-902b-dd3a9782be76",
   "metadata": {},
   "outputs": [
    {
     "name": "stdout",
     "output_type": "stream",
     "text": [
      "0 0\n",
      "{'a': 1, 'd': 1, 'c': 1} {'d': 1}\n",
      "0 1\n",
      "{'a': 1, 'd': 1, 'c': 1} {'d': 1, 'c': 1}\n",
      "0 2\n",
      "0 2\n",
      "{'a': 1, 'd': 1, 'c': 1} {'d': 1, 'c': 1}\n",
      "1 3\n",
      "{'a': 1, 'd': 1, 'c': 1} {'d': 1, 'c': 1, 'a': 1}\n"
     ]
    },
    {
     "data": {
      "text/plain": [
       "True"
      ]
     },
     "execution_count": 133,
     "metadata": {},
     "output_type": "execute_result"
    }
   ],
   "source": [
    "checkInclusion(\"adc\", \"dcda\")"
   ]
  },
  {
   "cell_type": "code",
   "execution_count": 134,
   "id": "3f5d0290-8af3-4bf3-b7f0-175215c75265",
   "metadata": {},
   "outputs": [
    {
     "name": "stdout",
     "output_type": "stream",
     "text": [
      "0 0\n",
      "{'h': 1, 'e': 1, 'l': 2, 'o': 1} {'o': 1}\n",
      "0 1\n",
      "0 1\n",
      "{'h': 1, 'e': 1, 'l': 2, 'o': 1} {'o': 1}\n",
      "1 2\n",
      "1 2\n",
      "{'h': 1, 'e': 1, 'l': 2, 'o': 1} {'o': 1}\n",
      "2 3\n",
      "{'h': 1, 'e': 1, 'l': 2, 'o': 1} {'o': 1, 'l': 1}\n",
      "2 4\n",
      "{'h': 1, 'e': 1, 'l': 2, 'o': 1} {'o': 1, 'l': 2}\n",
      "2 5\n",
      "{'h': 1, 'e': 1, 'l': 2, 'o': 1} {'o': 1, 'l': 2, 'e': 1}\n",
      "2 6\n",
      "2 6\n",
      "{'h': 1, 'e': 1, 'l': 2, 'o': 1} {'o': 1, 'l': 2, 'e': 1}\n",
      "3 7\n",
      "3 7\n",
      "4 7\n",
      "5 7\n",
      "6 7\n",
      "{'h': 1, 'e': 1, 'l': 2, 'o': 1} {'o': 1, 'l': 0, 'e': 0}\n",
      "7 8\n",
      "7 8\n",
      "{'h': 1, 'e': 1, 'l': 2, 'o': 1} {'o': 1, 'l': 0, 'e': 0}\n",
      "8 9\n",
      "{'h': 1, 'e': 1, 'l': 2, 'o': 1} {'o': 1, 'l': 1, 'e': 0}\n",
      "8 10\n",
      "{'h': 1, 'e': 1, 'l': 2, 'o': 1} {'o': 1, 'l': 1, 'e': 1}\n",
      "8 11\n",
      "{'h': 1, 'e': 1, 'l': 2, 'o': 1} {'o': 1, 'l': 1, 'e': 1, 'h': 1}\n"
     ]
    },
    {
     "data": {
      "text/plain": [
       "False"
      ]
     },
     "execution_count": 134,
     "metadata": {},
     "output_type": "execute_result"
    }
   ],
   "source": [
    "checkInclusion(\"hello\", \"ooolleoooleh\")"
   ]
  },
  {
   "cell_type": "code",
   "execution_count": 135,
   "id": "02747e26-8686-4919-aa37-5787e295dfe5",
   "metadata": {},
   "outputs": [
    {
     "name": "stdout",
     "output_type": "stream",
     "text": [
      "0 0\n",
      "0 0\n",
      "{'a': 1, 'b': 1} {}\n",
      "1 1\n",
      "1 1\n",
      "{'a': 1, 'b': 1} {}\n",
      "2 2\n",
      "2 2\n",
      "{'a': 1, 'b': 1} {}\n",
      "3 3\n",
      "{'a': 1, 'b': 1} {'b': 1}\n",
      "3 4\n",
      "{'a': 1, 'b': 1} {'b': 1, 'a': 1}\n"
     ]
    },
    {
     "data": {
      "text/plain": [
       "True"
      ]
     },
     "execution_count": 135,
     "metadata": {},
     "output_type": "execute_result"
    }
   ],
   "source": [
    "checkInclusion(\"ab\", \"eidbaooo\")"
   ]
  },
  {
   "cell_type": "code",
   "execution_count": 110,
   "id": "ae168598-17d6-45f9-94f6-66d0f50c045f",
   "metadata": {},
   "outputs": [
    {
     "data": {
      "text/plain": [
       "Counter({'a': 1, 'b': 1})"
      ]
     },
     "execution_count": 110,
     "metadata": {},
     "output_type": "execute_result"
    }
   ],
   "source": [
    "from collections import Counter\n",
    "Counter(\"ab\")"
   ]
  },
  {
   "cell_type": "code",
   "execution_count": 114,
   "id": "b02ea5e0-fc5b-4164-8a4f-3884bb9e5448",
   "metadata": {},
   "outputs": [
    {
     "name": "stdout",
     "output_type": "stream",
     "text": [
      "0 0\n",
      "0 0\n",
      "0 0\n",
      "0 0\n",
      "0 1\n",
      "1 1\n"
     ]
    },
    {
     "data": {
      "text/plain": [
       "True"
      ]
     },
     "execution_count": 114,
     "metadata": {},
     "output_type": "execute_result"
    }
   ],
   "source": [
    "checkInclusion(\"ab\", \"eidboaoo\")"
   ]
  },
  {
   "cell_type": "code",
   "execution_count": null,
   "id": "02682220-9c14-4a3b-acb2-8d2d4a17094c",
   "metadata": {},
   "outputs": [],
   "source": []
  },
  {
   "cell_type": "code",
   "execution_count": null,
   "id": "8f23320b-2444-41ed-bbc6-51f9066050ab",
   "metadata": {},
   "outputs": [],
   "source": []
  }
 ],
 "metadata": {
  "kernelspec": {
   "display_name": "Python 3 (ipykernel)",
   "language": "python",
   "name": "python3"
  },
  "language_info": {
   "codemirror_mode": {
    "name": "ipython",
    "version": 3
   },
   "file_extension": ".py",
   "mimetype": "text/x-python",
   "name": "python",
   "nbconvert_exporter": "python",
   "pygments_lexer": "ipython3",
   "version": "3.11.7"
  }
 },
 "nbformat": 4,
 "nbformat_minor": 5
}
