{
 "cells": [
  {
   "cell_type": "code",
   "execution_count": 25,
   "id": "6667426f-8524-4bdc-9000-e92b0a979cc7",
   "metadata": {},
   "outputs": [],
   "source": [
    "def canPartition(nums):\n",
    "    if sum(nums)%2==1:\n",
    "        return False\n",
    "\n",
    "    target = sum(nums)//2\n",
    "    dp=set()\n",
    "    dp.add(0)\n",
    "    for num in nums:\n",
    "        adjdp = set()\n",
    "        for t in dp:\n",
    "            if t+num==target:\n",
    "                return True\n",
    "            adjdp.add(t+num)\n",
    "            adjdp.add(t)\n",
    "        dp=adjdp\n",
    "    return False"
   ]
  },
  {
   "cell_type": "code",
   "execution_count": 26,
   "id": "b78609bc-b2f1-4eea-af30-a1c9aea7508d",
   "metadata": {},
   "outputs": [
    {
     "data": {
      "text/plain": [
       "True"
      ]
     },
     "execution_count": 26,
     "metadata": {},
     "output_type": "execute_result"
    }
   ],
   "source": [
    "canPartition([1,5,11,5])"
   ]
  },
  {
   "cell_type": "code",
   "execution_count": 27,
   "id": "873e961e-db2d-46e5-88bd-27bf35996d9f",
   "metadata": {},
   "outputs": [
    {
     "data": {
      "text/plain": [
       "False"
      ]
     },
     "execution_count": 27,
     "metadata": {},
     "output_type": "execute_result"
    }
   ],
   "source": [
    "canPartition([1,2,3,5])"
   ]
  },
  {
   "cell_type": "code",
   "execution_count": null,
   "id": "6383007c-258a-42f6-b945-4a110f2660d3",
   "metadata": {},
   "outputs": [],
   "source": []
  }
 ],
 "metadata": {
  "kernelspec": {
   "display_name": "Python 3 (ipykernel)",
   "language": "python",
   "name": "python3"
  },
  "language_info": {
   "codemirror_mode": {
    "name": "ipython",
    "version": 3
   },
   "file_extension": ".py",
   "mimetype": "text/x-python",
   "name": "python",
   "nbconvert_exporter": "python",
   "pygments_lexer": "ipython3",
   "version": "3.11.7"
  }
 },
 "nbformat": 4,
 "nbformat_minor": 5
}
