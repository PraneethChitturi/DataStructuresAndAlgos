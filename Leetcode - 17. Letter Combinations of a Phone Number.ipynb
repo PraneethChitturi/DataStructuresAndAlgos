{
 "cells": [
  {
   "cell_type": "code",
   "execution_count": null,
   "id": "0d442c74-2936-4a47-8804-6e14bf22da34",
   "metadata": {},
   "outputs": [],
   "source": [
    "class Solution {\n",
    "    List<String> res = new ArrayList<>();\n",
    "    Map<Character,String> map = new HashMap<>();\n",
    "\n",
    "    public Solution(){\n",
    "        map.put('2',\"abc\");\n",
    "        map.put('3',\"def\");\n",
    "        map.put('4',\"ghi\");\n",
    "        map.put('5',\"jkl\");\n",
    "        map.put('6',\"mno\");\n",
    "        map.put('7',\"pqrs\");\n",
    "        map.put('8',\"tuv\");\n",
    "        map.put('9',\"wxyz\");\n",
    "    }\n",
    "\n",
    "    public List<String> letterCombinations(String digits) {\n",
    "        if(digits.length()==0 || digits==null){return res;}\n",
    "        backtrackdfs(new StringBuilder(),digits,0);\n",
    "        return res;\n",
    "    }\n",
    "\n",
    "    public void backtrackdfs(StringBuilder acc,String input,int currIndex){\n",
    "      if (currIndex==input.length()){\n",
    "        res.add(acc.toString());\n",
    "        return;\n",
    "      }\n",
    "\n",
    "      String currcharposs = map.get(input.charAt(currIndex));\n",
    "      for (char poss:currcharposs.toCharArray()){\n",
    "        acc.append(poss);\n",
    "        backtrackdfs(acc,input,currIndex+1);\n",
    "        acc.deleteCharAt(acc.length()-1);\n",
    "      }\n",
    "\n",
    "      return;\n",
    "    }\n",
    "}"
   ]
  }
 ],
 "metadata": {
  "kernelspec": {
   "display_name": "Python 3 (ipykernel)",
   "language": "python",
   "name": "python3"
  },
  "language_info": {
   "codemirror_mode": {
    "name": "ipython",
    "version": 3
   },
   "file_extension": ".py",
   "mimetype": "text/x-python",
   "name": "python",
   "nbconvert_exporter": "python",
   "pygments_lexer": "ipython3",
   "version": "3.11.7"
  }
 },
 "nbformat": 4,
 "nbformat_minor": 5
}
