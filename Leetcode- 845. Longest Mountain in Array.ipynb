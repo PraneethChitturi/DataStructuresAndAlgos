{
 "cells": [
  {
   "cell_type": "code",
   "execution_count": 29,
   "id": "c04fa715-bb45-491b-9bf7-ab35d0b0925c",
   "metadata": {},
   "outputs": [],
   "source": [
    "def longestMountain(arr):\n",
    "    i=0\n",
    "    j=1\n",
    "    largestm=0\n",
    "    posm=0\n",
    "    mountain=0\n",
    "\n",
    "    while j<len(arr):\n",
    "        if arr[j-1]<arr[j]:\n",
    "            if mountain>0:\n",
    "                posm=0\n",
    "                mountain=0\n",
    "                i=j-1\n",
    "        elif arr[j-1]>arr[j]:\n",
    "            if posm>=2:\n",
    "                mountain=j-i+1\n",
    "            if mountain==0:\n",
    "                i=j\n",
    "        elif arr[j-1]==arr[j]:\n",
    "            i=j\n",
    "            \n",
    "        posm=j-i+1\n",
    "        largestm=max(mountain,largestm)\n",
    "        j+=1\n",
    "\n",
    "    return largestm"
   ]
  },
  {
   "cell_type": "code",
   "execution_count": null,
   "id": "48049c57-7626-4851-9a53-4756471a4bb5",
   "metadata": {},
   "outputs": [],
   "source": [
    "class Solution(object):\n",
    "    def longestMountain(self, A):\n",
    "        N = len(A)\n",
    "        ans = base = 0\n",
    "\n",
    "        while base < N:\n",
    "            end = base\n",
    "            if end + 1 < N and A[end] < A[end + 1]: #if base is a left-boundary\n",
    "                #set end to the peak of this potential mountain\n",
    "                while end+1 < N and A[end] < A[end+1]:\n",
    "                    end += 1\n",
    "\n",
    "                if end + 1 < N and A[end] > A[end + 1]: #if end is really a peak..\n",
    "                    #set 'end' to right-boundary of mountain\n",
    "                    while end+1 < N and A[end] > A[end+1]:\n",
    "                        end += 1\n",
    "                    #record candidate answer\n",
    "                    ans = max(ans, end - base + 1)\n",
    "\n",
    "            base = max(end, base + 1)\n",
    "\n",
    "        return ans"
   ]
  },
  {
   "cell_type": "code",
   "execution_count": 30,
   "id": "1b252a49-a45b-44a4-ab56-dbde489039b0",
   "metadata": {},
   "outputs": [
    {
     "data": {
      "text/plain": [
       "5"
      ]
     },
     "execution_count": 30,
     "metadata": {},
     "output_type": "execute_result"
    }
   ],
   "source": [
    "longestMountain([2,1,4,7,3,2,5])"
   ]
  },
  {
   "cell_type": "code",
   "execution_count": 31,
   "id": "c52e6774-4b77-48e7-96b1-3051c53e96d0",
   "metadata": {},
   "outputs": [
    {
     "data": {
      "text/plain": [
       "0"
      ]
     },
     "execution_count": 31,
     "metadata": {},
     "output_type": "execute_result"
    }
   ],
   "source": [
    "longestMountain([2,2,2])"
   ]
  },
  {
   "cell_type": "code",
   "execution_count": 32,
   "id": "0ea79176-cd52-4680-b4e2-fbeb2be09119",
   "metadata": {},
   "outputs": [
    {
     "data": {
      "text/plain": [
       "11"
      ]
     },
     "execution_count": 32,
     "metadata": {},
     "output_type": "execute_result"
    }
   ],
   "source": [
    "longestMountain([0,1,2,3,4,5,4,3,2,1,0])"
   ]
  },
  {
   "cell_type": "code",
   "execution_count": 33,
   "id": "575a7dc9-cdc0-4e48-9ed5-7f1519f5b876",
   "metadata": {},
   "outputs": [
    {
     "data": {
      "text/plain": [
       "3"
      ]
     },
     "execution_count": 33,
     "metadata": {},
     "output_type": "execute_result"
    }
   ],
   "source": [
    "longestMountain([0,1,0])"
   ]
  },
  {
   "cell_type": "code",
   "execution_count": null,
   "id": "aa2cf9ad-b7a9-45b9-8251-2c0cd5bbacc1",
   "metadata": {},
   "outputs": [],
   "source": []
  }
 ],
 "metadata": {
  "kernelspec": {
   "display_name": "Python 3 (ipykernel)",
   "language": "python",
   "name": "python3"
  },
  "language_info": {
   "codemirror_mode": {
    "name": "ipython",
    "version": 3
   },
   "file_extension": ".py",
   "mimetype": "text/x-python",
   "name": "python",
   "nbconvert_exporter": "python",
   "pygments_lexer": "ipython3",
   "version": "3.11.7"
  }
 },
 "nbformat": 4,
 "nbformat_minor": 5
}
