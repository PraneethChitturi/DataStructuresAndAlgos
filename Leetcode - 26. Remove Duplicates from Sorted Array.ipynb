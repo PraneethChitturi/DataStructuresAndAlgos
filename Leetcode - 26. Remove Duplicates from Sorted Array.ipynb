{
 "cells": [
  {
   "cell_type": "code",
   "execution_count": 41,
   "id": "c9e8848e",
   "metadata": {},
   "outputs": [],
   "source": [
    "#Beats 75% in TLE\n",
    "def removeDuplicates(nums):\n",
    "    temp = nums[0]\n",
    "    index = 1\n",
    "    for ind,val in enumerate(nums[1:]):\n",
    "        if val!=temp:\n",
    "            temp = val\n",
    "            nums[index] = val\n",
    "            index +=1\n",
    "    return index"
   ]
  },
  {
   "cell_type": "code",
   "execution_count": 38,
   "id": "fb36bc3f",
   "metadata": {},
   "outputs": [],
   "source": [
    "#Beats 17% in TLE\n",
    "def removeDuplicates(nums):\n",
    "    if not nums:\n",
    "        return 0\n",
    "    count = 1\n",
    "    temp=nums[0]\n",
    "    lenofarray = len(nums)\n",
    "    i=1\n",
    "    while i<len(nums):\n",
    "        if temp!=nums[i]:\n",
    "            count +=1\n",
    "            temp = nums[i]\n",
    "        else:\n",
    "            nums.pop(i)\n",
    "            i-=1\n",
    "        i+=1\n",
    "        \n",
    "    return count\n",
    "    \n",
    "        "
   ]
  },
  {
   "cell_type": "code",
   "execution_count": 42,
   "id": "b43b7d7f",
   "metadata": {},
   "outputs": [
    {
     "data": {
      "text/plain": [
       "2"
      ]
     },
     "execution_count": 42,
     "metadata": {},
     "output_type": "execute_result"
    }
   ],
   "source": [
    "nums = [1,1,2]\n",
    "removeDuplicates(nums)"
   ]
  },
  {
   "cell_type": "code",
   "execution_count": 43,
   "id": "aea93d7b",
   "metadata": {},
   "outputs": [
    {
     "data": {
      "text/plain": [
       "5"
      ]
     },
     "execution_count": 43,
     "metadata": {},
     "output_type": "execute_result"
    }
   ],
   "source": [
    "nums = [0,0,1,1,1,2,2,3,3,4]\n",
    "removeDuplicates(nums)"
   ]
  },
  {
   "cell_type": "code",
   "execution_count": null,
   "id": "1b5cc8fa",
   "metadata": {},
   "outputs": [],
   "source": []
  }
 ],
 "metadata": {
  "kernelspec": {
   "display_name": "Python 3 (ipykernel)",
   "language": "python",
   "name": "python3"
  },
  "language_info": {
   "codemirror_mode": {
    "name": "ipython",
    "version": 3
   },
   "file_extension": ".py",
   "mimetype": "text/x-python",
   "name": "python",
   "nbconvert_exporter": "python",
   "pygments_lexer": "ipython3",
   "version": "3.11.4"
  }
 },
 "nbformat": 4,
 "nbformat_minor": 5
}
