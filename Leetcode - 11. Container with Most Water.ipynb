{
 "cells": [
  {
   "cell_type": "code",
   "execution_count": 26,
   "id": "4cede124",
   "metadata": {},
   "outputs": [],
   "source": [
    "#Beats 95%\n",
    "def maxArea(height):\n",
    "    length = len(height)-1\n",
    "    l = length\n",
    "    i = 0\n",
    "    \n",
    "    left = height[i]\n",
    "    right = height[l]\n",
    "    if left>=right:\n",
    "        area = length * right\n",
    "    elif left<right:\n",
    "        area = length * left\n",
    "\n",
    "        \n",
    "    while l!=i+1:\n",
    "        if left>=right:\n",
    "            l -= 1\n",
    "            right = height[l]\n",
    "            length -= 1\n",
    "            if left>=right:\n",
    "                computedarea = length * right\n",
    "            elif left<right:\n",
    "                computedarea = length * left\n",
    "                \n",
    "        elif left<right:\n",
    "            i += 1\n",
    "            left = height[i]\n",
    "            length -= 1\n",
    "            if left>=right:\n",
    "                computedarea = length * right\n",
    "            elif left<right:\n",
    "                computedarea = length * left\n",
    "        \n",
    "        if area < computedarea:\n",
    "            area=computedarea\n",
    "        \n",
    "    return area"
   ]
  },
  {
   "cell_type": "code",
   "execution_count": 27,
   "id": "6c5c9cdd",
   "metadata": {},
   "outputs": [
    {
     "data": {
      "text/plain": [
       "49"
      ]
     },
     "execution_count": 27,
     "metadata": {},
     "output_type": "execute_result"
    }
   ],
   "source": [
    "height = [1,8,6,2,5,4,8,3,7]\n",
    "\n",
    "maxArea(height)"
   ]
  },
  {
   "cell_type": "code",
   "execution_count": null,
   "id": "18c3835b",
   "metadata": {},
   "outputs": [],
   "source": []
  }
 ],
 "metadata": {
  "kernelspec": {
   "display_name": "Python 3 (ipykernel)",
   "language": "python",
   "name": "python3"
  },
  "language_info": {
   "codemirror_mode": {
    "name": "ipython",
    "version": 3
   },
   "file_extension": ".py",
   "mimetype": "text/x-python",
   "name": "python",
   "nbconvert_exporter": "python",
   "pygments_lexer": "ipython3",
   "version": "3.10.9"
  }
 },
 "nbformat": 4,
 "nbformat_minor": 5
}
