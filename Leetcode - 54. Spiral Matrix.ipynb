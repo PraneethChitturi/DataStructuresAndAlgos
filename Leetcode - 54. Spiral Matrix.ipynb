{
 "cells": [
  {
   "cell_type": "code",
   "execution_count": 63,
   "id": "cb0bd76d",
   "metadata": {},
   "outputs": [],
   "source": [
    "#Beats 61%\n",
    "from collections import deque\n",
    "\n",
    "def spiralOrder(matrix):\n",
    "    if len(matrix) == 1 and len(matrix[0])==1:\n",
    "        return [matrix[0][0]]\n",
    "    if len(matrix)==1:\n",
    "        return matrix[0]\n",
    "    if len(matrix[0])==1:\n",
    "        return list(zip(*test_list))[0]\n",
    "    ans = []\n",
    "    \n",
    "    d = [[0,1],[1,0],[0,-1],[-1,0]]\n",
    "    currd = d[0]\n",
    "    d = d[1:]+[currd]\n",
    "    queue = deque([(matrix[0][0],0,0)])\n",
    "    while queue:\n",
    "        currele,i,j = queue.pop()\n",
    "        ans.append(currele)\n",
    "        matrix[i][j] = 'NA'\n",
    "        \n",
    "        nexti,nextj = currd[0],currd[1]\n",
    "        if i+nexti >= len(matrix) or j+nextj >= len(matrix[0]) or i+nexti<0 or j+nextj<0 or matrix[i+nexti][j+nextj]=='NA':\n",
    "\n",
    "            currd = d[0]\n",
    "            d = d[1:]+[currd]\n",
    "            nexti,nextj = currd[0],currd[1]\n",
    "        \n",
    "        if matrix[i+nexti][j+nextj]!='NA':\n",
    "\n",
    "            queue.append((matrix[i+nexti][j+nextj],i+nexti,j+nextj))\n",
    " \n",
    "    return ans  "
   ]
  },
  {
   "cell_type": "code",
   "execution_count": 51,
   "id": "77b1e8a0",
   "metadata": {},
   "outputs": [
    {
     "data": {
      "text/plain": [
       "1"
      ]
     },
     "execution_count": 51,
     "metadata": {},
     "output_type": "execute_result"
    }
   ],
   "source": [
    "#Beats 78% - Stripping Edge\n",
    "class Solution(object):\n",
    "    def spiralOrder(self, matrix):\n",
    "        \"\"\"\n",
    "        :type matrix: List[List[int]]\n",
    "        :rtype: List[int]\n",
    "        \"\"\"\n",
    "        result = []\n",
    "        while matrix:\n",
    "            result += matrix.pop(0) # 1\n",
    "\n",
    "            if matrix and matrix[0]: # 2 \n",
    "                for line in matrix:\n",
    "                    result.append(line.pop())\n",
    "\n",
    "            if matrix: # 3\n",
    "                result += matrix.pop()[::-1]\n",
    "\n",
    "            if matrix and matrix[0]: # 4\n",
    "                for line in matrix[::-1]:\n",
    "                    result.append(line.pop(0))\n",
    "        return result"
   ]
  },
  {
   "cell_type": "code",
   "execution_count": 64,
   "id": "96f180d5",
   "metadata": {},
   "outputs": [
    {
     "data": {
      "text/plain": [
       "[1, 2, 3, 6, 9, 8, 7, 4, 5]"
      ]
     },
     "execution_count": 64,
     "metadata": {},
     "output_type": "execute_result"
    }
   ],
   "source": [
    "matrix = [[1,2,3],[4,5,6],[7,8,9]]\n",
    "spiralOrder(matrix)"
   ]
  },
  {
   "cell_type": "code",
   "execution_count": 65,
   "id": "855eb9be",
   "metadata": {},
   "outputs": [
    {
     "data": {
      "text/plain": [
       "[1, 2, 3, 4, 8, 12, 11, 10, 9, 5, 6, 7]"
      ]
     },
     "execution_count": 65,
     "metadata": {},
     "output_type": "execute_result"
    }
   ],
   "source": [
    "matrix = [[1,2,3,4],[5,6,7,8],[9,10,11,12]]\n",
    "spiralOrder(matrix)"
   ]
  },
  {
   "cell_type": "code",
   "execution_count": null,
   "id": "741982ad",
   "metadata": {},
   "outputs": [],
   "source": []
  }
 ],
 "metadata": {
  "kernelspec": {
   "display_name": "Python 3 (ipykernel)",
   "language": "python",
   "name": "python3"
  },
  "language_info": {
   "codemirror_mode": {
    "name": "ipython",
    "version": 3
   },
   "file_extension": ".py",
   "mimetype": "text/x-python",
   "name": "python",
   "nbconvert_exporter": "python",
   "pygments_lexer": "ipython3",
   "version": "3.10.9"
  }
 },
 "nbformat": 4,
 "nbformat_minor": 5
}
