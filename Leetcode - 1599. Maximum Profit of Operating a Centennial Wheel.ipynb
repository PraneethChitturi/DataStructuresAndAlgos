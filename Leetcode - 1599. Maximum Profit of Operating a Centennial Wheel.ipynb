{
 "cells": [
  {
   "cell_type": "code",
   "execution_count": 27,
   "id": "69f71e79-5b71-40eb-8e8d-91803f95e98c",
   "metadata": {},
   "outputs": [],
   "source": [
    "def minOperationsMaxProfit(customers, boardingCost, runningCost):\n",
    "        \"\"\"\n",
    "        :type customers: List[int]\n",
    "        :type boardingCost: int\n",
    "        :type runningCost: int\n",
    "        :rtype: int\n",
    "        \"\"\"\n",
    "        customerswaiting=0\n",
    "        customersriding=0\n",
    "        profitlist=[]\n",
    "        i=0\n",
    "        maxp=0\n",
    "        while customerswaiting>0 or i<len(customers):\n",
    "          print(i,profitlist,customerswaiting,customersriding)\n",
    "          if i<len(customers):\n",
    "              customerswaiting += customers[i]\n",
    "          if customerswaiting>3:\n",
    "            customersriding+=4\n",
    "            customerswaiting-=4\n",
    "          else:\n",
    "            customersriding+=customerswaiting\n",
    "            customerswaiting=0\n",
    "          \n",
    "          i+=1\n",
    "          profit = customersriding*boardingCost - i*runningCost\n",
    "          if i==0:\n",
    "            maxp=profit\n",
    "          else:\n",
    "            maxp=max(profit,maxp)\n",
    "\n",
    "          profitlist.append(profit)\n",
    "   \n",
    "        if maxp<=0:\n",
    "            return -1\n",
    "        return profitlist.index(maxp)+1\n",
    "          "
   ]
  },
  {
   "cell_type": "code",
   "execution_count": 28,
   "id": "709e6565-e8da-43ea-8ca2-10fb27a9f2d4",
   "metadata": {},
   "outputs": [
    {
     "name": "stdout",
     "output_type": "stream",
     "text": [
      "0 [] 0 0\n",
      "1 [-89] 0 3\n",
      "2 [-89, -177] 0 7\n",
      "3 [-89, -177, -269] 0 7\n",
      "4 [-89, -177, -269, -357] 1 11\n",
      "0\n"
     ]
    },
    {
     "data": {
      "text/plain": [
       "-1"
      ]
     },
     "execution_count": 28,
     "metadata": {},
     "output_type": "execute_result"
    }
   ],
   "source": [
    "minOperationsMaxProfit([3,4,0,5,1], 1, 92)"
   ]
  },
  {
   "cell_type": "code",
   "execution_count": null,
   "id": "aa1d4b63-ba4d-49c6-9c9e-8aeb5564516e",
   "metadata": {},
   "outputs": [],
   "source": []
  }
 ],
 "metadata": {
  "kernelspec": {
   "display_name": "Python 3 (ipykernel)",
   "language": "python",
   "name": "python3"
  },
  "language_info": {
   "codemirror_mode": {
    "name": "ipython",
    "version": 3
   },
   "file_extension": ".py",
   "mimetype": "text/x-python",
   "name": "python",
   "nbconvert_exporter": "python",
   "pygments_lexer": "ipython3",
   "version": "3.11.7"
  }
 },
 "nbformat": 4,
 "nbformat_minor": 5
}
