{
 "cells": [
  {
   "cell_type": "code",
   "execution_count": null,
   "id": "f3efbc47-8458-48ce-b94c-c226b54aa157",
   "metadata": {},
   "outputs": [],
   "source": [
    "/**\n",
    " * Definition for singly-linked list.\n",
    " * public class ListNode {\n",
    " *     int val;\n",
    " *     ListNode next;\n",
    " *     ListNode() {}\n",
    " *     ListNode(int val) { this.val = val; }\n",
    " *     ListNode(int val, ListNode next) { this.val = val; this.next = next; }\n",
    " * }\n",
    " */\n",
    "class Solution {\n",
    "    public ListNode rotateRight(ListNode head, int k) {\n",
    "        if (head == null || head.next == null || k == 0) return head;\n",
    "        ListNode tail = head;\n",
    "        int len = 1;\n",
    "        while (tail.next!=null){\n",
    "            tail=tail.next;\n",
    "            len+=1;\n",
    "        }\n",
    "        \n",
    "        k= k%len;\n",
    "        ListNode pointer = head;\n",
    "        int curr=1;\n",
    "        if (k==0){\n",
    "            return head;\n",
    "        }\n",
    "        while(curr<len-k){\n",
    "            pointer=pointer.next;\n",
    "            curr++;\n",
    "        }\n",
    "\n",
    "        ListNode result = pointer.next;\n",
    "        tail.next=head;\n",
    "        pointer.next=null;\n",
    "        \n",
    "\n",
    "        return result;\n",
    "    }\n",
    "}"
   ]
  }
 ],
 "metadata": {
  "kernelspec": {
   "display_name": "Python 3 (ipykernel)",
   "language": "python",
   "name": "python3"
  },
  "language_info": {
   "codemirror_mode": {
    "name": "ipython",
    "version": 3
   },
   "file_extension": ".py",
   "mimetype": "text/x-python",
   "name": "python",
   "nbconvert_exporter": "python",
   "pygments_lexer": "ipython3",
   "version": "3.11.7"
  }
 },
 "nbformat": 4,
 "nbformat_minor": 5
}
