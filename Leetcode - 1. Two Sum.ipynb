{
 "cells": [
  {
   "cell_type": "code",
   "execution_count": 36,
   "id": "1db4e391",
   "metadata": {},
   "outputs": [],
   "source": [
    "#Beats 48%\n",
    "def twoSum(nums, target):\n",
    "        if len(nums) <=2:\n",
    "            return range(len(nums))\n",
    "        \n",
    "        for i in range(len(nums)): \n",
    "            temp=nums[i]\n",
    "            tempnums = nums[:i] + nums[i + 1:] \n",
    "            nums[i]=float('inf')\n",
    "            ref = target-temp\n",
    "            \n",
    "            if ref in tempnums:\n",
    "                return [i,nums.index(ref)]\n",
    "            \n",
    "            nums[i] = temp\n",
    "        "
   ]
  },
  {
   "cell_type": "code",
   "execution_count": 40,
   "id": "ee6b99f5",
   "metadata": {},
   "outputs": [],
   "source": [
    "#Dictionary - Beats 65%\n",
    "def twoSum(nums, target):\n",
    "    dicti = {}\n",
    "    for i in range(len(nums)):\n",
    "        ref = target - nums[i]\n",
    "        if ref in dicti:\n",
    "            return [dicti[ref],i]\n",
    "        else:\n",
    "            dicti[nums[i]] = i"
   ]
  }
 ],
 "metadata": {
  "kernelspec": {
   "display_name": "Python 3 (ipykernel)",
   "language": "python",
   "name": "python3"
  },
  "language_info": {
   "codemirror_mode": {
    "name": "ipython",
    "version": 3
   },
   "file_extension": ".py",
   "mimetype": "text/x-python",
   "name": "python",
   "nbconvert_exporter": "python",
   "pygments_lexer": "ipython3",
   "version": "3.11.4"
  }
 },
 "nbformat": 4,
 "nbformat_minor": 5
}
