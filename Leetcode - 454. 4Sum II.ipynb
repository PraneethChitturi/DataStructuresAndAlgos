{
 "cells": [
  {
   "cell_type": "code",
   "execution_count": null,
   "id": "9c2797a4",
   "metadata": {},
   "outputs": [],
   "source": [
    "class Solution(object):\n",
    "    def fourSumCount(self, nums1, nums2, nums3, nums4):\n",
    "        \"\"\"\n",
    "        :type nums1: List[int]\n",
    "        :type nums2: List[int]\n",
    "        :type nums3: List[int]\n",
    "        :type nums4: List[int]\n",
    "        :rtype: int\n",
    "        \"\"\"\n",
    "        countab = collections.Counter(a+b for a in nums1 for b in nums2)\n",
    "        ans=0\n",
    "        for c in nums3:\n",
    "            for d in nums4:\n",
    "                s = c+d\n",
    "                if -s in countab:\n",
    "                    ans+=countab[-s]\n",
    "        return ans"
   ]
  }
 ],
 "metadata": {
  "kernelspec": {
   "display_name": "Python 3 (ipykernel)",
   "language": "python",
   "name": "python3"
  },
  "language_info": {
   "codemirror_mode": {
    "name": "ipython",
    "version": 3
   },
   "file_extension": ".py",
   "mimetype": "text/x-python",
   "name": "python",
   "nbconvert_exporter": "python",
   "pygments_lexer": "ipython3",
   "version": "3.11.4"
  }
 },
 "nbformat": 4,
 "nbformat_minor": 5
}
