{
 "cells": [
  {
   "cell_type": "code",
   "execution_count": null,
   "id": "4a5ca272-62a5-4989-a1fc-1baaa0022903",
   "metadata": {},
   "outputs": [],
   "source": [
    "class Solution {\n",
    "    public int numberOfAlternatingGroups(int[] colors, int k) {\n",
    "        int l=0;\n",
    "        int res=0;\n",
    "        int N=colors.length;\n",
    "\n",
    "        for(int i=1;i<N+k-1;i++){\n",
    "            if (colors[i%N]==colors[(i-1)%N]){\n",
    "                l=i;\n",
    "            }\n",
    "\n",
    "            if (i-l+1 > k){\n",
    "                l+=1;\n",
    "            }\n",
    "\n",
    "            if (i-l+1 == k){\n",
    "                res+=1;\n",
    "            }\n",
    "        }\n",
    "\n",
    "        return res;\n",
    "    }\n",
    "}"
   ]
  }
 ],
 "metadata": {
  "kernelspec": {
   "display_name": "Python 3 (ipykernel)",
   "language": "python",
   "name": "python3"
  },
  "language_info": {
   "codemirror_mode": {
    "name": "ipython",
    "version": 3
   },
   "file_extension": ".py",
   "mimetype": "text/x-python",
   "name": "python",
   "nbconvert_exporter": "python",
   "pygments_lexer": "ipython3",
   "version": "3.11.7"
  }
 },
 "nbformat": 4,
 "nbformat_minor": 5
}
