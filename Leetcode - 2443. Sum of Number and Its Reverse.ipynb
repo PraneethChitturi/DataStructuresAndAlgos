{
 "cells": [
  {
   "cell_type": "code",
   "execution_count": null,
   "id": "e47ab418",
   "metadata": {},
   "outputs": [],
   "source": [
    "#Beats 68% in TLE\n",
    "class Solution(object):\n",
    "    def sumOfNumberAndReverse(self, num):\n",
    "        \"\"\"\n",
    "        :type num: int\n",
    "        :rtype: bool\n",
    "        \"\"\"\n",
    "        for i in range(num+1):\n",
    "            if i+int(str(i)[::-1])==num:\n",
    "                return True\n",
    "        return False"
   ]
  },
  {
   "cell_type": "code",
   "execution_count": null,
   "id": "780aa8c4",
   "metadata": {},
   "outputs": [],
   "source": [
    "#Beats 91% due to syntax\n",
    "class Solution(object):\n",
    "    def sumOfNumberAndReverse(self, num):\n",
    "        \"\"\"\n",
    "        :type num: int\n",
    "        :rtype: bool\n",
    "        \"\"\"\n",
    "        return any(i + int(str(i)[::-1]) == num for i in range(num, num // 2 - 1, -1))"
   ]
  }
 ],
 "metadata": {
  "kernelspec": {
   "display_name": "Python 3 (ipykernel)",
   "language": "python",
   "name": "python3"
  },
  "language_info": {
   "codemirror_mode": {
    "name": "ipython",
    "version": 3
   },
   "file_extension": ".py",
   "mimetype": "text/x-python",
   "name": "python",
   "nbconvert_exporter": "python",
   "pygments_lexer": "ipython3",
   "version": "3.11.4"
  }
 },
 "nbformat": 4,
 "nbformat_minor": 5
}
